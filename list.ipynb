{
 "cells": [
  {
   "cell_type": "markdown",
   "id": "1f2565d2-5e42-4f75-bcc1-a85f81871c09",
   "metadata": {},
   "source": [
    "# list"
   ]
  },
  {
   "cell_type": "raw",
   "id": "66439703-4e6f-4742-81e2-f35568cf7d95",
   "metadata": {},
   "source": [
    "# list \n",
    "< list condtructor is list()\n",
    "<list literal is[]\n",
    "<list is a ordered set of sequence of elements\n",
    "<list support indexing\n",
    "<list support slicing\n",
    "<list support nesting\n",
    "<list is a set of sequence of elements\n",
    "<list support concatination\n",
    "<list is mutable and unhashable\n",
    "<list has various methods"
   ]
  },
  {
   "cell_type": "code",
   "execution_count": 4,
   "id": "5499e1d5-602c-480d-a001-737ba0f4db21",
   "metadata": {},
   "outputs": [],
   "source": [
    "a=[10,10.0,'10',[10]] # set of sequence of elements we have int,float,string"
   ]
  },
  {
   "cell_type": "code",
   "execution_count": 5,
   "id": "9dd3f0d8-63ff-4bb9-a1e2-5d133b99fe53",
   "metadata": {},
   "outputs": [
    {
     "data": {
      "text/plain": [
       "[10, 10.0, '10', [10]]"
      ]
     },
     "execution_count": 5,
     "metadata": {},
     "output_type": "execute_result"
    }
   ],
   "source": [
    "a"
   ]
  },
  {
   "cell_type": "code",
   "execution_count": 3,
   "id": "2721b98f-c37c-46b4-afe5-25873b385b33",
   "metadata": {},
   "outputs": [
    {
     "data": {
      "text/plain": [
       "list"
      ]
     },
     "execution_count": 3,
     "metadata": {},
     "output_type": "execute_result"
    }
   ],
   "source": [
    "type(a)"
   ]
  },
  {
   "cell_type": "code",
   "execution_count": 11,
   "id": "d42a4771-ad47-416d-bc54-fbb6b1fc72e5",
   "metadata": {},
   "outputs": [],
   "source": [
    "a=[\"krishna\",\"dipanshu\",\"dia\",\"akash\",\"ankush\",10,10.0,(10,20,30)]"
   ]
  },
  {
   "cell_type": "code",
   "execution_count": 12,
   "id": "2bb3c7a6-eec4-408d-a5c1-2c8bfbda1651",
   "metadata": {},
   "outputs": [
    {
     "name": "stdout",
     "output_type": "stream",
     "text": [
      "['krishna', 'dipanshu', 'dia', 'akash', 'ankush', 10, 10.0, (10, 20, 30)]\n"
     ]
    }
   ],
   "source": [
    "print(a\n",
    "    )"
   ]
  },
  {
   "cell_type": "code",
   "execution_count": 13,
   "id": "342b1d7e-efd0-409c-b261-9d5a9ea57d38",
   "metadata": {},
   "outputs": [
    {
     "data": {
      "text/plain": [
       "8"
      ]
     },
     "execution_count": 13,
     "metadata": {},
     "output_type": "execute_result"
    }
   ],
   "source": [
    "len(a)"
   ]
  },
  {
   "cell_type": "code",
   "execution_count": 17,
   "id": "97e571d3-3b98-434a-8240-5ef249f47cfc",
   "metadata": {},
   "outputs": [
    {
     "name": "stdout",
     "output_type": "stream",
     "text": [
      "[]\n",
      "<class 'list'>\n"
     ]
    }
   ],
   "source": [
    "b=[]\n",
    "print(b) #in this case using literal [] i made empty list\n",
    "print(type(b))"
   ]
  },
  {
   "cell_type": "code",
   "execution_count": 23,
   "id": "9b25ecc1-a47c-4a89-9619-7de35644cd0e",
   "metadata": {},
   "outputs": [
    {
     "name": "stdout",
     "output_type": "stream",
     "text": [
      "[]\n",
      "<class 'list'>\n"
     ]
    }
   ],
   "source": [
    "c=list() # using constructor list() i made empty list\n",
    "print(c)\n",
    "print(type(c))"
   ]
  },
  {
   "cell_type": "code",
   "execution_count": 25,
   "id": "a1fd461b-0931-47b9-be30-3de7bebd6300",
   "metadata": {},
   "outputs": [
    {
     "name": "stdout",
     "output_type": "stream",
     "text": [
      "<class 'list'>\n"
     ]
    }
   ],
   "source": [
    "print(type(a))"
   ]
  },
  {
   "cell_type": "code",
   "execution_count": 28,
   "id": "0d057d1e-473c-4536-b023-cb26aaa1ef43",
   "metadata": {},
   "outputs": [
    {
     "name": "stdout",
     "output_type": "stream",
     "text": [
      "1751742355520\n"
     ]
    }
   ],
   "source": [
    "print(id(a)) # address of a"
   ]
  },
  {
   "cell_type": "raw",
   "id": "93922ead-cb22-4da7-bfc7-f04f394b3e3c",
   "metadata": {},
   "source": [
    "# programming\n",
    "< top line programming ( by analyst)\n",
    "<procedural/functional programming(by programmers)\n",
    "<object orinted programming(by )"
   ]
  },
  {
   "cell_type": "code",
   "execution_count": 31,
   "id": "2b9f4608-b249-4c36-904a-e384a8168148",
   "metadata": {},
   "outputs": [
    {
     "name": "stdout",
     "output_type": "stream",
     "text": [
      "hello world\n"
     ]
    }
   ],
   "source": [
    "print(\"hello world\") # top line programming"
   ]
  },
  {
   "cell_type": "code",
   "execution_count": 40,
   "id": "2278c75f-5eb4-4360-9f72-00cf2ea37489",
   "metadata": {},
   "outputs": [],
   "source": [
    "def new():\n",
    "    print(\"hello world\")\n",
    "    new()"
   ]
  },
  {
   "cell_type": "code",
   "execution_count": 41,
   "id": "59550c89-02e0-4bf8-9ac2-046388be2810",
   "metadata": {},
   "outputs": [],
   "source": [
    "class a:\n",
    "    def new(self):\n",
    "        print(\"hello world\")"
   ]
  },
  {
   "cell_type": "code",
   "execution_count": 42,
   "id": "b115bc5f-a92e-4978-84a6-dad00c8282c7",
   "metadata": {},
   "outputs": [],
   "source": [
    "a=a()"
   ]
  },
  {
   "cell_type": "code",
   "execution_count": 43,
   "id": "5b53d71e-1138-479f-a55c-17b6c4f7353e",
   "metadata": {},
   "outputs": [
    {
     "name": "stdout",
     "output_type": "stream",
     "text": [
      "hello world\n"
     ]
    }
   ],
   "source": [
    "a.new()"
   ]
  },
  {
   "cell_type": "code",
   "execution_count": 1,
   "id": "9a321ec3-b34c-4e86-acfc-e67f81048cbc",
   "metadata": {},
   "outputs": [],
   "source": [
    "a=list()"
   ]
  },
  {
   "cell_type": "code",
   "execution_count": 3,
   "id": "2bd34b16-072b-43b4-b298-600484dc3d00",
   "metadata": {},
   "outputs": [
    {
     "name": "stdout",
     "output_type": "stream",
     "text": [
      "[]\n"
     ]
    }
   ],
   "source": [
    "print(a) # list literal is[] use of constructor can make a empty lsit"
   ]
  },
  {
   "cell_type": "code",
   "execution_count": 4,
   "id": "413e841f-18ef-43f7-947b-9a5a8fa08ce0",
   "metadata": {},
   "outputs": [],
   "source": [
    "b=[]"
   ]
  },
  {
   "cell_type": "code",
   "execution_count": 6,
   "id": "6f601cd7-77c3-48fd-94b1-84cf118bd4d9",
   "metadata": {},
   "outputs": [
    {
     "name": "stdout",
     "output_type": "stream",
     "text": [
      "[]\n"
     ]
    }
   ],
   "source": [
    "print(b) # using literal can also make empty list"
   ]
  },
  {
   "cell_type": "markdown",
   "id": "d71a8dec-e2a9-4c3c-bdbc-79cfbed02d05",
   "metadata": {},
   "source": [
    "# list support indexing"
   ]
  },
  {
   "cell_type": "code",
   "execution_count": 7,
   "id": "ebc91b3a-5b9b-41b1-89fd-91702f48e663",
   "metadata": {},
   "outputs": [],
   "source": [
    "#indexing means numbering"
   ]
  },
  {
   "cell_type": "code",
   "execution_count": 10,
   "id": "c276db68-239d-4b7e-b78a-30cb862d7a86",
   "metadata": {},
   "outputs": [],
   "source": [
    "c=[10,10.0,'10']"
   ]
  },
  {
   "cell_type": "code",
   "execution_count": 11,
   "id": "4b197671-a4b5-4404-bb5f-1f75e2e2b5b2",
   "metadata": {},
   "outputs": [
    {
     "data": {
      "text/plain": [
       "[10, 10.0, '10']"
      ]
     },
     "execution_count": 11,
     "metadata": {},
     "output_type": "execute_result"
    }
   ],
   "source": [
    "c"
   ]
  },
  {
   "cell_type": "code",
   "execution_count": 17,
   "id": "7df66e0b-8e8f-4a26-85db-03076cd67e3e",
   "metadata": {},
   "outputs": [
    {
     "data": {
      "text/plain": [
       "10"
      ]
     },
     "execution_count": 17,
     "metadata": {},
     "output_type": "execute_result"
    }
   ],
   "source": [
    "c[-3]"
   ]
  },
  {
   "cell_type": "code",
   "execution_count": 18,
   "id": "c3528d8e-00f0-4e08-9cc2-05a031215389",
   "metadata": {},
   "outputs": [
    {
     "data": {
      "text/plain": [
       "10"
      ]
     },
     "execution_count": 18,
     "metadata": {},
     "output_type": "execute_result"
    }
   ],
   "source": [
    "c[0]"
   ]
  },
  {
   "cell_type": "code",
   "execution_count": 20,
   "id": "9bd0cb8e-299e-4a41-9cc3-dc4902192b5a",
   "metadata": {},
   "outputs": [
    {
     "name": "stdout",
     "output_type": "stream",
     "text": [
      "10\n"
     ]
    }
   ],
   "source": [
    "print(c[2])"
   ]
  },
  {
   "cell_type": "code",
   "execution_count": 22,
   "id": "10d5bc11-c814-4263-a1fb-81f23d11be8c",
   "metadata": {},
   "outputs": [
    {
     "data": {
      "text/plain": [
       "str"
      ]
     },
     "execution_count": 22,
     "metadata": {},
     "output_type": "execute_result"
    }
   ],
   "source": [
    "type(c[2])"
   ]
  },
  {
   "cell_type": "code",
   "execution_count": 23,
   "id": "1b1e4703-e861-4566-a69f-1f979508d16f",
   "metadata": {},
   "outputs": [
    {
     "data": {
      "text/plain": [
       "'10'"
      ]
     },
     "execution_count": 23,
     "metadata": {},
     "output_type": "execute_result"
    }
   ],
   "source": [
    "c[2]"
   ]
  },
  {
   "cell_type": "markdown",
   "id": "7ffb8fe1-5e99-4566-b321-54b58de44462",
   "metadata": {},
   "source": [
    "# slicing in list"
   ]
  },
  {
   "cell_type": "code",
   "execution_count": 24,
   "id": "2b5a8fac-b084-4b97-a8d7-82bc0d846042",
   "metadata": {},
   "outputs": [
    {
     "data": {
      "text/plain": [
       "['c', 'h', 'a', 'n', 'c', 'h', 'a', 'l']"
      ]
     },
     "execution_count": 24,
     "metadata": {},
     "output_type": "execute_result"
    }
   ],
   "source": [
    "list(\"chanchal\")"
   ]
  },
  {
   "cell_type": "code",
   "execution_count": 25,
   "id": "3c141a24-904d-447d-bdee-2448a38764ce",
   "metadata": {},
   "outputs": [],
   "source": [
    "a=['c', 'h', 'a', 'n', 'c', 'h', 'a', 'l']"
   ]
  },
  {
   "cell_type": "code",
   "execution_count": 26,
   "id": "c9cdf984-f1c9-43dd-b1b4-3178fdba92dc",
   "metadata": {},
   "outputs": [
    {
     "data": {
      "text/plain": [
       "['n', 'c', 'h']"
      ]
     },
     "execution_count": 26,
     "metadata": {},
     "output_type": "execute_result"
    }
   ],
   "source": [
    "a[3:6]"
   ]
  },
  {
   "cell_type": "code",
   "execution_count": 29,
   "id": "2c2712de-aa49-4cc2-9f8a-33eddc50fa08",
   "metadata": {},
   "outputs": [
    {
     "data": {
      "text/plain": [
       "['n', 'c', 'h', 'a', 'l']"
      ]
     },
     "execution_count": 29,
     "metadata": {},
     "output_type": "execute_result"
    }
   ],
   "source": [
    "a[-5::1]"
   ]
  },
  {
   "cell_type": "code",
   "execution_count": 32,
   "id": "94cf535b-15c7-46aa-95a6-3c25b09050d2",
   "metadata": {},
   "outputs": [
    {
     "data": {
      "text/plain": [
       "['h', 'a']"
      ]
     },
     "execution_count": 32,
     "metadata": {},
     "output_type": "execute_result"
    }
   ],
   "source": [
    "a[1::5]"
   ]
  },
  {
   "cell_type": "code",
   "execution_count": 34,
   "id": "e8b4a4bd-a1cd-43a4-bcdc-dcf847da43bc",
   "metadata": {},
   "outputs": [
    {
     "data": {
      "text/plain": [
       "['c', 'a', 'c', 'a']"
      ]
     },
     "execution_count": 34,
     "metadata": {},
     "output_type": "execute_result"
    }
   ],
   "source": [
    "a[-9:-1:2]"
   ]
  },
  {
   "cell_type": "code",
   "execution_count": 37,
   "id": "dfbae0d7-244b-4948-8517-a97bd86164ad",
   "metadata": {},
   "outputs": [
    {
     "data": {
      "text/plain": [
       "['c', 'h', 'a', 'n', 'c', 'h', 'a', 'l']"
      ]
     },
     "execution_count": 37,
     "metadata": {},
     "output_type": "execute_result"
    }
   ],
   "source": [
    "a[0:8]"
   ]
  },
  {
   "cell_type": "code",
   "execution_count": 38,
   "id": "69457dba-f536-418d-9a8d-e537b4c894c4",
   "metadata": {},
   "outputs": [
    {
     "data": {
      "text/plain": [
       "['c', 'h', 'a', 'n', 'c', 'h', 'a', 'l']"
      ]
     },
     "execution_count": 38,
     "metadata": {},
     "output_type": "execute_result"
    }
   ],
   "source": [
    "a[0::]"
   ]
  },
  {
   "cell_type": "code",
   "execution_count": 39,
   "id": "11027a9c-92a1-42f0-b61c-07d83778bfb4",
   "metadata": {},
   "outputs": [
    {
     "data": {
      "text/plain": [
       "['c', 'h', 'a', 'n', 'c', 'h', 'a', 'l']"
      ]
     },
     "execution_count": 39,
     "metadata": {},
     "output_type": "execute_result"
    }
   ],
   "source": [
    "a[::1]"
   ]
  },
  {
   "cell_type": "code",
   "execution_count": 43,
   "id": "d28d06f9-6c2d-4484-aa2a-248eb018452f",
   "metadata": {},
   "outputs": [
    {
     "data": {
      "text/plain": [
       "['h']"
      ]
     },
     "execution_count": 43,
     "metadata": {},
     "output_type": "execute_result"
    }
   ],
   "source": [
    "a[1::8]"
   ]
  },
  {
   "cell_type": "code",
   "execution_count": 45,
   "id": "2df08ff8-f0d9-4cf5-8b7a-2b2a14703118",
   "metadata": {},
   "outputs": [],
   "source": [
    "a=['k', 'r', 'i', 's', 'h', 'n', 'a']"
   ]
  },
  {
   "cell_type": "code",
   "execution_count": 47,
   "id": "000db732-6f40-4168-ace1-5fc9d5b1918c",
   "metadata": {},
   "outputs": [
    {
     "data": {
      "text/plain": [
       "['r', 'i', 's', 'h']"
      ]
     },
     "execution_count": 47,
     "metadata": {},
     "output_type": "execute_result"
    }
   ],
   "source": [
    "a[1:5:1]"
   ]
  },
  {
   "cell_type": "code",
   "execution_count": 48,
   "id": "7aed4e9c-e640-4573-b610-33b3a68acbb9",
   "metadata": {},
   "outputs": [
    {
     "data": {
      "text/plain": [
       "['r', 's']"
      ]
     },
     "execution_count": 48,
     "metadata": {},
     "output_type": "execute_result"
    }
   ],
   "source": [
    "a[1:5:2]"
   ]
  },
  {
   "cell_type": "code",
   "execution_count": 49,
   "id": "1f934133-9fe5-40cf-9103-44fea1f49e03",
   "metadata": {},
   "outputs": [
    {
     "data": {
      "text/plain": [
       "['a', 'n', 'h', 's', 'i', 'r', 'k']"
      ]
     },
     "execution_count": 49,
     "metadata": {},
     "output_type": "execute_result"
    }
   ],
   "source": [
    "a[-1:-8:-1]"
   ]
  },
  {
   "cell_type": "code",
   "execution_count": 50,
   "id": "3820ae98-90f6-4fe1-a402-f92d2582aafa",
   "metadata": {},
   "outputs": [
    {
     "data": {
      "text/plain": [
       "'krishna'"
      ]
     },
     "execution_count": 50,
     "metadata": {},
     "output_type": "execute_result"
    }
   ],
   "source": [
    "\"\".join(a)"
   ]
  },
  {
   "cell_type": "markdown",
   "id": "d809e255-eb68-405e-9aa1-3721bea442cf",
   "metadata": {},
   "source": [
    "# concatination"
   ]
  },
  {
   "cell_type": "code",
   "execution_count": 56,
   "id": "14999bd1-4094-4a08-8e81-96f368b01af9",
   "metadata": {},
   "outputs": [
    {
     "name": "stdout",
     "output_type": "stream",
     "text": [
      "[1, 2, 34, 45, 45, 767, 255]\n"
     ]
    }
   ],
   "source": [
    "t=[1,2,34,45]     # concatination only support plus sign\n",
    "d=[45,767,255]\n",
    "print(t+d)\n"
   ]
  },
  {
   "cell_type": "code",
   "execution_count": 57,
   "id": "332b64cf-8513-4c2c-af64-565d933c3a61",
   "metadata": {},
   "outputs": [
    {
     "data": {
      "text/plain": [
       "7"
      ]
     },
     "execution_count": 57,
     "metadata": {},
     "output_type": "execute_result"
    }
   ],
   "source": [
    "len(t+d)"
   ]
  },
  {
   "cell_type": "markdown",
   "id": "941101a9-04a4-43f9-b052-4000527d9cb4",
   "metadata": {},
   "source": [
    "# nested list"
   ]
  },
  {
   "cell_type": "code",
   "execution_count": 62,
   "id": "f36a4a5a-f3e8-4dc1-aa8e-379e643f8073",
   "metadata": {},
   "outputs": [],
   "source": [
    "a=[10,20,30,40,[1,23,45],44,67,78] "
   ]
  },
  {
   "cell_type": "code",
   "execution_count": 63,
   "id": "a861df4f-3b47-4ebc-8d80-2fe2335afec1",
   "metadata": {},
   "outputs": [
    {
     "data": {
      "text/plain": [
       "8"
      ]
     },
     "execution_count": 63,
     "metadata": {},
     "output_type": "execute_result"
    }
   ],
   "source": [
    "len(a)"
   ]
  },
  {
   "cell_type": "code",
   "execution_count": 76,
   "id": "feec283f-4af9-411d-87f2-080db76e232e",
   "metadata": {},
   "outputs": [],
   "source": [
    "b=a[4] # if i want to get that sequence(1,23,45) so i need to put that no in bracket "
   ]
  },
  {
   "cell_type": "code",
   "execution_count": 73,
   "id": "f529f91a-9b1f-4f73-bcaa-f043a5c5080e",
   "metadata": {},
   "outputs": [
    {
     "data": {
      "text/plain": [
       "45"
      ]
     },
     "execution_count": 73,
     "metadata": {},
     "output_type": "execute_result"
    }
   ],
   "source": [
    "a[4][2]"
   ]
  },
  {
   "cell_type": "code",
   "execution_count": 75,
   "id": "1e861ab9-d541-4647-ba71-98d40df0e1c6",
   "metadata": {},
   "outputs": [
    {
     "name": "stdout",
     "output_type": "stream",
     "text": [
      "[1, 23, 45]\n"
     ]
    }
   ],
   "source": [
    "print(b)"
   ]
  },
  {
   "cell_type": "code",
   "execution_count": 77,
   "id": "6defd85b-0934-4cc3-ab28-ecee4115c4e0",
   "metadata": {},
   "outputs": [
    {
     "data": {
      "text/plain": [
       "45"
      ]
     },
     "execution_count": 77,
     "metadata": {},
     "output_type": "execute_result"
    }
   ],
   "source": [
    "b[2]"
   ]
  },
  {
   "cell_type": "code",
   "execution_count": 80,
   "id": "c65082d3-0458-4bd9-b077-e12c5348a260",
   "metadata": {},
   "outputs": [
    {
     "data": {
      "text/plain": [
       "23"
      ]
     },
     "execution_count": 80,
     "metadata": {},
     "output_type": "execute_result"
    }
   ],
   "source": [
    "b[1]"
   ]
  },
  {
   "cell_type": "code",
   "execution_count": 81,
   "id": "b05baaee-88dd-4773-aeac-8ad738b41877",
   "metadata": {},
   "outputs": [
    {
     "ename": "TypeError",
     "evalue": "'int' object is not subscriptable",
     "output_type": "error",
     "traceback": [
      "\u001b[1;31m---------------------------------------------------------------------------\u001b[0m",
      "\u001b[1;31mTypeError\u001b[0m                                 Traceback (most recent call last)",
      "Cell \u001b[1;32mIn[81], line 1\u001b[0m\n\u001b[1;32m----> 1\u001b[0m \u001b[43ma\u001b[49m\u001b[43m[\u001b[49m\u001b[38;5;241;43m5\u001b[39;49m\u001b[43m]\u001b[49m\u001b[43m[\u001b[49m\u001b[38;5;241;43m1\u001b[39;49m\u001b[43m]\u001b[49m\n",
      "\u001b[1;31mTypeError\u001b[0m: 'int' object is not subscriptable"
     ]
    }
   ],
   "source": [
    "a[5][1]"
   ]
  },
  {
   "cell_type": "markdown",
   "id": "5bdea3b6-3eb7-405b-94bb-49e6a5156d9b",
   "metadata": {},
   "source": [
    "# nested indexing"
   ]
  },
  {
   "cell_type": "code",
   "execution_count": 2,
   "id": "abde3abf-da85-4b5c-aea1-83a4793dd794",
   "metadata": {},
   "outputs": [],
   "source": [
    "a=[1,2,3,4,5,[1,2,3,[999,998,1000],111,234,434],9,10]"
   ]
  },
  {
   "cell_type": "code",
   "execution_count": 4,
   "id": "c8f10319-0503-436e-bead-c9b625d0a130",
   "metadata": {},
   "outputs": [
    {
     "data": {
      "text/plain": [
       "8"
      ]
     },
     "execution_count": 4,
     "metadata": {},
     "output_type": "execute_result"
    }
   ],
   "source": [
    "len(a)"
   ]
  },
  {
   "cell_type": "code",
   "execution_count": 5,
   "id": "a2e3058c-4c0f-4986-acc5-27e6bc02533b",
   "metadata": {},
   "outputs": [
    {
     "data": {
      "text/plain": [
       "[1, 2, 3, [999, 998, 1000], 111, 234, 434]"
      ]
     },
     "execution_count": 5,
     "metadata": {},
     "output_type": "execute_result"
    }
   ],
   "source": [
    "a[5]"
   ]
  },
  {
   "cell_type": "code",
   "execution_count": 6,
   "id": "9a41653c-f662-4b5a-8b21-8997fd8f36d2",
   "metadata": {},
   "outputs": [
    {
     "data": {
      "text/plain": [
       "[999, 998, 1000]"
      ]
     },
     "execution_count": 6,
     "metadata": {},
     "output_type": "execute_result"
    }
   ],
   "source": [
    "a[5][3]"
   ]
  },
  {
   "cell_type": "code",
   "execution_count": 7,
   "id": "a24605ef-7f9d-4940-ac1f-36ec84ff8d30",
   "metadata": {},
   "outputs": [
    {
     "data": {
      "text/plain": [
       "1000"
      ]
     },
     "execution_count": 7,
     "metadata": {},
     "output_type": "execute_result"
    }
   ],
   "source": [
    "a[5][3][2]"
   ]
  },
  {
   "cell_type": "code",
   "execution_count": 10,
   "id": "3811659b-7f8e-40f3-86f9-c02a2f013d16",
   "metadata": {},
   "outputs": [
    {
     "data": {
      "text/plain": [
       "[10, 9, [1, 2, 3, [999, 998, 1000], 111, 234, 434], 5, 4, 3, 2]"
      ]
     },
     "execution_count": 10,
     "metadata": {},
     "output_type": "execute_result"
    }
   ],
   "source": [
    "a[-1:-8:-1]"
   ]
  },
  {
   "cell_type": "code",
   "execution_count": 14,
   "id": "f6c1963f-dd35-486a-870b-9d54579bd762",
   "metadata": {},
   "outputs": [
    {
     "data": {
      "text/plain": [
       "9"
      ]
     },
     "execution_count": 14,
     "metadata": {},
     "output_type": "execute_result"
    }
   ],
   "source": [
    "a[-2]"
   ]
  },
  {
   "cell_type": "code",
   "execution_count": 18,
   "id": "5900cacf-5972-4653-870b-ebc258fe4708",
   "metadata": {},
   "outputs": [
    {
     "data": {
      "text/plain": [
       "1000"
      ]
     },
     "execution_count": 18,
     "metadata": {},
     "output_type": "execute_result"
    }
   ],
   "source": [
    "a[5][3][2]"
   ]
  },
  {
   "cell_type": "markdown",
   "id": "b42677e6-0c08-4189-a1cb-f0beea3099b8",
   "metadata": {},
   "source": [
    "# nseted slicing"
   ]
  },
  {
   "cell_type": "code",
   "execution_count": 19,
   "id": "42990de7-27d0-4547-a963-1f2217b2d7ab",
   "metadata": {},
   "outputs": [],
   "source": [
    "a=[1,2,3,4,5,[1,2,3,[999,998,1000],111,234,434],9,10]"
   ]
  },
  {
   "cell_type": "code",
   "execution_count": 20,
   "id": "40f5d0c7-bb24-4790-a29d-cff28586ea83",
   "metadata": {},
   "outputs": [],
   "source": [
    "d=a[5][3]\n"
   ]
  },
  {
   "cell_type": "code",
   "execution_count": 21,
   "id": "cf037d41-5f84-4586-b019-ed03219d3204",
   "metadata": {},
   "outputs": [
    {
     "data": {
      "text/plain": [
       "[999, 998, 1000]"
      ]
     },
     "execution_count": 21,
     "metadata": {},
     "output_type": "execute_result"
    }
   ],
   "source": [
    "d"
   ]
  },
  {
   "cell_type": "code",
   "execution_count": 22,
   "id": "6bf1a5e4-034c-4131-bd05-e7bc7b9c8964",
   "metadata": {},
   "outputs": [
    {
     "data": {
      "text/plain": [
       "[1000, 998, 999]"
      ]
     },
     "execution_count": 22,
     "metadata": {},
     "output_type": "execute_result"
    }
   ],
   "source": [
    "d[::-1]"
   ]
  },
  {
   "cell_type": "code",
   "execution_count": 24,
   "id": "44c1c56e-6ec6-4f56-91f1-c5397bae2cf2",
   "metadata": {},
   "outputs": [
    {
     "data": {
      "text/plain": [
       "[1000, 998, 999]"
      ]
     },
     "execution_count": 24,
     "metadata": {},
     "output_type": "execute_result"
    }
   ],
   "source": [
    "a[5][3][-1:-4:-1]"
   ]
  },
  {
   "cell_type": "code",
   "execution_count": 25,
   "id": "4be734b1-08ce-445b-812e-f4163d3475f3",
   "metadata": {},
   "outputs": [
    {
     "data": {
      "text/plain": [
       "[1000, 998, 999]"
      ]
     },
     "execution_count": 25,
     "metadata": {},
     "output_type": "execute_result"
    }
   ],
   "source": [
    "d[4::-1]"
   ]
  },
  {
   "cell_type": "code",
   "execution_count": 26,
   "id": "159cec8f-fcfd-4ccc-ab2f-2350e47e7d40",
   "metadata": {},
   "outputs": [
    {
     "data": {
      "text/plain": [
       "[1000, 998, 999]"
      ]
     },
     "execution_count": 26,
     "metadata": {},
     "output_type": "execute_result"
    }
   ],
   "source": [
    "d[2::-1]"
   ]
  },
  {
   "cell_type": "code",
   "execution_count": 27,
   "id": "db3c0b4b-40c1-4df9-89cb-75ada6c8d0c1",
   "metadata": {},
   "outputs": [],
   "source": [
    "a=[1,2,3,4,5,[1,2,3,[999,\"cheeku\",1000],111,234,434],9,10]\n"
   ]
  },
  {
   "cell_type": "code",
   "execution_count": 33,
   "id": "1a2efd19-9df4-4cc3-9b23-f053dd7aceca",
   "metadata": {},
   "outputs": [
    {
     "data": {
      "text/plain": [
       "'cheeku'"
      ]
     },
     "execution_count": 33,
     "metadata": {},
     "output_type": "execute_result"
    }
   ],
   "source": [
    "a[5][3][1]"
   ]
  },
  {
   "cell_type": "code",
   "execution_count": 34,
   "id": "90c0cac2-8509-47f5-91a8-4ecd4fe90cce",
   "metadata": {},
   "outputs": [
    {
     "data": {
      "text/plain": [
       "'ukeehc'"
      ]
     },
     "execution_count": 34,
     "metadata": {},
     "output_type": "execute_result"
    }
   ],
   "source": [
    "a[5][3][1][::-1]"
   ]
  },
  {
   "cell_type": "code",
   "execution_count": 38,
   "id": "56f9d7e4-c15b-4e17-868c-f910b9776414",
   "metadata": {},
   "outputs": [],
   "source": [
    "a=[1,2,3,4,5,[1,2,3,[999,\"123456789\",1000],111,234,434],9,10]\n"
   ]
  },
  {
   "cell_type": "code",
   "execution_count": 41,
   "id": "972e81e6-8079-451d-8827-63953d46bc90",
   "metadata": {},
   "outputs": [
    {
     "data": {
      "text/plain": [
       "'13579'"
      ]
     },
     "execution_count": 41,
     "metadata": {},
     "output_type": "execute_result"
    }
   ],
   "source": [
    "a[5][3][1][::2]"
   ]
  },
  {
   "cell_type": "code",
   "execution_count": 46,
   "id": "0e6f1e57-f9c0-4f9e-94dc-a1070c856668",
   "metadata": {},
   "outputs": [],
   "source": [
    "e=[1,2,3,[1,2,3,4,5,[1,2,3,4,5,6,7,8,9],6,7,8,9],4,5,6,7,8,9]"
   ]
  },
  {
   "cell_type": "code",
   "execution_count": 48,
   "id": "0c4494cd-7a5f-4288-a642-0bc47a329670",
   "metadata": {},
   "outputs": [
    {
     "data": {
      "text/plain": [
       "[[1, 2, 3, 4, 5, [1, 2, 3, 4, 5, 6, 7, 8, 9], 6, 7, 8, 9], 7]"
      ]
     },
     "execution_count": 48,
     "metadata": {},
     "output_type": "execute_result"
    }
   ],
   "source": [
    "e[1::2][1::2]"
   ]
  },
  {
   "cell_type": "raw",
   "id": "4123bb0b-4b28-494c-8703-fe54c6ec8683",
   "metadata": {},
   "source": [
    "# '''append','clear','copy', 'count', 'extend', 'index', 'insert', 'pop', 'remove', 'reverse', 'sort''')"
   ]
  },
  {
   "cell_type": "code",
   "execution_count": 7,
   "id": "d7999462-ce79-479e-ae85-e602b7b9ad56",
   "metadata": {},
   "outputs": [],
   "source": [
    "a=[1,2,3,4,5,6,7,8,9]"
   ]
  },
  {
   "cell_type": "code",
   "execution_count": 9,
   "id": "8fb1ccd6-5178-4c87-b52f-0e4cb1625dc9",
   "metadata": {},
   "outputs": [
    {
     "name": "stdout",
     "output_type": "stream",
     "text": [
      "<class 'list'>\n"
     ]
    }
   ],
   "source": [
    "print(type(a))"
   ]
  },
  {
   "cell_type": "code",
   "execution_count": 10,
   "id": "ffade9b3-c2c6-4167-a3ba-d1ab4c5275da",
   "metadata": {},
   "outputs": [
    {
     "data": {
      "text/plain": [
       "2059111373632"
      ]
     },
     "execution_count": 10,
     "metadata": {},
     "output_type": "execute_result"
    }
   ],
   "source": [
    "id(a)"
   ]
  },
  {
   "cell_type": "code",
   "execution_count": 5,
   "id": "e95870bb-b0fc-426a-943f-3e6b706801ae",
   "metadata": {},
   "outputs": [],
   "source": [
    "a=b=10"
   ]
  },
  {
   "cell_type": "code",
   "execution_count": 6,
   "id": "733955f2-50c3-4d87-8716-0d0be13097c5",
   "metadata": {},
   "outputs": [
    {
     "data": {
      "text/plain": [
       "10"
      ]
     },
     "execution_count": 6,
     "metadata": {},
     "output_type": "execute_result"
    }
   ],
   "source": [
    "b"
   ]
  },
  {
   "cell_type": "code",
   "execution_count": 7,
   "id": "841b6ff6-74c8-4938-bf2d-eea72ad596b6",
   "metadata": {},
   "outputs": [
    {
     "data": {
      "text/plain": [
       "140716346238024"
      ]
     },
     "execution_count": 7,
     "metadata": {},
     "output_type": "execute_result"
    }
   ],
   "source": [
    "id(b)"
   ]
  },
  {
   "cell_type": "code",
   "execution_count": 9,
   "id": "ddb4816b-b3c6-4de2-9ae4-ff730ef83da0",
   "metadata": {},
   "outputs": [
    {
     "data": {
      "text/plain": [
       "140716346238024"
      ]
     },
     "execution_count": 9,
     "metadata": {},
     "output_type": "execute_result"
    }
   ],
   "source": [
    "id(a)"
   ]
  },
  {
   "cell_type": "code",
   "execution_count": 5,
   "id": "e56ad51e-c551-40b0-8ce5-8f257b98c82a",
   "metadata": {},
   "outputs": [],
   "source": [
    "a=[10,20,30]"
   ]
  },
  {
   "cell_type": "code",
   "execution_count": 6,
   "id": "599ee30f-e731-47e6-aa77-c3f9bae8b097",
   "metadata": {},
   "outputs": [],
   "source": [
    "b=[10,20,30]"
   ]
  },
  {
   "cell_type": "code",
   "execution_count": 7,
   "id": "dbb053c7-4c16-4067-bcf3-79d030c517cb",
   "metadata": {},
   "outputs": [
    {
     "data": {
      "text/plain": [
       "1554736615360"
      ]
     },
     "execution_count": 7,
     "metadata": {},
     "output_type": "execute_result"
    }
   ],
   "source": [
    "id(a)"
   ]
  },
  {
   "cell_type": "code",
   "execution_count": 8,
   "id": "40158810-d2dd-4d4e-a7ec-7250ee15596d",
   "metadata": {},
   "outputs": [
    {
     "data": {
      "text/plain": [
       "1554736782784"
      ]
     },
     "execution_count": 8,
     "metadata": {},
     "output_type": "execute_result"
    }
   ],
   "source": [
    "id(b)"
   ]
  },
  {
   "cell_type": "code",
   "execution_count": 11,
   "id": "c6f51c30-a480-47df-a6c6-dd5afffced77",
   "metadata": {},
   "outputs": [],
   "source": [
    "a.append(12)"
   ]
  },
  {
   "cell_type": "code",
   "execution_count": 12,
   "id": "705c1ac5-2b5c-403a-a2c3-b0e1ce101b24",
   "metadata": {},
   "outputs": [
    {
     "name": "stdout",
     "output_type": "stream",
     "text": [
      "[10, 20, 30, [...], 12]\n"
     ]
    }
   ],
   "source": [
    "print(a)"
   ]
  },
  {
   "cell_type": "code",
   "execution_count": 15,
   "id": "c9b28f49-afa7-4b98-bf59-4ddcdb89c053",
   "metadata": {},
   "outputs": [],
   "source": [
    "a.append(13) # structure can change but id will be same(muttable concept)"
   ]
  },
  {
   "cell_type": "code",
   "execution_count": 16,
   "id": "854ee3a0-e92a-49ce-a27b-451223482c80",
   "metadata": {},
   "outputs": [
    {
     "name": "stdout",
     "output_type": "stream",
     "text": [
      "[10, 20, 30, [...], 12, 13, 13]\n"
     ]
    }
   ],
   "source": [
    "print(a)"
   ]
  },
  {
   "cell_type": "code",
   "execution_count": 22,
   "id": "45ab6f91-ec68-48d3-a125-a09999a04ee6",
   "metadata": {},
   "outputs": [],
   "source": [
    "a.clear()"
   ]
  },
  {
   "cell_type": "code",
   "execution_count": 23,
   "id": "6866d118-def8-4c9f-b53e-77a5e99cf5de",
   "metadata": {},
   "outputs": [
    {
     "name": "stdout",
     "output_type": "stream",
     "text": [
      "[]\n"
     ]
    }
   ],
   "source": [
    "print(a)"
   ]
  },
  {
   "cell_type": "code",
   "execution_count": 24,
   "id": "5de4fbc0-ad90-4b38-b5e8-45bdd0b27389",
   "metadata": {},
   "outputs": [
    {
     "data": {
      "text/plain": [
       "1554736615360"
      ]
     },
     "execution_count": 24,
     "metadata": {},
     "output_type": "execute_result"
    }
   ],
   "source": [
    "id(a)"
   ]
  },
  {
   "cell_type": "code",
   "execution_count": 27,
   "id": "a34d9ed6-707b-408f-8033-f8d15b26fca0",
   "metadata": {},
   "outputs": [],
   "source": [
    "a.append([1,2,3,4])"
   ]
  },
  {
   "cell_type": "code",
   "execution_count": 28,
   "id": "a30a5393-b887-4ca3-9ff7-242816c71be7",
   "metadata": {},
   "outputs": [
    {
     "name": "stdout",
     "output_type": "stream",
     "text": [
      "[[1, 2, 3, 4]]\n"
     ]
    }
   ],
   "source": [
    "print(a)"
   ]
  },
  {
   "cell_type": "code",
   "execution_count": 31,
   "id": "975e49c2-0297-47af-baca-ee452328b18f",
   "metadata": {},
   "outputs": [],
   "source": [
    "a.extend([1,2,3,4,5])"
   ]
  },
  {
   "cell_type": "code",
   "execution_count": 32,
   "id": "7bfb3c41-bc48-4e21-9d38-f7800c5fbfe2",
   "metadata": {},
   "outputs": [
    {
     "name": "stdout",
     "output_type": "stream",
     "text": [
      "[[1, 2, 3, 4], 1, 2, 3, 4, 5]\n"
     ]
    }
   ],
   "source": [
    "print(a)"
   ]
  },
  {
   "cell_type": "code",
   "execution_count": 33,
   "id": "f9a1cf0c-f799-450a-b11c-c7467c85fc94",
   "metadata": {},
   "outputs": [],
   "source": [
    "a.append('cheeku')"
   ]
  },
  {
   "cell_type": "code",
   "execution_count": 34,
   "id": "7eb6fe0d-a02f-4cb5-b287-a4acb7f40132",
   "metadata": {},
   "outputs": [
    {
     "name": "stdout",
     "output_type": "stream",
     "text": [
      "[[1, 2, 3, 4], 1, 2, 3, 4, 5, 'cheeku']\n"
     ]
    }
   ],
   "source": [
    "print(a)"
   ]
  },
  {
   "cell_type": "code",
   "execution_count": 38,
   "id": "05492915-7902-41e7-aad4-fe038a37a355",
   "metadata": {},
   "outputs": [],
   "source": [
    "a.extend(\"cheeku\")"
   ]
  },
  {
   "cell_type": "code",
   "execution_count": 39,
   "id": "ee7fcffe-82df-420d-ab05-4ab4efe6b038",
   "metadata": {},
   "outputs": [
    {
     "name": "stdout",
     "output_type": "stream",
     "text": [
      "[[1, 2, 3, 4], 1, 2, 3, 4, 5, 'cheeku', 'c', 'h', 'e', 'e', 'k', 'u']\n"
     ]
    }
   ],
   "source": [
    "print(a)"
   ]
  },
  {
   "cell_type": "code",
   "execution_count": 40,
   "id": "0b97ac4b-278d-4caa-81ca-b0fd5a780806",
   "metadata": {},
   "outputs": [
    {
     "data": {
      "text/plain": [
       "1554736615360"
      ]
     },
     "execution_count": 40,
     "metadata": {},
     "output_type": "execute_result"
    }
   ],
   "source": [
    "id(a)"
   ]
  },
  {
   "cell_type": "code",
   "execution_count": 43,
   "id": "c6232ea7-b107-44d0-9f1e-42ed3eee0346",
   "metadata": {},
   "outputs": [
    {
     "data": {
      "text/plain": [
       "'k'"
      ]
     },
     "execution_count": 43,
     "metadata": {},
     "output_type": "execute_result"
    }
   ],
   "source": [
    "a.pop() # pop delete last value of sequence"
   ]
  },
  {
   "cell_type": "code",
   "execution_count": 44,
   "id": "b5e3b409-1abf-441b-add4-3cfc855021e2",
   "metadata": {},
   "outputs": [
    {
     "name": "stdout",
     "output_type": "stream",
     "text": [
      "[[1, 2, 3, 4], 1, 2, 3, 4, 5, 'cheeku', 'c', 'h', 'e', 'e']\n"
     ]
    }
   ],
   "source": [
    "print(a)"
   ]
  },
  {
   "cell_type": "code",
   "execution_count": 45,
   "id": "888c4f85-5807-472c-a99f-2179fcd8c45a",
   "metadata": {},
   "outputs": [
    {
     "data": {
      "text/plain": [
       "'cheeku'"
      ]
     },
     "execution_count": 45,
     "metadata": {},
     "output_type": "execute_result"
    }
   ],
   "source": [
    "a.pop(6)"
   ]
  },
  {
   "cell_type": "code",
   "execution_count": 47,
   "id": "f4b9ef99-8faf-4267-ad70-42ab229614e8",
   "metadata": {},
   "outputs": [
    {
     "name": "stdout",
     "output_type": "stream",
     "text": [
      "[[1, 2, 3, 4], 1, 2, 3, 4, 5, 'c', 'h', 'e', 'e']\n"
     ]
    }
   ],
   "source": [
    "print(a) # u can remove specific value just put that index value in bracket and run"
   ]
  },
  {
   "cell_type": "code",
   "execution_count": 48,
   "id": "5aa9d330-2aa3-440d-930a-18dbb9bbc757",
   "metadata": {},
   "outputs": [],
   "source": [
    "a.remove([1,2,3,4]) # in this function i have to mention the specific value or word "
   ]
  },
  {
   "cell_type": "code",
   "execution_count": 49,
   "id": "f6e314a2-3039-44a8-8233-dfa76d1efe71",
   "metadata": {},
   "outputs": [
    {
     "name": "stdout",
     "output_type": "stream",
     "text": [
      "[1, 2, 3, 4, 5, 'c', 'h', 'e', 'e']\n"
     ]
    }
   ],
   "source": [
    "print(a)"
   ]
  },
  {
   "cell_type": "raw",
   "id": "7dc34752-33be-4507-a19e-a4217f5a8e79",
   "metadata": {},
   "source": [
    "pop: pop work on indexing\n",
    "   <pop(): it will remove last value of sequence\n",
    "remove:it works on element names\n",
    "  <remove: it will remove specigic value the one u have mention will be removed in it"
   ]
  },
  {
   "cell_type": "code",
   "execution_count": 52,
   "id": "158ae8e0-50da-43dd-9aea-f6f6515a8d68",
   "metadata": {},
   "outputs": [
    {
     "data": {
      "text/plain": [
       "[1, 2, 3, 4, 5, 'c', 'h', 'e', 'e']"
      ]
     },
     "execution_count": 52,
     "metadata": {},
     "output_type": "execute_result"
    }
   ],
   "source": [
    "a"
   ]
  },
  {
   "cell_type": "raw",
   "id": "037e149b-88d8-4835-bd5a-dae78b137ac9",
   "metadata": {},
   "source": [
    "pop function run in two steps\n",
    "< first when we are not mentioning any value in bracket()\n",
    "<second : when you are putting index value it will remove that specific value"
   ]
  },
  {
   "cell_type": "code",
   "execution_count": 54,
   "id": "b10d5c8a-e47e-4c97-82e8-853f671a8683",
   "metadata": {},
   "outputs": [
    {
     "ename": "IndexError",
     "evalue": "pop index out of range",
     "output_type": "error",
     "traceback": [
      "\u001b[1;31m---------------------------------------------------------------------------\u001b[0m",
      "\u001b[1;31mIndexError\u001b[0m                                Traceback (most recent call last)",
      "Cell \u001b[1;32mIn[54], line 1\u001b[0m\n\u001b[1;32m----> 1\u001b[0m \u001b[43ma\u001b[49m\u001b[38;5;241;43m.\u001b[39;49m\u001b[43mpop\u001b[49m\u001b[43m(\u001b[49m\u001b[38;5;241;43m1000\u001b[39;49m\u001b[43m)\u001b[49m \u001b[38;5;66;03m# this is giving me an index erroe because i haven't mention a value according to this no\u001b[39;00m\n",
      "\u001b[1;31mIndexError\u001b[0m: pop index out of range"
     ]
    }
   ],
   "source": [
    "a.pop(1000) # this is giving me an index erroe because i haven't mention a value according to this no"
   ]
  },
  {
   "cell_type": "code",
   "execution_count": 55,
   "id": "0a2f78fb-4435-4bce-94e1-99f42009e480",
   "metadata": {},
   "outputs": [
    {
     "data": {
      "text/plain": [
       "'e'"
      ]
     },
     "execution_count": 55,
     "metadata": {},
     "output_type": "execute_result"
    }
   ],
   "source": [
    "a.pop(-2)"
   ]
  },
  {
   "cell_type": "code",
   "execution_count": 59,
   "id": "228b0f4b-4079-4532-9625-cd1965310160",
   "metadata": {},
   "outputs": [],
   "source": [
    "a.extend([1,1,2,2,3,3,4,4],)"
   ]
  },
  {
   "cell_type": "code",
   "execution_count": 61,
   "id": "2faecabb-0bf3-447e-b00d-aabc734737a9",
   "metadata": {},
   "outputs": [
    {
     "name": "stdout",
     "output_type": "stream",
     "text": [
      "[1, 2, 3, 4, 5, 'c', 'h', 'e', 1, 1, 2, 2, 3, 3, 4, 4, 1, 1, 2, 2, 3, 3, 4, 4]\n"
     ]
    }
   ],
   "source": [
    "print(a)"
   ]
  },
  {
   "cell_type": "code",
   "execution_count": 62,
   "id": "6113f5ad-21da-4e73-811e-03a6a684f92b",
   "metadata": {},
   "outputs": [],
   "source": [
    "a.remove(1)"
   ]
  },
  {
   "cell_type": "code",
   "execution_count": 63,
   "id": "e1f53fda-1268-4069-94b6-f35e40a44378",
   "metadata": {},
   "outputs": [
    {
     "name": "stdout",
     "output_type": "stream",
     "text": [
      "[2, 3, 4, 5, 'c', 'h', 'e', 1, 1, 2, 2, 3, 3, 4, 4, 1, 1, 2, 2, 3, 3, 4, 4]\n"
     ]
    }
   ],
   "source": [
    "print(a)"
   ]
  },
  {
   "cell_type": "code",
   "execution_count": 67,
   "id": "06fbfefb-534a-44c2-aa7c-fc362b0b0383",
   "metadata": {},
   "outputs": [],
   "source": [
    "a.insert(0,\"chanchal\")"
   ]
  },
  {
   "cell_type": "code",
   "execution_count": 68,
   "id": "39de333c-b4a8-40dc-ab8f-04516441faef",
   "metadata": {},
   "outputs": [
    {
     "name": "stdout",
     "output_type": "stream",
     "text": [
      "['chanchal', 2, 3, 4, 5, 'chanchal', 'c', 'h', 'e', 1, 1, 2, 2, 3, 3, 4, 4, 1, 1, 2, 2, 3, 3, 4, 4]\n"
     ]
    }
   ],
   "source": [
    "print(a)"
   ]
  },
  {
   "cell_type": "code",
   "execution_count": 69,
   "id": "889b45ce-d532-45ae-bfce-ad13dcdb8569",
   "metadata": {},
   "outputs": [],
   "source": [
    "a=[1,2,3]"
   ]
  },
  {
   "cell_type": "code",
   "execution_count": 70,
   "id": "0bdd01e1-62ef-494a-a4dd-15d6e13ddfaa",
   "metadata": {},
   "outputs": [],
   "source": [
    "b=[1,2,3]"
   ]
  },
  {
   "cell_type": "code",
   "execution_count": 71,
   "id": "93226bc4-41fd-44c6-a3bc-112c264c9804",
   "metadata": {},
   "outputs": [],
   "source": [
    "a=[]"
   ]
  },
  {
   "cell_type": "code",
   "execution_count": 72,
   "id": "8f81a1bd-18fe-4391-908c-3761ad7b8a25",
   "metadata": {},
   "outputs": [],
   "source": [
    "a.append(10)"
   ]
  },
  {
   "cell_type": "code",
   "execution_count": 73,
   "id": "ca3df4f4-3ae7-4eb4-856f-d8eaf78ed498",
   "metadata": {},
   "outputs": [
    {
     "name": "stdout",
     "output_type": "stream",
     "text": [
      "[10]\n"
     ]
    }
   ],
   "source": [
    "print(a)"
   ]
  },
  {
   "cell_type": "code",
   "execution_count": 74,
   "id": "19adfecc-3b80-4222-b6f2-0622ba59222d",
   "metadata": {},
   "outputs": [],
   "source": [
    "b=[]"
   ]
  },
  {
   "cell_type": "code",
   "execution_count": 75,
   "id": "d2d4a71d-bfd7-4d8e-a7b1-accb668f92c3",
   "metadata": {},
   "outputs": [],
   "source": [
    "b.append(10)"
   ]
  },
  {
   "cell_type": "code",
   "execution_count": 76,
   "id": "1c1d27e9-93a5-4394-b1da-0c52d08bcf35",
   "metadata": {},
   "outputs": [
    {
     "name": "stdout",
     "output_type": "stream",
     "text": [
      "[10]\n"
     ]
    }
   ],
   "source": [
    "print(b)"
   ]
  },
  {
   "cell_type": "code",
   "execution_count": 77,
   "id": "262453ea-4292-4826-82ca-6eb2b03d4799",
   "metadata": {},
   "outputs": [
    {
     "data": {
      "text/plain": [
       "[10]"
      ]
     },
     "execution_count": 77,
     "metadata": {},
     "output_type": "execute_result"
    }
   ],
   "source": [
    "a"
   ]
  },
  {
   "cell_type": "code",
   "execution_count": 78,
   "id": "e367d78d-3c9f-4fe6-83b9-005c8ec0b256",
   "metadata": {},
   "outputs": [],
   "source": [
    "a=[3,34,45,44,34,345,345,466,]"
   ]
  },
  {
   "cell_type": "code",
   "execution_count": 79,
   "id": "cc12b8b8-ff21-44dc-8f8f-45aebf638f25",
   "metadata": {},
   "outputs": [
    {
     "data": {
      "text/plain": [
       "2"
      ]
     },
     "execution_count": 79,
     "metadata": {},
     "output_type": "execute_result"
    }
   ],
   "source": [
    "a.count(345)"
   ]
  },
  {
   "cell_type": "code",
   "execution_count": 80,
   "id": "6bca7c12-5737-4bb0-a9c1-bfd4b40db438",
   "metadata": {},
   "outputs": [
    {
     "name": "stdout",
     "output_type": "stream",
     "text": [
      "0\n"
     ]
    }
   ],
   "source": [
    "print(a.count(7))"
   ]
  },
  {
   "cell_type": "code",
   "execution_count": 82,
   "id": "ef9d02aa-7922-49a5-8bad-d0cbd71c6ec4",
   "metadata": {},
   "outputs": [],
   "source": [
    "c=a.copy()"
   ]
  },
  {
   "cell_type": "code",
   "execution_count": 83,
   "id": "e71aae9a-0ef0-41fa-9c6a-fec97f9e41ff",
   "metadata": {},
   "outputs": [
    {
     "name": "stdout",
     "output_type": "stream",
     "text": [
      "[3, 34, 45, 44, 34, 345, 345, 466]\n"
     ]
    }
   ],
   "source": [
    "print(c)"
   ]
  },
  {
   "cell_type": "code",
   "execution_count": 84,
   "id": "bb66d25c-0b19-4850-a266-85e7593b1ca6",
   "metadata": {},
   "outputs": [
    {
     "data": {
      "text/plain": [
       "1554745412160"
      ]
     },
     "execution_count": 84,
     "metadata": {},
     "output_type": "execute_result"
    }
   ],
   "source": [
    "id(c)"
   ]
  },
  {
   "cell_type": "code",
   "execution_count": 85,
   "id": "d5fbcba6-48d6-450a-89d0-4fbed4a85bf5",
   "metadata": {},
   "outputs": [
    {
     "data": {
      "text/plain": [
       "1554746413760"
      ]
     },
     "execution_count": 85,
     "metadata": {},
     "output_type": "execute_result"
    }
   ],
   "source": [
    "id(a)"
   ]
  },
  {
   "cell_type": "code",
   "execution_count": 86,
   "id": "c5ad4b91-a4a4-4ee0-a217-0763dac4a6af",
   "metadata": {},
   "outputs": [],
   "source": [
    "c.append(9999)"
   ]
  },
  {
   "cell_type": "code",
   "execution_count": 87,
   "id": "05e21ac3-9f1a-456c-b463-d884cc4709fc",
   "metadata": {},
   "outputs": [
    {
     "name": "stdout",
     "output_type": "stream",
     "text": [
      "[3, 34, 45, 44, 34, 345, 345, 466]\n"
     ]
    }
   ],
   "source": [
    "print(a)"
   ]
  },
  {
   "cell_type": "code",
   "execution_count": 88,
   "id": "c7d9144c-33e4-46ee-a9f3-04b46e4aa814",
   "metadata": {},
   "outputs": [
    {
     "name": "stdout",
     "output_type": "stream",
     "text": [
      "1554746413760\n"
     ]
    }
   ],
   "source": [
    "print(id(a))"
   ]
  },
  {
   "cell_type": "code",
   "execution_count": 90,
   "id": "46389fc6-a2a8-466d-8c53-6fa870694d7b",
   "metadata": {},
   "outputs": [],
   "source": [
    "# those method who don't give output so the possibalities are they are going to change astructure (muttable method)"
   ]
  },
  {
   "cell_type": "code",
   "execution_count": 91,
   "id": "7ff49d53-13fd-4d66-998f-e425852158f9",
   "metadata": {},
   "outputs": [],
   "source": [
    "a.sort() #it is used for arrange the valu in asending order."
   ]
  },
  {
   "cell_type": "code",
   "execution_count": 92,
   "id": "489a5098-c817-4f96-8080-ef3fe79385e8",
   "metadata": {},
   "outputs": [
    {
     "name": "stdout",
     "output_type": "stream",
     "text": [
      "[3, 34, 34, 44, 45, 345, 345, 466]\n"
     ]
    }
   ],
   "source": [
    "print(a)"
   ]
  },
  {
   "cell_type": "code",
   "execution_count": 100,
   "id": "1278ac6d-cdb6-4500-a94f-90ed9739ef87",
   "metadata": {},
   "outputs": [],
   "source": [
    "a=[56,13,34,57,45,38,23,21]"
   ]
  },
  {
   "cell_type": "code",
   "execution_count": 102,
   "id": "96cb6867-87e8-4ddc-9c0c-aeaf5ae81336",
   "metadata": {},
   "outputs": [],
   "source": [
    "a.sort() # ascending order "
   ]
  },
  {
   "cell_type": "code",
   "execution_count": 103,
   "id": "8abdcab2-0b38-41cb-9ca7-0092b338d123",
   "metadata": {},
   "outputs": [
    {
     "name": "stdout",
     "output_type": "stream",
     "text": [
      "[13, 21, 23, 34, 38, 45, 56, 57]\n"
     ]
    }
   ],
   "source": [
    "print(a)"
   ]
  },
  {
   "cell_type": "code",
   "execution_count": 105,
   "id": "8b863260-6032-43ad-b237-c39a0fd62630",
   "metadata": {},
   "outputs": [],
   "source": [
    "a.sort(reverse=True) # this a parameter reverse here no a method "
   ]
  },
  {
   "cell_type": "code",
   "execution_count": 106,
   "id": "169e66f7-14c4-438b-ac2c-2ff460e067a4",
   "metadata": {},
   "outputs": [
    {
     "name": "stdout",
     "output_type": "stream",
     "text": [
      "[57, 56, 45, 38, 34, 23, 21, 13]\n"
     ]
    }
   ],
   "source": [
    "print(a) # descending order"
   ]
  },
  {
   "cell_type": "code",
   "execution_count": 107,
   "id": "a13d7e0f-03b7-432e-a395-6f7bcba25db1",
   "metadata": {},
   "outputs": [],
   "source": [
    "a.reverse() used for assend"
   ]
  },
  {
   "cell_type": "code",
   "execution_count": 108,
   "id": "d3f47154-5aeb-418d-980e-97100253e5d5",
   "metadata": {},
   "outputs": [
    {
     "name": "stdout",
     "output_type": "stream",
     "text": [
      "[13, 21, 23, 34, 38, 45, 56, 57]\n"
     ]
    }
   ],
   "source": [
    "print(a)"
   ]
  },
  {
   "cell_type": "code",
   "execution_count": 109,
   "id": "bd92ef25-fc77-4382-aa0a-b8629f952639",
   "metadata": {},
   "outputs": [],
   "source": [
    "a.reverse()"
   ]
  },
  {
   "cell_type": "code",
   "execution_count": 110,
   "id": "f1b4da83-cffa-43be-8f2f-1b5b7551d322",
   "metadata": {},
   "outputs": [
    {
     "name": "stdout",
     "output_type": "stream",
     "text": [
      "[57, 56, 45, 38, 34, 23, 21, 13]\n"
     ]
    }
   ],
   "source": [
    "print(a)"
   ]
  },
  {
   "cell_type": "code",
   "execution_count": 111,
   "id": "24663a72-adde-43a1-b7f4-234fe9954c1f",
   "metadata": {},
   "outputs": [],
   "source": [
    "a.sort()"
   ]
  },
  {
   "cell_type": "code",
   "execution_count": 112,
   "id": "8850d55a-b55d-4780-95c3-95eac1737493",
   "metadata": {},
   "outputs": [
    {
     "name": "stdout",
     "output_type": "stream",
     "text": [
      "[13, 21, 23, 34, 38, 45, 56, 57]\n"
     ]
    }
   ],
   "source": [
    "print(a)"
   ]
  },
  {
   "cell_type": "code",
   "execution_count": 113,
   "id": "180db2e1-30e0-4021-b4f9-3bc8080a32a7",
   "metadata": {},
   "outputs": [],
   "source": [
    "v=[324,45,32,56,78]"
   ]
  },
  {
   "cell_type": "code",
   "execution_count": 114,
   "id": "f51d3014-cd6f-4a3d-a1a0-b8cd6057aa0f",
   "metadata": {},
   "outputs": [],
   "source": [
    "v.reverse()"
   ]
  },
  {
   "cell_type": "code",
   "execution_count": 115,
   "id": "a124fa74-cc9a-4795-b334-a6042384960f",
   "metadata": {},
   "outputs": [
    {
     "name": "stdout",
     "output_type": "stream",
     "text": [
      "[78, 56, 32, 45, 324]\n"
     ]
    }
   ],
   "source": [
    "print(v)"
   ]
  },
  {
   "cell_type": "markdown",
   "id": "bd3b3764-930c-4911-8275-de82b73489ed",
   "metadata": {},
   "source": [
    " # list method"
   ]
  },
  {
   "cell_type": "raw",
   "id": "71b456f4-017d-4243-b30c-cb97225525ee",
   "metadata": {},
   "source": [
    "append()\tAdds an element at the end of the list\n",
    "clear()\tRemoves all the elements from the list\n",
    "copy()\tReturns a copy of the list\n",
    "count()\tReturns the number of elements with the specified value\n",
    "extend()\tAdd the elements of a list (or any iterable), to the end of the current list\n",
    "index()\tReturns the index of the first element with the specified value\n",
    "insert()\tAdds an element at the specified position\n",
    "pop()\tRemoves the element at the specified position\n",
    "remove()\tRemoves the item with the specified value\n",
    "reverse()\tReverses the order of the list\n",
    "sort()\tSorts the list\n"
   ]
  }
 ],
 "metadata": {
  "kernelspec": {
   "display_name": "Python 3 (ipykernel)",
   "language": "python",
   "name": "python3"
  },
  "language_info": {
   "codemirror_mode": {
    "name": "ipython",
    "version": 3
   },
   "file_extension": ".py",
   "mimetype": "text/x-python",
   "name": "python",
   "nbconvert_exporter": "python",
   "pygments_lexer": "ipython3",
   "version": "3.11.4"
  }
 },
 "nbformat": 4,
 "nbformat_minor": 5
}
