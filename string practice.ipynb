{
 "cells": [
  {
   "cell_type": "code",
   "execution_count": 2,
   "id": "1389462e-ca93-49a2-b162-990d6a9d0c21",
   "metadata": {},
   "outputs": [],
   "source": [
    "a= \"krishna\""
   ]
  },
  {
   "cell_type": "code",
   "execution_count": 3,
   "id": "afd8a772-ac34-4887-8d47-72430d753f0c",
   "metadata": {},
   "outputs": [
    {
     "name": "stdout",
     "output_type": "stream",
     "text": [
      "krishna\n"
     ]
    }
   ],
   "source": [
    "print(a)"
   ]
  },
  {
   "cell_type": "raw",
   "id": "85e3a2a2-159d-48df-b411-1b80cf708b29",
   "metadata": {},
   "source": [
    "indexing slicing set of sequence of character."
   ]
  },
  {
   "cell_type": "code",
   "execution_count": 9,
   "id": "4f31b27b-dee4-4663-ae45-6d9c4b691ee0",
   "metadata": {},
   "outputs": [
    {
     "name": "stdout",
     "output_type": "stream",
     "text": [
      "k\n"
     ]
    }
   ],
   "source": [
    "print(a[0])"
   ]
  },
  {
   "cell_type": "code",
   "execution_count": 10,
   "id": "4b127c3f-d57a-45d8-81ca-ae0ed9f1e431",
   "metadata": {},
   "outputs": [
    {
     "data": {
      "text/plain": [
       "'krish'"
      ]
     },
     "execution_count": 10,
     "metadata": {},
     "output_type": "execute_result"
    }
   ],
   "source": [
    "a[0:5:1]"
   ]
  },
  {
   "cell_type": "code",
   "execution_count": 11,
   "id": "fd2007fb-a7f2-4f9c-a450-54418d834b55",
   "metadata": {},
   "outputs": [
    {
     "data": {
      "text/plain": [
       "'rishn'"
      ]
     },
     "execution_count": 11,
     "metadata": {},
     "output_type": "execute_result"
    }
   ],
   "source": [
    "a[1:6:1] # left to right positive movement."
   ]
  },
  {
   "cell_type": "code",
   "execution_count": 12,
   "id": "29900f63-33a5-4f5d-93ff-8d0614e954af",
   "metadata": {},
   "outputs": [
    {
     "data": {
      "text/plain": [
       "'krish'"
      ]
     },
     "execution_count": 12,
     "metadata": {},
     "output_type": "execute_result"
    }
   ],
   "source": [
    "a[-7:-2:1] # negative indexing right to left movement"
   ]
  },
  {
   "cell_type": "code",
   "execution_count": 17,
   "id": "5268e710-7967-40b6-b097-c242988da54b",
   "metadata": {},
   "outputs": [
    {
     "data": {
      "text/plain": [
       "'krish'"
      ]
     },
     "execution_count": 17,
     "metadata": {},
     "output_type": "execute_result"
    }
   ],
   "source": [
    "a[0:-2:1] # we have two ways to print krish\n"
   ]
  },
  {
   "cell_type": "code",
   "execution_count": 15,
   "id": "31162b03-c1ce-466a-b6b0-b211dd87e01b",
   "metadata": {},
   "outputs": [
    {
     "data": {
      "text/plain": [
       "'kn'"
      ]
     },
     "execution_count": 15,
     "metadata": {},
     "output_type": "execute_result"
    }
   ],
   "source": [
    "a[-8:6:5]"
   ]
  },
  {
   "cell_type": "code",
   "execution_count": 19,
   "id": "f085788f-ab79-44f7-910d-cec2cde165ae",
   "metadata": {},
   "outputs": [
    {
     "data": {
      "text/plain": [
       "'krishna'"
      ]
     },
     "execution_count": 19,
     "metadata": {},
     "output_type": "execute_result"
    }
   ],
   "source": [
    "a[-7:6678876232725:1]"
   ]
  },
  {
   "cell_type": "code",
   "execution_count": 23,
   "id": "f4f7f44a-d02b-44eb-a0b7-8ff555bff190",
   "metadata": {},
   "outputs": [
    {
     "data": {
      "text/plain": [
       "'anhsirk'"
      ]
     },
     "execution_count": 23,
     "metadata": {},
     "output_type": "execute_result"
    }
   ],
   "source": [
    "a[-1:-8:-1]\n"
   ]
  },
  {
   "cell_type": "code",
   "execution_count": 28,
   "id": "898e699f-6b3c-4678-870e-280091cc51ac",
   "metadata": {},
   "outputs": [
    {
     "data": {
      "text/plain": [
       "'anhsirk'"
      ]
     },
     "execution_count": 28,
     "metadata": {},
     "output_type": "execute_result"
    }
   ],
   "source": [
    "a[6:-\n",
    "8:-1]"
   ]
  },
  {
   "cell_type": "code",
   "execution_count": 30,
   "id": "7bf27d5b-18d0-4cc1-811a-63e1e34e7a12",
   "metadata": {},
   "outputs": [
    {
     "data": {
      "text/plain": [
       "'anhsirk'"
      ]
     },
     "execution_count": 30,
     "metadata": {},
     "output_type": "execute_result"
    }
   ],
   "source": [
    "a[6::-1] # use case\n"
   ]
  },
  {
   "cell_type": "code",
   "execution_count": 33,
   "id": "6d73d70a-6d8a-4ec0-aa4e-fd979002aa3a",
   "metadata": {},
   "outputs": [
    {
     "data": {
      "text/plain": [
       "'krishna'"
      ]
     },
     "execution_count": 33,
     "metadata": {},
     "output_type": "execute_result"
    }
   ],
   "source": [
    "a[::1] # use case"
   ]
  },
  {
   "cell_type": "code",
   "execution_count": 35,
   "id": "98d352df-4e7d-48c2-86f3-1a142001af78",
   "metadata": {},
   "outputs": [
    {
     "data": {
      "text/plain": [
       "'krishna'"
      ]
     },
     "execution_count": 35,
     "metadata": {},
     "output_type": "execute_result"
    }
   ],
   "source": [
    "a[:] # use case\n"
   ]
  },
  {
   "cell_type": "code",
   "execution_count": 37,
   "id": "e82d1699-0c09-48eb-9b1e-f95837eed550",
   "metadata": {},
   "outputs": [
    {
     "data": {
      "text/plain": [
       "'krishna'"
      ]
     },
     "execution_count": 37,
     "metadata": {},
     "output_type": "execute_result"
    }
   ],
   "source": [
    "a[:]"
   ]
  },
  {
   "cell_type": "markdown",
   "id": "17385c30-84c0-4ecf-9570-ed5687dec316",
   "metadata": {},
   "source": [
    "# step skipping"
   ]
  },
  {
   "cell_type": "code",
   "execution_count": 39,
   "id": "782c2490-1af0-43f2-87e3-64845ea81c14",
   "metadata": {},
   "outputs": [
    {
     "data": {
      "text/plain": [
       "'kiha'"
      ]
     },
     "execution_count": 39,
     "metadata": {},
     "output_type": "execute_result"
    }
   ],
   "source": [
    "a[0:7:2]"
   ]
  },
  {
   "cell_type": "code",
   "execution_count": 40,
   "id": "8119261e-a608-4eff-8a69-69642b81a5ad",
   "metadata": {},
   "outputs": [
    {
     "data": {
      "text/plain": [
       "'kh'"
      ]
     },
     "execution_count": 40,
     "metadata": {},
     "output_type": "execute_result"
    }
   ],
   "source": [
    "a[0:7:4]"
   ]
  },
  {
   "cell_type": "code",
   "execution_count": 41,
   "id": "dbf530d2-d699-47b3-9b74-cf0d067b71ce",
   "metadata": {},
   "outputs": [
    {
     "data": {
      "text/plain": [
       "'ksa'"
      ]
     },
     "execution_count": 41,
     "metadata": {},
     "output_type": "execute_result"
    }
   ],
   "source": [
    "a[0::3] # if i m not giving middle value it will work"
   ]
  },
  {
   "cell_type": "code",
   "execution_count": 44,
   "id": "88206556-ef10-4274-a1c0-ce97196d5436",
   "metadata": {},
   "outputs": [
    {
     "data": {
      "text/plain": [
       "'ksa'"
      ]
     },
     "execution_count": 44,
     "metadata": {},
     "output_type": "execute_result"
    }
   ],
   "source": [
    "a[::3] # m not givng value in beggining too it will work\n"
   ]
  },
  {
   "cell_type": "code",
   "execution_count": 45,
   "id": "3c179e19-edaf-44fd-a811-19ebffe6fb73",
   "metadata": {},
   "outputs": [],
   "source": [
    "course =\"python programming\""
   ]
  },
  {
   "cell_type": "code",
   "execution_count": 46,
   "id": "7427829e-ca81-46d2-bff4-6773670878bd",
   "metadata": {},
   "outputs": [
    {
     "name": "stdout",
     "output_type": "stream",
     "text": [
      "18\n"
     ]
    }
   ],
   "source": [
    "print(len(course))"
   ]
  },
  {
   "cell_type": "code",
   "execution_count": 48,
   "id": "0710ce73-7dcf-4e27-94b4-84c0240e61e3",
   "metadata": {},
   "outputs": [
    {
     "name": "stdout",
     "output_type": "stream",
     "text": [
      "p\n"
     ]
    }
   ],
   "source": [
    "print(course[0])"
   ]
  },
  {
   "cell_type": "code",
   "execution_count": 49,
   "id": "020fa3ce-8fb0-4e08-8f6c-08bcbc9c3259",
   "metadata": {},
   "outputs": [
    {
     "name": "stdout",
     "output_type": "stream",
     "text": [
      "g\n"
     ]
    }
   ],
   "source": [
    "print(course[-1])"
   ]
  },
  {
   "cell_type": "code",
   "execution_count": 50,
   "id": "03aa0a0b-40af-436a-94a3-3204b69f9033",
   "metadata": {},
   "outputs": [
    {
     "name": "stdout",
     "output_type": "stream",
     "text": [
      "pyt\n"
     ]
    }
   ],
   "source": [
    "print(course[0:3])"
   ]
  },
  {
   "cell_type": "code",
   "execution_count": 51,
   "id": "b94da7ff-017f-45ef-a440-115099dcb354",
   "metadata": {},
   "outputs": [
    {
     "name": "stdout",
     "output_type": "stream",
     "text": [
      "python programming\n"
     ]
    }
   ],
   "source": [
    "print(course[0:])"
   ]
  },
  {
   "cell_type": "code",
   "execution_count": 52,
   "id": "9e962611-b10b-4f14-a185-1c809b3ed093",
   "metadata": {},
   "outputs": [
    {
     "name": "stdout",
     "output_type": "stream",
     "text": [
      "pyt\n"
     ]
    }
   ],
   "source": [
    "print(course[:3])"
   ]
  },
  {
   "cell_type": "code",
   "execution_count": 53,
   "id": "7d8649d5-1ecf-420c-a4d6-f421c7f8102c",
   "metadata": {},
   "outputs": [
    {
     "name": "stdout",
     "output_type": "stream",
     "text": [
      "python programming\n"
     ]
    }
   ],
   "source": [
    "print(course[:])"
   ]
  },
  {
   "cell_type": "code",
   "execution_count": 76,
   "id": "83eb87ed-9769-40ad-bb93-8508be544218",
   "metadata": {},
   "outputs": [],
   "source": [
    "course= \"python \\'programming\" #"
   ]
  },
  {
   "cell_type": "code",
   "execution_count": 60,
   "id": "eafbc0a8-af38-44f6-b2b6-6fe4be60532d",
   "metadata": {},
   "outputs": [
    {
     "name": "stdout",
     "output_type": "stream",
     "text": [
      "python \n",
      "'programming\n"
     ]
    }
   ],
   "source": [
    "print(course)"
   ]
  },
  {
   "cell_type": "code",
   "execution_count": 61,
   "id": "24ddd586-3788-4ab2-beff-124a46d5bd3f",
   "metadata": {},
   "outputs": [],
   "source": [
    "first=\"aradhita\""
   ]
  },
  {
   "cell_type": "code",
   "execution_count": 62,
   "id": "f23067f6-c56e-4449-aa51-6fec226968e3",
   "metadata": {},
   "outputs": [],
   "source": [
    "last =\"sharma\""
   ]
  },
  {
   "cell_type": "code",
   "execution_count": 72,
   "id": "49632ef0-28ba-4f77-b633-dddd1f5bcbc2",
   "metadata": {},
   "outputs": [],
   "source": [
    "full= f\"{len(first)} {3+3}\""
   ]
  },
  {
   "cell_type": "code",
   "execution_count": 73,
   "id": "9b5fa127-cc8b-4fec-b177-d274e1db7a5f",
   "metadata": {},
   "outputs": [
    {
     "name": "stdout",
     "output_type": "stream",
     "text": [
      "8 6\n"
     ]
    }
   ],
   "source": [
    "print(full)"
   ]
  },
  {
   "cell_type": "code",
   "execution_count": 77,
   "id": "926d16bc-e4c0-44a0-823e-e1a536faf078",
   "metadata": {},
   "outputs": [
    {
     "name": "stdout",
     "output_type": "stream",
     "text": [
      "PYTHON 'PROGRAMMING\n"
     ]
    }
   ],
   "source": [
    "print(course.upper())\n"
   ]
  },
  {
   "cell_type": "code",
   "execution_count": 78,
   "id": "eb22aca7-d581-43ae-9147-80525bbd82bf",
   "metadata": {},
   "outputs": [
    {
     "name": "stdout",
     "output_type": "stream",
     "text": [
      "python 'programming\n"
     ]
    }
   ],
   "source": [
    "print(course.lower())"
   ]
  },
  {
   "cell_type": "code",
   "execution_count": 79,
   "id": "d9348960-cfea-4a38-8417-ee9353e58738",
   "metadata": {},
   "outputs": [
    {
     "name": "stdout",
     "output_type": "stream",
     "text": [
      "Python 'Programming\n"
     ]
    }
   ],
   "source": [
    "print(course.title())"
   ]
  },
  {
   "cell_type": "code",
   "execution_count": 80,
   "id": "ed2751b8-3cbf-449d-961b-541b637f9fc3",
   "metadata": {},
   "outputs": [
    {
     "name": "stdout",
     "output_type": "stream",
     "text": [
      "python 'programming\n"
     ]
    }
   ],
   "source": [
    "print(course.strip())"
   ]
  },
  {
   "cell_type": "code",
   "execution_count": 81,
   "id": "4618ea21-7d97-4583-809c-54c241e7a2d8",
   "metadata": {},
   "outputs": [
    {
     "name": "stdout",
     "output_type": "stream",
     "text": [
      "python 'programming\n"
     ]
    }
   ],
   "source": [
    "print(course.rstrip())"
   ]
  },
  {
   "cell_type": "code",
   "execution_count": 86,
   "id": "a976feb0-9e6b-489f-b1bb-704ded77f998",
   "metadata": {},
   "outputs": [
    {
     "name": "stdout",
     "output_type": "stream",
     "text": [
      "8\n"
     ]
    }
   ],
   "source": [
    "print(course.find(\"pro\"))"
   ]
  },
  {
   "cell_type": "code",
   "execution_count": 87,
   "id": "1a7da0af-8592-4ebd-bcf7-b7008782947c",
   "metadata": {},
   "outputs": [
    {
     "name": "stdout",
     "output_type": "stream",
     "text": [
      "jython 'jrogramming\n"
     ]
    }
   ],
   "source": [
    "print(course.replace(\"p\",\"j\"))"
   ]
  },
  {
   "cell_type": "code",
   "execution_count": 89,
   "id": "26f95744-b167-46cd-ba21-ca4dca374089",
   "metadata": {},
   "outputs": [
    {
     "name": "stdout",
     "output_type": "stream",
     "text": [
      "True\n"
     ]
    }
   ],
   "source": [
    "print(\"pro\"in course) # it's an expression\n"
   ]
  },
  {
   "cell_type": "code",
   "execution_count": 91,
   "id": "d35ca9a4-fe75-4a98-9a42-065e9913a325",
   "metadata": {},
   "outputs": [
    {
     "name": "stdout",
     "output_type": "stream",
     "text": [
      "True\n"
     ]
    }
   ],
   "source": [
    "print(\"swift\" not in course)"
   ]
  },
  {
   "cell_type": "markdown",
   "id": "4c6aa86f-0bcd-477a-96b0-5de066d7aa44",
   "metadata": {},
   "source": [
    " # python string() format function"
   ]
  },
  {
   "cell_type": "raw",
   "id": "677cf689-686c-4c4a-9032-c57279d6b08a",
   "metadata": {},
   "source": [
    "<the format() method formats the specified value(s) and insert them inside them inside. the string's placeholder the placeholder is defined using curly{} brackets. "
   ]
  },
  {
   "cell_type": "markdown",
   "id": "0481c5fa-2949-46cb-a745-f1f5c01ee751",
   "metadata": {},
   "source": [
    "# tuple practice"
   ]
  },
  {
   "cell_type": "code",
   "execution_count": 4,
   "id": "4cc41a0d-452f-4a41-a334-95da04a6c514",
   "metadata": {},
   "outputs": [],
   "source": [
    "a=(10,10.0,'10',[1,2,3],(1,2,3))"
   ]
  },
  {
   "cell_type": "code",
   "execution_count": 8,
   "id": "e14a08fc-dc80-4bb9-9fb7-b4bddc14a708",
   "metadata": {},
   "outputs": [
    {
     "name": "stdout",
     "output_type": "stream",
     "text": [
      "[1, 2, 3]\n"
     ]
    }
   ],
   "source": [
    "print(a[3])"
   ]
  },
  {
   "cell_type": "code",
   "execution_count": 9,
   "id": "d34d24a4-7682-4fa9-8d35-1b1d5c98560a",
   "metadata": {},
   "outputs": [
    {
     "name": "stdout",
     "output_type": "stream",
     "text": [
      "[1, 2, 3]\n"
     ]
    }
   ],
   "source": [
    "print(a[-2])"
   ]
  },
  {
   "cell_type": "code",
   "execution_count": 10,
   "id": "040e041a-f635-48c7-9bc5-e5c8fdb366d2",
   "metadata": {},
   "outputs": [
    {
     "name": "stdout",
     "output_type": "stream",
     "text": [
      "(10, 10.0, '10')\n"
     ]
    }
   ],
   "source": [
    "print(a[0:3])"
   ]
  },
  {
   "cell_type": "code",
   "execution_count": 11,
   "id": "e99d27a8-5216-4a0f-82de-756d9f941bc2",
   "metadata": {},
   "outputs": [
    {
     "name": "stdout",
     "output_type": "stream",
     "text": [
      "10\n"
     ]
    }
   ],
   "source": [
    "print(a[-5])"
   ]
  },
  {
   "cell_type": "code",
   "execution_count": 18,
   "id": "38483f7f-6b52-4322-80cf-02844c87824d",
   "metadata": {},
   "outputs": [
    {
     "name": "stdout",
     "output_type": "stream",
     "text": [
      "((1, 2, 3), [1, 2, 3], '10', 10.0, 10)\n"
     ]
    }
   ],
   "source": [
    "print(a[::-1]) #a[start:end+1step]"
   ]
  },
  {
   "cell_type": "code",
   "execution_count": 17,
   "id": "d35a9ddc-5bc8-461a-8baf-0c129c5051b4",
   "metadata": {},
   "outputs": [
    {
     "name": "stdout",
     "output_type": "stream",
     "text": [
      "((1, 2, 3), [1, 2, 3])\n"
     ]
    }
   ],
   "source": [
    "print(a[-1:-3:-1])"
   ]
  },
  {
   "cell_type": "code",
   "execution_count": 19,
   "id": "bd354d6f-6153-4cad-88a9-24b9dbfca1de",
   "metadata": {},
   "outputs": [
    {
     "data": {
      "text/plain": [
       "(10.0, '10', [1, 2, 3], (1, 2, 3))"
      ]
     },
     "execution_count": 19,
     "metadata": {},
     "output_type": "execute_result"
    }
   ],
   "source": [
    "a[1:5:1]"
   ]
  },
  {
   "cell_type": "code",
   "execution_count": 20,
   "id": "b0e0cd19-71e8-401e-badd-04b978de807e",
   "metadata": {},
   "outputs": [
    {
     "data": {
      "text/plain": [
       "(10.0, '10')"
      ]
     },
     "execution_count": 20,
     "metadata": {},
     "output_type": "execute_result"
    }
   ],
   "source": [
    "a[1:3:1]"
   ]
  },
  {
   "cell_type": "code",
   "execution_count": 26,
   "id": "87d59d12-314a-41ed-9d17-f7259c9a12cb",
   "metadata": {},
   "outputs": [
    {
     "name": "stdout",
     "output_type": "stream",
     "text": [
      "((1, 2, 3), [1, 2, 3], '10', 10.0, 10)\n"
     ]
    }
   ],
   "source": [
    "print(a[-1: :-1]) #reverse indexing"
   ]
  },
  {
   "cell_type": "code",
   "execution_count": 31,
   "id": "8b99b9b7-13cc-4fc6-8a9e-5d44f75819ec",
   "metadata": {},
   "outputs": [
    {
     "data": {
      "text/plain": [
       "((1, 2, 3), [1, 2, 3], '10', 10.0, 10)"
      ]
     },
     "execution_count": 31,
     "metadata": {},
     "output_type": "execute_result"
    }
   ],
   "source": [
    "a[4::-1] # negative slicing through positive values."
   ]
  },
  {
   "cell_type": "markdown",
   "id": "da1958a1-4bbd-44bc-be27-2632244bf20d",
   "metadata": {},
   "source": [
    "# use cases in tupple"
   ]
  },
  {
   "cell_type": "markdown",
   "id": "e4000121-7925-4d8c-bd3f-8a41295c4399",
   "metadata": {},
   "source": [
    "# packing unpacking"
   ]
  },
  {
   "cell_type": "code",
   "execution_count": 36,
   "id": "fd6abacf-24dc-4f91-94d4-40f2c898ebe3",
   "metadata": {},
   "outputs": [],
   "source": [
    "a=1,2,3,4,5,6,7 # packing  when u assign a multiple value to a variable that come to in collection thats called packing"
   ]
  },
  {
   "cell_type": "code",
   "execution_count": 34,
   "id": "5b7c3f7f-49bc-48ff-90ee-97af89ec0170",
   "metadata": {},
   "outputs": [
    {
     "name": "stdout",
     "output_type": "stream",
     "text": [
      "(1, 2, 3, 4, 5, 6, 7)\n"
     ]
    }
   ],
   "source": [
    "print(a)"
   ]
  },
  {
   "cell_type": "code",
   "execution_count": 35,
   "id": "0c74b9eb-62ad-490c-8635-57fbc20be2e7",
   "metadata": {},
   "outputs": [
    {
     "data": {
      "text/plain": [
       "tuple"
      ]
     },
     "execution_count": 35,
     "metadata": {},
     "output_type": "execute_result"
    }
   ],
   "source": [
    "type(a)"
   ]
  },
  {
   "cell_type": "code",
   "execution_count": 38,
   "id": "d93dd6e1-d92b-4980-83a0-911c7e8537c2",
   "metadata": {},
   "outputs": [
    {
     "ename": "ValueError",
     "evalue": "too many values to unpack (expected 4)",
     "output_type": "error",
     "traceback": [
      "\u001b[1;31m---------------------------------------------------------------------------\u001b[0m",
      "\u001b[1;31mValueError\u001b[0m                                Traceback (most recent call last)",
      "Cell \u001b[1;32mIn[38], line 1\u001b[0m\n\u001b[1;32m----> 1\u001b[0m d,e,f,g\u001b[38;5;241m=\u001b[39ma\n",
      "\u001b[1;31mValueError\u001b[0m: too many values to unpack (expected 4)"
     ]
    }
   ],
   "source": [
    "d,e,f,g=a"
   ]
  },
  {
   "cell_type": "code",
   "execution_count": 39,
   "id": "51f1482b-58ce-40ff-b67f-35b986e7fe5d",
   "metadata": {},
   "outputs": [],
   "source": [
    "a=1,2,3,4,5"
   ]
  },
  {
   "cell_type": "code",
   "execution_count": 40,
   "id": "1601b5bd-44d2-4c53-853d-76b1cf2733b6",
   "metadata": {},
   "outputs": [],
   "source": [
    "d,e,f,g,h=a # unpacking when unpack value "
   ]
  },
  {
   "cell_type": "code",
   "execution_count": 41,
   "id": "9b3416e4-9fbc-46b0-b358-fc8dda3c7ee9",
   "metadata": {},
   "outputs": [
    {
     "name": "stdout",
     "output_type": "stream",
     "text": [
      "1\n"
     ]
    }
   ],
   "source": [
    "print(d)"
   ]
  },
  {
   "cell_type": "code",
   "execution_count": 42,
   "id": "ad01436d-bd97-4af4-b9e1-9ad3d15a2d56",
   "metadata": {},
   "outputs": [
    {
     "name": "stdout",
     "output_type": "stream",
     "text": [
      "2\n"
     ]
    }
   ],
   "source": [
    "print(e)"
   ]
  },
  {
   "cell_type": "code",
   "execution_count": 43,
   "id": "7bca3e25-a52f-4cd0-9e33-f3305587fa4b",
   "metadata": {},
   "outputs": [
    {
     "name": "stdout",
     "output_type": "stream",
     "text": [
      "4\n"
     ]
    }
   ],
   "source": [
    "print(g)"
   ]
  },
  {
   "cell_type": "code",
   "execution_count": 44,
   "id": "02f2e2ac-d4b0-43fc-8c9c-ef95223d77d3",
   "metadata": {},
   "outputs": [
    {
     "name": "stdout",
     "output_type": "stream",
     "text": [
      "5\n"
     ]
    }
   ],
   "source": [
    "print(h)"
   ]
  },
  {
   "cell_type": "code",
   "execution_count": 45,
   "id": "6f9293f6-f0b3-44cc-811f-3b04c21a1788",
   "metadata": {},
   "outputs": [],
   "source": [
    "k,l,m,n,o=(1,2,3,4,5)"
   ]
  },
  {
   "cell_type": "code",
   "execution_count": 46,
   "id": "91c3390b-7ed8-45da-aa50-d7b7ce94e3bf",
   "metadata": {},
   "outputs": [
    {
     "name": "stdout",
     "output_type": "stream",
     "text": [
      "1\n"
     ]
    }
   ],
   "source": [
    "print(k)"
   ]
  },
  {
   "cell_type": "raw",
   "id": "0520e86e-0024-404f-8fa8-019e60c6bb38",
   "metadata": {},
   "source": [
    "unpacking:(1) create as many values as there are values\n",
    "(2) u can asterisk when u r not adding variables"
   ]
  },
  {
   "cell_type": "code",
   "execution_count": 50,
   "id": "ddb54593-06f3-4364-9bdd-4f5166f091bb",
   "metadata": {},
   "outputs": [],
   "source": [
    "k,l,m,*n=(1,2,3,4,5)"
   ]
  },
  {
   "cell_type": "code",
   "execution_count": 51,
   "id": "89d8e7ae-6bea-42f0-ae7c-0aefab728ba6",
   "metadata": {},
   "outputs": [
    {
     "name": "stdout",
     "output_type": "stream",
     "text": [
      "1\n"
     ]
    }
   ],
   "source": [
    "print(k)"
   ]
  },
  {
   "cell_type": "code",
   "execution_count": 55,
   "id": "1a53e8d5-6df5-488e-be3b-3b40e752ca51",
   "metadata": {},
   "outputs": [
    {
     "name": "stdout",
     "output_type": "stream",
     "text": [
      "[4, 5]\n"
     ]
    }
   ],
   "source": [
    "print(n)"
   ]
  },
  {
   "cell_type": "code",
   "execution_count": 58,
   "id": "f9217bbc-2092-437e-b177-ad4a95d9b625",
   "metadata": {},
   "outputs": [],
   "source": [
    "k,l,*m,n=(1,2,3,4,5)\n"
   ]
  },
  {
   "cell_type": "code",
   "execution_count": 60,
   "id": "bbee85fc-3194-4a79-9fab-6de899b4cc7e",
   "metadata": {},
   "outputs": [
    {
     "name": "stdout",
     "output_type": "stream",
     "text": [
      "1\n"
     ]
    }
   ],
   "source": [
    "print(k)"
   ]
  },
  {
   "cell_type": "code",
   "execution_count": 61,
   "id": "576aaaf2-131d-428c-bee3-0a65b7ae7a69",
   "metadata": {},
   "outputs": [
    {
     "name": "stdout",
     "output_type": "stream",
     "text": [
      "[3, 4]\n"
     ]
    }
   ],
   "source": [
    "print(m)"
   ]
  },
  {
   "cell_type": "markdown",
   "id": "1aee5513-be6f-417d-b293-f15c4b3f71a1",
   "metadata": {},
   "source": [
    " # string methods"
   ]
  },
  {
   "cell_type": "code",
   "execution_count": 7,
   "id": "d0bd41d8-44f3-48af-9d3b-f9bf9f09feb5",
   "metadata": {},
   "outputs": [],
   "source": [
    "str=\"my name is chanchal\""
   ]
  },
  {
   "cell_type": "code",
   "execution_count": 8,
   "id": "1d9e4eee-846c-49c1-9384-0a009498dbcc",
   "metadata": {},
   "outputs": [
    {
     "name": "stdout",
     "output_type": "stream",
     "text": [
      "My name is chanchal\n"
     ]
    }
   ],
   "source": [
    "print(str.capitalize())"
   ]
  },
  {
   "cell_type": "code",
   "execution_count": null,
   "id": "3ed88fb1-9fda-4c1d-9d97-96bdb9b32371",
   "metadata": {},
   "outputs": [],
   "source": [
    "str=\"my name is CHANCHAL\""
   ]
  },
  {
   "cell_type": "code",
   "execution_count": 10,
   "id": "fbfbda7e-be43-458c-a0ab-e3586ab39e2c",
   "metadata": {},
   "outputs": [
    {
     "name": "stdout",
     "output_type": "stream",
     "text": [
      "my name is chanchal\n"
     ]
    }
   ],
   "source": [
    "print(str.casefold())"
   ]
  },
  {
   "cell_type": "code",
   "execution_count": 11,
   "id": "bce3a867-0be8-4833-87d4-b42b31f732db",
   "metadata": {},
   "outputs": [],
   "source": [
    "str= \"demo\""
   ]
  },
  {
   "cell_type": "code",
   "execution_count": 13,
   "id": "29436d7c-8341-43db-94a3-5529c6f9916a",
   "metadata": {},
   "outputs": [
    {
     "name": "stdout",
     "output_type": "stream",
     "text": [
      "########demo########\n"
     ]
    }
   ],
   "source": [
    "print(str.center(20,\"#\"))"
   ]
  },
  {
   "cell_type": "code",
   "execution_count": 16,
   "id": "1594a50e-3205-4a0e-aaef-346f77f5dce0",
   "metadata": {},
   "outputs": [],
   "source": [
    "str=\"this demo. this is another demo,\""
   ]
  },
  {
   "cell_type": "code",
   "execution_count": 19,
   "id": "271ca843-18be-47da-9c8b-176946d4d529",
   "metadata": {},
   "outputs": [
    {
     "name": "stdout",
     "output_type": "stream",
     "text": [
      "2\n"
     ]
    }
   ],
   "source": [
    "print(str.count(\"this\"))"
   ]
  },
  {
   "cell_type": "code",
   "execution_count": 22,
   "id": "e56ad8bc-8ba8-497a-b525-2dc728ac59e7",
   "metadata": {},
   "outputs": [
    {
     "name": "stdout",
     "output_type": "stream",
     "text": [
      "0\n"
     ]
    }
   ],
   "source": [
    "print(str.count(\"this\",1,5))"
   ]
  },
  {
   "cell_type": "code",
   "execution_count": 23,
   "id": "cbee57f3-fc64-4f8e-9e49-e73338833f11",
   "metadata": {},
   "outputs": [],
   "source": [
    "str=\"this is first text\""
   ]
  },
  {
   "cell_type": "code",
   "execution_count": 24,
   "id": "8b0d99dc-fb5c-4be3-83ae-0ba570787e41",
   "metadata": {},
   "outputs": [
    {
     "name": "stdout",
     "output_type": "stream",
     "text": [
      "14\n"
     ]
    }
   ],
   "source": [
    "print(str.find(\"text\"))"
   ]
  },
  {
   "cell_type": "code",
   "execution_count": 25,
   "id": "ac17419d-ecdc-4d19-8973-177151ff2d66",
   "metadata": {},
   "outputs": [],
   "source": [
    "str=\"this is demo text.this is demo text2\""
   ]
  },
  {
   "cell_type": "code",
   "execution_count": 27,
   "id": "27debee2-f4ac-4151-97b4-d4bba11044f8",
   "metadata": {},
   "outputs": [
    {
     "name": "stdout",
     "output_type": "stream",
     "text": [
      "True\n"
     ]
    }
   ],
   "source": [
    "print(str.endswith(\"text2\"))"
   ]
  },
  {
   "cell_type": "code",
   "execution_count": 29,
   "id": "ca7ae2b8-690a-4376-8f2c-18d0a93cd7f9",
   "metadata": {},
   "outputs": [
    {
     "name": "stdout",
     "output_type": "stream",
     "text": [
      "True\n"
     ]
    }
   ],
   "source": [
    "print(str.endswith(\"text2\",7,40))"
   ]
  },
  {
   "cell_type": "code",
   "execution_count": 30,
   "id": "5b7e8cd9-19c1-432e-8c66-8cda108a30b2",
   "metadata": {},
   "outputs": [],
   "source": [
    "str=\"D\\te\\tm\\to\\t\" # \\t is here tab"
   ]
  },
  {
   "cell_type": "code",
   "execution_count": 31,
   "id": "7191431a-610e-4c9a-a2e8-c142a9a5360a",
   "metadata": {},
   "outputs": [
    {
     "name": "stdout",
     "output_type": "stream",
     "text": [
      "D\te\tm\to\t\n"
     ]
    }
   ],
   "source": [
    "print(str)"
   ]
  },
  {
   "cell_type": "code",
   "execution_count": 34,
   "id": "71e03f47-2c31-43a7-af23-a74a1a6311e5",
   "metadata": {},
   "outputs": [
    {
     "name": "stdout",
     "output_type": "stream",
     "text": [
      "D                        e                        m                        o                        \n"
     ]
    }
   ],
   "source": [
    "print(str.expandtabs(25))"
   ]
  },
  {
   "cell_type": "code",
   "execution_count": 35,
   "id": "0fb0a2ff-05bc-4eeb-93c1-abf232fbda1a",
   "metadata": {},
   "outputs": [],
   "source": [
    "str=\"this is first text\""
   ]
  },
  {
   "cell_type": "code",
   "execution_count": 38,
   "id": "504a413f-d22e-4d4b-8a58-8e33edf849b1",
   "metadata": {},
   "outputs": [
    {
     "name": "stdout",
     "output_type": "stream",
     "text": [
      "2\n"
     ]
    }
   ],
   "source": [
    "print(str.index('i'))"
   ]
  },
  {
   "cell_type": "code",
   "execution_count": 39,
   "id": "da4daa94-f53d-45b6-9321-bf41e0c0dfaa",
   "metadata": {},
   "outputs": [
    {
     "name": "stdout",
     "output_type": "stream",
     "text": [
      "5\n"
     ]
    }
   ],
   "source": [
    "print(str.index('i',3,10))"
   ]
  },
  {
   "cell_type": "code",
   "execution_count": 40,
   "id": "5ade4272-b5a5-4994-9197-fd59d42c1b78",
   "metadata": {},
   "outputs": [],
   "source": [
    "str=(\"jamesbond007\")"
   ]
  },
  {
   "cell_type": "code",
   "execution_count": 42,
   "id": "593083d8-7e94-4250-b1c8-4afce2841c06",
   "metadata": {},
   "outputs": [
    {
     "name": "stdout",
     "output_type": "stream",
     "text": [
      "True\n"
     ]
    }
   ],
   "source": [
    "print(str.isalnum()) #this is alphanumeric string because we used alphabet and no in the string"
   ]
  },
  {
   "cell_type": "code",
   "execution_count": 51,
   "id": "4e58f4c3-7347-4a35-8a62-6ededd2832f7",
   "metadata": {},
   "outputs": [],
   "source": [
    "str=\"anish\""
   ]
  },
  {
   "cell_type": "code",
   "execution_count": 52,
   "id": "58ab9b7b-eeb2-4b01-89f6-f3370751d9f2",
   "metadata": {},
   "outputs": [
    {
     "name": "stdout",
     "output_type": "stream",
     "text": [
      "True\n"
     ]
    }
   ],
   "source": [
    "print(str.isalpha())"
   ]
  },
  {
   "cell_type": "code",
   "execution_count": 53,
   "id": "26ab8b25-7406-41f7-85d6-6690ba9a975b",
   "metadata": {},
   "outputs": [],
   "source": [
    "str=\"37\""
   ]
  },
  {
   "cell_type": "code",
   "execution_count": 54,
   "id": "c3d6902d-f8bd-4afd-b33b-bfc6d65c87a4",
   "metadata": {},
   "outputs": [
    {
     "name": "stdout",
     "output_type": "stream",
     "text": [
      "True\n"
     ]
    }
   ],
   "source": [
    "print(str.isdecimal())"
   ]
  },
  {
   "cell_type": "code",
   "execution_count": 55,
   "id": "48105b98-e19e-4043-8c4a-254d7167e39f",
   "metadata": {},
   "outputs": [],
   "source": [
    "str=\"3547\""
   ]
  },
  {
   "cell_type": "code",
   "execution_count": 56,
   "id": "9abdebe0-968f-42d4-bead-f5b241b8dd79",
   "metadata": {},
   "outputs": [
    {
     "name": "stdout",
     "output_type": "stream",
     "text": [
      "True\n"
     ]
    }
   ],
   "source": [
    "print(str.isdigit())"
   ]
  },
  {
   "cell_type": "code",
   "execution_count": 57,
   "id": "0d00c46a-5f4d-4f33-9f37-02f6934acac6",
   "metadata": {},
   "outputs": [],
   "source": [
    "str=\"demo666\""
   ]
  },
  {
   "cell_type": "code",
   "execution_count": 59,
   "id": "747d9690-8b3a-4218-9206-14c1b2dc63c7",
   "metadata": {},
   "outputs": [
    {
     "name": "stdout",
     "output_type": "stream",
     "text": [
      "True\n"
     ]
    }
   ],
   "source": [
    "print(str.isidentifier())"
   ]
  },
  {
   "cell_type": "code",
   "execution_count": 60,
   "id": "1f646598-1eb8-410f-a4f7-0474f04b55e3",
   "metadata": {},
   "outputs": [],
   "source": [
    "str=\"my name is cheeku\""
   ]
  },
  {
   "cell_type": "code",
   "execution_count": 62,
   "id": "5654349c-cfcc-4226-94b8-60452c400deb",
   "metadata": {},
   "outputs": [
    {
     "name": "stdout",
     "output_type": "stream",
     "text": [
      "True\n"
     ]
    }
   ],
   "source": [
    "print(str.islower())"
   ]
  },
  {
   "cell_type": "code",
   "execution_count": 64,
   "id": "43924ce8-828a-4946-9694-7422fce77958",
   "metadata": {},
   "outputs": [],
   "source": [
    "str=\"34667\""
   ]
  },
  {
   "cell_type": "code",
   "execution_count": 65,
   "id": "35b313d6-42d4-4930-b504-e7ab95d55b80",
   "metadata": {},
   "outputs": [
    {
     "name": "stdout",
     "output_type": "stream",
     "text": [
      "True\n"
     ]
    }
   ],
   "source": [
    "print(str.isnumeric())"
   ]
  },
  {
   "cell_type": "code",
   "execution_count": 1,
   "id": "e7e629c2-cb22-46b2-9692-be905a8ecaf8",
   "metadata": {},
   "outputs": [],
   "source": [
    "str=\"sylvester\""
   ]
  },
  {
   "cell_type": "code",
   "execution_count": 2,
   "id": "4c30f3c1-257f-4555-a797-f7338872ec30",
   "metadata": {},
   "outputs": [
    {
     "name": "stdout",
     "output_type": "stream",
     "text": [
      "True\n"
     ]
    }
   ],
   "source": [
    "print(str.isprintable())"
   ]
  },
  {
   "cell_type": "code",
   "execution_count": 3,
   "id": "ca32c95e-0327-4811-b062-e970467f0198",
   "metadata": {},
   "outputs": [],
   "source": [
    "str=\" \""
   ]
  },
  {
   "cell_type": "code",
   "execution_count": 4,
   "id": "8fa16357-66be-4705-91f8-855006d416ac",
   "metadata": {},
   "outputs": [
    {
     "name": "stdout",
     "output_type": "stream",
     "text": [
      "True\n"
     ]
    }
   ],
   "source": [
    "print(str.isspace())"
   ]
  },
  {
   "cell_type": "code",
   "execution_count": 5,
   "id": "1c613403-cdda-4847-aaf2-31b63646d5da",
   "metadata": {},
   "outputs": [],
   "source": [
    "str=\"amit\""
   ]
  },
  {
   "cell_type": "code",
   "execution_count": 6,
   "id": "aaf9b0f9-8c2c-4524-ad0d-0c9eb7d49860",
   "metadata": {},
   "outputs": [
    {
     "name": "stdout",
     "output_type": "stream",
     "text": [
      "False\n"
     ]
    }
   ],
   "source": [
    "print(str.istitle())"
   ]
  },
  {
   "cell_type": "code",
   "execution_count": 7,
   "id": "e2027e2b-1e16-4d1d-ac52-61d9a2bd593a",
   "metadata": {},
   "outputs": [],
   "source": [
    "str=\"CHANCHAL\""
   ]
  },
  {
   "cell_type": "code",
   "execution_count": 8,
   "id": "97909386-4411-46c8-ba96-0996a631afb7",
   "metadata": {},
   "outputs": [
    {
     "name": "stdout",
     "output_type": "stream",
     "text": [
      "True\n"
     ]
    }
   ],
   "source": [
    "print(str.isupper())"
   ]
  },
  {
   "cell_type": "code",
   "execution_count": 14,
   "id": "b23f94df-5bce-4712-93d5-787c87bed123",
   "metadata": {},
   "outputs": [],
   "source": [
    "str={\"frank\",\"shun\",\"tunis\"}"
   ]
  },
  {
   "cell_type": "code",
   "execution_count": 15,
   "id": "d470b8b1-1227-441a-97e4-4f8216aa8937",
   "metadata": {},
   "outputs": [
    {
     "name": "stdout",
     "output_type": "stream",
     "text": [
      "shun$$frank$$tunis\n"
     ]
    }
   ],
   "source": [
    "sep =\"$$\"\n",
    "print(sep.join(str))"
   ]
  },
  {
   "cell_type": "code",
   "execution_count": 16,
   "id": "de34afac-18b5-4230-a450-56461f5c7439",
   "metadata": {},
   "outputs": [],
   "source": [
    "str=\"the walking dead\""
   ]
  },
  {
   "cell_type": "code",
   "execution_count": 17,
   "id": "cbb00985-fb77-48ff-a074-ac2158688532",
   "metadata": {},
   "outputs": [
    {
     "name": "stdout",
     "output_type": "stream",
     "text": [
      "the walking dead\n"
     ]
    }
   ],
   "source": [
    "print(str.lower())"
   ]
  },
  {
   "cell_type": "code",
   "execution_count": 18,
   "id": "d12d1468-40e2-4883-a6d8-bdf829ea624c",
   "metadata": {},
   "outputs": [],
   "source": [
    "str=\"#####STRANGERS THINGS\""
   ]
  },
  {
   "cell_type": "code",
   "execution_count": 20,
   "id": "45261db0-4b81-4e32-b514-398d117436c5",
   "metadata": {},
   "outputs": [
    {
     "name": "stdout",
     "output_type": "stream",
     "text": [
      "STRANGERS THINGS\n"
     ]
    }
   ],
   "source": [
    "print(str.lstrip(\"#\"))"
   ]
  },
  {
   "cell_type": "code",
   "execution_count": 21,
   "id": "7be8d67a-82b7-48b6-b57f-e2a71330e38b",
   "metadata": {},
   "outputs": [],
   "source": [
    "str=\"this is demo.this is another demo\""
   ]
  },
  {
   "cell_type": "code",
   "execution_count": 23,
   "id": "1c785ff2-c142-41d7-a5a3-185c33a6bf58",
   "metadata": {},
   "outputs": [
    {
     "name": "stdout",
     "output_type": "stream",
     "text": [
      "this is text.this is another text\n"
     ]
    }
   ],
   "source": [
    "print(str.replace(\"demo\",\"text\",2))"
   ]
  },
  {
   "cell_type": "code",
   "execution_count": 24,
   "id": "66e8bc52-73e8-4907-81e7-9e726cb110f0",
   "metadata": {},
   "outputs": [],
   "source": [
    "str=\"this is our example\""
   ]
  },
  {
   "cell_type": "code",
   "execution_count": 25,
   "id": "3e0bda22-3a06-459f-b792-315f3074c097",
   "metadata": {},
   "outputs": [
    {
     "name": "stdout",
     "output_type": "stream",
     "text": [
      "this is our demo\n"
     ]
    }
   ],
   "source": [
    "print(str.replace(\"example\",\"demo\"))"
   ]
  },
  {
   "cell_type": "code",
   "execution_count": 27,
   "id": "a6fe0dad-7c49-4231-9921-21bfd73fbeb3",
   "metadata": {},
   "outputs": [],
   "source": [
    "str=\"this is demo.this is another demo\""
   ]
  },
  {
   "cell_type": "code",
   "execution_count": 35,
   "id": "889d8bb4-456a-4159-a3d4-7c10f28c8880",
   "metadata": {},
   "outputs": [
    {
     "name": "stdout",
     "output_type": "stream",
     "text": [
      "29\n"
     ]
    }
   ],
   "source": [
    "print(str.rfind(\"demo\"))"
   ]
  },
  {
   "cell_type": "code",
   "execution_count": 36,
   "id": "6cde8cb7-edbd-4cae-ae5b-8092e9377d2e",
   "metadata": {},
   "outputs": [],
   "source": [
    "str=\"this is test.this is another test\""
   ]
  },
  {
   "cell_type": "code",
   "execution_count": 37,
   "id": "94f39a9c-d725-43cb-a57a-ac9210324f4d",
   "metadata": {},
   "outputs": [
    {
     "name": "stdout",
     "output_type": "stream",
     "text": [
      "29\n"
     ]
    }
   ],
   "source": [
    "print(str.rindex(\"test\"))"
   ]
  },
  {
   "cell_type": "code",
   "execution_count": 38,
   "id": "76be2a2e-325e-4b16-a625-26f3f0d6b50c",
   "metadata": {},
   "outputs": [],
   "source": [
    "str=\"american vandal\""
   ]
  },
  {
   "cell_type": "code",
   "execution_count": 39,
   "id": "0517f711-84b2-4987-93d1-34591f40322d",
   "metadata": {},
   "outputs": [
    {
     "name": "stdout",
     "output_type": "stream",
     "text": [
      "aaaaaaaaaaamerican vandal\n"
     ]
    }
   ],
   "source": [
    "print(str.rjust(25,\"a\"))"
   ]
  },
  {
   "cell_type": "code",
   "execution_count": 40,
   "id": "a5a5b662-f0e3-4066-a11b-a9795c2aec4f",
   "metadata": {},
   "outputs": [],
   "source": [
    "str=\"football, archery,cricket,squash,hocky,volleyball\""
   ]
  },
  {
   "cell_type": "code",
   "execution_count": 41,
   "id": "6956e459-82a7-4abb-a23d-f24a42b1f1b0",
   "metadata": {},
   "outputs": [
    {
     "name": "stdout",
     "output_type": "stream",
     "text": [
      "['football, archery,cricket,squash', 'hocky', 'volleyball']\n"
     ]
    }
   ],
   "source": [
    "print(str.rsplit(\",\",2))"
   ]
  },
  {
   "cell_type": "code",
   "execution_count": 42,
   "id": "7a511d08-62ae-4529-ae33-1c339cd600be",
   "metadata": {},
   "outputs": [],
   "source": [
    "str=\"stranger things#####\""
   ]
  },
  {
   "cell_type": "code",
   "execution_count": 43,
   "id": "368e61f1-03e9-46b3-a055-248b381f5a94",
   "metadata": {},
   "outputs": [
    {
     "name": "stdout",
     "output_type": "stream",
     "text": [
      "stranger things\n"
     ]
    }
   ],
   "source": [
    "print(str.rstrip(\"#\"))"
   ]
  },
  {
   "cell_type": "code",
   "execution_count": 44,
   "id": "a1f415cf-ae73-48db-a553-1f3e7f3e9d14",
   "metadata": {},
   "outputs": [],
   "source": [
    "str=\"one$$three$$four\""
   ]
  },
  {
   "cell_type": "code",
   "execution_count": 45,
   "id": "43af8fa0-1f37-407e-9a34-1c910918f23e",
   "metadata": {},
   "outputs": [
    {
     "name": "stdout",
     "output_type": "stream",
     "text": [
      "['one', 'three$$four']\n"
     ]
    }
   ],
   "source": [
    "print(str.split(\"$$\",1))"
   ]
  },
  {
   "cell_type": "code",
   "execution_count": 46,
   "id": "84b80f40-36dc-48eb-a1ba-14f3d1dfb449",
   "metadata": {},
   "outputs": [],
   "source": [
    "str=\"one\\ntwo\\nthree\\nfour\""
   ]
  },
  {
   "cell_type": "code",
   "execution_count": 49,
   "id": "b95b1ee2-bb6b-4f0d-9d58-e5082a5453c5",
   "metadata": {},
   "outputs": [
    {
     "name": "stdout",
     "output_type": "stream",
     "text": [
      "['one', 'two', 'three', 'four']\n"
     ]
    }
   ],
   "source": [
    "print(str.splitlines())"
   ]
  },
  {
   "cell_type": "code",
   "execution_count": 50,
   "id": "2cad162e-bb4e-4906-a4cd-7794fd129e7c",
   "metadata": {},
   "outputs": [],
   "source": [
    "str=\"this is demo.this is another demo\""
   ]
  },
  {
   "cell_type": "code",
   "execution_count": 51,
   "id": "cc60cde1-589d-4a3b-946a-824771d1a9b3",
   "metadata": {},
   "outputs": [
    {
     "name": "stdout",
     "output_type": "stream",
     "text": [
      "False\n"
     ]
    }
   ],
   "source": [
    "print(str.startswith(\"other\",15,20))"
   ]
  },
  {
   "cell_type": "code",
   "execution_count": 1,
   "id": "0b621473-6e6c-4920-8fe9-3a46e02594b7",
   "metadata": {},
   "outputs": [],
   "source": [
    "str=\"this is demo.this is another demo\""
   ]
  },
  {
   "cell_type": "code",
   "execution_count": 2,
   "id": "00266bc4-6bca-48bd-93d8-ed96a3a4fd98",
   "metadata": {},
   "outputs": [
    {
     "name": "stdout",
     "output_type": "stream",
     "text": [
      "False\n"
     ]
    }
   ],
   "source": [
    "print(str.startswith(\"other\",15,20))"
   ]
  },
  {
   "cell_type": "code",
   "execution_count": 3,
   "id": "c105864e-7aaa-4468-9178-def5f032bd16",
   "metadata": {},
   "outputs": [],
   "source": [
    "str2=\"this is demo.this is another demo\""
   ]
  },
  {
   "cell_type": "code",
   "execution_count": 7,
   "id": "67ad6c11-74aa-4928-8a66-a986a4d99193",
   "metadata": {},
   "outputs": [
    {
     "name": "stdout",
     "output_type": "stream",
     "text": [
      "False\n"
     ]
    }
   ],
   "source": [
    "print(str2.startswith(\"an\",22,30))"
   ]
  },
  {
   "cell_type": "raw",
   "id": "2a923366-6856-44dd-9628-cbae4c050f68",
   "metadata": {},
   "source": [
    "str=\"this is demo.this is another demo\""
   ]
  },
  {
   "cell_type": "code",
   "execution_count": 8,
   "id": "45138082-ea10-4391-9da1-2ed45fc33715",
   "metadata": {},
   "outputs": [
    {
     "name": "stdout",
     "output_type": "stream",
     "text": [
      "THIS IS DEMO.THIS IS ANOTHER DEMO\n"
     ]
    }
   ],
   "source": [
    "print(str.swapcase())"
   ]
  },
  {
   "cell_type": "code",
   "execution_count": 9,
   "id": "aa26d6ab-932d-4dd6-a7f0-d13a388fe856",
   "metadata": {},
   "outputs": [],
   "source": [
    "str=\"my name is chanchal\""
   ]
  },
  {
   "cell_type": "code",
   "execution_count": 10,
   "id": "3ecf0f89-6740-4f8b-abdd-06e82b2f1662",
   "metadata": {},
   "outputs": [
    {
     "name": "stdout",
     "output_type": "stream",
     "text": [
      "My Name Is Chanchal\n"
     ]
    }
   ],
   "source": [
    "print(str.title())"
   ]
  },
  {
   "cell_type": "code",
   "execution_count": 16,
   "id": "24c41a84-f99d-4bfd-b80d-de9c2d9bffa6",
   "metadata": {},
   "outputs": [],
   "source": [
    "str=\"my name is chanchal\""
   ]
  },
  {
   "cell_type": "code",
   "execution_count": 17,
   "id": "a309c8b6-051d-4e38-b9bd-2d49f12697ed",
   "metadata": {},
   "outputs": [
    {
     "name": "stdout",
     "output_type": "stream",
     "text": [
      "MY NAME IS CHANCHAL\n"
     ]
    }
   ],
   "source": [
    "print(str.upper())"
   ]
  },
  {
   "cell_type": "code",
   "execution_count": 18,
   "id": "850fe719-e8f0-4898-8dbb-56af420f67d7",
   "metadata": {},
   "outputs": [],
   "source": [
    "str=\"wow!\""
   ]
  },
  {
   "cell_type": "code",
   "execution_count": 19,
   "id": "7684e963-e441-4b8e-a9aa-8c79f131cb4a",
   "metadata": {},
   "outputs": [
    {
     "name": "stdout",
     "output_type": "stream",
     "text": [
      "000wow!\n"
     ]
    }
   ],
   "source": [
    "print(str.zfill(7))"
   ]
  },
  {
   "cell_type": "code",
   "execution_count": 20,
   "id": "2e493c01-6e5f-4077-a04c-90718344fa69",
   "metadata": {},
   "outputs": [],
   "source": [
    "str=\"155.253\""
   ]
  },
  {
   "cell_type": "code",
   "execution_count": 21,
   "id": "7a7ff7f6-2e71-4520-98bf-7f671e5785e8",
   "metadata": {},
   "outputs": [
    {
     "name": "stdout",
     "output_type": "stream",
     "text": [
      "0000000155.253\n"
     ]
    }
   ],
   "source": [
    "print(str.zfill(14))"
   ]
  },
  {
   "cell_type": "code",
   "execution_count": 22,
   "id": "b8de1746-8ec0-4da1-b55d-ad48bb7e2214",
   "metadata": {},
   "outputs": [],
   "source": [
    "str=\"      10.20    \""
   ]
  },
  {
   "cell_type": "code",
   "execution_count": 23,
   "id": "d00a36ba-e098-4cb7-8dcd-fcd268ba197a",
   "metadata": {},
   "outputs": [
    {
     "name": "stdout",
     "output_type": "stream",
     "text": [
      "10.20\n"
     ]
    }
   ],
   "source": [
    "print(str.strip())"
   ]
  },
  {
   "cell_type": "code",
   "execution_count": null,
   "id": "22986ab3-6f5a-4587-ae3f-4268ae0f2e62",
   "metadata": {},
   "outputs": [],
   "source": []
  }
 ],
 "metadata": {
  "kernelspec": {
   "display_name": "Python 3 (ipykernel)",
   "language": "python",
   "name": "python3"
  },
  "language_info": {
   "codemirror_mode": {
    "name": "ipython",
    "version": 3
   },
   "file_extension": ".py",
   "mimetype": "text/x-python",
   "name": "python",
   "nbconvert_exporter": "python",
   "pygments_lexer": "ipython3",
   "version": "3.11.4"
  }
 },
 "nbformat": 4,
 "nbformat_minor": 5
}
