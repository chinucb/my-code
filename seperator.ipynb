{
 "cells": [
  {
   "cell_type": "markdown",
   "id": "d7e243dc-1b05-4760-9b1b-0a08c7e18a79",
   "metadata": {},
   "source": [
    "<b>boldtext</b>\n",
    "date-8/8/2023\n",
    "\n"
   ]
  },
  {
   "cell_type": "code",
   "execution_count": 1,
   "id": "df1260a3-7e3e-4ef4-ae07-d87ec2bd36be",
   "metadata": {},
   "outputs": [
    {
     "ename": "SyntaxError",
     "evalue": "invalid syntax (2720123760.py, line 1)",
     "output_type": "error",
     "traceback": [
      "\u001b[1;36m  Cell \u001b[1;32mIn[1], line 1\u001b[1;36m\u001b[0m\n\u001b[1;33m    <b>date-8/8/2023</b>\u001b[0m\n\u001b[1;37m    ^\u001b[0m\n\u001b[1;31mSyntaxError\u001b[0m\u001b[1;31m:\u001b[0m invalid syntax\n"
     ]
    }
   ],
   "source": [
    "<b>date-8/8/2023</b>"
   ]
  },
  {
   "cell_type": "code",
   "execution_count": 2,
   "id": "f9df31ac-07b3-4d4f-ab67-9a322b6052c6",
   "metadata": {},
   "outputs": [
    {
     "ename": "SyntaxError",
     "evalue": "invalid syntax (3228665760.py, line 1)",
     "output_type": "error",
     "traceback": [
      "\u001b[1;36m  Cell \u001b[1;32mIn[2], line 1\u001b[1;36m\u001b[0m\n\u001b[1;33m    -BOLD TEXT:--DATE-8/8/2023\u001b[0m\n\u001b[1;37m          ^\u001b[0m\n\u001b[1;31mSyntaxError\u001b[0m\u001b[1;31m:\u001b[0m invalid syntax\n"
     ]
    }
   ],
   "source": [
    "-BOLD TEXT:--DATE-8/8/2023"
   ]
  },
  {
   "cell_type": "markdown",
   "id": "a0a162fc-28e1-4362-91fe-f1b5e56d57bc",
   "metadata": {},
   "source": [
    "<b>Date-8/9/2023</b>"
   ]
  },
  {
   "cell_type": "markdown",
   "id": "8a69093e-8603-4a0e-87a4-69a42d7e881d",
   "metadata": {},
   "source": [
    "-BOLD TEXT:--DATE-8/8/2023\n"
   ]
  },
  {
   "cell_type": "code",
   "execution_count": 2,
   "id": "a219f34c-2973-4307-bd5a-51bfa63b57b9",
   "metadata": {},
   "outputs": [
    {
     "name": "stdout",
     "output_type": "stream",
     "text": [
      "hello world\n"
     ]
    }
   ],
   "source": [
    "print(\"hello world\")"
   ]
  },
  {
   "cell_type": "code",
   "execution_count": 4,
   "id": "39cffc89-a0c4-48ee-8ef8-ebecd352e97a",
   "metadata": {},
   "outputs": [
    {
     "ename": "SyntaxError",
     "evalue": "invalid syntax (2200392892.py, line 1)",
     "output_type": "error",
     "traceback": [
      "\u001b[1;36m  Cell \u001b[1;32mIn[4], line 1\u001b[1;36m\u001b[0m\n\u001b[1;33m    <i>comments\u001b[0m\n\u001b[1;37m    ^\u001b[0m\n\u001b[1;31mSyntaxError\u001b[0m\u001b[1;31m:\u001b[0m invalid syntax\n"
     ]
    }
   ],
   "source": [
    "<i>comments"
   ]
  },
  {
   "cell_type": "markdown",
   "id": "1aa9ac72-c906-438d-b0e2-7477a2f6043b",
   "metadata": {},
   "source": []
  }
 ],
 "metadata": {
  "kernelspec": {
   "display_name": "Python 3 (ipykernel)",
   "language": "python",
   "name": "python3"
  },
  "language_info": {
   "codemirror_mode": {
    "name": "ipython",
    "version": 3
   },
   "file_extension": ".py",
   "mimetype": "text/x-python",
   "name": "python",
   "nbconvert_exporter": "python",
   "pygments_lexer": "ipython3",
   "version": "3.11.4"
  }
 },
 "nbformat": 4,
 "nbformat_minor": 5
}
