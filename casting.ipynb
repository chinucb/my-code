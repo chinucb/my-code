{
 "cells": [
  {
   "cell_type": "markdown",
   "id": "fb6961af-36ba-40d7-abe2-e8f3a6eb0dbe",
   "metadata": {},
   "source": [
    "# casting is a process to convert a data type to another one"
   ]
  },
  {
   "cell_type": "code",
   "execution_count": 1,
   "id": "460640b4-1d5a-49d6-8d3a-d52b29bd082f",
   "metadata": {},
   "outputs": [],
   "source": [
    "a=10"
   ]
  },
  {
   "cell_type": "code",
   "execution_count": 3,
   "id": "afa1e376-3a1a-46d6-8f2d-7d822cf1a210",
   "metadata": {},
   "outputs": [
    {
     "name": "stdout",
     "output_type": "stream",
     "text": [
      "<class 'int'>\n"
     ]
    }
   ],
   "source": [
    "print(type(a))"
   ]
  },
  {
   "cell_type": "markdown",
   "id": "c9b651c3-9945-4159-96ef-35d8bff8e4d0",
   "metadata": {},
   "source": [
    "# conversion of integer type to float data type"
   ]
  },
  {
   "cell_type": "code",
   "execution_count": 7,
   "id": "792caee4-7188-47fb-bce9-5114669901b4",
   "metadata": {},
   "outputs": [
    {
     "name": "stdout",
     "output_type": "stream",
     "text": [
      "10.0\n",
      "<class 'float'>\n"
     ]
    }
   ],
   "source": [
    "b=float(a)\n",
    "print(b)\n",
    "print(type(b))"
   ]
  },
  {
   "cell_type": "code",
   "execution_count": 12,
   "id": "ee7439b8-af7e-4ef0-9e5c-7151a8088f0d",
   "metadata": {
    "scrolled": true
   },
   "outputs": [
    {
     "name": "stdout",
     "output_type": "stream",
     "text": [
      "10\n"
     ]
    }
   ],
   "source": [
    "print(a)"
   ]
  },
  {
   "cell_type": "markdown",
   "id": "5defae9a-22b3-426f-9072-ec8e09d05f4d",
   "metadata": {},
   "source": [
    "### conversion of integer to string"
   ]
  },
  {
   "cell_type": "code",
   "execution_count": 14,
   "id": "5f0cec3b-993c-4603-b47c-2e9dc92c289a",
   "metadata": {},
   "outputs": [
    {
     "name": "stdout",
     "output_type": "stream",
     "text": [
      "10\n"
     ]
    }
   ],
   "source": [
    "print(a)"
   ]
  },
  {
   "cell_type": "code",
   "execution_count": 16,
   "id": "2ae28f60-4d95-482b-b806-2916542b67fb",
   "metadata": {},
   "outputs": [
    {
     "name": "stdout",
     "output_type": "stream",
     "text": [
      "<class 'str'>\n"
     ]
    }
   ],
   "source": [
    "c=str(a)\n",
    "print(type(c))"
   ]
  },
  {
   "cell_type": "code",
   "execution_count": 19,
   "id": "d1c8005e-1c73-4d97-aa6b-85acf66424e1",
   "metadata": {},
   "outputs": [
    {
     "data": {
      "text/plain": [
       "'10'"
      ]
     },
     "execution_count": 19,
     "metadata": {},
     "output_type": "execute_result"
    }
   ],
   "source": [
    "(c)"
   ]
  },
  {
   "cell_type": "code",
   "execution_count": 18,
   "id": "e925f3e6-7716-436d-a753-29dfe9f828fc",
   "metadata": {},
   "outputs": [
    {
     "data": {
      "text/plain": [
       "str"
      ]
     },
     "execution_count": 18,
     "metadata": {},
     "output_type": "execute_result"
    }
   ],
   "source": [
    "type(c)"
   ]
  },
  {
   "cell_type": "code",
   "execution_count": 20,
   "id": "598d9156-a2dc-45ca-884b-82ec39628a55",
   "metadata": {},
   "outputs": [
    {
     "name": "stdout",
     "output_type": "stream",
     "text": [
      "10 <class 'int'>\n",
      "10.0 <class 'float'>\n",
      "10 <class 'str'>\n"
     ]
    }
   ],
   "source": [
    "print(a,type(a))\n",
    "print(b,type(b))\n",
    "print(c,type(c))"
   ]
  },
  {
   "cell_type": "markdown",
   "id": "8893ff08-73a0-47a0-9ede-32df77c94b2c",
   "metadata": {},
   "source": [
    "# conversion of float to int or string"
   ]
  },
  {
   "cell_type": "code",
   "execution_count": 22,
   "id": "efd6456e-acd3-4295-8e1f-454624d64acd",
   "metadata": {},
   "outputs": [
    {
     "name": "stdout",
     "output_type": "stream",
     "text": [
      "10.99 <class 'float'>\n"
     ]
    }
   ],
   "source": [
    "d=10.99\n",
    "print(d,type(d))"
   ]
  },
  {
   "cell_type": "markdown",
   "id": "066a7390-5809-4c9d-9019-35c98b0ab9d3",
   "metadata": {},
   "source": [
    "# 'let's learn casting'"
   ]
  },
  {
   "cell_type": "raw",
   "id": "4d632a7c-79ad-4d2c-8599-4d065f1b5116",
   "metadata": {},
   "source": [
    "int()\n",
    "float()\n",
    "string()\n",
    "lsit()\n",
    "tuple()\n",
    "set()\n",
    "frozenset()\n",
    "dict()\n",
    "complex()\n",
    "bool()\n"
   ]
  },
  {
   "cell_type": "code",
   "execution_count": 4,
   "id": "6f544c9c-9ffa-446b-a7ab-24398ee20562",
   "metadata": {},
   "outputs": [
    {
     "name": "stdout",
     "output_type": "stream",
     "text": [
      "<class 'int'> 10\n"
     ]
    }
   ],
   "source": [
    "a=10\n",
    "print(type(a),a)"
   ]
  },
  {
   "cell_type": "code",
   "execution_count": 5,
   "id": "b1e62117-dbea-441b-a105-2f88b777649f",
   "metadata": {},
   "outputs": [
    {
     "name": "stdout",
     "output_type": "stream",
     "text": [
      "<class 'float'> 10.09\n"
     ]
    }
   ],
   "source": [
    "b=10.09\n",
    "print(type(b),b)"
   ]
  },
  {
   "cell_type": "code",
   "execution_count": 6,
   "id": "cdcdea44-e73b-4221-b253-4db6f7fa66c4",
   "metadata": {},
   "outputs": [
    {
     "name": "stdout",
     "output_type": "stream",
     "text": [
      "<class 'str'> 10\n"
     ]
    }
   ],
   "source": [
    "c=str(a)\n",
    "print(type(c),c)"
   ]
  },
  {
   "cell_type": "code",
   "execution_count": 8,
   "id": "09d51130-18cd-4f89-9ca4-d19cebf6d8c3",
   "metadata": {},
   "outputs": [
    {
     "name": "stdout",
     "output_type": "stream",
     "text": [
      "<class 'str'> kanshi\n"
     ]
    }
   ],
   "source": [
    "d=\"kanshi\"\n",
    "print(type(d),d)"
   ]
  },
  {
   "cell_type": "code",
   "execution_count": 9,
   "id": "93df6829-1faf-4387-8ef8-f82f3e97e54e",
   "metadata": {},
   "outputs": [
    {
     "ename": "ValueError",
     "evalue": "invalid literal for int() with base 10: 'kanshi'",
     "output_type": "error",
     "traceback": [
      "\u001b[1;31m---------------------------------------------------------------------------\u001b[0m",
      "\u001b[1;31mValueError\u001b[0m                                Traceback (most recent call last)",
      "Cell \u001b[1;32mIn[9], line 1\u001b[0m\n\u001b[1;32m----> 1\u001b[0m e\u001b[38;5;241m=\u001b[39m\u001b[38;5;28;43mint\u001b[39;49m\u001b[43m(\u001b[49m\u001b[43md\u001b[49m\u001b[43m)\u001b[49m\n\u001b[0;32m      2\u001b[0m \u001b[38;5;28mprint\u001b[39m(\u001b[38;5;28mtype\u001b[39m(e),e)\n",
      "\u001b[1;31mValueError\u001b[0m: invalid literal for int() with base 10: 'kanshi'"
     ]
    }
   ],
   "source": [
    "e=int(d)\n",
    "print(type(e),e)"
   ]
  },
  {
   "cell_type": "code",
   "execution_count": 1,
   "id": "383adcaf-47ae-43a6-a5da-c88b694caeaf",
   "metadata": {},
   "outputs": [
    {
     "name": "stdout",
     "output_type": "stream",
     "text": [
      "<class 'int'> 10\n"
     ]
    }
   ],
   "source": [
    "a=10\n",
    "print(type(a),a)"
   ]
  },
  {
   "cell_type": "code",
   "execution_count": 2,
   "id": "d100c71c-14db-41a2-b539-7c1b0cd94e2b",
   "metadata": {},
   "outputs": [
    {
     "name": "stdout",
     "output_type": "stream",
     "text": [
      "<class 'float'> 10.0\n"
     ]
    }
   ],
   "source": [
    "b=float(a)\n",
    "print(type(b),b)"
   ]
  },
  {
   "cell_type": "code",
   "execution_count": 3,
   "id": "6bd207a4-1857-4c5e-a3dc-0e20b7c2c4be",
   "metadata": {},
   "outputs": [
    {
     "name": "stdout",
     "output_type": "stream",
     "text": [
      "<class 'str'> 10.0\n"
     ]
    }
   ],
   "source": [
    "c=str(b)\n",
    "print(type(c),c)"
   ]
  },
  {
   "cell_type": "markdown",
   "id": "76633460-5da8-4ed0-ad67-264c7658f158",
   "metadata": {},
   "source": [
    "# float(),int(),str()"
   ]
  },
  {
   "cell_type": "code",
   "execution_count": 4,
   "id": "497dec4e-209a-4be0-9b5e-eb067a4382fd",
   "metadata": {},
   "outputs": [
    {
     "name": "stdout",
     "output_type": "stream",
     "text": [
      "<class 'float'> 10.0\n"
     ]
    }
   ],
   "source": [
    "d=10.0\n",
    "print(type(d),d)"
   ]
  },
  {
   "cell_type": "code",
   "execution_count": 5,
   "id": "fa62c645-f84a-4128-84b1-279bfbb972ee",
   "metadata": {},
   "outputs": [
    {
     "name": "stdout",
     "output_type": "stream",
     "text": [
      "<class 'int'> 10\n"
     ]
    }
   ],
   "source": [
    "e=int(d)\n",
    "print(type(e),e)"
   ]
  },
  {
   "cell_type": "code",
   "execution_count": 6,
   "id": "2ba047f5-1023-43a1-8798-b0bfb0d9971d",
   "metadata": {},
   "outputs": [
    {
     "name": "stdout",
     "output_type": "stream",
     "text": [
      "<class 'str'> 10.0\n"
     ]
    }
   ],
   "source": [
    "f=str(d)\n",
    "print(type(f),f)"
   ]
  },
  {
   "cell_type": "markdown",
   "id": "c3c9701f-3f04-4889-b598-411ea940ec7e",
   "metadata": {},
   "source": [
    "# str(),float(),int()"
   ]
  },
  {
   "cell_type": "code",
   "execution_count": 7,
   "id": "db179f83-878d-432d-ab92-efb2188544c6",
   "metadata": {},
   "outputs": [
    {
     "name": "stdout",
     "output_type": "stream",
     "text": [
      "<class 'str'> 10\n"
     ]
    }
   ],
   "source": [
    "g=\"10\"\n",
    "print(type(g),g)"
   ]
  },
  {
   "cell_type": "code",
   "execution_count": 8,
   "id": "207b18b4-070f-429b-afbc-b951a6a97448",
   "metadata": {},
   "outputs": [
    {
     "name": "stdout",
     "output_type": "stream",
     "text": [
      "<class 'int'> 10\n"
     ]
    }
   ],
   "source": [
    "e=int(g)\n",
    "print(type(e),e)"
   ]
  },
  {
   "cell_type": "code",
   "execution_count": 9,
   "id": "42e9cbab-0fcc-4a49-953c-614211b244a4",
   "metadata": {},
   "outputs": [
    {
     "name": "stdout",
     "output_type": "stream",
     "text": [
      "<class 'float'> 10.0\n"
     ]
    }
   ],
   "source": [
    "f=float(g)\n",
    "print(type(f),f)"
   ]
  },
  {
   "cell_type": "code",
   "execution_count": 10,
   "id": "269d31a8-e580-40e8-82d9-81f24a0584ed",
   "metadata": {},
   "outputs": [],
   "source": [
    "def id(arg):\n",
    "    print(type(arg))"
   ]
  },
  {
   "cell_type": "code",
   "execution_count": 12,
   "id": "d3a8aecd-aa36-4688-a14a-7ef961f2ed01",
   "metadata": {},
   "outputs": [
    {
     "name": "stdout",
     "output_type": "stream",
     "text": [
      "<class 'str'>\n"
     ]
    }
   ],
   "source": [
    "id(g)"
   ]
  },
  {
   "cell_type": "code",
   "execution_count": 14,
   "id": "9b8eef44-9eb9-4f04-9251-35784e91b880",
   "metadata": {},
   "outputs": [
    {
     "name": "stdout",
     "output_type": "stream",
     "text": [
      "<class 'str'>\n"
     ]
    }
   ],
   "source": [
    "id(g)"
   ]
  },
  {
   "cell_type": "code",
   "execution_count": 15,
   "id": "d3dde167-4104-446a-9326-d2a886e8fab3",
   "metadata": {},
   "outputs": [],
   "source": [
    "k=\"10.09\""
   ]
  },
  {
   "cell_type": "code",
   "execution_count": 16,
   "id": "6ca6cac3-703b-453d-b7e0-a32eada01fb2",
   "metadata": {},
   "outputs": [
    {
     "ename": "ValueError",
     "evalue": "invalid literal for int() with base 10: '10.09'",
     "output_type": "error",
     "traceback": [
      "\u001b[1;31m---------------------------------------------------------------------------\u001b[0m",
      "\u001b[1;31mValueError\u001b[0m                                Traceback (most recent call last)",
      "Cell \u001b[1;32mIn[16], line 1\u001b[0m\n\u001b[1;32m----> 1\u001b[0m l\u001b[38;5;241m=\u001b[39m\u001b[38;5;28;43mint\u001b[39;49m\u001b[43m(\u001b[49m\u001b[43mk\u001b[49m\u001b[43m)\u001b[49m\n\u001b[0;32m      2\u001b[0m \u001b[38;5;28mprint\u001b[39m(\u001b[38;5;28mtype\u001b[39m(l),l)\n",
      "\u001b[1;31mValueError\u001b[0m: invalid literal for int() with base 10: '10.09'"
     ]
    }
   ],
   "source": [
    "l=int(k)\n",
    "print(type(l),l)"
   ]
  },
  {
   "cell_type": "code",
   "execution_count": 17,
   "id": "fc2d07a0-cdfa-4430-91e2-e543a6b85a84",
   "metadata": {},
   "outputs": [],
   "source": [
    "#in string  python is confused to see dot. he can't read that is it decimal value or a full stop."
   ]
  },
  {
   "cell_type": "code",
   "execution_count": 21,
   "id": "b3c932cb-31f4-4aee-8612-e83658816b72",
   "metadata": {},
   "outputs": [],
   "source": [
    "m=\"10.2\" \n"
   ]
  },
  {
   "cell_type": "code",
   "execution_count": 22,
   "id": "7c5dd8cc-fc22-4ef6-804b-0d5fdd4517c8",
   "metadata": {},
   "outputs": [
    {
     "ename": "ValueError",
     "evalue": "invalid literal for int() with base 10: '10.2'",
     "output_type": "error",
     "traceback": [
      "\u001b[1;31m---------------------------------------------------------------------------\u001b[0m",
      "\u001b[1;31mValueError\u001b[0m                                Traceback (most recent call last)",
      "Cell \u001b[1;32mIn[22], line 1\u001b[0m\n\u001b[1;32m----> 1\u001b[0m n\u001b[38;5;241m=\u001b[39m\u001b[38;5;28;43mint\u001b[39;49m\u001b[43m(\u001b[49m\u001b[43mm\u001b[49m\u001b[43m)\u001b[49m\n\u001b[0;32m      2\u001b[0m \u001b[38;5;28mprint\u001b[39m(\u001b[38;5;28mtype\u001b[39m(n),n)\n",
      "\u001b[1;31mValueError\u001b[0m: invalid literal for int() with base 10: '10.2'"
     ]
    }
   ],
   "source": [
    "n=int(m)\n",
    "print(type(n),n)"
   ]
  },
  {
   "cell_type": "code",
   "execution_count": 23,
   "id": "2444ab83-9a60-4e91-9baf-b035957ef2e3",
   "metadata": {},
   "outputs": [
    {
     "name": "stdout",
     "output_type": "stream",
     "text": [
      "<class 'float'> 10.2\n"
     ]
    }
   ],
   "source": [
    "n=float(m)\n",
    "print(type(n),n)"
   ]
  },
  {
   "cell_type": "code",
   "execution_count": 26,
   "id": "232b2f00-5f90-4ab0-8c02-138e3c376672",
   "metadata": {},
   "outputs": [
    {
     "name": "stdout",
     "output_type": "stream",
     "text": [
      "<class 'str'> k\n"
     ]
    }
   ],
   "source": [
    "o=\"k\"\n",
    "print(type(o),o)"
   ]
  },
  {
   "cell_type": "code",
   "execution_count": 27,
   "id": "26e802ae-50e9-4b9a-9fb3-bead1a2e4065",
   "metadata": {},
   "outputs": [
    {
     "ename": "ValueError",
     "evalue": "invalid literal for int() with base 10: 'k'",
     "output_type": "error",
     "traceback": [
      "\u001b[1;31m---------------------------------------------------------------------------\u001b[0m",
      "\u001b[1;31mValueError\u001b[0m                                Traceback (most recent call last)",
      "Cell \u001b[1;32mIn[27], line 1\u001b[0m\n\u001b[1;32m----> 1\u001b[0m p\u001b[38;5;241m=\u001b[39m\u001b[38;5;28;43mint\u001b[39;49m\u001b[43m(\u001b[49m\u001b[43mo\u001b[49m\u001b[43m)\u001b[49m\n\u001b[0;32m      2\u001b[0m \u001b[38;5;28mprint\u001b[39m(\u001b[38;5;28mtype\u001b[39m(p),p)\n",
      "\u001b[1;31mValueError\u001b[0m: invalid literal for int() with base 10: 'k'"
     ]
    }
   ],
   "source": [
    "p=int(o)\n",
    "print(type(p),p)"
   ]
  },
  {
   "cell_type": "code",
   "execution_count": 28,
   "id": "27f5cb1e-9b35-4377-b665-fbd735309d1c",
   "metadata": {},
   "outputs": [
    {
     "ename": "ValueError",
     "evalue": "could not convert string to float: 'k'",
     "output_type": "error",
     "traceback": [
      "\u001b[1;31m---------------------------------------------------------------------------\u001b[0m",
      "\u001b[1;31mValueError\u001b[0m                                Traceback (most recent call last)",
      "Cell \u001b[1;32mIn[28], line 1\u001b[0m\n\u001b[1;32m----> 1\u001b[0m q\u001b[38;5;241m=\u001b[39m\u001b[38;5;28;43mfloat\u001b[39;49m\u001b[43m(\u001b[49m\u001b[43mo\u001b[49m\u001b[43m)\u001b[49m\n\u001b[0;32m      2\u001b[0m \u001b[38;5;28mprint\u001b[39m(\u001b[38;5;28mtype\u001b[39m(q),q)\n",
      "\u001b[1;31mValueError\u001b[0m: could not convert string to float: 'k'"
     ]
    }
   ],
   "source": [
    "q=float(o)\n",
    "print(type(q),q)"
   ]
  },
  {
   "cell_type": "code",
   "execution_count": 30,
   "id": "48ee457e-b311-49f8-bacb-15025c3a58d3",
   "metadata": {},
   "outputs": [
    {
     "name": "stdout",
     "output_type": "stream",
     "text": [
      "<class 'str'> 10.0\n"
     ]
    }
   ],
   "source": [
    "i=\"10.0\"\n",
    "print(type(i),i)"
   ]
  },
  {
   "cell_type": "code",
   "execution_count": 31,
   "id": "692a80b8-44aa-46b5-806a-6f12206509f6",
   "metadata": {},
   "outputs": [
    {
     "ename": "ValueError",
     "evalue": "invalid literal for int() with base 10: '10.0'",
     "output_type": "error",
     "traceback": [
      "\u001b[1;31m---------------------------------------------------------------------------\u001b[0m",
      "\u001b[1;31mValueError\u001b[0m                                Traceback (most recent call last)",
      "Cell \u001b[1;32mIn[31], line 1\u001b[0m\n\u001b[1;32m----> 1\u001b[0m j\u001b[38;5;241m=\u001b[39m\u001b[38;5;28;43mint\u001b[39;49m\u001b[43m(\u001b[49m\u001b[43mi\u001b[49m\u001b[43m)\u001b[49m\n\u001b[0;32m      2\u001b[0m \u001b[38;5;28mprint\u001b[39m(\u001b[38;5;28mtype\u001b[39m(j),j)\n",
      "\u001b[1;31mValueError\u001b[0m: invalid literal for int() with base 10: '10.0'"
     ]
    }
   ],
   "source": [
    "j=int(i)\n",
    "print(type(j),j)"
   ]
  },
  {
   "cell_type": "code",
   "execution_count": 32,
   "id": "320af9b6-491e-45fd-9eda-1bcafa9baa65",
   "metadata": {},
   "outputs": [
    {
     "name": "stdout",
     "output_type": "stream",
     "text": [
      "<class 'float'> 10.0\n"
     ]
    }
   ],
   "source": [
    "u=float(i)\n",
    "print(type(u),u)"
   ]
  },
  {
   "cell_type": "markdown",
   "id": "35c9cf70-bf96-4061-bc63-5956ac73063e",
   "metadata": {},
   "source": [
    "# list(),tuple(),set(),frozenset() "
   ]
  },
  {
   "cell_type": "code",
   "execution_count": 38,
   "id": "d2442ad4-c19a-48f6-86c7-5fe54c47c26d",
   "metadata": {},
   "outputs": [
    {
     "data": {
      "text/plain": [
       "7"
      ]
     },
     "execution_count": 38,
     "metadata": {},
     "output_type": "execute_result"
    }
   ],
   "source": [
    " a=[1,2,3,4,5,6,46]\n",
    "len(a)"
   ]
  },
  {
   "cell_type": "code",
   "execution_count": 39,
   "id": "d59a9dd2-b006-4ba7-b9e4-6d767f27fcc2",
   "metadata": {},
   "outputs": [
    {
     "name": "stdout",
     "output_type": "stream",
     "text": [
      "<class 'list'> [1, 2, 3, 4, 5, 6, 46]\n"
     ]
    }
   ],
   "source": [
    "print(type(a),a)"
   ]
  },
  {
   "cell_type": "code",
   "execution_count": 41,
   "id": "43455997-0236-4c28-9cd8-6aecfa2c8ece",
   "metadata": {},
   "outputs": [
    {
     "name": "stdout",
     "output_type": "stream",
     "text": [
      "<class 'tuple'> (1, 2, 3, 4, 5, 6, 46)\n"
     ]
    }
   ],
   "source": [
    "b=tuple(a)\n",
    "print(type(b),b)"
   ]
  },
  {
   "cell_type": "code",
   "execution_count": 42,
   "id": "53894122-d14a-4b77-8d96-91088d9cbcf5",
   "metadata": {},
   "outputs": [
    {
     "name": "stdout",
     "output_type": "stream",
     "text": [
      "<class 'frozenset'> frozenset({1, 2, 3, 4, 5, 6, 46})\n"
     ]
    }
   ],
   "source": [
    " c=frozenset(a)\n",
    "print(type(c),c)"
   ]
  },
  {
   "cell_type": "code",
   "execution_count": 43,
   "id": "f8b9d6d4-82b4-47b4-9744-cd4930cdab9c",
   "metadata": {},
   "outputs": [
    {
     "name": "stdout",
     "output_type": "stream",
     "text": [
      "<class 'set'> {1, 2, 3, 4, 5, 6, 46}\n"
     ]
    }
   ],
   "source": [
    "d=set(a)\n",
    "print(type(d),d)"
   ]
  },
  {
   "cell_type": "code",
   "execution_count": 44,
   "id": "37d07be6-ddfa-4d42-acb5-8eb9d5aafb6b",
   "metadata": {},
   "outputs": [],
   "source": [
    "z=\"10.09\""
   ]
  },
  {
   "cell_type": "code",
   "execution_count": 45,
   "id": "f423e516-35ff-49eb-b10d-1be33bfd57c8",
   "metadata": {},
   "outputs": [
    {
     "name": "stdout",
     "output_type": "stream",
     "text": [
      "<class 'str'> 10.09\n"
     ]
    }
   ],
   "source": [
    "print(type(z),z)"
   ]
  },
  {
   "cell_type": "code",
   "execution_count": 47,
   "id": "c6b81721-7839-469b-bc6f-187047e5c4d7",
   "metadata": {},
   "outputs": [
    {
     "name": "stdout",
     "output_type": "stream",
     "text": [
      "<class 'float'> 10.09\n"
     ]
    }
   ],
   "source": [
    "x=float(z)\n",
    "print(type(x),x)"
   ]
  },
  {
   "cell_type": "code",
   "execution_count": 48,
   "id": "70c7c9f9-7119-4fa4-8e74-2cf49dbe251d",
   "metadata": {},
   "outputs": [
    {
     "ename": "TypeError",
     "evalue": "eval() arg 1 must be a string, bytes or code object",
     "output_type": "error",
     "traceback": [
      "\u001b[1;31m---------------------------------------------------------------------------\u001b[0m",
      "\u001b[1;31mTypeError\u001b[0m                                 Traceback (most recent call last)",
      "Cell \u001b[1;32mIn[48], line 1\u001b[0m\n\u001b[1;32m----> 1\u001b[0m s\u001b[38;5;241m=\u001b[39m\u001b[38;5;28;43meval\u001b[39;49m\u001b[43m(\u001b[49m\u001b[43mx\u001b[49m\u001b[43m)\u001b[49m\n\u001b[0;32m      2\u001b[0m \u001b[38;5;28mprint\u001b[39m(\u001b[38;5;28mtype\u001b[39m(s),s)\n",
      "\u001b[1;31mTypeError\u001b[0m: eval() arg 1 must be a string, bytes or code object"
     ]
    }
   ],
   "source": [
    "s=eval(x)\n",
    "print(type(s),s)"
   ]
  },
  {
   "cell_type": "code",
   "execution_count": 49,
   "id": "975082bd-96c5-42ff-bd9e-c990d3f311a1",
   "metadata": {},
   "outputs": [
    {
     "data": {
      "text/plain": [
       "<function eval(source, globals=None, locals=None, /)>"
      ]
     },
     "execution_count": 49,
     "metadata": {},
     "output_type": "execute_result"
    }
   ],
   "source": [
    "eval"
   ]
  },
  {
   "cell_type": "code",
   "execution_count": 50,
   "id": "9616972b-e24b-4648-bf04-ea8d9c665a4f",
   "metadata": {},
   "outputs": [],
   "source": [
    "x=\"10.09\""
   ]
  },
  {
   "cell_type": "code",
   "execution_count": 51,
   "id": "95dfe220-e458-4596-af3e-7885fdeeb360",
   "metadata": {},
   "outputs": [],
   "source": [
    "n=eval(x)"
   ]
  },
  {
   "cell_type": "code",
   "execution_count": 52,
   "id": "d2e73a43-9c46-456d-bd0f-a93e982fc82a",
   "metadata": {},
   "outputs": [
    {
     "name": "stdout",
     "output_type": "stream",
     "text": [
      "10.09 <class 'float'>\n"
     ]
    }
   ],
   "source": [
    "print(n,type(n))"
   ]
  },
  {
   "cell_type": "code",
   "execution_count": 53,
   "id": "6a0067f2-e8a2-44c3-9a59-31e33667e5dd",
   "metadata": {},
   "outputs": [
    {
     "name": "stdout",
     "output_type": "stream",
     "text": [
      "22 <class 'int'>\n"
     ]
    }
   ],
   "source": [
    "y=\"22\"\n",
    "k=eval(y)\n",
    "print(k,type(k))"
   ]
  },
  {
   "cell_type": "markdown",
   "id": "cd3cafcd-2e1e-4da5-87f7-ee3c805a0460",
   "metadata": {},
   "source": [
    "# eval() : eval() function use for converting string to float and int"
   ]
  },
  {
   "cell_type": "raw",
   "id": "148f54db-a151-4afd-9df4-517a1c20710b",
   "metadata": {},
   "source": [
    "casting on collection kind data types(list,tuple,set,frozenset)"
   ]
  },
  {
   "cell_type": "code",
   "execution_count": 55,
   "id": "c7287577-ce90-496b-9a43-8c6a2878f8cb",
   "metadata": {},
   "outputs": [],
   "source": []
  },
  {
   "cell_type": "code",
   "execution_count": 56,
   "id": "d1e9973f-a689-4f1d-a0fe-a8f53130d1b0",
   "metadata": {},
   "outputs": [
    {
     "name": "stdout",
     "output_type": "stream",
     "text": [
      "['deemon', 'arjun', 'pandav', 'simon', 'bheeshm']\n"
     ]
    }
   ],
   "source": [
    "print(a)"
   ]
  },
  {
   "cell_type": "code",
   "execution_count": 58,
   "id": "369ce1a4-e920-4e8c-9d31-a4896e0b68eb",
   "metadata": {},
   "outputs": [
    {
     "name": "stdout",
     "output_type": "stream",
     "text": [
      "['deemon', 'arjun', 'pandav', 'simon', 'bheeshm', 'ram', 'ram']\n"
     ]
    }
   ],
   "source": [
    "a.append(\"ram\")\n",
    "print(a)"
   ]
  },
  {
   "cell_type": "code",
   "execution_count": 62,
   "id": "5f3c2d0d-dd68-4b74-92fb-9917cd21ca03",
   "metadata": {},
   "outputs": [],
   "source": [
    "b=tuple(a)"
   ]
  },
  {
   "cell_type": "code",
   "execution_count": 66,
   "id": "cb78bca9-9127-4534-9bb3-91f5ec89027a",
   "metadata": {},
   "outputs": [
    {
     "ename": "AttributeError",
     "evalue": "'tuple' object has no attribute 'append'",
     "output_type": "error",
     "traceback": [
      "\u001b[1;31m---------------------------------------------------------------------------\u001b[0m",
      "\u001b[1;31mAttributeError\u001b[0m                            Traceback (most recent call last)",
      "Cell \u001b[1;32mIn[66], line 1\u001b[0m\n\u001b[1;32m----> 1\u001b[0m \u001b[43mb\u001b[49m\u001b[38;5;241;43m.\u001b[39;49m\u001b[43mappend\u001b[49m(\u001b[38;5;124m\"\u001b[39m\u001b[38;5;124mvishu\u001b[39m\u001b[38;5;124m\"\u001b[39m)\n",
      "\u001b[1;31mAttributeError\u001b[0m: 'tuple' object has no attribute 'append'"
     ]
    }
   ],
   "source": [
    "b.append(\"vishu\")"
   ]
  },
  {
   "cell_type": "code",
   "execution_count": 67,
   "id": "02c1d0d4-cda3-42f1-b265-54567353baca",
   "metadata": {},
   "outputs": [
    {
     "name": "stdout",
     "output_type": "stream",
     "text": [
      "('deemon', 'arjun', 'pandav', 'simon', 'bheeshm', 'ram', 'ram', 'vishu')\n"
     ]
    }
   ],
   "source": [
    "print(b)"
   ]
  },
  {
   "cell_type": "markdown",
   "id": "d6b5e9f4-018e-495f-b4d9-2f9b0c05cc86",
   "metadata": {},
   "source": [
    "# list to set"
   ]
  },
  {
   "cell_type": "code",
   "execution_count": 68,
   "id": "4522fc67-c8b4-4d4b-bd66-a120c1001396",
   "metadata": {},
   "outputs": [],
   "source": [
    "\n",
    "a=('deemon', 'arjun', 'pandav', 'simon', 'bheeshm', 'ram', 'ram', 'vishu')"
   ]
  },
  {
   "cell_type": "code",
   "execution_count": 69,
   "id": "6e5dbfa9-e787-4a94-9021-1e8ec24c487b",
   "metadata": {},
   "outputs": [
    {
     "name": "stdout",
     "output_type": "stream",
     "text": [
      "('deemon', 'arjun', 'pandav', 'simon', 'bheeshm', 'ram', 'ram', 'vishu')\n"
     ]
    }
   ],
   "source": [
    "print(a)"
   ]
  },
  {
   "cell_type": "code",
   "execution_count": 70,
   "id": "816ba617-65bd-4d4d-a000-69003f59d0fd",
   "metadata": {},
   "outputs": [
    {
     "data": {
      "text/plain": [
       "{'arjun', 'bheeshm', 'deemon', 'pandav', 'ram', 'simon', 'vishu'}"
      ]
     },
     "execution_count": 70,
     "metadata": {},
     "output_type": "execute_result"
    }
   ],
   "source": [
    "set(a)"
   ]
  },
  {
   "cell_type": "code",
   "execution_count": 74,
   "id": "fcaf6914-0701-48b4-a407-449c41c8c36e",
   "metadata": {},
   "outputs": [],
   "source": [
    "c=frozenset(a)"
   ]
  },
  {
   "cell_type": "code",
   "execution_count": 76,
   "id": "a1bdd13d-d421-47fe-987b-579c2ed43bc1",
   "metadata": {},
   "outputs": [
    {
     "ename": "AttributeError",
     "evalue": "'frozenset' object has no attribute 'add'",
     "output_type": "error",
     "traceback": [
      "\u001b[1;31m---------------------------------------------------------------------------\u001b[0m",
      "\u001b[1;31mAttributeError\u001b[0m                            Traceback (most recent call last)",
      "Cell \u001b[1;32mIn[76], line 1\u001b[0m\n\u001b[1;32m----> 1\u001b[0m \u001b[43mc\u001b[49m\u001b[38;5;241;43m.\u001b[39;49m\u001b[43madd\u001b[49m(\u001b[38;5;124m\"\u001b[39m\u001b[38;5;124mkalini\u001b[39m\u001b[38;5;124m\"\u001b[39m)\n",
      "\u001b[1;31mAttributeError\u001b[0m: 'frozenset' object has no attribute 'add'"
     ]
    }
   ],
   "source": [
    "c.add(\"kalini\")"
   ]
  },
  {
   "cell_type": "markdown",
   "id": "c43a3b49-a55d-4945-9166-83632ad7fca4",
   "metadata": {},
   "source": [
    "# converting one type value to another type value is called type casting/type conversion"
   ]
  },
  {
   "cell_type": "code",
   "execution_count": 5,
   "id": "d523d1f1-e07b-4633-bf43-ce0cada99fc7",
   "metadata": {},
   "outputs": [
    {
     "data": {
      "text/plain": [
       "(float, 25.6)"
      ]
     },
     "execution_count": 5,
     "metadata": {},
     "output_type": "execute_result"
    }
   ],
   "source": [
    "a=25.6\n",
    "(type(a),a)"
   ]
  },
  {
   "cell_type": "code",
   "execution_count": 6,
   "id": "f9674e0d-d18d-44fc-8f7b-551052e4e79d",
   "metadata": {},
   "outputs": [
    {
     "name": "stdout",
     "output_type": "stream",
     "text": [
      "<class 'int'> 25\n"
     ]
    }
   ],
   "source": [
    "b=int(a)\n",
    "print(type(b),b)"
   ]
  },
  {
   "cell_type": "code",
   "execution_count": 8,
   "id": "78604e10-d555-4d55-901b-889c71d54fa4",
   "metadata": {},
   "outputs": [
    {
     "name": "stdout",
     "output_type": "stream",
     "text": [
      "<class 'str'> 25.6\n"
     ]
    }
   ],
   "source": [
    "c=str(a)\n",
    "print(type(c),c)"
   ]
  },
  {
   "cell_type": "code",
   "execution_count": 1,
   "id": "0c09a505-5f7b-4eeb-8028-1e848adb1bfa",
   "metadata": {},
   "outputs": [],
   "source": [
    "j=\"10.0\""
   ]
  },
  {
   "cell_type": "code",
   "execution_count": 2,
   "id": "01453d8d-5132-42f0-8fb5-655ea332f2ad",
   "metadata": {},
   "outputs": [
    {
     "name": "stdout",
     "output_type": "stream",
     "text": [
      "<class 'float'> 10.0\n"
     ]
    }
   ],
   "source": [
    "k=float(j)\n",
    "print(type(k),k)"
   ]
  },
  {
   "cell_type": "code",
   "execution_count": 4,
   "id": "588becd7-c565-42d9-a70a-edddba2c0f4a",
   "metadata": {},
   "outputs": [
    {
     "name": "stdout",
     "output_type": "stream",
     "text": [
      "<class 'int'> 10\n"
     ]
    }
   ],
   "source": [
    "n=int(k)\n",
    "print(type(n),n)"
   ]
  },
  {
   "cell_type": "code",
   "execution_count": 5,
   "id": "ac415f6b-6735-4ae3-9429-1be6748ebcf9",
   "metadata": {},
   "outputs": [
    {
     "data": {
      "text/plain": [
       "10"
      ]
     },
     "execution_count": 5,
     "metadata": {},
     "output_type": "execute_result"
    }
   ],
   "source": [
    "int(float(j))"
   ]
  },
  {
   "cell_type": "code",
   "execution_count": 6,
   "id": "fa41163b-be08-4780-80f3-277090047b1d",
   "metadata": {},
   "outputs": [
    {
     "data": {
      "text/plain": [
       "10.0"
      ]
     },
     "execution_count": 6,
     "metadata": {},
     "output_type": "execute_result"
    }
   ],
   "source": [
    "float(int(n))"
   ]
  },
  {
   "cell_type": "code",
   "execution_count": 12,
   "id": "fd1edeb8-c4be-4c54-862f-45a4280c0285",
   "metadata": {},
   "outputs": [
    {
     "data": {
      "text/plain": [
       "10.0"
      ]
     },
     "execution_count": 12,
     "metadata": {},
     "output_type": "execute_result"
    }
   ],
   "source": [
    "eval(j)"
   ]
  },
  {
   "cell_type": "code",
   "execution_count": 13,
   "id": "e2fad25f-b61d-427a-bfd5-e06d41d159e4",
   "metadata": {},
   "outputs": [
    {
     "data": {
      "text/plain": [
       "10.0"
      ]
     },
     "execution_count": 13,
     "metadata": {},
     "output_type": "execute_result"
    }
   ],
   "source": [
    "eval(j)"
   ]
  },
  {
   "cell_type": "code",
   "execution_count": 14,
   "id": "7d78261a-5cc2-408c-8277-516fcd817c58",
   "metadata": {},
   "outputs": [],
   "source": [
    "z=\"10.09\""
   ]
  },
  {
   "cell_type": "code",
   "execution_count": 16,
   "id": "82b982e9-d248-44bb-b2ee-2e4af1af2ed6",
   "metadata": {},
   "outputs": [
    {
     "name": "stdout",
     "output_type": "stream",
     "text": [
      "<class 'float'> 10.09\n"
     ]
    }
   ],
   "source": [
    "n=eval(z)\n",
    "print(type(n),n)"
   ]
  },
  {
   "cell_type": "code",
   "execution_count": 17,
   "id": "7b6f8050-ef71-4282-8f0d-8b2ac20662c6",
   "metadata": {},
   "outputs": [],
   "source": [
    "y=\"22\""
   ]
  },
  {
   "cell_type": "code",
   "execution_count": 19,
   "id": "5b8e47d2-7513-449b-8b9f-981b78aecd25",
   "metadata": {},
   "outputs": [
    {
     "name": "stdout",
     "output_type": "stream",
     "text": [
      "<class 'int'> 22\n"
     ]
    }
   ],
   "source": [
    "o=eval(y)\n",
    "print(type(o),o)"
   ]
  },
  {
   "cell_type": "raw",
   "id": "6cd66bb8-4b7c-4f48-8a75-620e20f6793b",
   "metadata": {},
   "source": [
    "# eval() function use for conversion of string into float & int both if string have int value it will convert into int or if a string have flaot value it will convert into float"
   ]
  },
  {
   "cell_type": "markdown",
   "id": "b33a5341-05bd-446f-8261-1d97b83ce20d",
   "metadata": {},
   "source": [
    " # casting on collection kind data type(list,tuple,set,frozenset)"
   ]
  },
  {
   "cell_type": "code",
   "execution_count": 23,
   "id": "ce60c318-1330-491c-8ed7-a90b0b8ffa08",
   "metadata": {},
   "outputs": [
    {
     "name": "stdout",
     "output_type": "stream",
     "text": [
      "['krushna', 'nakul', 'sahdev', 'bheem', 'yudhistar', 'arjun']\n"
     ]
    }
   ],
   "source": [
    "a=[\"krushna\",\"nakul\",\"sahdev\",\"bheem\",\"yudhistar\",\"arjun\"]\n",
    "print(a)"
   ]
  },
  {
   "cell_type": "code",
   "execution_count": 26,
   "id": "8111a19d-7d1e-4e8e-ad7e-1f78cdb730d7",
   "metadata": {},
   "outputs": [
    {
     "name": "stdout",
     "output_type": "stream",
     "text": [
      "['krushna', 'nakul', 'sahdev', 'bheem', 'yudhistar', 'arjun', 'abhimanyu', 'abhimanyu']\n"
     ]
    }
   ],
   "source": [
    "a.append(\"abhimanyu\")\n",
    "print(a)"
   ]
  },
  {
   "cell_type": "code",
   "execution_count": 27,
   "id": "7248126d-3fab-454d-a766-d9d5458b6cee",
   "metadata": {},
   "outputs": [
    {
     "name": "stdout",
     "output_type": "stream",
     "text": [
      "('krushna', 'nakul', 'sahdev', 'bheem', 'yudhistar', 'arjun', 'abhimanyu', 'abhimanyu')\n"
     ]
    }
   ],
   "source": [
    "b=tuple(a)\n",
    "print(b)"
   ]
  },
  {
   "cell_type": "code",
   "execution_count": 28,
   "id": "46ae6eb4-b6e9-4bfa-b155-fbdd1a077ead",
   "metadata": {},
   "outputs": [
    {
     "name": "stdout",
     "output_type": "stream",
     "text": [
      "{'krushna', 'bheem', 'yudhistar', 'nakul', 'arjun', 'sahdev', 'abhimanyu'}\n"
     ]
    }
   ],
   "source": [
    "c=set(b)\n",
    "print(c)"
   ]
  },
  {
   "cell_type": "code",
   "execution_count": 30,
   "id": "ff4ed2ba-5b7f-4d66-bd35-245015b98447",
   "metadata": {},
   "outputs": [
    {
     "name": "stdout",
     "output_type": "stream",
     "text": [
      "frozenset({'nakul', 'krushna', 'abhimanyu', 'arjun', 'sahdev', 'bheem', 'yudhistar'})\n"
     ]
    }
   ],
   "source": [
    "d=frozenset(c)\n",
    "print(d)"
   ]
  },
  {
   "cell_type": "code",
   "execution_count": 32,
   "id": "84d260c1-5136-43be-a48e-a575b37362cb",
   "metadata": {},
   "outputs": [
    {
     "name": "stdout",
     "output_type": "stream",
     "text": [
      "{1, 'krushna', 'bheem', 'yudhistar', 'nakul', 'arjun', 'sahdev', 'abhimanyu'}\n"
     ]
    }
   ],
   "source": [
    "c.add(1)\n",
    "print(c)"
   ]
  },
  {
   "cell_type": "markdown",
   "id": "fd336bf7-e38f-491f-9480-bc4623d07360",
   "metadata": {},
   "source": [
    "# list to frozenset"
   ]
  },
  {
   "cell_type": "code",
   "execution_count": 33,
   "id": "a42870fb-cf53-4d11-980f-f3887c1a094d",
   "metadata": {},
   "outputs": [
    {
     "name": "stdout",
     "output_type": "stream",
     "text": [
      "['krushna', 'nakul', 'sahdev', 'bheem', 'yudhistar', 'arjun']\n"
     ]
    }
   ],
   "source": [
    "a=[\"krushna\",\"nakul\",\"sahdev\",\"bheem\",\"yudhistar\",\"arjun\"]\n",
    "print(a)"
   ]
  },
  {
   "cell_type": "code",
   "execution_count": 34,
   "id": "62663765-d488-4708-9b96-430b6886e137",
   "metadata": {},
   "outputs": [],
   "source": [
    "a.append(\"arjun\")"
   ]
  },
  {
   "cell_type": "code",
   "execution_count": 36,
   "id": "cc6aa160-3400-47eb-9f34-d05cae1cb365",
   "metadata": {},
   "outputs": [
    {
     "name": "stdout",
     "output_type": "stream",
     "text": [
      "['krushna', 'nakul', 'sahdev', 'bheem', 'yudhistar', 'arjun', 'arjun']\n"
     ]
    }
   ],
   "source": [
    "b=frozenset(a)\n",
    "print(a)"
   ]
  },
  {
   "cell_type": "markdown",
   "id": "e1d82a1a-ba3f-4cb2-ada8-138bbdca8df7",
   "metadata": {},
   "source": [
    "# tuple to list,frozenset,set"
   ]
  },
  {
   "cell_type": "code",
   "execution_count": 38,
   "id": "5a358260-7d3b-4bad-8c2b-4ea22baaf8fa",
   "metadata": {},
   "outputs": [
    {
     "name": "stdout",
     "output_type": "stream",
     "text": [
      "<class 'tuple'> ('krushna', 'nakul', 'sahdev', 'bheem', 'yudhistar', 'arjun')\n"
     ]
    }
   ],
   "source": [
    "a=(\"krushna\",\"nakul\",\"sahdev\",\"bheem\",\"yudhistar\",\"arjun\")\n",
    "print(type(a),a)"
   ]
  },
  {
   "cell_type": "code",
   "execution_count": 39,
   "id": "80a887cc-ce14-4c86-ad24-76c6c4d28a4a",
   "metadata": {},
   "outputs": [],
   "source": [
    "# to list"
   ]
  },
  {
   "cell_type": "code",
   "execution_count": 40,
   "id": "5fb68ab3-ee45-49ea-bbc6-6ca7f2c5dbd8",
   "metadata": {},
   "outputs": [
    {
     "name": "stdout",
     "output_type": "stream",
     "text": [
      "['krushna', 'nakul', 'sahdev', 'bheem', 'yudhistar', 'arjun']\n"
     ]
    }
   ],
   "source": [
    "b=list(a)\n",
    "print(b)"
   ]
  },
  {
   "cell_type": "code",
   "execution_count": 41,
   "id": "f86fba96-8557-47c2-bda9-f55d3b32c725",
   "metadata": {},
   "outputs": [
    {
     "name": "stdout",
     "output_type": "stream",
     "text": [
      "['krushna', 'nakul', 'sahdev', 'bheem', 'yudhistar', 'arjun', 'bhaiya ji']\n"
     ]
    }
   ],
   "source": [
    "b.append(\"bhaiya ji\")\n",
    "print(b)"
   ]
  },
  {
   "cell_type": "code",
   "execution_count": 42,
   "id": "907b4d66-da42-4284-9628-8a85c46f04a3",
   "metadata": {},
   "outputs": [
    {
     "name": "stdout",
     "output_type": "stream",
     "text": [
      "('krushna', 'nakul', 'sahdev', 'bheem', 'yudhistar', 'arjun', 'bhaiya ji')\n"
     ]
    }
   ],
   "source": [
    "c=tuple(b)\n",
    "print(c)"
   ]
  },
  {
   "cell_type": "code",
   "execution_count": 43,
   "id": "31109bee-1454-4b6f-a408-9807b4a5e8e8",
   "metadata": {},
   "outputs": [],
   "source": [
    "# frozenset"
   ]
  },
  {
   "cell_type": "code",
   "execution_count": 44,
   "id": "215bc750-8983-41c5-bbe7-94b4beb90872",
   "metadata": {},
   "outputs": [
    {
     "name": "stdout",
     "output_type": "stream",
     "text": [
      "('krushna', 'nakul', 'sahdev', 'bheem', 'yudhistar', 'arjun')\n"
     ]
    }
   ],
   "source": [
    "set(a)\n",
    "print(a)"
   ]
  },
  {
   "cell_type": "code",
   "execution_count": 45,
   "id": "212878e6-7c56-4f2b-8481-42071297a4f5",
   "metadata": {},
   "outputs": [
    {
     "data": {
      "text/plain": [
       "frozenset({'arjun', 'bheem', 'krushna', 'nakul', 'sahdev', 'yudhistar'})"
      ]
     },
     "execution_count": 45,
     "metadata": {},
     "output_type": "execute_result"
    }
   ],
   "source": [
    "frozenset(a)"
   ]
  },
  {
   "cell_type": "code",
   "execution_count": 46,
   "id": "15fbfdd5-4bd7-4fc9-9c58-931dc58a8b0c",
   "metadata": {},
   "outputs": [],
   "source": [
    "# frozenset to list tuple and set"
   ]
  },
  {
   "cell_type": "code",
   "execution_count": 47,
   "id": "e6d504ed-1e24-4605-9de9-ceb1bb570725",
   "metadata": {},
   "outputs": [
    {
     "name": "stdout",
     "output_type": "stream",
     "text": [
      "<class 'int'> 10\n"
     ]
    }
   ],
   "source": [
    "a=10\n",
    "print(type(a),a)"
   ]
  },
  {
   "cell_type": "code",
   "execution_count": 50,
   "id": "05b4c11e-e6bd-48d9-95a2-ea59d891ebc5",
   "metadata": {},
   "outputs": [
    {
     "name": "stdout",
     "output_type": "stream",
     "text": [
      "(10+0j)\n"
     ]
    }
   ],
   "source": [
    "b=complex(a)\n",
    "print(b)"
   ]
  },
  {
   "cell_type": "code",
   "execution_count": 55,
   "id": "a9df50f3-1d57-4ffa-80b4-cbc21c46ff2f",
   "metadata": {},
   "outputs": [
    {
     "name": "stdout",
     "output_type": "stream",
     "text": [
      "<class 'str'> (10+0j)\n"
     ]
    }
   ],
   "source": [
    "c=str(b)\n",
    "print(type(c),c)"
   ]
  },
  {
   "cell_type": "markdown",
   "id": "5ca38a1c-0951-43b2-91c4-36d330d1aae0",
   "metadata": {},
   "source": [
    "# revision"
   ]
  },
  {
   "cell_type": "raw",
   "id": "c9ae1dce-738f-491f-b901-d1b764a25e8e",
   "metadata": {},
   "source": [
    "casting:-type casting is the method to convert the pythonvariable datatype into a certain data type in order to perform the reuired operation by user"
   ]
  },
  {
   "cell_type": "code",
   "execution_count": 5,
   "id": "1e64bbc6-79df-41b6-af59-6607bccead6f",
   "metadata": {},
   "outputs": [
    {
     "name": "stdin",
     "output_type": "stream",
     "text": [
      "enter the value1: 10\n",
      "enter the value2: 20\n"
     ]
    },
    {
     "name": "stdout",
     "output_type": "stream",
     "text": [
      "1020\n"
     ]
    }
   ],
   "source": [
    "a=input(\"enter the value1:\")\n",
    "b=input(\"enter the value2:\")\n",
    "print(a+b) # this in concatination when we run this cell\n"
   ]
  },
  {
   "cell_type": "markdown",
   "id": "58a78e1d-4d20-4745-b951-842cd2162b7a",
   "metadata": {},
   "source": [
    "# type casting int,float,eval()"
   ]
  },
  {
   "cell_type": "code",
   "execution_count": 8,
   "id": "65d6adb7-1d65-4f91-8ded-7d9d0b45dd82",
   "metadata": {},
   "outputs": [
    {
     "name": "stdin",
     "output_type": "stream",
     "text": [
      "enter the value1: 10\n",
      "enter the value2: 20\n"
     ]
    },
    {
     "name": "stdout",
     "output_type": "stream",
     "text": [
      "30\n"
     ]
    }
   ],
   "source": [
    "a=int(input(\"enter the value1:\"))\n",
    "b=int(input(\"enter the value2:\"))\n",
    "print(a+b) #now it is giving me answer in addition"
   ]
  },
  {
   "cell_type": "code",
   "execution_count": 9,
   "id": "e8042cd4-6180-4d46-8213-76f83f18f4ba",
   "metadata": {},
   "outputs": [
    {
     "name": "stdin",
     "output_type": "stream",
     "text": [
      "enter the value1: 10.25\n"
     ]
    },
    {
     "ename": "ValueError",
     "evalue": "invalid literal for int() with base 10: '10.25'",
     "output_type": "error",
     "traceback": [
      "\u001b[1;31m---------------------------------------------------------------------------\u001b[0m",
      "\u001b[1;31mValueError\u001b[0m                                Traceback (most recent call last)",
      "Cell \u001b[1;32mIn[9], line 1\u001b[0m\n\u001b[1;32m----> 1\u001b[0m a\u001b[38;5;241m=\u001b[39m\u001b[38;5;28;43mint\u001b[39;49m\u001b[43m(\u001b[49m\u001b[38;5;28;43minput\u001b[39;49m\u001b[43m(\u001b[49m\u001b[38;5;124;43m\"\u001b[39;49m\u001b[38;5;124;43menter the value1:\u001b[39;49m\u001b[38;5;124;43m\"\u001b[39;49m\u001b[43m)\u001b[49m\u001b[43m)\u001b[49m\n\u001b[0;32m      2\u001b[0m b\u001b[38;5;241m=\u001b[39m\u001b[38;5;28mint\u001b[39m(\u001b[38;5;28minput\u001b[39m(\u001b[38;5;124m\"\u001b[39m\u001b[38;5;124menter the value2:\u001b[39m\u001b[38;5;124m\"\u001b[39m))\n\u001b[0;32m      3\u001b[0m \u001b[38;5;28mprint\u001b[39m(a\u001b[38;5;241m+\u001b[39mb) \u001b[38;5;66;03m#now it is giving me answer in addition\u001b[39;00m\n",
      "\u001b[1;31mValueError\u001b[0m: invalid literal for int() with base 10: '10.25'"
     ]
    }
   ],
   "source": [
    "a=int(input(\"enter the value1:\"))\n",
    "b=int(input(\"enter the value2:\"))\n",
    "print(a+b) #now it is giving me answer in addition"
   ]
  },
  {
   "cell_type": "code",
   "execution_count": 17,
   "id": "93d384e0-45e2-45de-9664-f4dfa0f85d53",
   "metadata": {},
   "outputs": [
    {
     "name": "stdin",
     "output_type": "stream",
     "text": [
      "enter the value1: 1098908.343\n",
      "enter the value2: 12443.423\n"
     ]
    },
    {
     "name": "stdout",
     "output_type": "stream",
     "text": [
      "1111351.766\n"
     ]
    }
   ],
   "source": [
    "a=float(input(\"enter the value1:\"))\n",
    "b=float(input(\"enter the value2:\"))\n",
    "print(a+b) #now it is giving me answer in addition"
   ]
  },
  {
   "cell_type": "code",
   "execution_count": 16,
   "id": "f2c45f80-84f0-4635-bb00-94e9668fe238",
   "metadata": {},
   "outputs": [
    {
     "name": "stdin",
     "output_type": "stream",
     "text": [
      "wnter 1st digit: 10.25\n",
      "enter 2nd digit: 10.36\n"
     ]
    },
    {
     "name": "stdout",
     "output_type": "stream",
     "text": [
      "20.61\n"
     ]
    }
   ],
   "source": [
    "c=float(input(\"wnter 1st digit:\"))\n",
    "d=float(input(\"enter 2nd digit:\"))\n",
    "print(c+d)"
   ]
  },
  {
   "cell_type": "code",
   "execution_count": 19,
   "id": "0e583ec0-0aae-48f0-9285-5cb3cba43a2d",
   "metadata": {},
   "outputs": [
    {
     "name": "stdin",
     "output_type": "stream",
     "text": [
      "wnter 1st digit: 6864387\n",
      "enter 2nd digit: 65238768\n"
     ]
    },
    {
     "name": "stdout",
     "output_type": "stream",
     "text": [
      "-58374381\n"
     ]
    }
   ],
   "source": [
    "c=eval(input(\"wnter 1st digit:\"))\n",
    "d=eval(input(\"enter 2nd digit:\"))\n",
    "print(c-d)"
   ]
  },
  {
   "cell_type": "code",
   "execution_count": 21,
   "id": "a406cd1d-db3c-4bda-82d5-4d97c28fb67d",
   "metadata": {},
   "outputs": [
    {
     "name": "stdin",
     "output_type": "stream",
     "text": [
      "enter 1st digit: 253555\n",
      "enter 2nd digit: 25667\n"
     ]
    },
    {
     "name": "stdout",
     "output_type": "stream",
     "text": [
      "227888 279222 6507996185 9.878637939767016\n"
     ]
    }
   ],
   "source": [
    "c=eval(input(\"enter 1st digit:\"))\n",
    "d=eval(input(\"enter 2nd digit:\"))\n",
    "print(c-d,c+d,c*d,c/d)"
   ]
  },
  {
   "cell_type": "code",
   "execution_count": 22,
   "id": "8f7f0a70-7ce2-4881-a141-689d0b0a724b",
   "metadata": {},
   "outputs": [
    {
     "data": {
      "text/plain": [
       "'0b111001000000111111'"
      ]
     },
     "execution_count": 22,
     "metadata": {},
     "output_type": "execute_result"
    }
   ],
   "source": [
    "bin(233535)"
   ]
  },
  {
   "cell_type": "code",
   "execution_count": 24,
   "id": "bbcb5c95-9ee6-48d2-88e0-f17b59406c51",
   "metadata": {},
   "outputs": [
    {
     "name": "stdin",
     "output_type": "stream",
     "text": [
      "enter 1st digit: '0b111001000000111111'\n",
      "enter 2nd digit: '0b111001000000111111'\n"
     ]
    },
    {
     "ename": "TypeError",
     "evalue": "unsupported operand type(s) for -: 'str' and 'str'",
     "output_type": "error",
     "traceback": [
      "\u001b[1;31m---------------------------------------------------------------------------\u001b[0m",
      "\u001b[1;31mTypeError\u001b[0m                                 Traceback (most recent call last)",
      "Cell \u001b[1;32mIn[24], line 3\u001b[0m\n\u001b[0;32m      1\u001b[0m c\u001b[38;5;241m=\u001b[39m\u001b[38;5;28meval\u001b[39m(\u001b[38;5;28minput\u001b[39m(\u001b[38;5;124m\"\u001b[39m\u001b[38;5;124menter 1st digit:\u001b[39m\u001b[38;5;124m\"\u001b[39m))\n\u001b[0;32m      2\u001b[0m d\u001b[38;5;241m=\u001b[39m\u001b[38;5;28meval\u001b[39m(\u001b[38;5;28minput\u001b[39m(\u001b[38;5;124m\"\u001b[39m\u001b[38;5;124menter 2nd digit:\u001b[39m\u001b[38;5;124m\"\u001b[39m))\n\u001b[1;32m----> 3\u001b[0m \u001b[38;5;28mprint\u001b[39m(\u001b[43mc\u001b[49m\u001b[38;5;241;43m-\u001b[39;49m\u001b[43md\u001b[49m,c\u001b[38;5;241m+\u001b[39md,c\u001b[38;5;241m*\u001b[39md,c\u001b[38;5;241m/\u001b[39md)\n",
      "\u001b[1;31mTypeError\u001b[0m: unsupported operand type(s) for -: 'str' and 'str'"
     ]
    }
   ],
   "source": [
    "c=eval(input(\"enter 1st digit:\"))\n",
    "d=eval(input(\"enter 2nd digit:\"))\n",
    "print(c-d,c+d,c*d,c/d)"
   ]
  },
  {
   "cell_type": "code",
   "execution_count": 25,
   "id": "045e10aa-0c59-4881-8a43-c3d6a9a7f496",
   "metadata": {},
   "outputs": [
    {
     "name": "stdin",
     "output_type": "stream",
     "text": [
      "enter 1st digit: 0b11100100000011111\n",
      "enter 2nd digit: 0b111001000000111111\n"
     ]
    },
    {
     "name": "stdout",
     "output_type": "stream",
     "text": [
      "-116768 350302 27269181345 0.4999978589932986\n"
     ]
    }
   ],
   "source": [
    "c=eval(input(\"enter 1st digit:\"))\n",
    "d=eval(input(\"enter 2nd digit:\"))\n",
    "print(c-d,c+d,c*d,c/d)"
   ]
  },
  {
   "cell_type": "code",
   "execution_count": 29,
   "id": "745a8668-4527-4f74-b9d0-f7d885a034bd",
   "metadata": {},
   "outputs": [
    {
     "name": "stdout",
     "output_type": "stream",
     "text": [
      "type of a= <class 'int'>\n",
      "type of b= <class 'float'>\n",
      "type of c= <class 'float'>\n",
      "sum= 16.25\n"
     ]
    }
   ],
   "source": [
    "a=6\n",
    "print('type of a=',type(a))\n",
    "b=10.25\n",
    "print('type of b=',type(b))\n",
    "c=a+b\n",
    "print('type of c=',type(c))\n",
    "\n",
    "print('sum=',c)"
   ]
  },
  {
   "cell_type": "markdown",
   "id": "97bef95f-edd6-4a33-b43b-057c77f64f64",
   "metadata": {},
   "source": [
    "# boolean,int,float,string type casting"
   ]
  },
  {
   "cell_type": "code",
   "execution_count": 32,
   "id": "3d51826b-b5a2-49f7-a8a4-19d91d163dcd",
   "metadata": {},
   "outputs": [
    {
     "name": "stdout",
     "output_type": "stream",
     "text": [
      "type of a= <class 'bool'>\n",
      "type of b= <class 'float'>\n",
      "type of c= <class 'float'>\n",
      "sum= 11.25\n"
     ]
    }
   ],
   "source": [
    "a=True\n",
    "print('type of a=',type(a))\n",
    "b=10.25\n",
    "print('type of b=',type(b))\n",
    "c=a+b\n",
    "print('type of c=',type(c))\n",
    "\n",
    "print('sum=',c)"
   ]
  },
  {
   "cell_type": "code",
   "execution_count": 33,
   "id": "ab075eb2-8358-4fec-b466-a9940eb9519e",
   "metadata": {},
   "outputs": [
    {
     "name": "stdout",
     "output_type": "stream",
     "text": [
      "type of a= <class 'bool'>\n",
      "type of b= <class 'float'>\n",
      "type of c= <class 'float'>\n",
      "sum= 10.25\n"
     ]
    }
   ],
   "source": [
    "a=False\n",
    "print('type of a=',type(a))\n",
    "b=10.25\n",
    "print('type of b=',type(b))\n",
    "c=a+b\n",
    "print('type of c=',type(c))\n",
    "\n",
    "print('sum=',c)"
   ]
  },
  {
   "cell_type": "markdown",
   "id": "b65bfeef-b1b8-40db-9707-2b21dfd40cdd",
   "metadata": {},
   "source": [
    "# user defining type casting"
   ]
  },
  {
   "cell_type": "code",
   "execution_count": 34,
   "id": "6d8ebefc-6a7d-46a1-a3c3-9cbf8c6a6bbb",
   "metadata": {},
   "outputs": [
    {
     "name": "stdout",
     "output_type": "stream",
     "text": [
      "8\n"
     ]
    }
   ],
   "source": [
    "a=6\n",
    "b=int(2.5)\n",
    "print(a+b)"
   ]
  },
  {
   "cell_type": "code",
   "execution_count": 39,
   "id": "ecaf11f6-f7c7-43d8-9a26-9de246fb2f13",
   "metadata": {},
   "outputs": [
    {
     "name": "stdout",
     "output_type": "stream",
     "text": [
      "12.5\n"
     ]
    }
   ],
   "source": [
    "a=2.5\n",
    "b=float(10)\n",
    "print(a+b)\n"
   ]
  },
  {
   "cell_type": "code",
   "execution_count": 8,
   "id": "e5ebcc09-2829-47ce-9bda-c24604b59142",
   "metadata": {},
   "outputs": [
    {
     "name": "stdout",
     "output_type": "stream",
     "text": [
      "<class 'int'>\n",
      "<class 'float'>\n",
      "<class 'float'>\n"
     ]
    }
   ],
   "source": [
    "a=3\n",
    "print(type(a))\n",
    "b=float(a)\n",
    "print(type(b))\n",
    "c=(a+b)\n",
    "print(type(c))"
   ]
  },
  {
   "cell_type": "markdown",
   "id": "c23d3365-44f2-4b10-b217-574f9c3d93f2",
   "metadata": {},
   "source": [
    "# questions on type casting"
   ]
  },
  {
   "cell_type": "code",
   "execution_count": 11,
   "id": "11d30257-a185-4bcf-8753-b6df7fb5f240",
   "metadata": {},
   "outputs": [],
   "source": [
    "# int := type casting in int(bool,float,string,complexinto int)"
   ]
  },
  {
   "cell_type": "code",
   "execution_count": 12,
   "id": "6b680e6b-7429-4956-9f60-e48d1b87dde0",
   "metadata": {},
   "outputs": [
    {
     "name": "stdout",
     "output_type": "stream",
     "text": [
      "b= 1\n",
      "type of b= <class 'int'>\n"
     ]
    }
   ],
   "source": [
    "a=True\n",
    "b=int(a)\n",
    "print('b=',b)\n",
    "print('type of b=',type(b))\n"
   ]
  },
  {
   "cell_type": "code",
   "execution_count": 13,
   "id": "96ca70a5-6a97-46b5-881a-36e0f50dc6e6",
   "metadata": {},
   "outputs": [
    {
     "name": "stdout",
     "output_type": "stream",
     "text": [
      "b= 0\n",
      "type of b= <class 'int'>\n"
     ]
    }
   ],
   "source": [
    "a=False\n",
    "b=int(a)\n",
    "print('b=',b)\n",
    "print('type of b=',type(b))\n"
   ]
  },
  {
   "cell_type": "code",
   "execution_count": 14,
   "id": "2e1f092f-f4e3-43f8-9295-a9e9fdd4be01",
   "metadata": {},
   "outputs": [],
   "source": [
    "# float to int"
   ]
  },
  {
   "cell_type": "code",
   "execution_count": 15,
   "id": "c368f172-4444-4b88-881a-4e4b5b76c818",
   "metadata": {},
   "outputs": [
    {
     "name": "stdout",
     "output_type": "stream",
     "text": [
      "b= 2\n",
      "type of b= <class 'int'>\n"
     ]
    }
   ],
   "source": [
    "a=2.3\n",
    "b=int(a)\n",
    "print('b=',b)\n",
    "print('type of b=',type(b))\n"
   ]
  },
  {
   "cell_type": "code",
   "execution_count": 16,
   "id": "d4bf606e-b34f-4b2c-b955-a9baf0f6a405",
   "metadata": {},
   "outputs": [],
   "source": [
    "# float to complex"
   ]
  },
  {
   "cell_type": "code",
   "execution_count": 17,
   "id": "33931cd0-d49d-45b8-95ec-a2691bde43b9",
   "metadata": {},
   "outputs": [
    {
     "ename": "TypeError",
     "evalue": "int() argument must be a string, a bytes-like object or a real number, not 'complex'",
     "output_type": "error",
     "traceback": [
      "\u001b[1;31m---------------------------------------------------------------------------\u001b[0m",
      "\u001b[1;31mTypeError\u001b[0m                                 Traceback (most recent call last)",
      "Cell \u001b[1;32mIn[17], line 2\u001b[0m\n\u001b[0;32m      1\u001b[0m a\u001b[38;5;241m=\u001b[39m\u001b[38;5;241m2\u001b[39m\u001b[38;5;241m+\u001b[39m\u001b[38;5;241m4\u001b[39mj\n\u001b[1;32m----> 2\u001b[0m b\u001b[38;5;241m=\u001b[39m\u001b[38;5;28;43mint\u001b[39;49m\u001b[43m(\u001b[49m\u001b[43ma\u001b[49m\u001b[43m)\u001b[49m\n\u001b[0;32m      3\u001b[0m \u001b[38;5;28mprint\u001b[39m(\u001b[38;5;124m'\u001b[39m\u001b[38;5;124mb=\u001b[39m\u001b[38;5;124m'\u001b[39m,b)\n\u001b[0;32m      4\u001b[0m \u001b[38;5;28mprint\u001b[39m(\u001b[38;5;124m'\u001b[39m\u001b[38;5;124mtype of b=\u001b[39m\u001b[38;5;124m'\u001b[39m,\u001b[38;5;28mtype\u001b[39m(b))\n",
      "\u001b[1;31mTypeError\u001b[0m: int() argument must be a string, a bytes-like object or a real number, not 'complex'"
     ]
    }
   ],
   "source": [
    "a=2+4j\n",
    "b=int(a)\n",
    "print('b=',b)\n",
    "print('type of b=',type(b))\n"
   ]
  },
  {
   "cell_type": "code",
   "execution_count": 18,
   "id": "da42e357-11fe-47b2-bd34-93a120f0424a",
   "metadata": {},
   "outputs": [
    {
     "name": "stdout",
     "output_type": "stream",
     "text": [
      "b= 116767\n",
      "type of b= <class 'int'>\n"
     ]
    }
   ],
   "source": [
    "a=0b11100100000011111\n",
    "b=int(a)\n",
    "print('b=',b)\n",
    "print('type of b=',type(b))\n"
   ]
  },
  {
   "cell_type": "code",
   "execution_count": 19,
   "id": "a3098b42-4028-4205-b71f-b7c5ee6f743b",
   "metadata": {},
   "outputs": [],
   "source": [
    "# string to int # dont put alphabet in string"
   ]
  },
  {
   "cell_type": "code",
   "execution_count": 21,
   "id": "9e03fa00-3829-4cdf-ad2a-223f3c274330",
   "metadata": {},
   "outputs": [
    {
     "ename": "ValueError",
     "evalue": "invalid literal for int() with base 10: '123papa'",
     "output_type": "error",
     "traceback": [
      "\u001b[1;31m---------------------------------------------------------------------------\u001b[0m",
      "\u001b[1;31mValueError\u001b[0m                                Traceback (most recent call last)",
      "Cell \u001b[1;32mIn[21], line 2\u001b[0m\n\u001b[0;32m      1\u001b[0m a\u001b[38;5;241m=\u001b[39m\u001b[38;5;124m'\u001b[39m\u001b[38;5;124m123papa\u001b[39m\u001b[38;5;124m'\u001b[39m\n\u001b[1;32m----> 2\u001b[0m b\u001b[38;5;241m=\u001b[39m\u001b[38;5;28;43mint\u001b[39;49m\u001b[43m(\u001b[49m\u001b[43ma\u001b[49m\u001b[43m)\u001b[49m\n\u001b[0;32m      3\u001b[0m \u001b[38;5;28mprint\u001b[39m(\u001b[38;5;124m'\u001b[39m\u001b[38;5;124mb=\u001b[39m\u001b[38;5;124m'\u001b[39m,b)\n\u001b[0;32m      4\u001b[0m \u001b[38;5;28mprint\u001b[39m(\u001b[38;5;124m'\u001b[39m\u001b[38;5;124mtype of b=\u001b[39m\u001b[38;5;124m'\u001b[39m,\u001b[38;5;28mtype\u001b[39m(b))\n",
      "\u001b[1;31mValueError\u001b[0m: invalid literal for int() with base 10: '123papa'"
     ]
    }
   ],
   "source": [
    "a='123papa'\n",
    "b=int(a)\n",
    "print('b=',b)\n",
    "print('type of b=',type(b))"
   ]
  },
  {
   "cell_type": "code",
   "execution_count": 22,
   "id": "2bb20f2f-7cd4-4187-83d3-05573d610efe",
   "metadata": {},
   "outputs": [
    {
     "name": "stdout",
     "output_type": "stream",
     "text": [
      "b= 123\n",
      "type of b= <class 'int'>\n"
     ]
    }
   ],
   "source": [
    "a='123'\n",
    "b=int(a)\n",
    "print('b=',b)\n",
    "print('type of b=',type(b))"
   ]
  },
  {
   "cell_type": "code",
   "execution_count": 23,
   "id": "485c4f04-2e5b-4067-a989-9be65ba62dc8",
   "metadata": {},
   "outputs": [
    {
     "ename": "ValueError",
     "evalue": "invalid literal for int() with base 10: '01b00'",
     "output_type": "error",
     "traceback": [
      "\u001b[1;31m---------------------------------------------------------------------------\u001b[0m",
      "\u001b[1;31mValueError\u001b[0m                                Traceback (most recent call last)",
      "Cell \u001b[1;32mIn[23], line 2\u001b[0m\n\u001b[0;32m      1\u001b[0m a\u001b[38;5;241m=\u001b[39m\u001b[38;5;124m'\u001b[39m\u001b[38;5;124m01b00\u001b[39m\u001b[38;5;124m'\u001b[39m\n\u001b[1;32m----> 2\u001b[0m b\u001b[38;5;241m=\u001b[39m\u001b[38;5;28;43mint\u001b[39;49m\u001b[43m(\u001b[49m\u001b[43ma\u001b[49m\u001b[43m)\u001b[49m\n\u001b[0;32m      3\u001b[0m \u001b[38;5;28mprint\u001b[39m(\u001b[38;5;124m'\u001b[39m\u001b[38;5;124mb=\u001b[39m\u001b[38;5;124m'\u001b[39m,b)\n\u001b[0;32m      4\u001b[0m \u001b[38;5;28mprint\u001b[39m(\u001b[38;5;124m'\u001b[39m\u001b[38;5;124mtype of b=\u001b[39m\u001b[38;5;124m'\u001b[39m,\u001b[38;5;28mtype\u001b[39m(b))\n",
      "\u001b[1;31mValueError\u001b[0m: invalid literal for int() with base 10: '01b00'"
     ]
    }
   ],
   "source": [
    "a='01b00'\n",
    "b=int(a)\n",
    "print('b=',b)\n",
    "print('type of b=',type(b))"
   ]
  },
  {
   "cell_type": "code",
   "execution_count": 24,
   "id": "59ed2a6c-fb2f-4327-943f-a4974d555503",
   "metadata": {},
   "outputs": [
    {
     "name": "stdout",
     "output_type": "stream",
     "text": [
      "b= 1.0\n",
      "type of b= <class 'float'>\n"
     ]
    }
   ],
   "source": [
    "a=True\n",
    "b=float(a)\n",
    "print('b=',b)\n",
    "print('type of b=',type(b))"
   ]
  },
  {
   "cell_type": "code",
   "execution_count": 25,
   "id": "ef8a539e-7260-4654-af65-823103f6b2fd",
   "metadata": {},
   "outputs": [
    {
     "name": "stdout",
     "output_type": "stream",
     "text": [
      "b= 0.0\n",
      "type of b= <class 'float'>\n"
     ]
    }
   ],
   "source": [
    "a=False\n",
    "b=float(a)\n",
    "print('b=',b)\n",
    "print('type of b=',type(b))"
   ]
  },
  {
   "cell_type": "code",
   "execution_count": 29,
   "id": "6c781118-70a9-4fef-be72-f79395f2ddb0",
   "metadata": {},
   "outputs": [
    {
     "name": "stdout",
     "output_type": "stream",
     "text": [
      "b= 12263783.0\n",
      "type of b= <class 'float'>\n"
     ]
    }
   ],
   "source": [
    "a='12263783'\n",
    "b=float(a)\n",
    "print('b=',b)\n",
    "print('type of b=',type(b))"
   ]
  },
  {
   "cell_type": "code",
   "execution_count": 27,
   "id": "373026b6-bdcd-42a6-91fd-27537ddabd2f",
   "metadata": {},
   "outputs": [
    {
     "ename": "TypeError",
     "evalue": "float() argument must be a string or a real number, not 'complex'",
     "output_type": "error",
     "traceback": [
      "\u001b[1;31m---------------------------------------------------------------------------\u001b[0m",
      "\u001b[1;31mTypeError\u001b[0m                                 Traceback (most recent call last)",
      "Cell \u001b[1;32mIn[27], line 2\u001b[0m\n\u001b[0;32m      1\u001b[0m a\u001b[38;5;241m=\u001b[39m\u001b[38;5;241m2\u001b[39m\u001b[38;5;241m+\u001b[39m\u001b[38;5;241m5\u001b[39mj\n\u001b[1;32m----> 2\u001b[0m b\u001b[38;5;241m=\u001b[39m\u001b[38;5;28;43mfloat\u001b[39;49m\u001b[43m(\u001b[49m\u001b[43ma\u001b[49m\u001b[43m)\u001b[49m\n\u001b[0;32m      3\u001b[0m \u001b[38;5;28mprint\u001b[39m(\u001b[38;5;124m'\u001b[39m\u001b[38;5;124mb=\u001b[39m\u001b[38;5;124m'\u001b[39m,b)\n\u001b[0;32m      4\u001b[0m \u001b[38;5;28mprint\u001b[39m(\u001b[38;5;124m'\u001b[39m\u001b[38;5;124mtype of b=\u001b[39m\u001b[38;5;124m'\u001b[39m,\u001b[38;5;28mtype\u001b[39m(b))\n",
      "\u001b[1;31mTypeError\u001b[0m: float() argument must be a string or a real number, not 'complex'"
     ]
    }
   ],
   "source": [
    "a=2+5j\n",
    "b=float(a)\n",
    "print('b=',b)\n",
    "print('type of b=',type(b))"
   ]
  },
  {
   "cell_type": "code",
   "execution_count": 30,
   "id": "61e31147-d301-4166-8cd8-fca020b43b6f",
   "metadata": {},
   "outputs": [
    {
     "name": "stdout",
     "output_type": "stream",
     "text": [
      "b= 12.3\n",
      "type of b= <class 'float'>\n"
     ]
    }
   ],
   "source": [
    "a='12.3'\n",
    "b=float(a)\n",
    "print('b=',b)\n",
    "print('type of b=',type(b))"
   ]
  },
  {
   "cell_type": "code",
   "execution_count": 2,
   "id": "0c43fc74-0c08-4bb0-a691-4c3e0120fb88",
   "metadata": {},
   "outputs": [
    {
     "name": "stdout",
     "output_type": "stream",
     "text": [
      "<class 'float'> 5.1\n"
     ]
    }
   ],
   "source": [
    "a=2.1+int(3.5)\n",
    "print(type(a),a)"
   ]
  },
  {
   "cell_type": "code",
   "execution_count": 3,
   "id": "250e69a0-eab3-4a51-88e6-3d69bc42c08e",
   "metadata": {},
   "outputs": [
    {
     "name": "stdout",
     "output_type": "stream",
     "text": [
      "<class 'int'> 5\n"
     ]
    }
   ],
   "source": [
    "a=int(2.1)+int(3.5)\n",
    "print(type(a),a)"
   ]
  },
  {
   "cell_type": "code",
   "execution_count": 4,
   "id": "d3273906-cce9-46bb-a217-987bd21d790c",
   "metadata": {},
   "outputs": [
    {
     "ename": "NameError",
     "evalue": "name 'false' is not defined",
     "output_type": "error",
     "traceback": [
      "\u001b[1;31m---------------------------------------------------------------------------\u001b[0m",
      "\u001b[1;31mNameError\u001b[0m                                 Traceback (most recent call last)",
      "Cell \u001b[1;32mIn[4], line 1\u001b[0m\n\u001b[1;32m----> 1\u001b[0m \u001b[38;5;28mint\u001b[39m(\u001b[43mfalse\u001b[49m)\n",
      "\u001b[1;31mNameError\u001b[0m: name 'false' is not defined"
     ]
    }
   ],
   "source": [
    "int(false)"
   ]
  },
  {
   "cell_type": "code",
   "execution_count": 5,
   "id": "ef0bbdfb-787e-46a2-be98-842199c4b655",
   "metadata": {},
   "outputs": [
    {
     "ename": "NameError",
     "evalue": "name 'comlex' is not defined",
     "output_type": "error",
     "traceback": [
      "\u001b[1;31m---------------------------------------------------------------------------\u001b[0m",
      "\u001b[1;31mNameError\u001b[0m                                 Traceback (most recent call last)",
      "Cell \u001b[1;32mIn[5], line 1\u001b[0m\n\u001b[1;32m----> 1\u001b[0m a\u001b[38;5;241m=\u001b[39m\u001b[43mcomlex\u001b[49m(\u001b[38;5;241m1\u001b[39m)\n",
      "\u001b[1;31mNameError\u001b[0m: name 'comlex' is not defined"
     ]
    }
   ],
   "source": [
    "a=comlex(1)"
   ]
  },
  {
   "cell_type": "code",
   "execution_count": null,
   "id": "f1e74472-f9b1-4ba0-83b9-5a9e9e8feffe",
   "metadata": {},
   "outputs": [],
   "source": []
  }
 ],
 "metadata": {
  "kernelspec": {
   "display_name": "Python 3 (ipykernel)",
   "language": "python",
   "name": "python3"
  },
  "language_info": {
   "codemirror_mode": {
    "name": "ipython",
    "version": 3
   },
   "file_extension": ".py",
   "mimetype": "text/x-python",
   "name": "python",
   "nbconvert_exporter": "python",
   "pygments_lexer": "ipython3",
   "version": "3.11.4"
  }
 },
 "nbformat": 4,
 "nbformat_minor": 5
}
