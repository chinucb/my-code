{
 "cells": [
  {
   "cell_type": "raw",
   "id": "f4f8d98e-4d7a-4871-90ca-15033cea7546",
   "metadata": {},
   "source": [
    "# complex\n",
    "# complex constructor is complex()\n",
    "# complex literal is oj"
   ]
  },
  {
   "cell_type": "code",
   "execution_count": 2,
   "id": "33e88947-c611-45e7-b39f-9a69629a3577",
   "metadata": {},
   "outputs": [],
   "source": [
    "a=complex()"
   ]
  },
  {
   "cell_type": "code",
   "execution_count": 3,
   "id": "dcf9e481-3573-43b8-8c89-fca69309b52f",
   "metadata": {},
   "outputs": [
    {
     "name": "stdout",
     "output_type": "stream",
     "text": [
      "0j\n"
     ]
    }
   ],
   "source": [
    "print(a)"
   ]
  },
  {
   "cell_type": "code",
   "execution_count": 4,
   "id": "f9cfe806-6f00-40cc-817e-b41b05ecd05c",
   "metadata": {},
   "outputs": [],
   "source": [
    "a=23j"
   ]
  },
  {
   "cell_type": "code",
   "execution_count": 5,
   "id": "5d29d3e6-4579-4265-8018-45cda8347a04",
   "metadata": {},
   "outputs": [
    {
     "name": "stdout",
     "output_type": "stream",
     "text": [
      "23j\n"
     ]
    }
   ],
   "source": [
    "print(a)"
   ]
  },
  {
   "cell_type": "code",
   "execution_count": 6,
   "id": "e2f9485e-bf8b-4463-aee8-ab9c9a1cc2df",
   "metadata": {},
   "outputs": [
    {
     "data": {
      "text/plain": [
       "(2+2j)"
      ]
     },
     "execution_count": 6,
     "metadata": {},
     "output_type": "execute_result"
    }
   ],
   "source": [
    "2+2j"
   ]
  },
  {
   "cell_type": "code",
   "execution_count": 2,
   "id": "55863bb9-3923-474d-849b-5724c88fa649",
   "metadata": {},
   "outputs": [],
   "source": [
    "c=0j"
   ]
  },
  {
   "cell_type": "code",
   "execution_count": 5,
   "id": "66a552fe-43a0-4361-a298-c038605ce31c",
   "metadata": {},
   "outputs": [
    {
     "name": "stdout",
     "output_type": "stream",
     "text": [
      "0j <class 'type'>\n"
     ]
    }
   ],
   "source": [
    "print(c,(type))"
   ]
  },
  {
   "cell_type": "code",
   "execution_count": 7,
   "id": "081cc918-5800-4ba1-8ed5-d6137422ae6c",
   "metadata": {},
   "outputs": [
    {
     "data": {
      "text/plain": [
       "(16+16j)"
      ]
     },
     "execution_count": 7,
     "metadata": {},
     "output_type": "execute_result"
    }
   ],
   "source": [
    "(2+2)*(4+4j)"
   ]
  },
  {
   "cell_type": "code",
   "execution_count": 8,
   "id": "85baf8a5-57a6-45cb-bdd8-d3317c4d0218",
   "metadata": {},
   "outputs": [],
   "source": [
    "a=complex()"
   ]
  },
  {
   "cell_type": "code",
   "execution_count": 9,
   "id": "7f0888d5-9c34-48ee-93a9-6a12e94123b7",
   "metadata": {},
   "outputs": [
    {
     "name": "stdout",
     "output_type": "stream",
     "text": [
      "0j\n"
     ]
    }
   ],
   "source": [
    "print(a)"
   ]
  },
  {
   "cell_type": "code",
   "execution_count": null,
   "id": "c058d4c8-492f-44a9-b152-60215a0662a8",
   "metadata": {},
   "outputs": [],
   "source": []
  }
 ],
 "metadata": {
  "kernelspec": {
   "display_name": "Python 3 (ipykernel)",
   "language": "python",
   "name": "python3"
  },
  "language_info": {
   "codemirror_mode": {
    "name": "ipython",
    "version": 3
   },
   "file_extension": ".py",
   "mimetype": "text/x-python",
   "name": "python",
   "nbconvert_exporter": "python",
   "pygments_lexer": "ipython3",
   "version": "3.11.4"
  }
 },
 "nbformat": 4,
 "nbformat_minor": 5
}
