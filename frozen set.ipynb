{
 "cells": [
  {
   "cell_type": "markdown",
   "id": "afb4df8a-ee9d-481f-965a-3266a1136e3a",
   "metadata": {},
   "source": [
    "# frozenset"
   ]
  },
  {
   "cell_type": "markdown",
   "id": "ac9c49b5-e0dd-4a2d-8f20-71efc742a81d",
   "metadata": {},
   "source": [
    "> frozenset constructor is frozenset()\n",
    "\n",
    "> frozenset litral is also not available like set\n",
    "    \n",
    "> frozenset is unordered set of sequence of element\n",
    "\n",
    "> frozenset doesn't support indexing,slicing,concatination\n",
    "\n",
    "> frozenset is does not allowed duplicate values\n",
    "\n",
    "> frozenset support hashing table to remove duplicacy.\n",
    "\n",
    "> frozenset is immutable\n",
    "\n",
    "> frozenset support nested frozenset\n",
    "    \n",
    "> frozenset always contain immutable data type(hashable data type).\n",
    "\n",
    "> methods of frozenset"
   ]
  },
  {
   "cell_type": "code",
   "execution_count": 5,
   "id": "d60532cf-633b-4445-b22b-9e68368ada87",
   "metadata": {},
   "outputs": [],
   "source": [
    "a=frozenset([1,2,3,4,45,6,6,7,])"
   ]
  },
  {
   "cell_type": "code",
   "execution_count": 6,
   "id": "c09839a3-c4b9-4d31-a8d6-b515c8cac920",
   "metadata": {},
   "outputs": [
    {
     "name": "stdout",
     "output_type": "stream",
     "text": [
      "frozenset({1, 2, 3, 4, 6, 7, 45})\n"
     ]
    }
   ],
   "source": [
    "print(a)"
   ]
  },
  {
   "cell_type": "code",
   "execution_count": 7,
   "id": "297179f7-e778-4cc6-8e27-970a322f076d",
   "metadata": {},
   "outputs": [],
   "source": [
    "b=frozenset()"
   ]
  },
  {
   "cell_type": "code",
   "execution_count": 8,
   "id": "34a83b1c-055d-4257-9302-18df44be8cb5",
   "metadata": {},
   "outputs": [
    {
     "name": "stdout",
     "output_type": "stream",
     "text": [
      "frozenset()\n"
     ]
    }
   ],
   "source": [
    "print(b)"
   ]
  },
  {
   "cell_type": "code",
   "execution_count": 9,
   "id": "a5d0dc83-c64c-4e11-9f7f-4466cb99112b",
   "metadata": {},
   "outputs": [],
   "source": [
    "c=frozenset({1,2,34,5,6,7,8,99,})"
   ]
  },
  {
   "cell_type": "code",
   "execution_count": 10,
   "id": "3065ba10-e4e5-4e63-ac90-8db48c30fef1",
   "metadata": {},
   "outputs": [
    {
     "name": "stdout",
     "output_type": "stream",
     "text": [
      "frozenset({1, 2, 99, 34, 5, 6, 7, 8})\n"
     ]
    }
   ],
   "source": [
    "print(c)"
   ]
  },
  {
   "cell_type": "code",
   "execution_count": 11,
   "id": "a773a109-807d-4851-85a3-aa54683ff6c5",
   "metadata": {},
   "outputs": [],
   "source": [
    "d=frozenset((1,2,3,4,5,56,7,7,88,6))"
   ]
  },
  {
   "cell_type": "code",
   "execution_count": 13,
   "id": "fc04b212-355a-4b8b-a8ab-72499b9c60f2",
   "metadata": {},
   "outputs": [
    {
     "name": "stdout",
     "output_type": "stream",
     "text": [
      "frozenset({1, 2, 3, 4, 5, 6, 7, 56, 88})\n"
     ]
    }
   ],
   "source": [
    "print(d) # frozenset contain iterable to make a frozenset"
   ]
  },
  {
   "cell_type": "code",
   "execution_count": 14,
   "id": "623c434a-bf0d-4843-ba1e-db52b71f4289",
   "metadata": {},
   "outputs": [
    {
     "name": "stdout",
     "output_type": "stream",
     "text": [
      "<class 'list'>\n"
     ]
    }
   ],
   "source": [
    "# iterable:\n",
    "a=[12,3,4,5,]\n",
    "print(type(a))\n"
   ]
  },
  {
   "cell_type": "code",
   "execution_count": 16,
   "id": "7c6056c8-f7b7-4794-810d-b2e2dd3fd125",
   "metadata": {},
   "outputs": [],
   "source": [
    "# dir method is used for methods of dat type"
   ]
  },
  {
   "cell_type": "code",
   "execution_count": 10,
   "id": "3a2b53a9-dc20-4e8e-a56f-4d9de40672a4",
   "metadata": {},
   "outputs": [],
   "source": [
    "a=frozenset({1,1,1,1,2,2,2,3,4,4,5,5,5,5})"
   ]
  },
  {
   "cell_type": "code",
   "execution_count": 11,
   "id": "4d976d44-cce8-4df7-bfde-5b4ddaf06286",
   "metadata": {},
   "outputs": [
    {
     "name": "stdout",
     "output_type": "stream",
     "text": [
      "frozenset({1, 2, 3, 4, 5})\n"
     ]
    }
   ],
   "source": [
    "print(a)"
   ]
  },
  {
   "cell_type": "code",
   "execution_count": null,
   "id": "47e962b3-e14f-47fa-b33d-84ae16cb9df3",
   "metadata": {},
   "outputs": [],
   "source": []
  }
 ],
 "metadata": {
  "kernelspec": {
   "display_name": "Python 3 (ipykernel)",
   "language": "python",
   "name": "python3"
  },
  "language_info": {
   "codemirror_mode": {
    "name": "ipython",
    "version": 3
   },
   "file_extension": ".py",
   "mimetype": "text/x-python",
   "name": "python",
   "nbconvert_exporter": "python",
   "pygments_lexer": "ipython3",
   "version": "3.11.4"
  }
 },
 "nbformat": 4,
 "nbformat_minor": 5
}
