{
 "cells": [
  {
   "cell_type": "markdown",
   "id": "6a84d894-e162-4ae8-a3da-1aa5db3e45c6",
   "metadata": {},
   "source": [
    "# operators\n",
    "> Arithmetic operators,\n",
    "> Assignment operators,\n",
    "> Comparison operators,\n",
    "> Logical operators,\n",
    "> Identity operators,\n",
    "> Membership operator,s\n",
    "> Bitwise operators,"
   ]
  },
  {
   "cell_type": "markdown",
   "id": "44045c11-375c-4639-9cf2-07a470b630f7",
   "metadata": {},
   "source": [
    "# arithmetic operators"
   ]
  },
  {
   "cell_type": "raw",
   "id": "80e9a620-dd3e-4b8f-8be9-9e35c5f9f1f3",
   "metadata": {},
   "source": [
    "+\tAddition\tx + y\t\n",
    "-\tSubtraction\tx - y\t\n",
    "*\tMultiplication\tx * y\t\n",
    "/\tDivision\tx / y\t\n",
    "%\tModulus\tx % y\t\n",
    "**\tExponentiation\tx ** y\t\n",
    "//\tFloor division\tx // y"
   ]
  },
  {
   "cell_type": "code",
   "execution_count": 1,
   "id": "0ee9fbe5-90c7-4ee9-81bd-2471892cc9e6",
   "metadata": {},
   "outputs": [
    {
     "name": "stdout",
     "output_type": "stream",
     "text": [
      "30\n"
     ]
    }
   ],
   "source": [
    "a=10\n",
    "b=20\n",
    "print(a+b)"
   ]
  },
  {
   "cell_type": "code",
   "execution_count": 2,
   "id": "a104303d-9b84-4dbb-bd53-f24a674a3bca",
   "metadata": {},
   "outputs": [
    {
     "name": "stdout",
     "output_type": "stream",
     "text": [
      "-10\n"
     ]
    }
   ],
   "source": [
    "print(a-b)"
   ]
  },
  {
   "cell_type": "code",
   "execution_count": 3,
   "id": "3e96e19d-0110-4fb5-8cf6-e5df48900d0c",
   "metadata": {},
   "outputs": [
    {
     "name": "stdout",
     "output_type": "stream",
     "text": [
      "0.5\n"
     ]
    }
   ],
   "source": [
    "print(a/b)"
   ]
  },
  {
   "cell_type": "code",
   "execution_count": 4,
   "id": "6dc64ea5-a53d-4252-8976-5c5bffa0cad2",
   "metadata": {},
   "outputs": [
    {
     "name": "stdout",
     "output_type": "stream",
     "text": [
      "200\n"
     ]
    }
   ],
   "source": [
    "print(a*b)"
   ]
  },
  {
   "cell_type": "code",
   "execution_count": 5,
   "id": "f3855916-1b57-49d7-a03c-52779de43e58",
   "metadata": {},
   "outputs": [
    {
     "name": "stdout",
     "output_type": "stream",
     "text": [
      "0\n"
     ]
    }
   ],
   "source": [
    "print(a//b) #floor division"
   ]
  },
  {
   "cell_type": "code",
   "execution_count": 6,
   "id": "9f2d2c1a-9a9b-46ec-b34f-8dadf25676dd",
   "metadata": {},
   "outputs": [
    {
     "name": "stdout",
     "output_type": "stream",
     "text": [
      "2\n"
     ]
    }
   ],
   "source": [
    "print(b//a)"
   ]
  },
  {
   "cell_type": "code",
   "execution_count": 7,
   "id": "3e9bb930-1f5e-4836-9c49-97bc576fdf5e",
   "metadata": {},
   "outputs": [
    {
     "data": {
      "text/plain": [
       "10"
      ]
     },
     "execution_count": 7,
     "metadata": {},
     "output_type": "execute_result"
    }
   ],
   "source": [
    "a%b"
   ]
  },
  {
   "cell_type": "code",
   "execution_count": 10,
   "id": "a15c0aae-3335-49a4-80b2-297cd90e601c",
   "metadata": {},
   "outputs": [
    {
     "name": "stdout",
     "output_type": "stream",
     "text": [
      "0\n"
     ]
    }
   ],
   "source": [
    "print(b%a)"
   ]
  },
  {
   "cell_type": "code",
   "execution_count": 11,
   "id": "72e89a21-a22a-4303-9f4e-7a3419202d7c",
   "metadata": {},
   "outputs": [
    {
     "data": {
      "text/plain": [
       "1"
      ]
     },
     "execution_count": 11,
     "metadata": {},
     "output_type": "execute_result"
    }
   ],
   "source": [
    "10%3"
   ]
  },
  {
   "cell_type": "code",
   "execution_count": 14,
   "id": "5997241a-be47-44bd-8ef2-b832aeb6cbe5",
   "metadata": {},
   "outputs": [
    {
     "name": "stdout",
     "output_type": "stream",
     "text": [
      "100000000000000000000\n"
     ]
    }
   ],
   "source": [
    "print(a**b) #it means 10 ki power 20"
   ]
  },
  {
   "cell_type": "code",
   "execution_count": 13,
   "id": "bb488b24-1082-45b4-983e-1e0dccd96525",
   "metadata": {},
   "outputs": [
    {
     "data": {
      "text/plain": [
       "100"
      ]
     },
     "execution_count": 13,
     "metadata": {},
     "output_type": "execute_result"
    }
   ],
   "source": [
    "10**2"
   ]
  },
  {
   "cell_type": "code",
   "execution_count": null,
   "id": "2caa093d-a8ad-4859-bbad-837fda68a294",
   "metadata": {},
   "outputs": [],
   "source": []
  },
  {
   "cell_type": "markdown",
   "id": "48f82ab3-9cfd-4e74-a7b5-66acc7769f14",
   "metadata": {},
   "source": [
    "# assignment operators"
   ]
  },
  {
   "cell_type": "raw",
   "id": "8b54619b-cba7-4873-ba14-e413bf23d53f",
   "metadata": {},
   "source": [
    "Operator Example \tSame\n",
    "=\t    x = 5 \t    x = 5\t\n",
    "+=  \tx += 3      x = x + 3\t\n",
    "-=\t    x -= 3      x = x - 3\t\n",
    "*=\t    x *= 3      x = x * 3\t\n",
    "/=\t    x /= 3 \t    x = x / 3\t\n",
    "%=\t    x %= 3\t    x = x % 3\t\n",
    "//= \tx //= 3\t    x = x // 3\t\n",
    "**=\t    x **= 3     x = x ** 3\t\n",
    "&=\t    x &= 3       x = x & 3\t\n",
    "|=  \tx |= 3\t     x = x | 3\t\n",
    "^=\t    x ^= 3\t     x = x ^ 3\t\n",
    ">>=  \tx >>= 3 \t x = x >> 3\t\n",
    "<<=\t    x <<= 3\t     x = x << 3"
   ]
  },
  {
   "cell_type": "code",
   "execution_count": 15,
   "id": "524c62cc-8d71-405c-9df9-8a8660ea4a98",
   "metadata": {},
   "outputs": [],
   "source": [
    "=,+=,-=,/=,*=.**=,//=,%="
   ]
  },
  {
   "cell_type": "code",
   "execution_count": 16,
   "id": "06fa9193-f139-45c3-a593-f950d38d18ea",
   "metadata": {},
   "outputs": [],
   "source": [
    "a=10"
   ]
  },
  {
   "cell_type": "code",
   "execution_count": 17,
   "id": "133e94de-2d36-4042-9291-b70853548c7d",
   "metadata": {},
   "outputs": [
    {
     "name": "stdout",
     "output_type": "stream",
     "text": [
      "11\n"
     ]
    }
   ],
   "source": [
    "a=a+1\n",
    "print(a)"
   ]
  },
  {
   "cell_type": "code",
   "execution_count": 22,
   "id": "d90d7596-5a3f-4096-861b-f076c67624ad",
   "metadata": {},
   "outputs": [
    {
     "name": "stdout",
     "output_type": "stream",
     "text": [
      "16\n"
     ]
    }
   ],
   "source": [
    "a+=1   #a+=4\n",
    "print(a) "
   ]
  },
  {
   "cell_type": "code",
   "execution_count": 24,
   "id": "644360e9-eefe-4975-9673-50dbd638ee35",
   "metadata": {},
   "outputs": [
    {
     "name": "stdout",
     "output_type": "stream",
     "text": [
      "8\n"
     ]
    }
   ],
   "source": [
    "a=a-4\n",
    "print(a)"
   ]
  },
  {
   "cell_type": "code",
   "execution_count": 26,
   "id": "6b748c31-0cd9-4462-b016-c73601b13f83",
   "metadata": {},
   "outputs": [
    {
     "name": "stdout",
     "output_type": "stream",
     "text": [
      "4\n"
     ]
    }
   ],
   "source": [
    "a-=2\n",
    "print(a)"
   ]
  },
  {
   "cell_type": "code",
   "execution_count": 31,
   "id": "a2585250-848a-4616-8134-90e0345acc4d",
   "metadata": {},
   "outputs": [
    {
     "name": "stdout",
     "output_type": "stream",
     "text": [
      "2.483685292236621e-05\n"
     ]
    }
   ],
   "source": [
    "a=a/11        #a=a/11\n",
    "print(a)"
   ]
  },
  {
   "cell_type": "code",
   "execution_count": 36,
   "id": "1a28f5b2-53d0-4caa-8cab-8fa98b299f19",
   "metadata": {},
   "outputs": [
    {
     "name": "stdout",
     "output_type": "stream",
     "text": [
      "0.0\n"
     ]
    }
   ],
   "source": [
    "a=a//0.2 #a=a//0.2\n",
    "print(a)"
   ]
  },
  {
   "cell_type": "code",
   "execution_count": 37,
   "id": "7ec7b497-a3c5-4965-8aee-7a872d683537",
   "metadata": {},
   "outputs": [
    {
     "data": {
      "text/plain": [
       "3"
      ]
     },
     "execution_count": 37,
     "metadata": {},
     "output_type": "execute_result"
    }
   ],
   "source": [
    "10//3"
   ]
  },
  {
   "cell_type": "code",
   "execution_count": 39,
   "id": "bb90af55-7f5d-43f9-96b5-262f7c1e2d1a",
   "metadata": {},
   "outputs": [
    {
     "data": {
      "text/plain": [
       "5.0"
      ]
     },
     "execution_count": 39,
     "metadata": {},
     "output_type": "execute_result"
    }
   ],
   "source": [
    "1/0.2"
   ]
  },
  {
   "cell_type": "code",
   "execution_count": 40,
   "id": "127e154a-5a76-46c8-9feb-98eb392f4e96",
   "metadata": {},
   "outputs": [
    {
     "name": "stdout",
     "output_type": "stream",
     "text": [
      "3\n"
     ]
    }
   ],
   "source": [
    "a=10//3\n",
    "print(a)"
   ]
  },
  {
   "cell_type": "code",
   "execution_count": 41,
   "id": "400931f7-9cd3-434e-ab6c-b582a4a68232",
   "metadata": {},
   "outputs": [
    {
     "name": "stdout",
     "output_type": "stream",
     "text": [
      "1\n"
     ]
    }
   ],
   "source": [
    "a//=2 \n",
    "print(a)    #a=a//2"
   ]
  },
  {
   "cell_type": "code",
   "execution_count": 42,
   "id": "d0aab892-cf60-4f30-beb3-2bb3abedc1e7",
   "metadata": {},
   "outputs": [],
   "source": [
    "a=10"
   ]
  },
  {
   "cell_type": "code",
   "execution_count": 44,
   "id": "90fc3f54-58bd-4d48-8df8-0fda1ccb2df0",
   "metadata": {},
   "outputs": [
    {
     "name": "stdout",
     "output_type": "stream",
     "text": [
      "40\n"
     ]
    }
   ],
   "source": [
    "a*=2 \n",
    "print(a)#  a=a*2"
   ]
  },
  {
   "cell_type": "code",
   "execution_count": 45,
   "id": "9c00c7eb-1209-47cd-9320-e8f3286ef875",
   "metadata": {},
   "outputs": [
    {
     "name": "stdout",
     "output_type": "stream",
     "text": [
      "40\n"
     ]
    }
   ],
   "source": [
    "a**2\n",
    "print(a)"
   ]
  },
  {
   "cell_type": "code",
   "execution_count": 46,
   "id": "3096ed7a-f970-4803-88f2-3a484f77058c",
   "metadata": {},
   "outputs": [
    {
     "name": "stdout",
     "output_type": "stream",
     "text": [
      "1600\n"
     ]
    }
   ],
   "source": [
    "a**=2\n",
    "print(a)"
   ]
  },
  {
   "cell_type": "code",
   "execution_count": null,
   "id": "29d10737-f695-4b6a-ae07-5a2188d8b0e7",
   "metadata": {},
   "outputs": [],
   "source": [
    "# modulus"
   ]
  },
  {
   "cell_type": "code",
   "execution_count": 47,
   "id": "5e12d7c9-7fb4-49ca-9204-e273b5effa95",
   "metadata": {},
   "outputs": [
    {
     "data": {
      "text/plain": [
       "13.333333333333334"
      ]
     },
     "execution_count": 47,
     "metadata": {},
     "output_type": "execute_result"
    }
   ],
   "source": [
    " 400/30"
   ]
  },
  {
   "cell_type": "code",
   "execution_count": 50,
   "id": "08a16059-08bd-49e7-8b4f-fb915f3ee8b8",
   "metadata": {},
   "outputs": [
    {
     "name": "stdout",
     "output_type": "stream",
     "text": [
      "10\n"
     ]
    }
   ],
   "source": [
    " a%=30  \n",
    "print(a)# a=a%30"
   ]
  },
  {
   "cell_type": "markdown",
   "id": "5c4a2d2e-fedf-47e0-b437-da462e3b312c",
   "metadata": {},
   "source": [
    "# comparison operator"
   ]
  },
  {
   "cell_type": "raw",
   "id": "82bfe5dd-cd18-424d-b8c6-e2e5a57d3d8f",
   "metadata": {},
   "source": [
    "Operator\tName\n",
    "==   \t    Equal\t\n",
    "!=\t        Not equal\t\n",
    ">\t        Greater than\t\t\n",
    "<\t        Less than\t\n",
    ">=\t        Greater than or equal to\t\t\n",
    "<=\t        Less than or equal to"
   ]
  },
  {
   "cell_type": "code",
   "execution_count": 52,
   "id": "a7965a48-df97-413b-8162-cd22fd10e3c8",
   "metadata": {},
   "outputs": [
    {
     "data": {
      "text/plain": [
       "True"
      ]
     },
     "execution_count": 52,
     "metadata": {},
     "output_type": "execute_result"
    }
   ],
   "source": [
    "10==10"
   ]
  },
  {
   "cell_type": "code",
   "execution_count": 53,
   "id": "8cb64bc5-5fa6-4166-827d-8e8313c16255",
   "metadata": {},
   "outputs": [
    {
     "data": {
      "text/plain": [
       "False"
      ]
     },
     "execution_count": 53,
     "metadata": {},
     "output_type": "execute_result"
    }
   ],
   "source": [
    "10!=10"
   ]
  },
  {
   "cell_type": "code",
   "execution_count": 54,
   "id": "66327bc4-f4c9-4190-9d11-94dddf5946d0",
   "metadata": {},
   "outputs": [
    {
     "ename": "SyntaxError",
     "evalue": "cannot assign to literal here. Maybe you meant '==' instead of '='? (1770450478.py, line 1)",
     "output_type": "error",
     "traceback": [
      "\u001b[1;36m  Cell \u001b[1;32mIn[54], line 1\u001b[1;36m\u001b[0m\n\u001b[1;33m    10=get_ipython().getoutput('10')\u001b[0m\n\u001b[1;37m    ^\u001b[0m\n\u001b[1;31mSyntaxError\u001b[0m\u001b[1;31m:\u001b[0m cannot assign to literal here. Maybe you meant '==' instead of '='?\n"
     ]
    }
   ],
   "source": [
    "10=!10\n"
   ]
  },
  {
   "cell_type": "code",
   "execution_count": 55,
   "id": "8346dd00-a792-4878-917d-6f8e44f91f13",
   "metadata": {},
   "outputs": [
    {
     "data": {
      "text/plain": [
       "True"
      ]
     },
     "execution_count": 55,
     "metadata": {},
     "output_type": "execute_result"
    }
   ],
   "source": [
    "10!=20"
   ]
  },
  {
   "cell_type": "code",
   "execution_count": 56,
   "id": "56c1c628-3764-4a63-952e-37144c63ff81",
   "metadata": {},
   "outputs": [
    {
     "data": {
      "text/plain": [
       "True"
      ]
     },
     "execution_count": 56,
     "metadata": {},
     "output_type": "execute_result"
    }
   ],
   "source": [
    "10<20"
   ]
  },
  {
   "cell_type": "code",
   "execution_count": 57,
   "id": "79d992cb-bf8c-4ae7-9855-36d6211f620d",
   "metadata": {},
   "outputs": [
    {
     "data": {
      "text/plain": [
       "False"
      ]
     },
     "execution_count": 57,
     "metadata": {},
     "output_type": "execute_result"
    }
   ],
   "source": [
    "10>20"
   ]
  },
  {
   "cell_type": "code",
   "execution_count": 59,
   "id": "cd8241cf-c804-4961-8280-6bfab12deff2",
   "metadata": {},
   "outputs": [
    {
     "data": {
      "text/plain": [
       "True"
      ]
     },
     "execution_count": 59,
     "metadata": {},
     "output_type": "execute_result"
    }
   ],
   "source": [
    "10>=10"
   ]
  },
  {
   "cell_type": "code",
   "execution_count": 60,
   "id": "8e3ac095-0ab9-4c45-a1ce-5b9e18c97b83",
   "metadata": {},
   "outputs": [
    {
     "data": {
      "text/plain": [
       "False"
      ]
     },
     "execution_count": 60,
     "metadata": {},
     "output_type": "execute_result"
    }
   ],
   "source": [
    "10>=11"
   ]
  },
  {
   "cell_type": "code",
   "execution_count": 61,
   "id": "6964bb37-4cf5-4edc-8406-c9e7080ac37c",
   "metadata": {},
   "outputs": [
    {
     "data": {
      "text/plain": [
       "True"
      ]
     },
     "execution_count": 61,
     "metadata": {},
     "output_type": "execute_result"
    }
   ],
   "source": [
    "10<=10"
   ]
  },
  {
   "cell_type": "markdown",
   "id": "800c33a5-8e6e-46d2-a9f3-869df3cd0ced",
   "metadata": {},
   "source": [
    "# logical operators"
   ]
  },
  {
   "cell_type": "code",
   "execution_count": 2,
   "id": "a8a1ce72-3efe-4a0c-9274-86d6208c8406",
   "metadata": {},
   "outputs": [],
   "source": [
    "#and,or,not"
   ]
  },
  {
   "cell_type": "raw",
   "id": "ba0837eb-13f3-4b7a-b771-2e894cc55cd9",
   "metadata": {},
   "source": [
    "truth table # AND\n",
    "T,T= T\n",
    "T,F= F\n",
    "F,T= F\n",
    "F,F= F"
   ]
  },
  {
   "cell_type": "raw",
   "id": "181d10d0-2a5b-44f4-bb68-4fb2ddee2a06",
   "metadata": {},
   "source": [
    "# OR\n",
    "T,T = T\n",
    "T,F = T\n",
    "F,T = T\n",
    "F,F = F"
   ]
  },
  {
   "cell_type": "raw",
   "id": "fd1fcf95-cf7f-4af4-b8f0-878a371a58df",
   "metadata": {},
   "source": [
    "# NOT\n",
    "T,T =F\n",
    "T,F = T\n",
    "F,T = T\n",
    "F,F =T"
   ]
  },
  {
   "cell_type": "markdown",
   "id": "8210472e-ad8e-4f69-98a2-781a101dd9fc",
   "metadata": {},
   "source": [
    "# and conditions"
   ]
  },
  {
   "cell_type": "code",
   "execution_count": 6,
   "id": "ecdb75f4-a49c-4673-96cb-0765e77bb8eb",
   "metadata": {},
   "outputs": [
    {
     "data": {
      "text/plain": [
       "True"
      ]
     },
     "execution_count": 6,
     "metadata": {},
     "output_type": "execute_result"
    }
   ],
   "source": [
    "10==10 and 11==11"
   ]
  },
  {
   "cell_type": "code",
   "execution_count": 7,
   "id": "a8784d7c-69ee-426c-8f04-1f812be8935b",
   "metadata": {},
   "outputs": [
    {
     "data": {
      "text/plain": [
       "False"
      ]
     },
     "execution_count": 7,
     "metadata": {},
     "output_type": "execute_result"
    }
   ],
   "source": [
    "10==10 and 11!=11"
   ]
  },
  {
   "cell_type": "code",
   "execution_count": 8,
   "id": "a33e8783-670e-4f4f-a602-f18f3ebb8753",
   "metadata": {},
   "outputs": [
    {
     "data": {
      "text/plain": [
       "False"
      ]
     },
     "execution_count": 8,
     "metadata": {},
     "output_type": "execute_result"
    }
   ],
   "source": [
    "10!=10 and 11==11"
   ]
  },
  {
   "cell_type": "code",
   "execution_count": 9,
   "id": "a5549458-4290-4555-93fb-8ae6517e9cab",
   "metadata": {},
   "outputs": [
    {
     "data": {
      "text/plain": [
       "False"
      ]
     },
     "execution_count": 9,
     "metadata": {},
     "output_type": "execute_result"
    }
   ],
   "source": [
    "10!=10 and 11!=11"
   ]
  },
  {
   "cell_type": "markdown",
   "id": "ba7ba309-35f5-48dc-9a68-ab7754875cec",
   "metadata": {},
   "source": [
    "# or conditions "
   ]
  },
  {
   "cell_type": "code",
   "execution_count": 10,
   "id": "391636fb-4fbe-4815-b93d-86a7cfcd89db",
   "metadata": {},
   "outputs": [
    {
     "data": {
      "text/plain": [
       "True"
      ]
     },
     "execution_count": 10,
     "metadata": {},
     "output_type": "execute_result"
    }
   ],
   "source": [
    "10==10 or 11==11"
   ]
  },
  {
   "cell_type": "code",
   "execution_count": 11,
   "id": "1bc9c57b-e2e5-4d8b-a179-8d190dd71a3e",
   "metadata": {},
   "outputs": [
    {
     "data": {
      "text/plain": [
       "True"
      ]
     },
     "execution_count": 11,
     "metadata": {},
     "output_type": "execute_result"
    }
   ],
   "source": [
    "10==10 or 11!=11"
   ]
  },
  {
   "cell_type": "code",
   "execution_count": 12,
   "id": "2d3004ae-3f74-4b70-aa8c-40b2e17e7696",
   "metadata": {},
   "outputs": [
    {
     "data": {
      "text/plain": [
       "True"
      ]
     },
     "execution_count": 12,
     "metadata": {},
     "output_type": "execute_result"
    }
   ],
   "source": [
    "10!=10 or 11==11"
   ]
  },
  {
   "cell_type": "code",
   "execution_count": 13,
   "id": "d96ad338-cd39-40c7-9875-4028c5d9138d",
   "metadata": {},
   "outputs": [
    {
     "data": {
      "text/plain": [
       "False"
      ]
     },
     "execution_count": 13,
     "metadata": {},
     "output_type": "execute_result"
    }
   ],
   "source": [
    "11!=11 or 10!=10"
   ]
  },
  {
   "cell_type": "code",
   "execution_count": 16,
   "id": "49a42dfc-103d-4dae-9986-4d4aae4156e5",
   "metadata": {},
   "outputs": [
    {
     "data": {
      "text/plain": [
       "True"
      ]
     },
     "execution_count": 16,
     "metadata": {},
     "output_type": "execute_result"
    }
   ],
   "source": [
    "10==10 and 11==11 and 12!=11"
   ]
  },
  {
   "cell_type": "code",
   "execution_count": 18,
   "id": "32c0e343-5cb4-4757-8744-9da12c764560",
   "metadata": {},
   "outputs": [
    {
     "data": {
      "text/plain": [
       "True"
      ]
     },
     "execution_count": 18,
     "metadata": {},
     "output_type": "execute_result"
    }
   ],
   "source": [
    "10==10 and 11==11 or 12!=12"
   ]
  },
  {
   "cell_type": "code",
   "execution_count": 20,
   "id": "be533a8e-e187-4ce9-bd0a-b75d04d82013",
   "metadata": {},
   "outputs": [
    {
     "ename": "SyntaxError",
     "evalue": "invalid syntax (98123990.py, line 1)",
     "output_type": "error",
     "traceback": [
      "\u001b[1;36m  Cell \u001b[1;32mIn[20], line 1\u001b[1;36m\u001b[0m\n\u001b[1;33m    10==10 and 11==11 not 12==12\u001b[0m\n\u001b[1;37m                          ^\u001b[0m\n\u001b[1;31mSyntaxError\u001b[0m\u001b[1;31m:\u001b[0m invalid syntax\n"
     ]
    }
   ],
   "source": [
    "10==10 and 11==11 not 12==12"
   ]
  },
  {
   "cell_type": "code",
   "execution_count": 22,
   "id": "82577f93-fce3-43ef-be65-4d2c573af95d",
   "metadata": {},
   "outputs": [
    {
     "data": {
      "text/plain": [
       "True"
      ]
     },
     "execution_count": 22,
     "metadata": {},
     "output_type": "execute_result"
    }
   ],
   "source": [
    " not 12!=12"
   ]
  },
  {
   "cell_type": "code",
   "execution_count": 23,
   "id": "82afcd21-39ed-4dfd-adce-90116d1479dc",
   "metadata": {},
   "outputs": [
    {
     "data": {
      "text/plain": [
       "True"
      ]
     },
     "execution_count": 23,
     "metadata": {},
     "output_type": "execute_result"
    }
   ],
   "source": [
    "10==10 and 11==11 or not 12!=12"
   ]
  },
  {
   "cell_type": "code",
   "execution_count": 24,
   "id": "5d7cfadd-4505-4924-855d-f540c0a77111",
   "metadata": {},
   "outputs": [
    {
     "data": {
      "text/plain": [
       "True"
      ]
     },
     "execution_count": 24,
     "metadata": {},
     "output_type": "execute_result"
    }
   ],
   "source": [
    "not 10==10 and 11==11 or not 12!=12"
   ]
  },
  {
   "cell_type": "code",
   "execution_count": 28,
   "id": "9336fc7e-bc0e-42b6-a3d1-8c32708634c1",
   "metadata": {},
   "outputs": [
    {
     "data": {
      "text/plain": [
       "True"
      ]
     },
     "execution_count": 28,
     "metadata": {},
     "output_type": "execute_result"
    }
   ],
   "source": [
    "not 10==10 and not 11==11 or not 12!=12"
   ]
  },
  {
   "cell_type": "code",
   "execution_count": 30,
   "id": "55d258cd-5a3f-424a-b867-23ed21941614",
   "metadata": {},
   "outputs": [
    {
     "data": {
      "text/plain": [
       "False"
      ]
     },
     "execution_count": 30,
     "metadata": {},
     "output_type": "execute_result"
    }
   ],
   "source": [
    "not (10==10 and 11==11 or not 12!=12)"
   ]
  },
  {
   "cell_type": "markdown",
   "id": "a00aa84a-2e7e-4fff-b82a-933ff7dec040",
   "metadata": {},
   "source": [
    "# membership operator"
   ]
  },
  {
   "cell_type": "raw",
   "id": "931ce6ba-4716-41bb-9277-6ce723eaeabe",
   "metadata": {},
   "source": [
    " in :=\n",
    "Returns True if a sequence with the specified value is present in the object\t\n",
    "not in:-\n",
    "Returns True if a sequence with the specified value is not present in the object"
   ]
  },
  {
   "cell_type": "code",
   "execution_count": 31,
   "id": "9d3e90ca-653d-402d-a1b1-310b6d0ad716",
   "metadata": {},
   "outputs": [],
   "source": [
    "amazon=[\"karan\",\"aditi\",\"krishna\",\"tarun\"]"
   ]
  },
  {
   "cell_type": "code",
   "execution_count": 32,
   "id": "5e7d8d48-1a70-46df-b7d0-f065ab2fa2ab",
   "metadata": {},
   "outputs": [
    {
     "data": {
      "text/plain": [
       "True"
      ]
     },
     "execution_count": 32,
     "metadata": {},
     "output_type": "execute_result"
    }
   ],
   "source": [
    "\"krishna\" in amazon"
   ]
  },
  {
   "cell_type": "code",
   "execution_count": 33,
   "id": "0f017d2f-e0c9-4547-b93a-0a654e93fd29",
   "metadata": {},
   "outputs": [
    {
     "data": {
      "text/plain": [
       "True"
      ]
     },
     "execution_count": 33,
     "metadata": {},
     "output_type": "execute_result"
    }
   ],
   "source": [
    "\"veesh\" not in amazon"
   ]
  },
  {
   "cell_type": "code",
   "execution_count": 34,
   "id": "7d4e0a5c-083b-44ad-bc5a-b6f0a55ea26f",
   "metadata": {},
   "outputs": [
    {
     "data": {
      "text/plain": [
       "False"
      ]
     },
     "execution_count": 34,
     "metadata": {},
     "output_type": "execute_result"
    }
   ],
   "source": [
    "\"krishna\" not in amazon"
   ]
  },
  {
   "cell_type": "markdown",
   "id": "72dce127-600e-47fd-a565-111e752543f7",
   "metadata": {},
   "source": [
    "# identity operator\n",
    "is, is not"
   ]
  },
  {
   "cell_type": "code",
   "execution_count": 37,
   "id": "61652740-877b-4362-9df8-62d48144fec8",
   "metadata": {},
   "outputs": [
    {
     "data": {
      "text/plain": [
       "True"
      ]
     },
     "execution_count": 37,
     "metadata": {},
     "output_type": "execute_result"
    }
   ],
   "source": [
    "\"python\"==\"python\""
   ]
  },
  {
   "cell_type": "code",
   "execution_count": 39,
   "id": "8fa7482d-bf08-4d70-a588-961b1cff3cd6",
   "metadata": {},
   "outputs": [
    {
     "name": "stderr",
     "output_type": "stream",
     "text": [
      "<>:1: SyntaxWarning: \"is\" with a literal. Did you mean \"==\"?\n",
      "<>:1: SyntaxWarning: \"is\" with a literal. Did you mean \"==\"?\n",
      "C:\\Users\\QCS\\AppData\\Local\\Temp\\ipykernel_3972\\2996506863.py:1: SyntaxWarning: \"is\" with a literal. Did you mean \"==\"?\n",
      "  \"python\" is \"python\" # this is deprication warning\n"
     ]
    },
    {
     "data": {
      "text/plain": [
       "True"
      ]
     },
     "execution_count": 39,
     "metadata": {},
     "output_type": "execute_result"
    }
   ],
   "source": [
    "\"python\" is \"python\" # this is deprication warning\n"
   ]
  },
  {
   "cell_type": "code",
   "execution_count": 40,
   "id": "e7da38b4-2b3b-4f36-bb8f-8b551781a6cf",
   "metadata": {},
   "outputs": [
    {
     "data": {
      "text/plain": [
       "False"
      ]
     },
     "execution_count": 40,
     "metadata": {},
     "output_type": "execute_result"
    }
   ],
   "source": [
    "\"python\"!=\"python\""
   ]
  },
  {
   "cell_type": "code",
   "execution_count": 41,
   "id": "72e98b82-9f0e-4468-9746-9fe341016168",
   "metadata": {},
   "outputs": [
    {
     "name": "stderr",
     "output_type": "stream",
     "text": [
      "<>:1: SyntaxWarning: \"is not\" with a literal. Did you mean \"!=\"?\n",
      "<>:1: SyntaxWarning: \"is not\" with a literal. Did you mean \"!=\"?\n",
      "C:\\Users\\QCS\\AppData\\Local\\Temp\\ipykernel_3972\\2415332973.py:1: SyntaxWarning: \"is not\" with a literal. Did you mean \"!=\"?\n",
      "  \"python\" is not \"python\"\n"
     ]
    },
    {
     "data": {
      "text/plain": [
       "False"
      ]
     },
     "execution_count": 41,
     "metadata": {},
     "output_type": "execute_result"
    }
   ],
   "source": [
    "\"python\" is not \"python\""
   ]
  },
  {
   "cell_type": "code",
   "execution_count": 42,
   "id": "b6195566-d9dc-4d23-89fd-53df66fc71f0",
   "metadata": {},
   "outputs": [
    {
     "name": "stderr",
     "output_type": "stream",
     "text": [
      "<>:1: SyntaxWarning: \"is\" with a literal. Did you mean \"==\"?\n",
      "<>:1: SyntaxWarning: \"is\" with a literal. Did you mean \"==\"?\n",
      "C:\\Users\\QCS\\AppData\\Local\\Temp\\ipykernel_3972\\1248704369.py:1: SyntaxWarning: \"is\" with a literal. Did you mean \"==\"?\n",
      "  \"python\" is \"python is funny language\"\n"
     ]
    },
    {
     "data": {
      "text/plain": [
       "False"
      ]
     },
     "execution_count": 42,
     "metadata": {},
     "output_type": "execute_result"
    }
   ],
   "source": [
    "\"python\" is \"python is funny language\""
   ]
  },
  {
   "cell_type": "code",
   "execution_count": 43,
   "id": "58dd441f-f094-4dc5-968b-b62dba28c539",
   "metadata": {},
   "outputs": [
    {
     "data": {
      "text/plain": [
       "True"
      ]
     },
     "execution_count": 43,
     "metadata": {},
     "output_type": "execute_result"
    }
   ],
   "source": [
    "\"python\"in \"python is funny language\""
   ]
  },
  {
   "cell_type": "code",
   "execution_count": null,
   "id": "2282ac29-cb8e-4be2-8130-e799d776f151",
   "metadata": {},
   "outputs": [],
   "source": []
  },
  {
   "cell_type": "code",
   "execution_count": null,
   "id": "0f58def0-156e-4cc4-92df-5b1094d84a4f",
   "metadata": {},
   "outputs": [],
   "source": []
  },
  {
   "cell_type": "markdown",
   "id": "4422c039-aa2a-43a8-b297-e59a8dd2b67e",
   "metadata": {},
   "source": [
    "# bitwise operators"
   ]
  },
  {
   "cell_type": "raw",
   "id": "a6b72da6-f5bf-453e-9a64-73e9b8be3e70",
   "metadata": {},
   "source": [
    "& and :- Sets each bit to 1 if both bits are 1\n",
    "| or :- Sets each bit to 1 if one of two bits is 1\n",
    "^ xor :- Sets each bit to 1 if only one of two bits is 1\n",
    "~ not :- Inverts all the bits\n",
    "<< zero fill left shft :- Shift left by pushing zeros in from the right and let the leftmost bits fall off\n",
    ">> zero fill right shift :- Shift right by pushing copies of the leftmost bit in from the left, and let the rightmost bits fall off"
   ]
  },
  {
   "cell_type": "code",
   "execution_count": 44,
   "id": "6ff30bb9-0b39-4ddd-a1ea-64f5e718efce",
   "metadata": {},
   "outputs": [],
   "source": [
    "a=10"
   ]
  },
  {
   "cell_type": "code",
   "execution_count": 45,
   "id": "d6c302db-3210-424b-a88a-7b3c46440fa3",
   "metadata": {},
   "outputs": [
    {
     "data": {
      "text/plain": [
       "-11"
      ]
     },
     "execution_count": 45,
     "metadata": {},
     "output_type": "execute_result"
    }
   ],
   "source": [
    "~a"
   ]
  },
  {
   "cell_type": "code",
   "execution_count": 46,
   "id": "4d265a47-0e72-4220-9a0b-547724ed82a0",
   "metadata": {},
   "outputs": [
    {
     "data": {
      "text/plain": [
       "11"
      ]
     },
     "execution_count": 46,
     "metadata": {},
     "output_type": "execute_result"
    }
   ],
   "source": [
    "10|11"
   ]
  },
  {
   "cell_type": "code",
   "execution_count": 47,
   "id": "961cc5a1-72ea-40af-a8d2-6dced5e7c93a",
   "metadata": {},
   "outputs": [
    {
     "data": {
      "text/plain": [
       "10"
      ]
     },
     "execution_count": 47,
     "metadata": {},
     "output_type": "execute_result"
    }
   ],
   "source": [
    "10&11"
   ]
  },
  {
   "cell_type": "code",
   "execution_count": 48,
   "id": "96d8cbfa-041a-4672-99a8-ba39fe0571d3",
   "metadata": {},
   "outputs": [
    {
     "data": {
      "text/plain": [
       "2"
      ]
     },
     "execution_count": 48,
     "metadata": {},
     "output_type": "execute_result"
    }
   ],
   "source": [
    "10>>2"
   ]
  },
  {
   "cell_type": "code",
   "execution_count": 49,
   "id": "a294a3a1-e2c8-4db4-a5bb-d5b1fc8d0624",
   "metadata": {},
   "outputs": [
    {
     "data": {
      "text/plain": [
       "40"
      ]
     },
     "execution_count": 49,
     "metadata": {},
     "output_type": "execute_result"
    }
   ],
   "source": [
    "10<<2"
   ]
  },
  {
   "cell_type": "code",
   "execution_count": 1,
   "id": "18852997-e704-4e1d-b240-a3ff619592fc",
   "metadata": {},
   "outputs": [
    {
     "data": {
      "text/plain": [
       "-11"
      ]
     },
     "execution_count": 1,
     "metadata": {},
     "output_type": "execute_result"
    }
   ],
   "source": [
    "~10"
   ]
  },
  {
   "cell_type": "code",
   "execution_count": 2,
   "id": "239496b2-fd1b-45cd-afb2-9b2185df8187",
   "metadata": {},
   "outputs": [
    {
     "data": {
      "text/plain": [
       "3600"
      ]
     },
     "execution_count": 2,
     "metadata": {},
     "output_type": "execute_result"
    }
   ],
   "source": [
    "900<<2 # "
   ]
  },
  {
   "cell_type": "code",
   "execution_count": 3,
   "id": "e86b14be-e56e-4f17-b380-ace200d420ca",
   "metadata": {},
   "outputs": [
    {
     "data": {
      "text/plain": [
       "40"
      ]
     },
     "execution_count": 3,
     "metadata": {},
     "output_type": "execute_result"
    }
   ],
   "source": [
    "10<<2"
   ]
  },
  {
   "cell_type": "code",
   "execution_count": 5,
   "id": "a05cf756-c002-4bf5-a6e4-ac0e593012d3",
   "metadata": {},
   "outputs": [
    {
     "data": {
      "text/plain": [
       "'0b111000010000'"
      ]
     },
     "execution_count": 5,
     "metadata": {},
     "output_type": "execute_result"
    }
   ],
   "source": [
    "bin(3600) # Binary no of 3600"
   ]
  },
  {
   "cell_type": "code",
   "execution_count": 6,
   "id": "c8e213d2-ecef-4dee-aa8a-1e5e4259e374",
   "metadata": {},
   "outputs": [
    {
     "data": {
      "text/plain": [
       "2"
      ]
     },
     "execution_count": 6,
     "metadata": {},
     "output_type": "execute_result"
    }
   ],
   "source": [
    "10>>2"
   ]
  },
  {
   "cell_type": "code",
   "execution_count": 7,
   "id": "a5130af6-3a0c-447e-9e43-6dec6ee1a049",
   "metadata": {},
   "outputs": [],
   "source": [
    "a=10   # 10101\n",
    "b=11    # 1011"
   ]
  },
  {
   "cell_type": "code",
   "execution_count": 8,
   "id": "06f4e23f-1ec0-4d2b-bb25-eff20c131589",
   "metadata": {},
   "outputs": [
    {
     "data": {
      "text/plain": [
       "10"
      ]
     },
     "execution_count": 8,
     "metadata": {},
     "output_type": "execute_result"
    }
   ],
   "source": [
    "a&b"
   ]
  },
  {
   "cell_type": "code",
   "execution_count": 9,
   "id": "b3c338a5-5677-4481-adcc-2624ab6314b2",
   "metadata": {},
   "outputs": [
    {
     "data": {
      "text/plain": [
       "11"
      ]
     },
     "execution_count": 9,
     "metadata": {},
     "output_type": "execute_result"
    }
   ],
   "source": [
    "a|b"
   ]
  },
  {
   "cell_type": "markdown",
   "id": "fbf61800-0bc4-49f5-9c20-c7981f2e1874",
   "metadata": {},
   "source": [
    "# revision of operators"
   ]
  },
  {
   "cell_type": "markdown",
   "id": "4aa65861-6028-4d26-8dac-15b90e2910da",
   "metadata": {},
   "source": [
    "# bitewise perator"
   ]
  },
  {
   "cell_type": "raw",
   "id": "a795b3b0-6a19-410b-ab48-1e9251ad8b1f",
   "metadata": {},
   "source": [
    "definition:- in python bitwise operator are used to perform operations on individual bits of binary numbers"
   ]
  },
  {
   "cell_type": "raw",
   "id": "2c3c5ce0-813c-471b-9fac-a0710b2e1c2e",
   "metadata": {},
   "source": [
    "there are six operators in bitwise"
   ]
  },
  {
   "cell_type": "raw",
   "id": "aa49034d-f0bb-45c8-b49e-3c50de241972",
   "metadata": {},
   "source": [
    "&(bitwise and) , |(bitwise or) , ~(bitwise not), ^(bitwise xor) , (<<bitwise left shift)  ,(>> bitwise right shift) ,"
   ]
  },
  {
   "cell_type": "raw",
   "id": "6efc5968-a380-44ee-b227-d8950c690d70",
   "metadata": {},
   "source": [
    "precedence: ~(highest),<<>>,&,^,|,(lowest)"
   ]
  },
  {
   "cell_type": "code",
   "execution_count": 8,
   "id": "16b17ef2-724e-47a9-8650-0a0b2fddedbe",
   "metadata": {},
   "outputs": [
    {
     "name": "stdout",
     "output_type": "stream",
     "text": [
      "10\n"
     ]
    }
   ],
   "source": [
    "a=0b1010\n",
    "b=0b1011\n",
    "c=a & b\n",
    "print(c)"
   ]
  },
  {
   "cell_type": "markdown",
   "id": "fa33f281-9a2f-4193-aa8d-d0c9100d4ab2",
   "metadata": {},
   "source": [
    "# arhthmetic operator"
   ]
  },
  {
   "cell_type": "raw",
   "id": "74444cc2-6110-46b8-a29e-946ffac3fad7",
   "metadata": {},
   "source": [
    "these operators are used to perform basic arithmetic operations such as addition, subtraction,multiplication,division,modulus,and exponentation."
   ]
  },
  {
   "cell_type": "code",
   "execution_count": 6,
   "id": "0b74d258-4b0a-458d-9d5a-2511c66d4b69",
   "metadata": {},
   "outputs": [
    {
     "name": "stdout",
     "output_type": "stream",
     "text": [
      "14\n"
     ]
    }
   ],
   "source": [
    "a=5+9\n",
    "print(a)"
   ]
  },
  {
   "cell_type": "code",
   "execution_count": 7,
   "id": "17203f02-5bf2-4850-9944-4ba115f7cc2c",
   "metadata": {},
   "outputs": [
    {
     "name": "stdout",
     "output_type": "stream",
     "text": [
      "-4\n"
     ]
    }
   ],
   "source": [
    "aa=5-9\n",
    "print(aa)"
   ]
  },
  {
   "cell_type": "code",
   "execution_count": 9,
   "id": "7ec418b0-799c-49eb-9bda-a8860b109412",
   "metadata": {},
   "outputs": [
    {
     "name": "stdout",
     "output_type": "stream",
     "text": [
      "45\n"
     ]
    }
   ],
   "source": [
    "a=5*9\n",
    "print(a)"
   ]
  },
  {
   "cell_type": "code",
   "execution_count": 12,
   "id": "dee5dafb-decc-4fa6-873a-50347925d477",
   "metadata": {},
   "outputs": [
    {
     "name": "stdout",
     "output_type": "stream",
     "text": [
      "0.5555555555555556\n"
     ]
    }
   ],
   "source": [
    "a=5/9\n",
    "print(a)"
   ]
  },
  {
   "cell_type": "code",
   "execution_count": 13,
   "id": "f392cf6c-f986-4c39-b382-483006790427",
   "metadata": {},
   "outputs": [
    {
     "name": "stdout",
     "output_type": "stream",
     "text": [
      "3\n"
     ]
    }
   ],
   "source": [
    "a=15//4\n",
    "print(a)"
   ]
  },
  {
   "cell_type": "code",
   "execution_count": 14,
   "id": "e6c99feb-e9ff-4b86-bda2-1d4f6e561417",
   "metadata": {},
   "outputs": [
    {
     "name": "stdout",
     "output_type": "stream",
     "text": [
      "0\n"
     ]
    }
   ],
   "source": [
    "a=15%5 modulus give us remainder\n",
    "print(a)"
   ]
  },
  {
   "cell_type": "code",
   "execution_count": 16,
   "id": "f2ae6b63-b3a6-4e3e-a72e-604e9e7e42a5",
   "metadata": {},
   "outputs": [
    {
     "name": "stdout",
     "output_type": "stream",
     "text": [
      "225\n"
     ]
    }
   ],
   "source": [
    "a=15**2 # power double\n",
    "print(a)"
   ]
  },
  {
   "cell_type": "code",
   "execution_count": 17,
   "id": "3b38244e-7ef5-42b0-a85a-e6cadbdda1a4",
   "metadata": {},
   "outputs": [
    {
     "data": {
      "text/plain": [
       "8"
      ]
     },
     "execution_count": 17,
     "metadata": {},
     "output_type": "execute_result"
    }
   ],
   "source": [
    "2**4//3*2+3-5"
   ]
  },
  {
   "cell_type": "markdown",
   "id": "3f3822dc-f1d3-4fde-aa78-810a237aa79d",
   "metadata": {},
   "source": [
    "# comarision operators"
   ]
  },
  {
   "cell_type": "raw",
   "id": "4653b4bb-1c03-43b2-a193-ef060c70c4e8",
   "metadata": {},
   "source": [
    "in python comparision operators are used to compare two values and return a boolean value(true/false) depending on the reslt of the comparison."
   ]
  },
  {
   "cell_type": "code",
   "execution_count": 26,
   "id": "e4b432de-0c0f-44c2-a623-1ee7e8590abc",
   "metadata": {},
   "outputs": [
    {
     "ename": "NameError",
     "evalue": "name 'false' is not defined",
     "output_type": "error",
     "traceback": [
      "\u001b[1;31m---------------------------------------------------------------------------\u001b[0m",
      "\u001b[1;31mNameError\u001b[0m                                 Traceback (most recent call last)",
      "Cell \u001b[1;32mIn[26], line 1\u001b[0m\n\u001b[1;32m----> 1\u001b[0m \u001b[38;5;28mprint\u001b[39m(\u001b[38;5;28mbool\u001b[39m(\u001b[38;5;241m4\u001b[39m\u001b[38;5;241m>\u001b[39m\u001b[38;5;241m6\u001b[39m)\u001b[38;5;241m==\u001b[39m\u001b[43mfalse\u001b[49m)\n",
      "\u001b[1;31mNameError\u001b[0m: name 'false' is not defined"
     ]
    }
   ],
   "source": [
    "print(bool(4>6)==false)"
   ]
  },
  {
   "cell_type": "code",
   "execution_count": 22,
   "id": "85640804-bd0b-422c-8a38-b25f62731e66",
   "metadata": {},
   "outputs": [
    {
     "ename": "NameError",
     "evalue": "name 'false' is not defined",
     "output_type": "error",
     "traceback": [
      "\u001b[1;31m---------------------------------------------------------------------------\u001b[0m",
      "\u001b[1;31mNameError\u001b[0m                                 Traceback (most recent call last)",
      "Cell \u001b[1;32mIn[22], line 1\u001b[0m\n\u001b[1;32m----> 1\u001b[0m \u001b[38;5;28mprint\u001b[39m(\u001b[38;5;241m7\u001b[39m\u001b[38;5;241m>\u001b[39m\u001b[38;5;241m6\u001b[39m\u001b[38;5;241m==\u001b[39m\u001b[43mfalse\u001b[49m)\n",
      "\u001b[1;31mNameError\u001b[0m: name 'false' is not defined"
     ]
    }
   ],
   "source": [
    "print(7>6==false)"
   ]
  },
  {
   "cell_type": "code",
   "execution_count": 24,
   "id": "d8e3bb3c-e845-44b6-87c3-8fd78265b389",
   "metadata": {},
   "outputs": [
    {
     "ename": "NameError",
     "evalue": "name 'true' is not defined",
     "output_type": "error",
     "traceback": [
      "\u001b[1;31m---------------------------------------------------------------------------\u001b[0m",
      "\u001b[1;31mNameError\u001b[0m                                 Traceback (most recent call last)",
      "Cell \u001b[1;32mIn[24], line 1\u001b[0m\n\u001b[1;32m----> 1\u001b[0m \u001b[38;5;28mprint\u001b[39m(\u001b[43mtrue\u001b[49m\u001b[38;5;241m==\u001b[39mtrue\u001b[38;5;241m==\u001b[39mfalse)\n",
      "\u001b[1;31mNameError\u001b[0m: name 'true' is not defined"
     ]
    }
   ],
   "source": [
    "print(true==true==false)"
   ]
  },
  {
   "cell_type": "markdown",
   "id": "8fe6a62d-c428-40cf-b50d-76464386a2af",
   "metadata": {},
   "source": [
    "# assingment operators"
   ]
  },
  {
   "cell_type": "code",
   "execution_count": 30,
   "id": "a58e9e9c-6ac5-4041-9a14-5c646b7a7a8c",
   "metadata": {},
   "outputs": [
    {
     "ename": "NameError",
     "evalue": "name 'x' is not defined",
     "output_type": "error",
     "traceback": [
      "\u001b[1;31m---------------------------------------------------------------------------\u001b[0m",
      "\u001b[1;31mNameError\u001b[0m                                 Traceback (most recent call last)",
      "Cell \u001b[1;32mIn[30], line 1\u001b[0m\n\u001b[1;32m----> 1\u001b[0m \u001b[43mx\u001b[49m\u001b[38;5;241m+\u001b[39m\u001b[38;5;241m=\u001b[39m\u001b[38;5;241m2\u001b[39m\n",
      "\u001b[1;31mNameError\u001b[0m: name 'x' is not defined"
     ]
    }
   ],
   "source": [
    "x+=2"
   ]
  },
  {
   "cell_type": "code",
   "execution_count": 31,
   "id": "fa25adb3-2dad-4c3c-a171-246a460bb81b",
   "metadata": {},
   "outputs": [
    {
     "ename": "NameError",
     "evalue": "name 'x' is not defined",
     "output_type": "error",
     "traceback": [
      "\u001b[1;31m---------------------------------------------------------------------------\u001b[0m",
      "\u001b[1;31mNameError\u001b[0m                                 Traceback (most recent call last)",
      "Cell \u001b[1;32mIn[31], line 1\u001b[0m\n\u001b[1;32m----> 1\u001b[0m \u001b[43mx\u001b[49m\u001b[38;5;241m*\u001b[39m\u001b[38;5;241m=\u001b[39m\u001b[38;5;241m3\u001b[39m\n",
      "\u001b[1;31mNameError\u001b[0m: name 'x' is not defined"
     ]
    }
   ],
   "source": [
    "x*=3"
   ]
  },
  {
   "cell_type": "code",
   "execution_count": 2,
   "id": "d9a4d7a5-9d27-4c96-8f68-5c0084f9e598",
   "metadata": {},
   "outputs": [
    {
     "name": "stdout",
     "output_type": "stream",
     "text": [
      "20 is the age\n"
     ]
    }
   ],
   "source": [
    "age=20\n",
    "print(age, 'is the age')"
   ]
  },
  {
   "cell_type": "code",
   "execution_count": 3,
   "id": "ee43f048-1316-4e4a-aa92-1d237e8f4dbc",
   "metadata": {},
   "outputs": [
    {
     "name": "stdout",
     "output_type": "stream",
     "text": [
      "Hello, World\n"
     ]
    }
   ],
   "source": [
    "print('Hello,', 'World')"
   ]
  },
  {
   "cell_type": "code",
   "execution_count": 4,
   "id": "436abe16-af35-434c-8f05-48180caa19db",
   "metadata": {},
   "outputs": [
    {
     "name": "stdout",
     "output_type": "stream",
     "text": [
      "Hey\n",
      "\n",
      "How are you?\n"
     ]
    }
   ],
   "source": [
    "print('Hey\\n\\nHow are you?')"
   ]
  },
  {
   "cell_type": "code",
   "execution_count": 2,
   "id": "9a3f2b05-9ad2-4fc8-9de3-52f6b71c959e",
   "metadata": {},
   "outputs": [],
   "source": [
    "# revision"
   ]
  },
  {
   "cell_type": "raw",
   "id": "c6fa0199-55a3-4df6-825d-a3619b6659ea",
   "metadata": {},
   "source": [
    "arthmetic operators (+,-,*,/,**,%,//)"
   ]
  },
  {
   "cell_type": "code",
   "execution_count": 4,
   "id": "568fc535-0f86-4ba9-b3da-8dd772bf9ec9",
   "metadata": {},
   "outputs": [
    {
     "name": "stdout",
     "output_type": "stream",
     "text": [
      "9\n"
     ]
    }
   ],
   "source": [
    "a=5\n",
    "b=4\n",
    "print(a+b)"
   ]
  },
  {
   "cell_type": "code",
   "execution_count": 6,
   "id": "0868a210-5edb-46a1-b17d-ccc04e6fb568",
   "metadata": {},
   "outputs": [
    {
     "name": "stdout",
     "output_type": "stream",
     "text": [
      "1\n",
      "20\n",
      "1.25\n"
     ]
    }
   ],
   "source": [
    "print(a-b)\n",
    "print(a*b)\n",
    "print(a/b)"
   ]
  },
  {
   "cell_type": "code",
   "execution_count": 9,
   "id": "0987021b-bca6-487e-9d1c-86c1d0585ce6",
   "metadata": {},
   "outputs": [
    {
     "name": "stdout",
     "output_type": "stream",
     "text": [
      "1\n"
     ]
    }
   ],
   "source": [
    "#floor division // so floor division remove the point value if we are gettig point in decimal so it will remove all the value after poin\n",
    "print(a//b)"
   ]
  },
  {
   "cell_type": "code",
   "execution_count": 12,
   "id": "98d757dc-aad8-452f-8c27-42a6d722eba6",
   "metadata": {},
   "outputs": [
    {
     "name": "stdout",
     "output_type": "stream",
     "text": [
      "2\n"
     ]
    }
   ],
   "source": [
    "a=6\n",
    "b=4\n",
    "print(a % b) #modulus give us remainder"
   ]
  },
  {
   "cell_type": "code",
   "execution_count": 13,
   "id": "c01e98e4-ceee-4dc0-8ac6-44120d6b6dc3",
   "metadata": {},
   "outputs": [
    {
     "data": {
      "text/plain": [
       "32"
      ]
     },
     "execution_count": 13,
     "metadata": {},
     "output_type": "execute_result"
    }
   ],
   "source": [
    "2**5 # power is double"
   ]
  },
  {
   "cell_type": "code",
   "execution_count": 14,
   "id": "d285a932-3e84-4fbd-a82c-4038969d3fc3",
   "metadata": {},
   "outputs": [
    {
     "data": {
      "text/plain": [
       "25"
      ]
     },
     "execution_count": 14,
     "metadata": {},
     "output_type": "execute_result"
    }
   ],
   "source": [
    "5**2"
   ]
  },
  {
   "cell_type": "code",
   "execution_count": 15,
   "id": "05989762-87e5-4b24-9ba9-47a14f2540f2",
   "metadata": {},
   "outputs": [],
   "source": [
    "# assingment operators"
   ]
  },
  {
   "cell_type": "code",
   "execution_count": null,
   "id": "4899d1d7-60d5-4291-aaa6-a528f4deaef0",
   "metadata": {},
   "outputs": [],
   "source": [
    "=,+=,-=,/=,*=,%="
   ]
  },
  {
   "cell_type": "code",
   "execution_count": 18,
   "id": "b9cc6b3a-b077-485f-b237-54296ce188a0",
   "metadata": {},
   "outputs": [
    {
     "name": "stdout",
     "output_type": "stream",
     "text": [
      "7\n"
     ]
    }
   ],
   "source": [
    "a=2\n",
    "b=5\n",
    "a+=b  #a=a+b\n",
    "print(a)"
   ]
  },
  {
   "cell_type": "code",
   "execution_count": 19,
   "id": "90ca972d-78d0-4205-8505-290513f8fe1e",
   "metadata": {},
   "outputs": [
    {
     "name": "stdout",
     "output_type": "stream",
     "text": [
      "-3\n"
     ]
    }
   ],
   "source": [
    "a=2\n",
    "b=5\n",
    "a-=b  #a=a-b\n",
    "print(a)"
   ]
  },
  {
   "cell_type": "code",
   "execution_count": 20,
   "id": "d3d1522a-fb35-45e4-aa3e-5f3e19d32c4d",
   "metadata": {},
   "outputs": [
    {
     "name": "stdout",
     "output_type": "stream",
     "text": [
      "10\n"
     ]
    }
   ],
   "source": [
    "a=2\n",
    "b=5\n",
    "a*=b  #a=a*b\n",
    "print(a)"
   ]
  },
  {
   "cell_type": "code",
   "execution_count": 21,
   "id": "aa056606-d786-4100-ac46-66195110642a",
   "metadata": {},
   "outputs": [
    {
     "name": "stdout",
     "output_type": "stream",
     "text": [
      "0.4\n"
     ]
    }
   ],
   "source": [
    "a=2\n",
    "b=5\n",
    "a/=b  #a=a/b\n",
    "print(a)"
   ]
  },
  {
   "cell_type": "code",
   "execution_count": 22,
   "id": "8075447a-b3e8-4487-89e0-fd4a6713451f",
   "metadata": {},
   "outputs": [
    {
     "name": "stdout",
     "output_type": "stream",
     "text": [
      "2\n"
     ]
    }
   ],
   "source": [
    "a=2\n",
    "b=5\n",
    "a%=b  #a=a%b\n",
    "print(a)"
   ]
  },
  {
   "cell_type": "code",
   "execution_count": 23,
   "id": "acda4fbb-056b-473b-8941-ae2d16bc114b",
   "metadata": {},
   "outputs": [
    {
     "name": "stdout",
     "output_type": "stream",
     "text": [
      "0\n"
     ]
    }
   ],
   "source": [
    "a=2\n",
    "b=5\n",
    "a//=b  #a=a//b\n",
    "print(a)"
   ]
  },
  {
   "cell_type": "code",
   "execution_count": 24,
   "id": "2af2d5a1-932a-4f89-be98-441969fc705b",
   "metadata": {},
   "outputs": [
    {
     "name": "stdout",
     "output_type": "stream",
     "text": [
      "32\n"
     ]
    }
   ],
   "source": [
    "a=2\n",
    "b=5\n",
    "a**=b  #a=a**b\n",
    "print(a)"
   ]
  },
  {
   "cell_type": "code",
   "execution_count": 27,
   "id": "6e217950-27e0-4fcf-b87f-d121b41310a4",
   "metadata": {},
   "outputs": [],
   "source": [
    "# relational operators comparision data (==equal),!=not equal,>greater than,< less than,greater than or equal to>=,less than or equal to<="
   ]
  },
  {
   "cell_type": "code",
   "execution_count": 28,
   "id": "f6c0094c-ab56-4374-92eb-5b9ab84c1aea",
   "metadata": {},
   "outputs": [],
   "source": [
    "a=5\n",
    "b=4\n",
    "c=7\n",
    "d=8\n",
    "e=9\n"
   ]
  },
  {
   "cell_type": "code",
   "execution_count": 29,
   "id": "aa611618-71b5-4028-b1f9-41a6ecac6b54",
   "metadata": {},
   "outputs": [
    {
     "name": "stdout",
     "output_type": "stream",
     "text": [
      "False\n"
     ]
    }
   ],
   "source": [
    "print(a==b)"
   ]
  },
  {
   "cell_type": "code",
   "execution_count": 30,
   "id": "e59ef4d2-e316-4591-a15c-5444c116b1eb",
   "metadata": {},
   "outputs": [
    {
     "name": "stdout",
     "output_type": "stream",
     "text": [
      "True\n"
     ]
    }
   ],
   "source": [
    "print(a!=b)"
   ]
  },
  {
   "cell_type": "code",
   "execution_count": 32,
   "id": "b797509c-04d7-4636-a545-21d5ff9c4f4c",
   "metadata": {},
   "outputs": [
    {
     "name": "stdout",
     "output_type": "stream",
     "text": [
      "True\n"
     ]
    }
   ],
   "source": [
    "print(a!=c)"
   ]
  },
  {
   "cell_type": "code",
   "execution_count": 33,
   "id": "c31cc82f-70e3-4ddf-bcf3-aee72f7be810",
   "metadata": {},
   "outputs": [
    {
     "name": "stdout",
     "output_type": "stream",
     "text": [
      "True\n"
     ]
    }
   ],
   "source": [
    "print(a>b)"
   ]
  },
  {
   "cell_type": "code",
   "execution_count": 34,
   "id": "74bce983-13e5-43b8-bf5a-8dea0a773e24",
   "metadata": {},
   "outputs": [
    {
     "name": "stdout",
     "output_type": "stream",
     "text": [
      "True\n"
     ]
    }
   ],
   "source": [
    "print(a<c)"
   ]
  },
  {
   "cell_type": "code",
   "execution_count": 35,
   "id": "8011d032-a7ca-446f-8e8d-07eb645d7ad0",
   "metadata": {},
   "outputs": [
    {
     "name": "stdout",
     "output_type": "stream",
     "text": [
      "False\n"
     ]
    }
   ],
   "source": [
    "print(d>e)"
   ]
  },
  {
   "cell_type": "code",
   "execution_count": 36,
   "id": "2e3d5938-b2b8-4605-bc2a-bb94dcdf0156",
   "metadata": {},
   "outputs": [
    {
     "name": "stdout",
     "output_type": "stream",
     "text": [
      "False\n"
     ]
    }
   ],
   "source": [
    "print(a<=b)"
   ]
  },
  {
   "cell_type": "code",
   "execution_count": 38,
   "id": "9adf4a42-28c1-43ce-bc71-d28c7d35fb47",
   "metadata": {},
   "outputs": [
    {
     "name": "stdout",
     "output_type": "stream",
     "text": [
      "True\n"
     ]
    }
   ],
   "source": [
    "print(a>=b) # in this case if one situation is true it will give true"
   ]
  },
  {
   "cell_type": "code",
   "execution_count": 39,
   "id": "84bd7273-289e-4e63-857d-c3c81a48deda",
   "metadata": {},
   "outputs": [],
   "source": [
    "# logical operator"
   ]
  },
  {
   "cell_type": "raw",
   "id": "95ace98e-4f1d-4b28-b750-e9383a5f9c0b",
   "metadata": {},
   "source": [
    "and,or ,not"
   ]
  },
  {
   "cell_type": "code",
   "execution_count": 42,
   "id": "04fa791a-a215-4e50-a2bc-791f942a7219",
   "metadata": {},
   "outputs": [
    {
     "name": "stdout",
     "output_type": "stream",
     "text": [
      "True\n"
     ]
    }
   ],
   "source": [
    "print(True and True)"
   ]
  },
  {
   "cell_type": "code",
   "execution_count": 43,
   "id": "0c96d523-226e-49b8-a0c4-71fdb70ad19d",
   "metadata": {},
   "outputs": [
    {
     "name": "stdout",
     "output_type": "stream",
     "text": [
      "False\n"
     ]
    }
   ],
   "source": [
    "print(True and False)"
   ]
  },
  {
   "cell_type": "code",
   "execution_count": 44,
   "id": "2c069a0c-4d7b-45c1-81ee-b8a6c2af5081",
   "metadata": {},
   "outputs": [
    {
     "name": "stdout",
     "output_type": "stream",
     "text": [
      "False\n"
     ]
    }
   ],
   "source": [
    "print(False and True)"
   ]
  },
  {
   "cell_type": "code",
   "execution_count": 45,
   "id": "9a38fa73-ca84-43e7-99f6-c37cb6368d69",
   "metadata": {},
   "outputs": [
    {
     "name": "stdout",
     "output_type": "stream",
     "text": [
      "False\n"
     ]
    }
   ],
   "source": [
    "print(False and False)"
   ]
  },
  {
   "cell_type": "code",
   "execution_count": 46,
   "id": "553abc0a-139d-4684-bf36-a43f2d50779f",
   "metadata": {},
   "outputs": [
    {
     "name": "stdout",
     "output_type": "stream",
     "text": [
      "True\n"
     ]
    }
   ],
   "source": [
    "print(True or False)"
   ]
  },
  {
   "cell_type": "code",
   "execution_count": 47,
   "id": "782edfa7-d7f1-4a76-97e3-04aa69468528",
   "metadata": {},
   "outputs": [
    {
     "name": "stdout",
     "output_type": "stream",
     "text": [
      "True\n"
     ]
    }
   ],
   "source": [
    "print(True or True)"
   ]
  },
  {
   "cell_type": "code",
   "execution_count": 48,
   "id": "9b3f165c-cece-4c94-9236-2079f621711b",
   "metadata": {},
   "outputs": [
    {
     "name": "stdout",
     "output_type": "stream",
     "text": [
      "True\n"
     ]
    }
   ],
   "source": [
    "print(False or True)"
   ]
  },
  {
   "cell_type": "code",
   "execution_count": 49,
   "id": "10d4749a-d14e-4305-b029-d477362abb15",
   "metadata": {},
   "outputs": [
    {
     "name": "stdout",
     "output_type": "stream",
     "text": [
      "False\n"
     ]
    }
   ],
   "source": [
    "print(False or False)"
   ]
  },
  {
   "cell_type": "code",
   "execution_count": 52,
   "id": "4747e620-6d34-4cf5-9a8c-ef83563e13e9",
   "metadata": {},
   "outputs": [
    {
     "name": "stdout",
     "output_type": "stream",
     "text": [
      "True\n"
     ]
    }
   ],
   "source": [
    "a=12\n",
    "b=34\n",
    "print(not a>b)"
   ]
  },
  {
   "cell_type": "code",
   "execution_count": 53,
   "id": "dbf802a1-4ba5-489c-9fdf-6732f493bac6",
   "metadata": {},
   "outputs": [
    {
     "name": "stdout",
     "output_type": "stream",
     "text": [
      "False\n"
     ]
    }
   ],
   "source": [
    "print(not a<b)"
   ]
  },
  {
   "cell_type": "markdown",
   "id": "098e2569-6265-4d70-9714-cd8c82ec64dd",
   "metadata": {},
   "source": [
    "# identity operator\n",
    "is , is not"
   ]
  },
  {
   "cell_type": "raw",
   "id": "84dd15af-57f9-4398-ab0f-01f2935c4ada",
   "metadata": {},
   "source": [
    "is : returns if both variables are the same object it will return true\n",
    "is not : returns true if both variables are not the same object "
   ]
  },
  {
   "cell_type": "code",
   "execution_count": 76,
   "id": "eacef1ec-5fe1-417a-9dda-364fbce4dc88",
   "metadata": {},
   "outputs": [
    {
     "name": "stdout",
     "output_type": "stream",
     "text": [
      "correct\n"
     ]
    }
   ],
   "source": [
    "x=5\n",
    "if (type(x)is int):\n",
    "    print(\"correct\");\n",
    "else: (\"incorrect\") ;"
   ]
  },
  {
   "cell_type": "code",
   "execution_count": 63,
   "id": "db040ed3-a5f4-4a14-90b5-22c447694ad8",
   "metadata": {},
   "outputs": [
    {
     "name": "stdout",
     "output_type": "stream",
     "text": [
      "correct\n"
     ]
    }
   ],
   "source": [
    "x=5\n",
    "if(type(x)is not float):\n",
    "    print(\"correct\")\n",
    "else: (\"incorrect\")"
   ]
  },
  {
   "cell_type": "code",
   "execution_count": 62,
   "id": "ba2200f0-15c7-46f5-8ea8-b1aceb36a5f3",
   "metadata": {},
   "outputs": [
    {
     "name": "stdout",
     "output_type": "stream",
     "text": [
      "correct\n"
     ]
    }
   ],
   "source": [
    "x=5.3\n",
    "if(type(x)is not int):\n",
    "    print(\"correct\")\n",
    "else: (\"incorrect\")"
   ]
  },
  {
   "cell_type": "code",
   "execution_count": 1,
   "id": "1079a7ba-7546-4014-bea0-480f4423f251",
   "metadata": {},
   "outputs": [
    {
     "name": "stdout",
     "output_type": "stream",
     "text": [
      "incorrect\n"
     ]
    }
   ],
   "source": [
    "x=5.5\n",
    "if (type(x)is int):\n",
    "    print(\"correct\")\n",
    "else: print(\"incorrect\")"
   ]
  },
  {
   "cell_type": "code",
   "execution_count": null,
   "id": "39ca128b-4135-4867-af3e-44cc03186449",
   "metadata": {},
   "outputs": [],
   "source": []
  },
  {
   "cell_type": "raw",
   "id": "18d5d6e3-e5e3-48b5-bb3c-b4ad4d70cdd3",
   "metadata": {},
   "source": [
    "# membership operator\n",
    "in :this returns true if the elements is found otherwise false\n",
    "not in : this returns true if the element is not found otherwise true."
   ]
  },
  {
   "cell_type": "code",
   "execution_count": 78,
   "id": "9c7ae1e0-d3ce-4b0f-a99f-86c5babefb71",
   "metadata": {},
   "outputs": [
    {
     "name": "stdout",
     "output_type": "stream",
     "text": [
      "no a is not present in the list\n"
     ]
    }
   ],
   "source": [
    "a=10;\n",
    "list=[1,2,3,4,5];\n",
    "if (a in list):\n",
    "    print(\"yes a is present in the list\");\n",
    "\n",
    "else:\n",
    "    print(\"no a is not present in the list\");"
   ]
  },
  {
   "cell_type": "code",
   "execution_count": 80,
   "id": "fbd25d85-0b4f-4d50-8f25-081347cde1c0",
   "metadata": {},
   "outputs": [
    {
     "name": "stdout",
     "output_type": "stream",
     "text": [
      "yes a is present in the list\n"
     ]
    }
   ],
   "source": [
    "a=1;\n",
    "list=[1,2,3,4,5];\n",
    "if (a in list):\n",
    "    print(\"yes a is present in the list\");\n",
    "\n",
    "else:\n",
    "    print(\"no a is not present in the list\");"
   ]
  },
  {
   "cell_type": "code",
   "execution_count": null,
   "id": "6a45a33f-2d29-4148-8c1c-3f1523c45cea",
   "metadata": {},
   "outputs": [],
   "source": []
  }
 ],
 "metadata": {
  "kernelspec": {
   "display_name": "Python 3 (ipykernel)",
   "language": "python",
   "name": "python3"
  },
  "language_info": {
   "codemirror_mode": {
    "name": "ipython",
    "version": 3
   },
   "file_extension": ".py",
   "mimetype": "text/x-python",
   "name": "python",
   "nbconvert_exporter": "python",
   "pygments_lexer": "ipython3",
   "version": "3.11.4"
  }
 },
 "nbformat": 4,
 "nbformat_minor": 5
}
