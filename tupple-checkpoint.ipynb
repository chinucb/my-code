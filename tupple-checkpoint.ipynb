{
 "cells": [
  {
   "cell_type": "markdown",
   "id": "233ec78c-7b7f-48fa-b89f-4eb07383f824",
   "metadata": {},
   "source": [
    "# tuple"
   ]
  },
  {
   "cell_type": "markdown",
   "id": "b2d8f3d6-fcae-4c39-b62e-2511664e9b20",
   "metadata": {},
   "source": [
    "<tuple constructor is tupple()\n",
    "<tuple literal is ()\n",
    "<tuple is a ordered set of sequence ofelements.\n",
    "<tuple support indexing\n",
    "<tuple support slicing\n",
    "<tuple support concatination\n",
    "<tuple is mutable\n",
    "<tuple is immutable(hashable)\n",
    "<tuple support nested list\n",
    "<tuple methods:- index(),count()"
   ]
  },
  {
   "cell_type": "raw",
   "id": "05cebdde-0ec8-4207-81f0-555860cfaf0a",
   "metadata": {},
   "source": [
    "tupple is immutable but similar as list (u can't change tuple)"
   ]
  },
  {
   "cell_type": "code",
   "execution_count": 1,
   "id": "2c27b992-3ff6-43f6-86e8-fea8713bae6d",
   "metadata": {},
   "outputs": [],
   "source": [
    "a=tuple() #comas are mandatory in tuple"
   ]
  },
  {
   "cell_type": "code",
   "execution_count": 2,
   "id": "6c5ff080-3903-4639-91a6-e366654e83df",
   "metadata": {},
   "outputs": [
    {
     "data": {
      "text/plain": [
       "()"
      ]
     },
     "execution_count": 2,
     "metadata": {},
     "output_type": "execute_result"
    }
   ],
   "source": [
    "a"
   ]
  },
  {
   "cell_type": "code",
   "execution_count": 6,
   "id": "72dcffe7-6fb7-4301-b0e1-717be603be90",
   "metadata": {},
   "outputs": [],
   "source": [
    "b=()"
   ]
  },
  {
   "cell_type": "code",
   "execution_count": 7,
   "id": "56a99cc2-5586-4620-b152-d28521814e6a",
   "metadata": {},
   "outputs": [
    {
     "name": "stdout",
     "output_type": "stream",
     "text": [
      "()\n"
     ]
    }
   ],
   "source": [
    "print(b)"
   ]
  },
  {
   "cell_type": "code",
   "execution_count": 5,
   "id": "acaae7a1-908a-475f-aef2-395d1859c997",
   "metadata": {},
   "outputs": [
    {
     "data": {
      "text/plain": [
       "tuple"
      ]
     },
     "execution_count": 5,
     "metadata": {},
     "output_type": "execute_result"
    }
   ],
   "source": [
    "type(a)"
   ]
  },
  {
   "cell_type": "code",
   "execution_count": 8,
   "id": "6ee3b958-c739-4029-ad3a-9462ee1583a7",
   "metadata": {},
   "outputs": [],
   "source": [
    "c=(10,23,34,45,0.32,43)"
   ]
  },
  {
   "cell_type": "code",
   "execution_count": 9,
   "id": "4a3f995d-3839-4d4a-a1f3-52d5b9fc8437",
   "metadata": {},
   "outputs": [
    {
     "data": {
      "text/plain": [
       "tuple"
      ]
     },
     "execution_count": 9,
     "metadata": {},
     "output_type": "execute_result"
    }
   ],
   "source": [
    "type(c)"
   ]
  },
  {
   "cell_type": "markdown",
   "id": "f39d7a1d-feeb-4757-8a04-ede94eaedb5e",
   "metadata": {},
   "source": [
    "# indexing on tuple"
   ]
  },
  {
   "cell_type": "code",
   "execution_count": 11,
   "id": "26181eb0-e586-4c59-8fe7-84e01fc55bf9",
   "metadata": {},
   "outputs": [
    {
     "data": {
      "text/plain": [
       "0.32"
      ]
     },
     "execution_count": 11,
     "metadata": {},
     "output_type": "execute_result"
    }
   ],
   "source": [
    "c[4]"
   ]
  },
  {
   "cell_type": "code",
   "execution_count": 15,
   "id": "998d2d09-e05a-4e96-bff6-4f42bf912596",
   "metadata": {},
   "outputs": [
    {
     "data": {
      "text/plain": [
       "0.32"
      ]
     },
     "execution_count": 15,
     "metadata": {},
     "output_type": "execute_result"
    }
   ],
   "source": [
    "c[-2]"
   ]
  },
  {
   "cell_type": "code",
   "execution_count": 21,
   "id": "840d81a1-692c-47b3-80d5-5e208d4dba56",
   "metadata": {},
   "outputs": [
    {
     "data": {
      "text/plain": [
       "0"
      ]
     },
     "execution_count": 21,
     "metadata": {},
     "output_type": "execute_result"
    }
   ],
   "source": [
    "c.index(10)"
   ]
  },
  {
   "cell_type": "code",
   "execution_count": 22,
   "id": "3837a1c0-7177-4e81-8b9a-7f4cd158c062",
   "metadata": {},
   "outputs": [
    {
     "data": {
      "text/plain": [
       "0.32"
      ]
     },
     "execution_count": 22,
     "metadata": {},
     "output_type": "execute_result"
    }
   ],
   "source": [
    "c[-2]"
   ]
  },
  {
   "cell_type": "code",
   "execution_count": 23,
   "id": "3190e4f6-bcaf-4742-b137-7ef8978d9dde",
   "metadata": {},
   "outputs": [],
   "source": [
    "d=(10,203,43,54,0.32,54,45,56,54)"
   ]
  },
  {
   "cell_type": "code",
   "execution_count": 26,
   "id": "377e0eb1-60a4-4905-8d6c-939d5051b90f",
   "metadata": {},
   "outputs": [
    {
     "data": {
      "text/plain": [
       "8"
      ]
     },
     "execution_count": 26,
     "metadata": {},
     "output_type": "execute_result"
    }
   ],
   "source": [
    "d.index(54,6,2353636)"
   ]
  },
  {
   "cell_type": "code",
   "execution_count": 27,
   "id": "bd5fef9d-2b91-4536-8b12-5c994937af36",
   "metadata": {},
   "outputs": [
    {
     "data": {
      "text/plain": [
       "56"
      ]
     },
     "execution_count": 27,
     "metadata": {},
     "output_type": "execute_result"
    }
   ],
   "source": [
    "d[-2]"
   ]
  },
  {
   "cell_type": "code",
   "execution_count": 29,
   "id": "e60fcbfa-39b9-49af-b6b5-ac55ff591813",
   "metadata": {},
   "outputs": [
    {
     "data": {
      "text/plain": [
       "-9"
      ]
     },
     "execution_count": 29,
     "metadata": {},
     "output_type": "execute_result"
    }
   ],
   "source": [
    "-len(d)"
   ]
  },
  {
   "cell_type": "code",
   "execution_count": 32,
   "id": "086e7bcf-3db2-4182-90a9-9d7e93b2702f",
   "metadata": {},
   "outputs": [
    {
     "data": {
      "text/plain": [
       "-2"
      ]
     },
     "execution_count": 32,
     "metadata": {},
     "output_type": "execute_result"
    }
   ],
   "source": [
    "-(len(d)-d.index(56))"
   ]
  },
  {
   "cell_type": "markdown",
   "id": "0d59eff1-4a51-4284-8515-1040648d9714",
   "metadata": {},
   "source": [
    "# slicing in tuple"
   ]
  },
  {
   "cell_type": "code",
   "execution_count": 1,
   "id": "f0f8c087-726f-4c0c-88f1-8a41d73cfb2a",
   "metadata": {},
   "outputs": [],
   "source": [
    "a=(10,203,43,54,0,32,54,45,56,54)"
   ]
  },
  {
   "cell_type": "code",
   "execution_count": 3,
   "id": "c579d527-f4e7-4a91-b554-4e464a3551ff",
   "metadata": {},
   "outputs": [
    {
     "data": {
      "text/plain": [
       "(43, 54, 0, 32)"
      ]
     },
     "execution_count": 3,
     "metadata": {},
     "output_type": "execute_result"
    }
   ],
   "source": [
    "a[2:6:1]"
   ]
  },
  {
   "cell_type": "code",
   "execution_count": 4,
   "id": "b7f9baea-335a-42a4-931e-0e35315edcb0",
   "metadata": {},
   "outputs": [
    {
     "data": {
      "text/plain": [
       "(203, 54)"
      ]
     },
     "execution_count": 4,
     "metadata": {},
     "output_type": "execute_result"
    }
   ],
   "source": [
    "a[1:5:2]"
   ]
  },
  {
   "cell_type": "markdown",
   "id": "a03e2314-5f1c-4916-9915-c46a10971a13",
   "metadata": {},
   "source": [
    "# concatination"
   ]
  },
  {
   "cell_type": "code",
   "execution_count": 6,
   "id": "e88bfa13-3c90-4c2a-a9f5-0ee2404feac0",
   "metadata": {},
   "outputs": [],
   "source": [
    "z=(1,2,3,4,5)+(3,4,5,6,7)+(2,3,4,5,6)"
   ]
  },
  {
   "cell_type": "code",
   "execution_count": 7,
   "id": "ca374085-c822-4482-beb9-a310c01a87c6",
   "metadata": {},
   "outputs": [
    {
     "name": "stdout",
     "output_type": "stream",
     "text": [
      "(1, 2, 3, 4, 5, 3, 4, 5, 6, 7, 2, 3, 4, 5, 6)\n"
     ]
    }
   ],
   "source": [
    "print(z)"
   ]
  },
  {
   "cell_type": "code",
   "execution_count": 9,
   "id": "84acef93-7a6f-45ac-9b0c-6d60f38b2db9",
   "metadata": {},
   "outputs": [],
   "source": [
    "a=(\"abc\",)"
   ]
  },
  {
   "cell_type": "code",
   "execution_count": 10,
   "id": "e83c663d-8fbe-4d69-b740-51ebe408ff66",
   "metadata": {},
   "outputs": [
    {
     "name": "stdout",
     "output_type": "stream",
     "text": [
      "('abc',)\n"
     ]
    }
   ],
   "source": [
    "print(a)"
   ]
  },
  {
   "cell_type": "code",
   "execution_count": 12,
   "id": "d6d77e13-e0ff-49c8-8bcc-8b0dbb14aa7c",
   "metadata": {},
   "outputs": [],
   "source": [
    "b=(\"123gmail.com\",)"
   ]
  },
  {
   "cell_type": "code",
   "execution_count": 13,
   "id": "55b47f64-4dc5-4b71-927e-ebdcc8b0a179",
   "metadata": {},
   "outputs": [
    {
     "name": "stdout",
     "output_type": "stream",
     "text": [
      "('123gmail.com',)\n"
     ]
    }
   ],
   "source": [
    "print(b)"
   ]
  },
  {
   "cell_type": "code",
   "execution_count": 14,
   "id": "d8e6dda0-db10-4a5f-8a2b-0dc592a9e0cd",
   "metadata": {},
   "outputs": [
    {
     "data": {
      "text/plain": [
       "('abc', '123gmail.com')"
      ]
     },
     "execution_count": 14,
     "metadata": {},
     "output_type": "execute_result"
    }
   ],
   "source": [
    "a+b"
   ]
  },
  {
   "cell_type": "code",
   "execution_count": 15,
   "id": "99577230-9407-4ba5-b59a-077816225630",
   "metadata": {},
   "outputs": [
    {
     "data": {
      "text/plain": [
       "'abc'"
      ]
     },
     "execution_count": 15,
     "metadata": {},
     "output_type": "execute_result"
    }
   ],
   "source": [
    "a[0]"
   ]
  },
  {
   "cell_type": "code",
   "execution_count": 16,
   "id": "e11239bb-f294-4a09-839d-18b572a1e8f6",
   "metadata": {},
   "outputs": [
    {
     "data": {
      "text/plain": [
       "'123gmail.com'"
      ]
     },
     "execution_count": 16,
     "metadata": {},
     "output_type": "execute_result"
    }
   ],
   "source": [
    "b[0]"
   ]
  },
  {
   "cell_type": "code",
   "execution_count": 19,
   "id": "1dbcc692-cb1c-41ae-98d3-fe1f2792a639",
   "metadata": {},
   "outputs": [
    {
     "data": {
      "text/plain": [
       "'abc123gmail.com'"
      ]
     },
     "execution_count": 19,
     "metadata": {},
     "output_type": "execute_result"
    }
   ],
   "source": [
    "a[0]+b[0]"
   ]
  },
  {
   "cell_type": "code",
   "execution_count": 20,
   "id": "60b9214e-7677-43d9-9097-0cdbfb088fff",
   "metadata": {},
   "outputs": [],
   "source": [
    "#tuple support nested tuple"
   ]
  },
  {
   "cell_type": "code",
   "execution_count": 26,
   "id": "f6748fed-ab7c-4f81-8968-1b661548d1aa",
   "metadata": {},
   "outputs": [],
   "source": [
    "b=(1, 2, 3,( 4, 5, 3), (4, 5, 6, 7, 2), 3, 4, 5, 6)"
   ]
  },
  {
   "cell_type": "code",
   "execution_count": 27,
   "id": "a0e81be9-ac75-4030-9ad2-4cbe3a2cceac",
   "metadata": {},
   "outputs": [
    {
     "data": {
      "text/plain": [
       "(3, 5, 4)"
      ]
     },
     "execution_count": 27,
     "metadata": {},
     "output_type": "execute_result"
    }
   ],
   "source": [
    "b[3][::-1] "
   ]
  },
  {
   "cell_type": "code",
   "execution_count": 31,
   "id": "8eed82e1-2ca0-41bd-a8f3-a76e0df62792",
   "metadata": {},
   "outputs": [
    {
     "data": {
      "text/plain": [
       "1"
      ]
     },
     "execution_count": 31,
     "metadata": {},
     "output_type": "execute_result"
    }
   ],
   "source": [
    "b.count(4)"
   ]
  },
  {
   "cell_type": "code",
   "execution_count": null,
   "id": "73b5599e-d314-4354-8450-4f9488eb815f",
   "metadata": {},
   "outputs": [],
   "source": []
  }
 ],
 "metadata": {
  "kernelspec": {
   "display_name": "Python 3 (ipykernel)",
   "language": "python",
   "name": "python3"
  },
  "language_info": {
   "codemirror_mode": {
    "name": "ipython",
    "version": 3
   },
   "file_extension": ".py",
   "mimetype": "text/x-python",
   "name": "python",
   "nbconvert_exporter": "python",
   "pygments_lexer": "ipython3",
   "version": "3.11.4"
  }
 },
 "nbformat": 4,
 "nbformat_minor": 5
}
