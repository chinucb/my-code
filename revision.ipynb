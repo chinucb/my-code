{
 "cells": [
  {
   "cell_type": "code",
   "execution_count": 3,
   "id": "f66fdc5f-37b0-48b5-bb32-f13f07c842ed",
   "metadata": {},
   "outputs": [
    {
     "name": "stdout",
     "output_type": "stream",
     "text": [
      "hello world\n",
      "what is your name\n"
     ]
    }
   ],
   "source": [
    "chanchal=(\"what is your name\")\n",
    "print(\"hello world\")\n",
    "print(chanchal)"
   ]
  },
  {
   "cell_type": "code",
   "execution_count": 4,
   "id": "c64cb09a-44b3-4346-a019-8abb6e52aa01",
   "metadata": {},
   "outputs": [
    {
     "ename": "SyntaxError",
     "evalue": "unterminated string literal (detected at line 1) (4235627231.py, line 1)",
     "output_type": "error",
     "traceback": [
      "\u001b[1;36m  Cell \u001b[1;32mIn[4], line 1\u001b[1;36m\u001b[0m\n\u001b[1;33m    print(\"hello,+ name)\u001b[0m\n\u001b[1;37m          ^\u001b[0m\n\u001b[1;31mSyntaxError\u001b[0m\u001b[1;31m:\u001b[0m unterminated string literal (detected at line 1)\n"
     ]
    }
   ],
   "source": [
    "print(\"hello,+ name)"
   ]
  },
  {
   "cell_type": "code",
   "execution_count": 5,
   "id": "a38eb9cd-382c-4776-8204-5af71ca08d00",
   "metadata": {},
   "outputs": [
    {
     "name": "stdout",
     "output_type": "stream",
     "text": [
      "hello, chanchal\n"
     ]
    }
   ],
   "source": [
    "# ask the user for their name\n",
    "name= (\"chanchal\")\n",
    "# print hello and the inputted name\n",
    "print(\"hello,\",name)"
   ]
  },
  {
   "cell_type": "code",
   "execution_count": null,
   "id": "f16f5b97-3298-4779-a022-77c4e3ebba5c",
   "metadata": {},
   "outputs": [],
   "source": [
    "# ask the user for their name\n",
    "name = (\"chanchal\")\n",
    "print(\"hello,\",end=\"\")\n",
    "print(name)"
   ]
  },
  {
   "cell_type": "code",
   "execution_count": 1,
   "id": "64736ba4-c40d-4832-af33-c763464458d9",
   "metadata": {},
   "outputs": [
    {
     "name": "stdout",
     "output_type": "stream",
     "text": [
      "hello w\n"
     ]
    }
   ],
   "source": [
    "print(\"hello w\")"
   ]
  },
  {
   "cell_type": "code",
   "execution_count": 2,
   "id": "23ab88c2-235d-488d-8f0e-9fd71597d79b",
   "metadata": {},
   "outputs": [
    {
     "ename": "SyntaxError",
     "evalue": "invalid syntax (503807517.py, line 2)",
     "output_type": "error",
     "traceback": [
      "\u001b[1;36m  Cell \u001b[1;32mIn[2], line 2\u001b[1;36m\u001b[0m\n\u001b[1;33m    def_init_(.self):\u001b[0m\n\u001b[1;37m              ^\u001b[0m\n\u001b[1;31mSyntaxError\u001b[0m\u001b[1;31m:\u001b[0m invalid syntax\n"
     ]
    }
   ],
   "source": [
    "class chanchal:\n",
    "    def_init_(.self):\n",
    "    excludedindices=(\"aeiouAEIOU\")\n",
    "    print(\"input string\",self.name) \n",
    "    \n",
    "    for char in self.name:\n",
    "        if char in excludedindices:\n",
    "            self.name=self.name.replace(char,\"\")\n",
    "            print(\"output string without excluded\",self.name)"
   ]
  },
  {
   "cell_type": "code",
   "execution_count": 1,
   "id": "d5019613-16b5-4551-8464-ef1612ed1f98",
   "metadata": {},
   "outputs": [
    {
     "name": "stdout",
     "output_type": "stream",
     "text": [
      "hello world\n"
     ]
    }
   ],
   "source": [
    "message= 'hello world'\n",
    "print(message)"
   ]
  },
  {
   "cell_type": "code",
   "execution_count": 4,
   "id": "e3ac2bf0-1764-467a-838c-a5e3431a8c19",
   "metadata": {},
   "outputs": [
    {
     "name": "stdout",
     "output_type": "stream",
     "text": [
      "_bobby's wolrd\n"
     ]
    }
   ],
   "source": [
    "message='_bobby\\'s wolrd'\n",
    "print(message)"
   ]
  },
  {
   "cell_type": "code",
   "execution_count": 5,
   "id": "5f643e1c-6d49-489e-a461-f43da1dc733b",
   "metadata": {},
   "outputs": [
    {
     "name": "stdout",
     "output_type": "stream",
     "text": [
      "_bobb's world\n"
     ]
    }
   ],
   "source": [
    "message=\"_bobb's world\"\n",
    "print(message)"
   ]
  },
  {
   "cell_type": "code",
   "execution_count": 7,
   "id": "c820d9fe-7b4f-46de-add5-a06758a13e98",
   "metadata": {},
   "outputs": [
    {
     "name": "stdout",
     "output_type": "stream",
     "text": [
      "bobb's world\n",
      "cartoon in the 1990\n"
     ]
    }
   ],
   "source": [
    "message=\"\"\"bobb's world\n",
    "cartoon in the 1990\"\"\"\n",
    "print(message)"
   ]
  },
  {
   "cell_type": "code",
   "execution_count": 9,
   "id": "6e7d0fdb-f55c-44d8-a633-ae39d14d96a7",
   "metadata": {},
   "outputs": [
    {
     "name": "stdout",
     "output_type": "stream",
     "text": [
      "hello world\n"
     ]
    }
   ],
   "source": [
    "msg=\"hello world\"\n",
    "print(msg)"
   ]
  },
  {
   "cell_type": "code",
   "execution_count": 10,
   "id": "39fa8587-d1b4-4d79-97bb-218002231a05",
   "metadata": {},
   "outputs": [
    {
     "name": "stdout",
     "output_type": "stream",
     "text": [
      "11\n"
     ]
    }
   ],
   "source": [
    "print(len(msg))"
   ]
  },
  {
   "cell_type": "code",
   "execution_count": 25,
   "id": "fe40f3c3-e061-4895-b694-fabdaa484ce6",
   "metadata": {
    "scrolled": true
   },
   "outputs": [
    {
     "ename": "TypeError",
     "evalue": "'msg' is an invalid keyword argument for print()",
     "output_type": "error",
     "traceback": [
      "\u001b[1;31m---------------------------------------------------------------------------\u001b[0m",
      "\u001b[1;31mTypeError\u001b[0m                                 Traceback (most recent call last)",
      "Cell \u001b[1;32mIn[25], line 1\u001b[0m\n\u001b[1;32m----> 1\u001b[0m \u001b[38;5;28;43mprint\u001b[39;49m\u001b[43m(\u001b[49m\u001b[43mmsg\u001b[49m\u001b[38;5;241;43m=\u001b[39;49m\u001b[43m(\u001b[49m\u001b[43m[\u001b[49m\u001b[38;5;241;43m1\u001b[39;49m\u001b[43m]\u001b[49m\u001b[43m)\u001b[49m\u001b[43m)\u001b[49m\n",
      "\u001b[1;31mTypeError\u001b[0m: 'msg' is an invalid keyword argument for print()"
     ]
    }
   ],
   "source": [
    "print(msg=([1]))"
   ]
  },
  {
   "cell_type": "code",
   "execution_count": 15,
   "id": "fb53da94-7f66-48fe-8485-128c0063b422",
   "metadata": {},
   "outputs": [],
   "source": [
    "message=\"hello world\""
   ]
  },
  {
   "cell_type": "code",
   "execution_count": 17,
   "id": "333aaef2-ba2e-45cd-948a-6589ff7766ed",
   "metadata": {},
   "outputs": [
    {
     "name": "stdout",
     "output_type": "stream",
     "text": [
      "d\n"
     ]
    }
   ],
   "source": [
    "print(message[10])"
   ]
  },
  {
   "cell_type": "code",
   "execution_count": 24,
   "id": "0cb6f344-3e9a-4f3d-a88e-1bdc307d37fa",
   "metadata": {},
   "outputs": [
    {
     "name": "stdout",
     "output_type": "stream",
     "text": [
      "o\n"
     ]
    }
   ],
   "source": [
    "print(message[4])"
   ]
  },
  {
   "cell_type": "code",
   "execution_count": 28,
   "id": "72b562d4-0c34-4291-a753-e2efd79137d4",
   "metadata": {},
   "outputs": [
    {
     "name": "stdout",
     "output_type": "stream",
     "text": [
      "hello\n"
     ]
    }
   ],
   "source": [
    "print(message[0:5])"
   ]
  },
  {
   "cell_type": "code",
   "execution_count": 31,
   "id": "c080097e-c3d0-49ae-99d5-a0ed492294c1",
   "metadata": {},
   "outputs": [
    {
     "name": "stdout",
     "output_type": "stream",
     "text": [
      "world\n"
     ]
    }
   ],
   "source": [
    "print(message[6:])"
   ]
  },
  {
   "cell_type": "code",
   "execution_count": 32,
   "id": "a798d211-c443-4ffb-a549-3cd26fd6fdf5",
   "metadata": {},
   "outputs": [],
   "source": [
    "# string methods"
   ]
  },
  {
   "cell_type": "code",
   "execution_count": 36,
   "id": "b4b92b96-6f26-4cd8-aa7b-66b5bc8353bc",
   "metadata": {},
   "outputs": [
    {
     "name": "stdout",
     "output_type": "stream",
     "text": [
      "Hello world\n"
     ]
    }
   ],
   "source": [
    "x=\"hello world\"\n",
    "print(x.capitalize())"
   ]
  },
  {
   "cell_type": "code",
   "execution_count": 37,
   "id": "2fc3fb67-2009-4689-b103-8f5de88a8caf",
   "metadata": {},
   "outputs": [
    {
     "name": "stdout",
     "output_type": "stream",
     "text": [
      "hello world\n"
     ]
    }
   ],
   "source": [
    "x=\"hello world\"\n",
    "print(x.lower())"
   ]
  },
  {
   "cell_type": "code",
   "execution_count": 38,
   "id": "932a1976-7878-47dc-8794-30b6575e0fc8",
   "metadata": {},
   "outputs": [
    {
     "name": "stdout",
     "output_type": "stream",
     "text": [
      "HELLO WORLD\n"
     ]
    }
   ],
   "source": [
    "x=\"hello world\"\n",
    "print(x.upper())"
   ]
  },
  {
   "cell_type": "code",
   "execution_count": 39,
   "id": "fda9f921-d4cf-4d2a-b6a3-9fa37baf2351",
   "metadata": {},
   "outputs": [
    {
     "name": "stdout",
     "output_type": "stream",
     "text": [
      "3\n"
     ]
    }
   ],
   "source": [
    "x=\"hello world\"\n",
    "print(x.count('l'))"
   ]
  },
  {
   "cell_type": "code",
   "execution_count": 59,
   "id": "2481f10e-8f6a-4c99-a8ac-2a0064938348",
   "metadata": {},
   "outputs": [
    {
     "name": "stdout",
     "output_type": "stream",
     "text": [
      "6\n"
     ]
    }
   ],
   "source": [
    "greetings=\"hello world\"\n",
    "print(x.find('world'))"
   ]
  },
  {
   "cell_type": "code",
   "execution_count": 68,
   "id": "13177324-b209-4e2d-9838-d9f65b40fd57",
   "metadata": {},
   "outputs": [
    {
     "name": "stdout",
     "output_type": "stream",
     "text": [
      "hello _universe\n"
     ]
    }
   ],
   "source": [
    "x=\"hello world\"\n",
    "new_message=(x.replace('world','_universe'))\n",
    "print(new_message)"
   ]
  },
  {
   "cell_type": "code",
   "execution_count": 72,
   "id": "892d01e3-d415-4a8d-89fe-65ecac1993e2",
   "metadata": {},
   "outputs": [
    {
     "name": "stdout",
     "output_type": "stream",
     "text": [
      "hello world,hello _universe. welcome!\n"
     ]
    }
   ],
   "source": [
    "message = greetings +','+ new_message +'. ' 'welcome!'\n",
    "print(message)"
   ]
  },
  {
   "cell_type": "code",
   "execution_count": 75,
   "id": "f859d4fa-5cda-4a2e-8131-0e9a4b08f2d6",
   "metadata": {},
   "outputs": [
    {
     "name": "stdout",
     "output_type": "stream",
     "text": [
      "hello world,hello _universe. welcome!\n"
     ]
    }
   ],
   "source": [
    "message='{},{}. ''welcome!'.format(greetings,new_message)\n",
    "print(message)"
   ]
  },
  {
   "cell_type": "code",
   "execution_count": 77,
   "id": "5525cc74-39cf-41aa-b5a6-b0d78b316381",
   "metadata": {},
   "outputs": [
    {
     "name": "stdout",
     "output_type": "stream",
     "text": [
      "hello world,hello _universe. welcome!\n"
     ]
    }
   ],
   "source": [
    "message=f'{greetings},{new_message}. welcome!'\n",
    "print(message)\n"
   ]
  },
  {
   "cell_type": "code",
   "execution_count": 80,
   "id": "980c4fe7-8f31-495c-961f-1205ae0e9c6b",
   "metadata": {},
   "outputs": [
    {
     "name": "stdout",
     "output_type": "stream",
     "text": [
      "hello world, HELLO _UNIVERSE. welcome!\n"
     ]
    }
   ],
   "source": [
    "message=f'{greetings}, {new_message.upper()}. welcome!'\n",
    "print(message)"
   ]
  },
  {
   "cell_type": "code",
   "execution_count": 82,
   "id": "0218b5f1-3336-4bbf-88dd-93e830f78d5d",
   "metadata": {},
   "outputs": [
    {
     "name": "stdout",
     "output_type": "stream",
     "text": [
      "<built-in function dir>\n"
     ]
    }
   ],
   "source": [
    "print(dir)"
   ]
  },
  {
   "cell_type": "code",
   "execution_count": 86,
   "id": "e61bfc33-26ea-4ddb-b9f3-b96af76acb16",
   "metadata": {},
   "outputs": [],
   "source": [
    "# print(help(str))"
   ]
  },
  {
   "cell_type": "markdown",
   "id": "7903bb26-70d5-4a7f-9573-6937fd3301d7",
   "metadata": {},
   "source": [
    "# dictionary"
   ]
  },
  {
   "cell_type": "code",
   "execution_count": 34,
   "id": "f551465a-0f5f-42f4-9e7e-1d65ac669605",
   "metadata": {},
   "outputs": [
    {
     "name": "stdout",
     "output_type": "stream",
     "text": [
      "{'1': 'john', 'age': '25', 'courses': ['math', 'sci']}\n"
     ]
    }
   ],
   "source": [
    "student = {'1': 'john','age':'25','courses':['math','sci']}\n",
    "print(student)"
   ]
  },
  {
   "cell_type": "code",
   "execution_count": 35,
   "id": "b99638d2-d3ce-4c0d-b07a-af2639ee33b9",
   "metadata": {},
   "outputs": [
    {
     "name": "stdout",
     "output_type": "stream",
     "text": [
      "['math', 'sci']\n"
     ]
    }
   ],
   "source": [
    "print(student['courses'])"
   ]
  },
  {
   "cell_type": "code",
   "execution_count": 36,
   "id": "85681e76-0ac7-4fbc-9dbc-3cef672b7019",
   "metadata": {},
   "outputs": [
    {
     "name": "stdout",
     "output_type": "stream",
     "text": [
      "john\n"
     ]
    }
   ],
   "source": [
    "print(student['1'])"
   ]
  },
  {
   "cell_type": "code",
   "execution_count": 37,
   "id": "aa62fb40-7819-4297-a5ff-cdccfcb25181",
   "metadata": {},
   "outputs": [
    {
     "name": "stdout",
     "output_type": "stream",
     "text": [
      "None\n"
     ]
    }
   ],
   "source": [
    "print(student.get('phone'))"
   ]
  },
  {
   "cell_type": "code",
   "execution_count": 38,
   "id": "c732c2e9-aba8-4d68-b7bf-9caf7cf68b3a",
   "metadata": {},
   "outputs": [
    {
     "name": "stdout",
     "output_type": "stream",
     "text": [
      "{'1': 'john', 'age': '25', 'courses': ['math', 'sci'], 'phone': '4540-4445'}\n"
     ]
    }
   ],
   "source": [
    "student['phone']='4540-4445'\n",
    "print(student)"
   ]
  },
  {
   "cell_type": "code",
   "execution_count": 39,
   "id": "f2da1234-a0a0-4b27-922e-7ffe8c58c6c1",
   "metadata": {},
   "outputs": [
    {
     "name": "stdout",
     "output_type": "stream",
     "text": [
      "4540-4445\n"
     ]
    }
   ],
   "source": [
    "print(student.get('phone'))"
   ]
  },
  {
   "cell_type": "code",
   "execution_count": 40,
   "id": "826d8d19-40d2-4a4e-90bb-68ccb4d430b6",
   "metadata": {},
   "outputs": [],
   "source": [
    "student['1']='jane'"
   ]
  },
  {
   "cell_type": "code",
   "execution_count": 41,
   "id": "94749140-c151-4f9f-8efb-1d3b019895fe",
   "metadata": {},
   "outputs": [
    {
     "name": "stdout",
     "output_type": "stream",
     "text": [
      "{'1': 'jane', 'age': '25', 'courses': ['math', 'sci'], 'phone': '4540-4445'}\n"
     ]
    }
   ],
   "source": [
    "print(student)"
   ]
  },
  {
   "cell_type": "code",
   "execution_count": 42,
   "id": "f4359857-0d78-4f7d-8fdf-7635e555b17a",
   "metadata": {},
   "outputs": [
    {
     "name": "stdout",
     "output_type": "stream",
     "text": [
      "{'1': 'jane', 'age': '25', 'courses': ['math', 'sci'], 'phone': '4540-4445'}\n"
     ]
    }
   ],
   "source": [
    "student['1']='jane'\n",
    "print(student)\n"
   ]
  },
  {
   "cell_type": "code",
   "execution_count": 43,
   "id": "ae6a0abb-fe4c-40dc-a6cf-fcbfd52a58d3",
   "metadata": {},
   "outputs": [
    {
     "name": "stdout",
     "output_type": "stream",
     "text": [
      "{'1': 'james', 'age': '21', 'courses': ['math', 'sci'], 'phone': '4540-4445', 'phone no': '4534-3344'}\n"
     ]
    }
   ],
   "source": [
    "student.update({'1':'james','age':'21','phone no':'4534-3344'})\n",
    "print(student)"
   ]
  },
  {
   "cell_type": "code",
   "execution_count": 44,
   "id": "553e9d1b-be81-4bc5-b770-ef3c7e9d00df",
   "metadata": {},
   "outputs": [
    {
     "name": "stdout",
     "output_type": "stream",
     "text": [
      "{'1': 'james', 'courses': ['math', 'sci'], 'phone': '4540-4445', 'phone no': '4534-3344'}\n"
     ]
    }
   ],
   "source": [
    "del student['age']\n",
    "print(student)"
   ]
  },
  {
   "cell_type": "code",
   "execution_count": 45,
   "id": "da2ad297-ab2e-43c5-b5f1-4efd5e50d100",
   "metadata": {},
   "outputs": [
    {
     "name": "stdout",
     "output_type": "stream",
     "text": [
      "dict_items([('1', 'james'), ('courses', ['math', 'sci']), ('phone', '4540-4445'), ('phone no', '4534-3344')])\n"
     ]
    }
   ],
   "source": [
    "print(student.items())"
   ]
  },
  {
   "cell_type": "code",
   "execution_count": 46,
   "id": "d94b2ebb-dd69-4213-b9ea-5f0d1aedab34",
   "metadata": {},
   "outputs": [
    {
     "name": "stdout",
     "output_type": "stream",
     "text": [
      "1 james\n",
      "courses ['math', 'sci']\n",
      "phone 4540-4445\n",
      "phone no 4534-3344\n"
     ]
    }
   ],
   "source": [
    "for key,value in student.items():\n",
    "    print(key,value)"
   ]
  },
  {
   "cell_type": "markdown",
   "id": "98fd689a-a7f5-45d0-8d46-cf5814bdc386",
   "metadata": {},
   "source": [
    "# conditional and boolean"
   ]
  },
  {
   "cell_type": "code",
   "execution_count": 47,
   "id": "fc8b2cdf-cf14-46bd-a683-8577afa072e8",
   "metadata": {},
   "outputs": [
    {
     "name": "stdout",
     "output_type": "stream",
     "text": [
      "condition was true\n"
     ]
    }
   ],
   "source": [
    "if True:\n",
    "    print('condition was true')"
   ]
  },
  {
   "cell_type": "code",
   "execution_count": 48,
   "id": "41b09298-39e4-4b22-954a-13563b402ae9",
   "metadata": {},
   "outputs": [
    {
     "name": "stdout",
     "output_type": "stream",
     "text": [
      "condition was true\n"
     ]
    }
   ],
   "source": [
    "language='python'\n",
    "if language=='python':\n",
    "    print('condition was true')\n",
    "\n",
    "else:\n",
    "    print('false')"
   ]
  },
  {
   "cell_type": "code",
   "execution_count": 49,
   "id": "988edff4-8844-4535-8a2a-97a9cc13544a",
   "metadata": {},
   "outputs": [
    {
     "name": "stdout",
     "output_type": "stream",
     "text": [
      "false\n"
     ]
    }
   ],
   "source": [
    "language='java'\n",
    "if language=='python':\n",
    "    print('condition was true')\n",
    "\n",
    "else:\n",
    "    print('false')"
   ]
  },
  {
   "cell_type": "code",
   "execution_count": 50,
   "id": "37b08da1-e080-40c4-b897-2c28f56bb136",
   "metadata": {},
   "outputs": [
    {
     "name": "stdout",
     "output_type": "stream",
     "text": [
      "language is python\n"
     ]
    }
   ],
   "source": [
    "language='python'\n",
    "if language=='python':\n",
    "    print('language is python')\n",
    "\n",
    "else:\n",
    "    print('no match')"
   ]
  },
  {
   "cell_type": "code",
   "execution_count": 51,
   "id": "fbca0439-ddcd-40a3-8362-440dd75ef885",
   "metadata": {},
   "outputs": [
    {
     "name": "stdout",
     "output_type": "stream",
     "text": [
      "language is java\n"
     ]
    }
   ],
   "source": [
    "language='java'\n",
    "if language=='python':\n",
    "    print('language is python')\n",
    "elif language=='java':\n",
    "    print('language is java')\n",
    "else:\n",
    "    print('no match')"
   ]
  },
  {
   "cell_type": "code",
   "execution_count": 52,
   "id": "76f298ad-19f5-44ee-85c2-b795e662db6a",
   "metadata": {},
   "outputs": [],
   "source": [
    "user='admin'\n",
    "logged_in= True"
   ]
  },
  {
   "cell_type": "code",
   "execution_count": 53,
   "id": "99994ee6-50b8-429f-8ecc-0f15a2470a9b",
   "metadata": {},
   "outputs": [
    {
     "name": "stdout",
     "output_type": "stream",
     "text": [
      "admin page\n"
     ]
    }
   ],
   "source": [
    "if user == 'admin' and logged_in:\n",
    "    print('admin page')\n",
    "\n",
    "else:\n",
    "    print('bad creds')\n"
   ]
  },
  {
   "cell_type": "code",
   "execution_count": 54,
   "id": "2066707b-7aa9-4375-9c33-18789573158a",
   "metadata": {},
   "outputs": [
    {
     "name": "stdout",
     "output_type": "stream",
     "text": [
      "admin page\n"
     ]
    }
   ],
   "source": [
    "if user == 'admin' or logged_in:\n",
    "    print('admin page')\n",
    "\n",
    "else:\n",
    "    print('bad creds')"
   ]
  },
  {
   "cell_type": "code",
   "execution_count": 55,
   "id": "3236c7b6-9cd3-4114-92a0-1bb19717f9bf",
   "metadata": {},
   "outputs": [
    {
     "name": "stdout",
     "output_type": "stream",
     "text": [
      "welcome\n"
     ]
    }
   ],
   "source": [
    "if not logged_in:\n",
    "    print('please log in')\n",
    "\n",
    "else:\n",
    "    print('welcome')"
   ]
  },
  {
   "cell_type": "code",
   "execution_count": 56,
   "id": "b9a1db3c-3236-4cfc-9bcd-1c6feac1e77d",
   "metadata": {},
   "outputs": [],
   "source": [
    "a=[1,2,3]\n",
    "b=a"
   ]
  },
  {
   "cell_type": "code",
   "execution_count": 57,
   "id": "0306dd75-1583-4f09-8c04-c50f904cec48",
   "metadata": {},
   "outputs": [
    {
     "name": "stdout",
     "output_type": "stream",
     "text": [
      "3154363792576\n",
      "3154363792576\n",
      "True\n"
     ]
    }
   ],
   "source": [
    "print(id(a))\n",
    "print(id(b))\n",
    "print(id(a)== id(b))"
   ]
  },
  {
   "cell_type": "code",
   "execution_count": 58,
   "id": "274e83d7-996e-4a96-801f-ab98cf1528ed",
   "metadata": {},
   "outputs": [],
   "source": [
    "# false values:\n"
   ]
  },
  {
   "cell_type": "code",
   "execution_count": 59,
   "id": "25bff58e-ba87-425d-b6db-82a2315c03ef",
   "metadata": {},
   "outputs": [
    {
     "name": "stdout",
     "output_type": "stream",
     "text": [
      "evaluate to False\n"
     ]
    }
   ],
   "source": [
    "condition = None\n",
    "if condition:\n",
    "    print('evaluate to True')\n",
    "\n",
    "else:\n",
    "    print('evaluate to False')"
   ]
  },
  {
   "cell_type": "code",
   "execution_count": 60,
   "id": "28647e47-6f7b-4618-91e8-a5d52bae6299",
   "metadata": {},
   "outputs": [
    {
     "name": "stdout",
     "output_type": "stream",
     "text": [
      "evaluate to False\n"
     ]
    }
   ],
   "source": [
    "condition = False\n",
    "if condition:\n",
    "    print('evaluate to True')\n",
    "\n",
    "else:\n",
    "    print('evaluate to False')"
   ]
  },
  {
   "cell_type": "code",
   "execution_count": 61,
   "id": "01bd304c-09e2-44c3-86e0-afb5d6f891e5",
   "metadata": {},
   "outputs": [
    {
     "name": "stdout",
     "output_type": "stream",
     "text": [
      "evaluate to False\n"
     ]
    }
   ],
   "source": [
    "condition = 0\n",
    "if condition:\n",
    "    print('evaluate to True')\n",
    "\n",
    "else:\n",
    "    print('evaluate to False')"
   ]
  },
  {
   "cell_type": "code",
   "execution_count": 62,
   "id": "23fe1ddb-5b4b-4f6e-aec0-2892c4f4a23c",
   "metadata": {},
   "outputs": [
    {
     "name": "stdout",
     "output_type": "stream",
     "text": [
      "evaluate to True\n"
     ]
    }
   ],
   "source": [
    "condition = 10\n",
    "if condition:\n",
    "    print('evaluate to True')\n",
    "\n",
    "else:\n",
    "    print('evaluate to False')"
   ]
  },
  {
   "cell_type": "code",
   "execution_count": 63,
   "id": "320f74ca-e4b8-4a86-882e-810935c239ad",
   "metadata": {},
   "outputs": [
    {
     "name": "stdout",
     "output_type": "stream",
     "text": [
      "evaluate to False\n"
     ]
    }
   ],
   "source": [
    "condition = ''\n",
    "if condition:\n",
    "    print('evaluate to True')\n",
    "\n",
    "else:\n",
    "    print('evaluate to False')"
   ]
  },
  {
   "cell_type": "code",
   "execution_count": 64,
   "id": "e8c3d781-cd66-4c24-a6e4-ffbd5ae9072e",
   "metadata": {},
   "outputs": [
    {
     "name": "stdout",
     "output_type": "stream",
     "text": [
      "evaluate to True\n"
     ]
    }
   ],
   "source": [
    "condition = '1'\n",
    "if condition:\n",
    "    print('evaluate to True')\n",
    "\n",
    "else:\n",
    "    print('evaluate to False')"
   ]
  },
  {
   "cell_type": "code",
   "execution_count": 65,
   "id": "5f01cd03-6e7a-484f-86af-83f8a0b6e020",
   "metadata": {},
   "outputs": [
    {
     "name": "stdout",
     "output_type": "stream",
     "text": [
      "evaluate to False\n"
     ]
    }
   ],
   "source": [
    "condition = {}\n",
    "if condition:\n",
    "    print('evaluate to True')\n",
    "\n",
    "else:\n",
    "    print('evaluate to False')"
   ]
  },
  {
   "cell_type": "code",
   "execution_count": 66,
   "id": "34ca48d7-fba1-4dfa-b1d9-79907330fd14",
   "metadata": {},
   "outputs": [
    {
     "name": "stdout",
     "output_type": "stream",
     "text": [
      "evaluate to True\n"
     ]
    }
   ],
   "source": [
    "condition = {'test'}\n",
    "if condition:\n",
    "    print('evaluate to True')\n",
    "\n",
    "else:\n",
    "    print('evaluate to False')"
   ]
  },
  {
   "cell_type": "code",
   "execution_count": 1,
   "id": "a522d28a-1dd6-4dfd-a9fb-6df9b3a5f20c",
   "metadata": {},
   "outputs": [],
   "source": [
    "# conditional programmming"
   ]
  },
  {
   "cell_type": "code",
   "execution_count": 6,
   "id": "65ad32a8-97fc-4e00-afc3-3ad66fde9290",
   "metadata": {},
   "outputs": [
    {
     "name": "stdin",
     "output_type": "stream",
     "text": [
      "enter the marks for subject 1: 90\n",
      "enter the marks for subject 2: 90\n",
      "enter the marks for subject 3: 89\n"
     ]
    },
    {
     "name": "stdout",
     "output_type": "stream",
     "text": [
      "89.66666666666667\n",
      "Grade B\n"
     ]
    }
   ],
   "source": [
    "sub1=eval(input(\"enter the marks for subject 1:\"))\n",
    "sub2=eval(input(\"enter the marks for subject 2:\"))\n",
    "sub3=eval(input(\"enter the marks for subject 3:\"))\n",
    "avg=(sub1+sub2+sub3)/3\n",
    "print(avg)\n",
    "if avg>=90:\n",
    "    print(\"Grade A\")\n",
    "elif (avg+80) and (avg<90):\n",
    "    print(\"Grade B\")\n",
    "elif (avg>=70) and (avg<80):\n",
    "    print(\"Grade C\")\n",
    "elif (avg>=60) and (avg<70):\n",
    "    print(\"Grade D\")\n",
    "else:\n",
    "    print(\"Grade F\")\n"
   ]
  },
  {
   "cell_type": "code",
   "execution_count": 7,
   "id": "63fe6624-4a5c-45e4-8e35-b2f02f361e21",
   "metadata": {},
   "outputs": [
    {
     "name": "stdin",
     "output_type": "stream",
     "text": [
      "enter your age: 2\n"
     ]
    },
    {
     "name": "stdout",
     "output_type": "stream",
     "text": [
      "you are not eligible\n"
     ]
    }
   ],
   "source": [
    "age=eval(input(\"enter your age:\"))\n",
    "if (age>=4) and (age<17):\n",
    "    print(\"welcome!\")\n",
    "else:\n",
    "    print(\"you are not eligible\")"
   ]
  },
  {
   "cell_type": "code",
   "execution_count": null,
   "id": "b8e4dce8-ff01-4d57-a7c6-c6cfc7f510a0",
   "metadata": {},
   "outputs": [],
   "source": [
    "num1=int(input(\"enter the number1:-\"))\n",
    "num2=int(input(\"enter the number2:-\"))\n",
    "num3=int(input(\"enter the number3:-\"))\n",
    "if (num1>num2) and (num2>3):\n",
    "    largest=num1\n",
    "\n",
    "if (num2>num1) and (num2>num3):\n",
    "    largest=num2\n",
    "else:\n",
    "    largest=num3\n",
    "    print(\"the largest number is:\",largest)\n",
    "    \n"
   ]
  },
  {
   "cell_type": "code",
   "execution_count": 18,
   "id": "610401f7-7e30-4cf0-a5e3-4b0ceaa476a8",
   "metadata": {},
   "outputs": [],
   "source": [
    "# data types"
   ]
  },
  {
   "cell_type": "raw",
   "id": "782fd625-5d88-438c-8f2a-c470806e3b9d",
   "metadata": {},
   "source": [
    "built in data type or universal datatype(integer,float,boolean,string)\n",
    "sequential data type(list,tuples,sets,dict)"
   ]
  },
  {
   "cell_type": "code",
   "execution_count": null,
   "id": "40d19b4f-a9d0-4f98-991e-efbfda664121",
   "metadata": {},
   "outputs": [],
   "source": [
    "#integers:- 23,4,56,78,99,-,88,-,8 etc"
   ]
  },
  {
   "cell_type": "code",
   "execution_count": null,
   "id": "902e49e0-0b85-4666-b0ba-11e160de3f71",
   "metadata": {},
   "outputs": [],
   "source": [
    "# floats:- 33.4,56.7,78.8,-67.6 etc"
   ]
  },
  {
   "cell_type": "code",
   "execution_count": 20,
   "id": "a19fa59c-b47f-4f57-b9e2-0bf8d54b219f",
   "metadata": {},
   "outputs": [],
   "source": [
    "# strings:- collection of letters are called string let's say:-\"hello @ 123 world\""
   ]
  },
  {
   "cell_type": "code",
   "execution_count": 21,
   "id": "0a725de4-fae6-4013-a03d-edda39e16327",
   "metadata": {},
   "outputs": [
    {
     "name": "stdout",
     "output_type": "stream",
     "text": [
      "hello@123^779& 20\n"
     ]
    }
   ],
   "source": [
    "a=20\n",
    "print(\"hello@123^779&\",a)"
   ]
  },
  {
   "cell_type": "code",
   "execution_count": 26,
   "id": "d53a5209-c30c-4f24-aac2-9b9352b55472",
   "metadata": {},
   "outputs": [
    {
     "name": "stdout",
     "output_type": "stream",
     "text": [
      "bheeshma pitamah ,\n"
     ]
    }
   ],
   "source": [
    "a=\"bheeshma \"\n",
    "b=\"pitamah\"\n",
    "print(a + b,\",\")\n"
   ]
  },
  {
   "cell_type": "code",
   "execution_count": null,
   "id": "74c08ac2-0ff8-4e78-a32f-61e2e736e456",
   "metadata": {},
   "outputs": [],
   "source": []
  },
  {
   "cell_type": "code",
   "execution_count": null,
   "id": "74cf265f-df80-46ac-b5b7-ec7474d111d2",
   "metadata": {},
   "outputs": [],
   "source": []
  },
  {
   "cell_type": "code",
   "execution_count": 27,
   "id": "df23f2fa-4165-464d-80f1-da5e2fe4765b",
   "metadata": {},
   "outputs": [],
   "source": [
    "# boolean:- True/False\n"
   ]
  },
  {
   "cell_type": "code",
   "execution_count": 28,
   "id": "22ca22e7-226a-4a8a-829a-2261f5fccd0b",
   "metadata": {},
   "outputs": [
    {
     "data": {
      "text/plain": [
       "int"
      ]
     },
     "execution_count": 28,
     "metadata": {},
     "output_type": "execute_result"
    }
   ],
   "source": [
    "x=20\n",
    "type(x)"
   ]
  },
  {
   "cell_type": "code",
   "execution_count": 31,
   "id": "49948903-aa22-4cbe-bcb6-a809e1cbd99b",
   "metadata": {},
   "outputs": [
    {
     "data": {
      "text/plain": [
       "bool"
      ]
     },
     "execution_count": 31,
     "metadata": {},
     "output_type": "execute_result"
    }
   ],
   "source": [
    "x=True\n",
    "type(x)"
   ]
  },
  {
   "cell_type": "code",
   "execution_count": null,
   "id": "1c891509-4c5c-49a3-b347-a26ad7b6b8d9",
   "metadata": {},
   "outputs": [],
   "source": [
    "# sequential data types"
   ]
  },
  {
   "cell_type": "code",
   "execution_count": null,
   "id": "06512bb3-2650-4dbd-a3a0-6f8458f51101",
   "metadata": {},
   "outputs": [],
   "source": []
  },
  {
   "cell_type": "code",
   "execution_count": 1,
   "id": "04c68438-af61-4f66-88c9-0975af1b6146",
   "metadata": {},
   "outputs": [],
   "source": [
    "# pyrhon operators"
   ]
  },
  {
   "cell_type": "code",
   "execution_count": 2,
   "id": "1a0a95b5-8950-485f-868c-1a1613fe4ef1",
   "metadata": {},
   "outputs": [],
   "source": [
    "# special symbols that performes some operations between any variables"
   ]
  },
  {
   "cell_type": "code",
   "execution_count": 4,
   "id": "8a9d1b62-6a1c-4381-a959-49573ab98e76",
   "metadata": {},
   "outputs": [
    {
     "name": "stdout",
     "output_type": "stream",
     "text": [
      "30\n"
     ]
    }
   ],
   "source": [
    "x=10\n",
    "y=20\n",
    "print(x+y)"
   ]
  },
  {
   "cell_type": "code",
   "execution_count": 5,
   "id": "805cf9e2-fc8a-460d-8048-198e45a72379",
   "metadata": {},
   "outputs": [
    {
     "name": "stdout",
     "output_type": "stream",
     "text": [
      "-10\n"
     ]
    }
   ],
   "source": [
    "x=10\n",
    "y=20\n",
    "print(x-y)"
   ]
  },
  {
   "cell_type": "code",
   "execution_count": 6,
   "id": "41a9c489-56dc-422e-b81b-9091fecf01b0",
   "metadata": {},
   "outputs": [
    {
     "name": "stdout",
     "output_type": "stream",
     "text": [
      "200\n"
     ]
    }
   ],
   "source": [
    "x=10\n",
    "y=20\n",
    "print(x*y)"
   ]
  },
  {
   "cell_type": "code",
   "execution_count": 7,
   "id": "6f6b3b18-3fae-469d-8f5f-393ac6fd381b",
   "metadata": {},
   "outputs": [
    {
     "name": "stdout",
     "output_type": "stream",
     "text": [
      "0.5\n"
     ]
    }
   ],
   "source": [
    "x=10\n",
    "y=20\n",
    "print(x/y)"
   ]
  },
  {
   "cell_type": "code",
   "execution_count": 32,
   "id": "360d44a0-4918-4a9b-9022-3bdc62176f06",
   "metadata": {},
   "outputs": [],
   "source": [
    "# types of operators\n",
    "# 1 arithmetic operator\n",
    "# 2 assignment operators\n",
    "# 3 comparision operators\n",
    "# 4 logical operators\n",
    "# 5 bitwise operators\n",
    "# 6 identity operators\n",
    "# 7 membership operators\n",
    "\n"
   ]
  },
  {
   "cell_type": "code",
   "execution_count": 10,
   "id": "0fb441ef-c067-4406-b7b6-99f379338404",
   "metadata": {},
   "outputs": [],
   "source": [
    "# arthmetic operators (+,-,*,/,(// floor division),% modulus,**exponential operators)"
   ]
  },
  {
   "cell_type": "code",
   "execution_count": 12,
   "id": "5cc82695-16b5-49a7-8dd5-671b61389ae4",
   "metadata": {},
   "outputs": [
    {
     "name": "stdout",
     "output_type": "stream",
     "text": [
      "5\n"
     ]
    }
   ],
   "source": [
    "a=50\n",
    "b=10\n",
    "print(a//b) # floor division gives value before decimals let's suppose if m getting value of 5.2 it will revert back with only 5"
   ]
  },
  {
   "cell_type": "code",
   "execution_count": 14,
   "id": "ac5cf1cc-5a16-41af-8192-287b1d1fab41",
   "metadata": {},
   "outputs": [
    {
     "name": "stdout",
     "output_type": "stream",
     "text": [
      "0\n"
     ]
    }
   ],
   "source": [
    "a=50\n",
    "b=10\n",
    "print(a%b) # modulus give us remainder"
   ]
  },
  {
   "cell_type": "code",
   "execution_count": 16,
   "id": "4d44c196-7cf0-4e46-be5b-7cbd6ab67400",
   "metadata": {},
   "outputs": [],
   "source": [
    "# exponenial"
   ]
  },
  {
   "cell_type": "code",
   "execution_count": 17,
   "id": "ee4aecc1-a464-40c3-a98e-0bec2d9805fd",
   "metadata": {},
   "outputs": [
    {
     "name": "stdout",
     "output_type": "stream",
     "text": [
      "97656250000000000\n"
     ]
    }
   ],
   "source": [
    "a=50\n",
    "b=10\n",
    "print(a**b)"
   ]
  },
  {
   "cell_type": "code",
   "execution_count": 34,
   "id": "74362ab8-edd2-447c-b441-0e64d4bd8635",
   "metadata": {},
   "outputs": [],
   "source": [
    "# assignment operators"
   ]
  },
  {
   "cell_type": "code",
   "execution_count": null,
   "id": "68494991-455f-4046-80cd-a9f47491068d",
   "metadata": {},
   "outputs": [],
   "source": [
    "=,+=,-+,/=,*=,//=,**=,%=="
   ]
  },
  {
   "cell_type": "markdown",
   "id": "57e05cc2-dd78-4406-830a-3886a08ab8c1",
   "metadata": {},
   "source": [
    "# if we want to change particular value which is expect to it previous value"
   ]
  },
  {
   "cell_type": "code",
   "execution_count": 38,
   "id": "8a2083ce-6fbc-4c67-bd73-bae6a18f4d23",
   "metadata": {},
   "outputs": [
    {
     "name": "stdout",
     "output_type": "stream",
     "text": [
      "15\n"
     ]
    }
   ],
   "source": [
    "v=10 \n",
    "v=v+5\n",
    "print(v)"
   ]
  },
  {
   "cell_type": "code",
   "execution_count": 39,
   "id": "3f9fc128-c46a-4b7e-ad52-cc67a0da0ba8",
   "metadata": {},
   "outputs": [
    {
     "name": "stdout",
     "output_type": "stream",
     "text": [
      "30\n"
     ]
    }
   ],
   "source": [
    "v=12\n",
    "v+=18\n",
    "print(v)"
   ]
  },
  {
   "cell_type": "code",
   "execution_count": 40,
   "id": "4c926009-76f5-4269-8a48-e56df78bee45",
   "metadata": {},
   "outputs": [
    {
     "name": "stdout",
     "output_type": "stream",
     "text": [
      "-6\n"
     ]
    }
   ],
   "source": [
    "v=12\n",
    "v-=18\n",
    "print(v)"
   ]
  },
  {
   "cell_type": "code",
   "execution_count": 41,
   "id": "4338234c-0170-4aba-ac0f-9d0a9c00228d",
   "metadata": {},
   "outputs": [
    {
     "name": "stdout",
     "output_type": "stream",
     "text": [
      "0.6666666666666666\n"
     ]
    }
   ],
   "source": [
    "v=12\n",
    "v/=18\n",
    "print(v)"
   ]
  },
  {
   "cell_type": "code",
   "execution_count": 42,
   "id": "6cbac40a-a47c-467e-ae5a-f9fd3e40d3f4",
   "metadata": {},
   "outputs": [
    {
     "name": "stdout",
     "output_type": "stream",
     "text": [
      "216\n"
     ]
    }
   ],
   "source": [
    "v=12\n",
    "v*=18\n",
    "print(v)"
   ]
  },
  {
   "cell_type": "code",
   "execution_count": 43,
   "id": "e3b5fadb-e534-43f9-963c-97f9eb4621f4",
   "metadata": {},
   "outputs": [
    {
     "name": "stdout",
     "output_type": "stream",
     "text": [
      "0\n"
     ]
    }
   ],
   "source": [
    "v=12\n",
    "v//=18\n",
    "print(v)"
   ]
  },
  {
   "cell_type": "code",
   "execution_count": 44,
   "id": "61ec3632-b4c4-4017-ace5-2a0cb8621755",
   "metadata": {},
   "outputs": [
    {
     "name": "stdout",
     "output_type": "stream",
     "text": [
      "12\n"
     ]
    }
   ],
   "source": [
    "v=12\n",
    "v%=18\n",
    "print(v)"
   ]
  },
  {
   "cell_type": "code",
   "execution_count": 45,
   "id": "87ff5125-1993-49b7-9f4e-b23d24590e99",
   "metadata": {},
   "outputs": [
    {
     "name": "stdout",
     "output_type": "stream",
     "text": [
      "26623333280885243904\n"
     ]
    }
   ],
   "source": [
    "v=12\n",
    "v**=18\n",
    "print(v)"
   ]
  },
  {
   "cell_type": "code",
   "execution_count": 46,
   "id": "c1e27934-b1cc-441e-b012-a2afaeb2cb2c",
   "metadata": {},
   "outputs": [],
   "source": [
    "# comparision operators (<,less than,>greater than ,==)"
   ]
  },
  {
   "cell_type": "code",
   "execution_count": null,
   "id": "88ffe76c-71ec-4535-bcd9-b25cad2500b4",
   "metadata": {},
   "outputs": [],
   "source": []
  }
 ],
 "metadata": {
  "kernelspec": {
   "display_name": "Python 3 (ipykernel)",
   "language": "python",
   "name": "python3"
  },
  "language_info": {
   "codemirror_mode": {
    "name": "ipython",
    "version": 3
   },
   "file_extension": ".py",
   "mimetype": "text/x-python",
   "name": "python",
   "nbconvert_exporter": "python",
   "pygments_lexer": "ipython3",
   "version": "3.11.4"
  }
 },
 "nbformat": 4,
 "nbformat_minor": 5
}
