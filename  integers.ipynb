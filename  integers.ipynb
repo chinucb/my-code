{
 "cells": [
  {
   "cell_type": "markdown",
   "id": "d5e94ecd-1ae6-4dca-b69b-ae31b7ea052b",
   "metadata": {},
   "source": [
    "# Integers"
   ]
  },
  {
   "cell_type": "raw",
   "id": "f841bf02-6d21-4ddf-9914-295d93b276ef",
   "metadata": {},
   "source": [
    "<Integers contructor is int()\n",
    "<integer literal is 0\n",
    "<integer values are made up of:- 0,1,2,3,4,5,6,7,8,9\n",
    "<integer base is 10"
   ]
  },
  {
   "cell_type": "raw",
   "id": "ac808c8e-cca7-4b67-bf59-c5761f7fbc8b",
   "metadata": {},
   "source": [
    "< Integers are whole number,and can be negative or positive ex:- 1,23,34,-40,-10,250\n"
   ]
  },
  {
   "cell_type": "code",
   "execution_count": 4,
   "id": "840ba6ae-83da-47aa-a240-ef52db3a125a",
   "metadata": {},
   "outputs": [
    {
     "data": {
      "text/plain": [
       "7"
      ]
     },
     "execution_count": 4,
     "metadata": {},
     "output_type": "execute_result"
    }
   ],
   "source": [
    "1+6\n"
   ]
  },
  {
   "cell_type": "code",
   "execution_count": 5,
   "id": "d1955042-d3cb-462a-a3a2-71927a77b914",
   "metadata": {},
   "outputs": [
    {
     "data": {
      "text/plain": [
       "0"
      ]
     },
     "execution_count": 5,
     "metadata": {},
     "output_type": "execute_result"
    }
   ],
   "source": [
    "4%2"
   ]
  },
  {
   "cell_type": "code",
   "execution_count": 3,
   "id": "84cf8a4d-fd0c-4605-950e-cd7a457de403",
   "metadata": {},
   "outputs": [
    {
     "data": {
      "text/plain": [
       "int"
      ]
     },
     "execution_count": 3,
     "metadata": {},
     "output_type": "execute_result"
    }
   ],
   "source": [
    "type(-25) # we can find data type just doing this write type and put the value it will tell u whether it is int or float"
   ]
  },
  {
   "cell_type": "code",
   "execution_count": 9,
   "id": "38a028d6-e3b9-4c02-a52d-8187627f3dea",
   "metadata": {},
   "outputs": [
    {
     "name": "stdout",
     "output_type": "stream",
     "text": [
      "<class 'int'>\n"
     ]
    }
   ],
   "source": [
    "a=10\n",
    "print(type(a))\n"
   ]
  },
  {
   "cell_type": "code",
   "execution_count": 3,
   "id": "843d72d4-fe31-4d15-a859-b57a2e7318db",
   "metadata": {},
   "outputs": [],
   "source": [
    "b=int() #constructor is use to create empty data type."
   ]
  },
  {
   "cell_type": "code",
   "execution_count": 4,
   "id": "439f8614-38b0-42de-afea-04fc64a22547",
   "metadata": {},
   "outputs": [
    {
     "name": "stdout",
     "output_type": "stream",
     "text": [
      "0\n"
     ]
    }
   ],
   "source": [
    "print(b)"
   ]
  },
  {
   "cell_type": "code",
   "execution_count": 8,
   "id": "45ffeb09-0a72-4b62-ae9e-b291aaf87438",
   "metadata": {},
   "outputs": [
    {
     "name": "stdout",
     "output_type": "stream",
     "text": [
      "0\n",
      "<class 'int'>\n"
     ]
    }
   ],
   "source": [
    "c=0 # o is integer literal\n",
    "print(c)\n",
    "print(type(c))"
   ]
  },
  {
   "cell_type": "code",
   "execution_count": 7,
   "id": "458845e5-708f-4c9f-8169-0602eeba6e24",
   "metadata": {},
   "outputs": [
    {
     "name": "stdout",
     "output_type": "stream",
     "text": [
      "<class 'int'>\n"
     ]
    }
   ],
   "source": [
    "print(type(b))"
   ]
  },
  {
   "cell_type": "code",
   "execution_count": 10,
   "id": "565a2ca4-864f-4e8c-8d6b-b50516b08417",
   "metadata": {},
   "outputs": [
    {
     "name": "stdout",
     "output_type": "stream",
     "text": [
      "0b1010\n"
     ]
    }
   ],
   "source": [
    "print(bin(a))"
   ]
  },
  {
   "cell_type": "code",
   "execution_count": 11,
   "id": "c691e4b4-4c08-4e99-a0b2-e6eb37fc7660",
   "metadata": {},
   "outputs": [],
   "source": [
    "#decimal number system 0,1,2,3,4,5,6,7,8,9 ; base is 10\n",
    "#octal number system 0,1,2,3,4,5,6,7 ; base is 8\n",
    "#hexadecimal number 0,1,2,3,4,5,6,7,8,9,a,b,c,d,e,f ; base is 16\n",
    "#binary number 0,1 ; base is 2"
   ]
  },
  {
   "cell_type": "code",
   "execution_count": 12,
   "id": "888e1f94-42e5-4c83-a773-1f98e1c7dbb4",
   "metadata": {},
   "outputs": [
    {
     "name": "stdout",
     "output_type": "stream",
     "text": [
      "0b1010\n"
     ]
    }
   ],
   "source": [
    "a=10 # decimal number system to binary number system\n",
    "print(bin(a))"
   ]
  },
  {
   "cell_type": "code",
   "execution_count": 13,
   "id": "693e1597-0687-4988-ae53-7e1aaed4f8de",
   "metadata": {},
   "outputs": [
    {
     "name": "stdout",
     "output_type": "stream",
     "text": [
      "0o12\n"
     ]
    }
   ],
   "source": [
    "#decimal no system to octal numer system\n",
    "print(oct(a))"
   ]
  },
  {
   "cell_type": "code",
   "execution_count": 14,
   "id": "0d6d4b0a-5dd2-406e-a00a-85f4c7fc6069",
   "metadata": {},
   "outputs": [
    {
     "name": "stdout",
     "output_type": "stream",
     "text": [
      "0x7d0\n"
     ]
    }
   ],
   "source": [
    "#decimal no system to hexa decimal number\n",
    "b=2000\n",
    "print(hex(b))"
   ]
  },
  {
   "cell_type": "code",
   "execution_count": 4,
   "id": "49379834-7af7-4c85-9c67-b65b140f378b",
   "metadata": {},
   "outputs": [
    {
     "name": "stdout",
     "output_type": "stream",
     "text": [
      "<class 'float'> 3.4\n"
     ]
    }
   ],
   "source": [
    "num=3.4\n",
    "print(type(num),num)"
   ]
  },
  {
   "cell_type": "code",
   "execution_count": 7,
   "id": "6b512cb3-10a0-435d-a3e9-d4348f6372f6",
   "metadata": {},
   "outputs": [
    {
     "name": "stdout",
     "output_type": "stream",
     "text": [
      "9\n"
     ]
    }
   ],
   "source": [
    "print(3**2)"
   ]
  },
  {
   "cell_type": "code",
   "execution_count": 8,
   "id": "99305883-15af-4e8a-99c9-0774e9e6f39c",
   "metadata": {},
   "outputs": [
    {
     "name": "stdout",
     "output_type": "stream",
     "text": [
      "1\n"
     ]
    }
   ],
   "source": [
    "print(3%2)"
   ]
  },
  {
   "cell_type": "code",
   "execution_count": null,
   "id": "58d3e369-a3bc-4e43-90c6-365ff42c281f",
   "metadata": {},
   "outputs": [],
   "source": []
  }
 ],
 "metadata": {
  "kernelspec": {
   "display_name": "Python 3 (ipykernel)",
   "language": "python",
   "name": "python3"
  },
  "language_info": {
   "codemirror_mode": {
    "name": "ipython",
    "version": 3
   },
   "file_extension": ".py",
   "mimetype": "text/x-python",
   "name": "python",
   "nbconvert_exporter": "python",
   "pygments_lexer": "ipython3",
   "version": "3.11.4"
  }
 },
 "nbformat": 4,
 "nbformat_minor": 5
}
