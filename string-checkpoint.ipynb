{
 "cells": [
  {
   "cell_type": "markdown",
   "id": "c50d75e6-1231-4b43-a979-38b3ee36519c",
   "metadata": {},
   "source": [
    "# string"
   ]
  },
  {
   "cell_type": "raw",
   "id": "30611100-d13d-4ce0-81dc-57fdba79bc47",
   "metadata": {},
   "source": [
    "# string\n",
    "# string constructor is str()\n",
    "# string literal is '',\"\",\"\"\"\"\"\",''''''\n",
    "# string is order set of sequence of character.\n",
    "#strig support indexing\n",
    "# string support slicing\n",
    "# string support concatination\n",
    "# string is immutable of hashable datatype\n",
    "# string have various methods."
   ]
  },
  {
   "cell_type": "code",
   "execution_count": 7,
   "id": "1ea8c1ae-a45e-4f8b-909a-c56120b8e24e",
   "metadata": {},
   "outputs": [
    {
     "name": "stdout",
     "output_type": "stream",
     "text": [
      "hello world\n",
      "hello world\n"
     ]
    }
   ],
   "source": [
    "print(\"hello world\")\n",
    "print('hello world')\n"
   ]
  },
  {
   "cell_type": "code",
   "execution_count": 6,
   "id": "49b25939-7fdc-4e90-8a64-f1f46969ac33",
   "metadata": {},
   "outputs": [
    {
     "name": "stdout",
     "output_type": "stream",
     "text": [
      "hello world\n",
      "hello world\n"
     ]
    }
   ],
   "source": [
    "print('''hello world''')\n",
    "print(\"\"\"hello world\"\"\")"
   ]
  },
  {
   "cell_type": "code",
   "execution_count": 11,
   "id": "fddf03b0-e6cc-4729-86f5-916ebda0e961",
   "metadata": {},
   "outputs": [
    {
     "name": "stdout",
     "output_type": "stream",
     "text": [
      "twinklw twinklw little star\n",
      "    how i wonder what you are\n",
      "    up above the world to high\n",
      "    like a diamond in the sky\n"
     ]
    }
   ],
   "source": [
    "print(\"\"\"twinklw twinklw little star\n",
    "    how i wonder what you are\n",
    "    up above the world to high\n",
    "    like a diamond in the sky\"\"\")"
   ]
  },
  {
   "cell_type": "code",
   "execution_count": 14,
   "id": "0760b90e-5cf0-4ebe-ab7c-d30acc922996",
   "metadata": {},
   "outputs": [
    {
     "data": {
      "text/plain": [
       "'twinkle twinkle little star \\nhow i wonder what you are\\nup above the world to high\\nlike a diamond in the sky\",end=\"\\n\"'"
      ]
     },
     "execution_count": 14,
     "metadata": {},
     "output_type": "execute_result"
    }
   ],
   "source": [
    "'''twinkle twinkle little star \n",
    "how i wonder what you are\n",
    "up above the world to high\n",
    "like a diamond in the sky\",end=\"\\n\"'''"
   ]
  },
  {
   "cell_type": "code",
   "execution_count": 16,
   "id": "fd0baac1-6b67-45d5-9acf-6a834c637bf1",
   "metadata": {},
   "outputs": [
    {
     "data": {
      "text/plain": [
       "'hello world'"
      ]
     },
     "execution_count": 16,
     "metadata": {},
     "output_type": "execute_result"
    }
   ],
   "source": [
    "\"hello world\""
   ]
  },
  {
   "cell_type": "code",
   "execution_count": 18,
   "id": "81d5516e-e9a0-482e-9be3-908778923579",
   "metadata": {},
   "outputs": [],
   "source": [
    "a=str()"
   ]
  },
  {
   "cell_type": "code",
   "execution_count": 22,
   "id": "ec408e38-b42b-4d8d-9945-cb635f55b24a",
   "metadata": {},
   "outputs": [
    {
     "data": {
      "text/plain": [
       "''"
      ]
     },
     "execution_count": 22,
     "metadata": {},
     "output_type": "execute_result"
    }
   ],
   "source": [
    "a"
   ]
  },
  {
   "cell_type": "code",
   "execution_count": 23,
   "id": "777a04ae-532c-43f8-bd56-34325abbf718",
   "metadata": {},
   "outputs": [],
   "source": [
    "b=(\"\")"
   ]
  },
  {
   "cell_type": "code",
   "execution_count": 24,
   "id": "616fd92b-6105-4e4a-8805-bc4524909e9d",
   "metadata": {},
   "outputs": [
    {
     "data": {
      "text/plain": [
       "''"
      ]
     },
     "execution_count": 24,
     "metadata": {},
     "output_type": "execute_result"
    }
   ],
   "source": [
    "b"
   ]
  },
  {
   "cell_type": "code",
   "execution_count": 31,
   "id": "2870eddf-e462-414e-9202-323fbb765f83",
   "metadata": {},
   "outputs": [],
   "source": [
    "c=('')"
   ]
  },
  {
   "cell_type": "code",
   "execution_count": 32,
   "id": "16e5c298-43df-4915-8f47-2abcd3a44010",
   "metadata": {},
   "outputs": [
    {
     "data": {
      "text/plain": [
       "''"
      ]
     },
     "execution_count": 32,
     "metadata": {},
     "output_type": "execute_result"
    }
   ],
   "source": [
    "c"
   ]
  },
  {
   "cell_type": "code",
   "execution_count": 33,
   "id": "3409110a-e32b-486d-9f39-f37f23150360",
   "metadata": {},
   "outputs": [],
   "source": [
    "d=''''''"
   ]
  },
  {
   "cell_type": "code",
   "execution_count": 34,
   "id": "e3a8916e-2fb3-4362-84f5-284899fd659f",
   "metadata": {},
   "outputs": [
    {
     "data": {
      "text/plain": [
       "''"
      ]
     },
     "execution_count": 34,
     "metadata": {},
     "output_type": "execute_result"
    }
   ],
   "source": [
    "d"
   ]
  },
  {
   "cell_type": "code",
   "execution_count": 35,
   "id": "98857d93-85da-454e-b571-ef12a0370f90",
   "metadata": {},
   "outputs": [
    {
     "name": "stdout",
     "output_type": "stream",
     "text": [
      "<class 'str'>\n"
     ]
    }
   ],
   "source": [
    "print(type(d))"
   ]
  },
  {
   "cell_type": "code",
   "execution_count": 36,
   "id": "646dad61-cf9d-460e-9544-a8f0d9492dcf",
   "metadata": {},
   "outputs": [],
   "source": [
    "a=\"chanchal\""
   ]
  },
  {
   "cell_type": "code",
   "execution_count": 37,
   "id": "76dc4372-e596-4de2-ae66-95f2e84130cb",
   "metadata": {},
   "outputs": [
    {
     "name": "stdout",
     "output_type": "stream",
     "text": [
      "chanchal\n"
     ]
    }
   ],
   "source": [
    "print(a)"
   ]
  },
  {
   "cell_type": "code",
   "execution_count": 41,
   "id": "2dc0f8f4-b10a-4d6c-9ba7-b8f9ef25f5eb",
   "metadata": {},
   "outputs": [
    {
     "data": {
      "text/plain": [
       "'c'"
      ]
     },
     "execution_count": 41,
     "metadata": {},
     "output_type": "execute_result"
    }
   ],
   "source": [
    " a[0]#indexing it's going step by step just like sequence."
   ]
  },
  {
   "cell_type": "code",
   "execution_count": 42,
   "id": "edbcc2d1-0ef8-4db5-af26-228bd963dd1e",
   "metadata": {},
   "outputs": [
    {
     "data": {
      "text/plain": [
       "'h'"
      ]
     },
     "execution_count": 42,
     "metadata": {},
     "output_type": "execute_result"
    }
   ],
   "source": [
    "a[1]"
   ]
  },
  {
   "cell_type": "code",
   "execution_count": 44,
   "id": "1b67c80d-22c2-4c2c-95b4-6076ca6e4971",
   "metadata": {},
   "outputs": [
    {
     "data": {
      "text/plain": [
       "'h'"
      ]
     },
     "execution_count": 44,
     "metadata": {},
     "output_type": "execute_result"
    }
   ],
   "source": [
    "a[-7] # nagative indexing"
   ]
  },
  {
   "cell_type": "markdown",
   "id": "824d6ead-56b4-4fe1-934b-5f31f1fbc0d9",
   "metadata": {},
   "source": [
    "# indexing"
   ]
  },
  {
   "cell_type": "code",
   "execution_count": 2,
   "id": "d539a00b-7223-45af-b765-76bfb3cab07d",
   "metadata": {},
   "outputs": [],
   "source": [
    "w=\"welcome to wscubetech\" # string data is immutable means u can't delete any data from string"
   ]
  },
  {
   "cell_type": "code",
   "execution_count": 4,
   "id": "23862a4f-47dc-46fc-aad9-d8dc103c6c81",
   "metadata": {},
   "outputs": [
    {
     "name": "stdout",
     "output_type": "stream",
     "text": [
      "e\n"
     ]
    }
   ],
   "source": [
    "print(w[6])"
   ]
  },
  {
   "cell_type": "code",
   "execution_count": 5,
   "id": "ee689302-b047-438f-8aca-a6474d516f42",
   "metadata": {},
   "outputs": [
    {
     "name": "stdout",
     "output_type": "stream",
     "text": [
      "h\n"
     ]
    }
   ],
   "source": [
    "print(w[-1])"
   ]
  },
  {
   "cell_type": "code",
   "execution_count": 6,
   "id": "1474656e-383c-4735-9e49-8431cb46be24",
   "metadata": {},
   "outputs": [
    {
     "name": "stdout",
     "output_type": "stream",
     "text": [
      "t\n"
     ]
    }
   ],
   "source": [
    "print(w[-13])"
   ]
  },
  {
   "cell_type": "markdown",
   "id": "3a332a77-3372-4ac7-b3ec-fc37cd0f971d",
   "metadata": {},
   "source": [
    "# Slicing"
   ]
  },
  {
   "cell_type": "code",
   "execution_count": 46,
   "id": "c9f256da-39dc-43bb-b04e-650a5e38d984",
   "metadata": {},
   "outputs": [
    {
     "data": {
      "text/plain": [
       "'chanc'"
      ]
     },
     "execution_count": 46,
     "metadata": {},
     "output_type": "execute_result"
    }
   ],
   "source": [
    "a[0:5] # in slicing case we have to put value like from which part we want that particular peace so let's say (0 to 5) i have to mention a=[0:5]in it\n"
   ]
  },
  {
   "cell_type": "code",
   "execution_count": 50,
   "id": "02ed52f0-b4ac-4003-84ab-a47c6b64aed3",
   "metadata": {},
   "outputs": [
    {
     "data": {
      "text/plain": [
       "'ha'"
      ]
     },
     "execution_count": 50,
     "metadata": {},
     "output_type": "execute_result"
    }
   ],
   "source": [
    "a[1:3]"
   ]
  },
  {
   "cell_type": "code",
   "execution_count": 53,
   "id": "9d0a6e73-2dff-47e0-864e-b397aa99ff89",
   "metadata": {},
   "outputs": [
    {
     "data": {
      "text/plain": [
       "'han'"
      ]
     },
     "execution_count": 53,
     "metadata": {},
     "output_type": "execute_result"
    }
   ],
   "source": [
    "a[1:4:1]"
   ]
  },
  {
   "cell_type": "code",
   "execution_count": 54,
   "id": "63e58473-b782-4229-b697-becda6de7b12",
   "metadata": {},
   "outputs": [
    {
     "data": {
      "text/plain": [
       "'hanch'"
      ]
     },
     "execution_count": 54,
     "metadata": {},
     "output_type": "execute_result"
    }
   ],
   "source": [
    "a[1:6:1]"
   ]
  },
  {
   "cell_type": "code",
   "execution_count": 55,
   "id": "56910464-233a-4d9f-9a36-b284fbd1a12a",
   "metadata": {},
   "outputs": [
    {
     "data": {
      "text/plain": [
       "'chanchal'"
      ]
     },
     "execution_count": 55,
     "metadata": {},
     "output_type": "execute_result"
    }
   ],
   "source": [
    "a[0:46576989898977564423121364754:1]"
   ]
  },
  {
   "cell_type": "code",
   "execution_count": 56,
   "id": "4451f7c3-2d84-4a84-8e83-6ee9cc191425",
   "metadata": {},
   "outputs": [
    {
     "data": {
      "text/plain": [
       "''"
      ]
     },
     "execution_count": 56,
     "metadata": {},
     "output_type": "execute_result"
    }
   ],
   "source": [
    "a[-8:0:1]"
   ]
  },
  {
   "cell_type": "code",
   "execution_count": 7,
   "id": "743e2a4b-0fa9-4d0c-86e5-1196fa375e10",
   "metadata": {},
   "outputs": [],
   "source": [
    "w=\"welcome to wscubetech\" "
   ]
  },
  {
   "cell_type": "code",
   "execution_count": 9,
   "id": "89b887dd-e302-44ce-b180-971761b15219",
   "metadata": {},
   "outputs": [
    {
     "name": "stdout",
     "output_type": "stream",
     "text": [
      "welcome\n"
     ]
    }
   ],
   "source": [
    "print(w[0:7])"
   ]
  },
  {
   "cell_type": "code",
   "execution_count": 16,
   "id": "3cc3bd9a-a2ee-484d-90b1-6c1f0a3b891e",
   "metadata": {},
   "outputs": [
    {
     "name": "stdout",
     "output_type": "stream",
     "text": [
      "welcome to wscubetech\n"
     ]
    }
   ],
   "source": [
    "print(w[0:]) # when i am not putting any value after colon it will print a full line as it is"
   ]
  },
  {
   "cell_type": "code",
   "execution_count": 18,
   "id": "48cf5472-2c2e-44b3-8381-2719d5f9b98c",
   "metadata": {},
   "outputs": [
    {
     "name": "stdout",
     "output_type": "stream",
     "text": [
      "wloet sueeh\n"
     ]
    }
   ],
   "source": [
    "print(w[0::2]) # in this case i m getting output after skipping two alphabets"
   ]
  },
  {
   "cell_type": "code",
   "execution_count": 19,
   "id": "5c12572e-e558-4a85-8e99-013b332f9e21",
   "metadata": {},
   "outputs": [
    {
     "name": "stdout",
     "output_type": "stream",
     "text": [
      "heeus teolw\n"
     ]
    }
   ],
   "source": [
    "print(w[-1::-2])"
   ]
  },
  {
   "cell_type": "code",
   "execution_count": 20,
   "id": "a6f22f0a-1be2-4f41-9b35-b6e08a4437dd",
   "metadata": {},
   "outputs": [
    {
     "name": "stdout",
     "output_type": "stream",
     "text": [
      "hcetebucsw ot emoclew\n"
     ]
    }
   ],
   "source": [
    "print(w[-1::-1])"
   ]
  },
  {
   "cell_type": "code",
   "execution_count": null,
   "id": "292deb5c-4f08-4ec0-bfb7-0f08875b4084",
   "metadata": {},
   "outputs": [],
   "source": []
  },
  {
   "cell_type": "markdown",
   "id": "7c8be96b-1b16-4f6b-884e-0628200b1090",
   "metadata": {},
   "source": [
    "# concatination "
   ]
  },
  {
   "cell_type": "raw",
   "id": "a39fa69c-f5b4-480d-9b7d-28fbf777b2aa",
   "metadata": {},
   "source": [
    "concationation means when you are using similar data type and you are applying plus sign in it that called concatination.\n"
   ]
  },
  {
   "cell_type": "code",
   "execution_count": 3,
   "id": "14b76dae-2159-46e2-b08f-289362ce987e",
   "metadata": {},
   "outputs": [
    {
     "name": "stdout",
     "output_type": "stream",
     "text": [
      "chanchal sharma\n"
     ]
    }
   ],
   "source": [
    "print(\"chanchal\" +\" sharma\") # this is called concatination"
   ]
  },
  {
   "cell_type": "markdown",
   "id": "b0a4b4a7-3009-4dac-bf6d-402d8df9d573",
   "metadata": {},
   "source": [
    "# method of strings"
   ]
  },
  {
   "cell_type": "code",
   "execution_count": null,
   "id": "70dc97ba-ec96-4702-b32e-b68c31fe7256",
   "metadata": {},
   "outputs": [],
   "source": [
    "# note:- all string methods returns new values they do not change orignal string."
   ]
  },
  {
   "cell_type": "code",
   "execution_count": 4,
   "id": "670ab41e-3d41-4350-be4a-f8d521fcec52",
   "metadata": {},
   "outputs": [],
   "source": [
    "a=\"chanchal\""
   ]
  },
  {
   "cell_type": "code",
   "execution_count": 5,
   "id": "54fc2ebb-3c2b-4881-b804-1b06fbb142c3",
   "metadata": {},
   "outputs": [
    {
     "data": {
      "text/plain": [
       "'CHANCHAL'"
      ]
     },
     "execution_count": 5,
     "metadata": {},
     "output_type": "execute_result"
    }
   ],
   "source": [
    "a.upper() # convert a string into upper case"
   ]
  },
  {
   "cell_type": "code",
   "execution_count": 8,
   "id": "2677f6e1-b552-4f6a-ae74-6312646eb1b7",
   "metadata": {},
   "outputs": [],
   "source": [
    "b=a.lower()"
   ]
  },
  {
   "cell_type": "code",
   "execution_count": 9,
   "id": "0fab5661-b125-4256-89fa-415b8bb40acf",
   "metadata": {},
   "outputs": [
    {
     "name": "stdout",
     "output_type": "stream",
     "text": [
      "chanchal\n"
     ]
    }
   ],
   "source": [
    "print(b)"
   ]
  },
  {
   "cell_type": "code",
   "execution_count": 10,
   "id": "90b55fe8-acfd-4d14-8f18-af9ff1efc3d1",
   "metadata": {},
   "outputs": [
    {
     "name": "stdout",
     "output_type": "stream",
     "text": [
      "2026418097584\n"
     ]
    }
   ],
   "source": [
    "print(id(a))"
   ]
  },
  {
   "cell_type": "code",
   "execution_count": 11,
   "id": "62cc7a8f-e00d-4910-bcfe-e86c36f939d5",
   "metadata": {},
   "outputs": [
    {
     "name": "stdout",
     "output_type": "stream",
     "text": [
      "2026423751664\n"
     ]
    }
   ],
   "source": [
    "print(id(b))"
   ]
  },
  {
   "cell_type": "code",
   "execution_count": 18,
   "id": "bd94f204-1e1c-411b-84ce-ca701a7e09c7",
   "metadata": {},
   "outputs": [
    {
     "data": {
      "text/plain": [
       "'Chinu.cs28@gmail.com'"
      ]
     },
     "execution_count": 18,
     "metadata": {},
     "output_type": "execute_result"
    }
   ],
   "source": [
    "a.capitalize() # convert the first character to upper case"
   ]
  },
  {
   "cell_type": "code",
   "execution_count": 19,
   "id": "c325c66d-9080-4f46-83fb-a60cb4182398",
   "metadata": {
    "editable": true,
    "slideshow": {
     "slide_type": ""
    },
    "tags": []
   },
   "outputs": [
    {
     "data": {
      "text/plain": [
       "'chinu.cs28@gmail.com'"
      ]
     },
     "execution_count": 19,
     "metadata": {},
     "output_type": "execute_result"
    }
   ],
   "source": [
    "a.casefold() # converst string into lower case"
   ]
  },
  {
   "cell_type": "code",
   "execution_count": 15,
   "id": "afe814d6-0d36-4c73-9396-234b92602263",
   "metadata": {},
   "outputs": [],
   "source": [
    "a=\"chinu.cs28@gmail.com\""
   ]
  },
  {
   "cell_type": "code",
   "execution_count": 17,
   "id": "46081d9f-6a53-4fc7-8ba6-ea3c40eaf5c2",
   "metadata": {},
   "outputs": [
    {
     "data": {
      "text/plain": [
       "'chinu.cs28@gmail.com'"
      ]
     },
     "execution_count": 17,
     "metadata": {},
     "output_type": "execute_result"
    }
   ],
   "source": [
    "a.casefold() # casefold convert string into lower case."
   ]
  },
  {
   "cell_type": "code",
   "execution_count": 1,
   "id": "26bc908b-2985-470f-a3da-3288bac4f823",
   "metadata": {},
   "outputs": [],
   "source": [
    "a=\"      chinu.cs28@gmail.com   \"\n"
   ]
  },
  {
   "cell_type": "code",
   "execution_count": 2,
   "id": "cd7fb8be-0137-4679-8eba-90164159f965",
   "metadata": {},
   "outputs": [
    {
     "data": {
      "text/plain": [
       "'      chinu.cs28@gmail.com   '"
      ]
     },
     "execution_count": 2,
     "metadata": {},
     "output_type": "execute_result"
    }
   ],
   "source": [
    "a"
   ]
  },
  {
   "cell_type": "code",
   "execution_count": 3,
   "id": "29abe85a-e803-4959-abc8-f5475e92309c",
   "metadata": {},
   "outputs": [
    {
     "data": {
      "text/plain": [
       "'chinu.cs28@gmail.com'"
      ]
     },
     "execution_count": 3,
     "metadata": {},
     "output_type": "execute_result"
    }
   ],
   "source": [
    "a.strip()"
   ]
  },
  {
   "cell_type": "markdown",
   "id": "ad7888fd-77bb-43fd-89a6-89dc557231ca",
   "metadata": {},
   "source": [
    "# string methods"
   ]
  },
  {
   "cell_type": "raw",
   "id": "27981cc2-ea4e-4b61-8538-bc3f7604662c",
   "metadata": {},
   "source": [
    "'capitalize','casefold','center','count','encode','endswith','expandtabs','find','format','format_map','index','isalnum','isalpha','isascii'\n",
    "'isdecimal','isdigit','isidentifier','islower','isnumeric','isprintable','isspace,'istitle','isupper','join','ljust','lower','lstrip','maketrans','partition','\n",
    "'removeprefix\n",
    "'removesuffix','replace','rfind','rindex','rjust','rpartition','rsplit','rstrip','split','splitnes','startswith','swapcase','title','translate','upper','zfill'"
   ]
  },
  {
   "cell_type": "code",
   "execution_count": 3,
   "id": "f0841b11-5925-4ad7-95c5-cbd7b865cfe9",
   "metadata": {},
   "outputs": [],
   "source": [
    "a=\"chanchal\""
   ]
  },
  {
   "cell_type": "code",
   "execution_count": 4,
   "id": "923a26cf-11da-4a5f-b338-dbef5d8e49d9",
   "metadata": {},
   "outputs": [
    {
     "name": "stdout",
     "output_type": "stream",
     "text": [
      "Chanchal\n"
     ]
    }
   ],
   "source": [
    "print(a.capitalize())"
   ]
  },
  {
   "cell_type": "code",
   "execution_count": 5,
   "id": "b51bd281-05be-401d-9063-0cd2236d78b0",
   "metadata": {},
   "outputs": [
    {
     "name": "stdout",
     "output_type": "stream",
     "text": [
      "chanchal\n"
     ]
    }
   ],
   "source": [
    "print(a.lower())"
   ]
  },
  {
   "cell_type": "code",
   "execution_count": 6,
   "id": "b182ce91-0fa6-4117-8012-867a497fca74",
   "metadata": {},
   "outputs": [],
   "source": [
    "b=\"    aradhita  \""
   ]
  },
  {
   "cell_type": "code",
   "execution_count": 8,
   "id": "d76a4dbb-863d-434d-b11b-3411b46961b6",
   "metadata": {},
   "outputs": [
    {
     "data": {
      "text/plain": [
       "'    aradhita  '"
      ]
     },
     "execution_count": 8,
     "metadata": {},
     "output_type": "execute_result"
    }
   ],
   "source": [
    "b"
   ]
  },
  {
   "cell_type": "code",
   "execution_count": 9,
   "id": "5d4a836f-bce0-4d1c-9927-447bc37238de",
   "metadata": {},
   "outputs": [
    {
     "name": "stdout",
     "output_type": "stream",
     "text": [
      "aradhita\n"
     ]
    }
   ],
   "source": [
    "print(b.strip()) # it removes space"
   ]
  },
  {
   "cell_type": "code",
   "execution_count": 13,
   "id": "0257d195-a329-43d1-9d98-2a377cfd1574",
   "metadata": {},
   "outputs": [
    {
     "name": "stdout",
     "output_type": "stream",
     "text": [
      "    aradhita  \n"
     ]
    }
   ],
   "source": [
    "print(b)"
   ]
  },
  {
   "cell_type": "code",
   "execution_count": 16,
   "id": "a20c7f8e-d37a-4815-abf4-33871f04215d",
   "metadata": {},
   "outputs": [
    {
     "name": "stdout",
     "output_type": "stream",
     "text": [
      "    aradhita  \n"
     ]
    }
   ],
   "source": [
    "print(b.center(8))"
   ]
  },
  {
   "cell_type": "code",
   "execution_count": 17,
   "id": "1a8c96bc-ced1-4f83-8ec4-779b9645b211",
   "metadata": {},
   "outputs": [],
   "source": [
    "c=\"sharma\""
   ]
  },
  {
   "cell_type": "code",
   "execution_count": 22,
   "id": "c05e20c0-775a-4b0f-9bd7-d8729377799b",
   "metadata": {},
   "outputs": [
    {
     "data": {
      "text/plain": [
       "'  sharma  '"
      ]
     },
     "execution_count": 22,
     "metadata": {},
     "output_type": "execute_result"
    }
   ],
   "source": [
    "c.center(10) # so in this case we have to mention a value that contains space like we wannt 2 digits space or whatever u r putting"
   ]
  },
  {
   "cell_type": "code",
   "execution_count": 23,
   "id": "7eeffb95-ca22-41df-8df0-9fe35a2d81ba",
   "metadata": {},
   "outputs": [],
   "source": [
    "d=\"immutable\""
   ]
  },
  {
   "cell_type": "code",
   "execution_count": 25,
   "id": "67c1e9db-ec66-4182-81c9-31519a7d0bcf",
   "metadata": {},
   "outputs": [
    {
     "data": {
      "text/plain": [
       "2"
      ]
     },
     "execution_count": 25,
     "metadata": {},
     "output_type": "execute_result"
    }
   ],
   "source": [
    "d.count(\"m\") # i can count repeated alphabets in this case."
   ]
  },
  {
   "cell_type": "code",
   "execution_count": 26,
   "id": "d088a275-bca8-4e90-92b3-9d4a1473e0b5",
   "metadata": {},
   "outputs": [
    {
     "data": {
      "text/plain": [
       "1"
      ]
     },
     "execution_count": 26,
     "metadata": {},
     "output_type": "execute_result"
    }
   ],
   "source": [
    "d.count(\"im\")"
   ]
  },
  {
   "cell_type": "code",
   "execution_count": 39,
   "id": "f29df8d8-7cb6-4873-999d-ee940ebb2519",
   "metadata": {},
   "outputs": [],
   "source": [
    "a=\"python is funny language because it seems useless python is unethical \""
   ]
  },
  {
   "cell_type": "code",
   "execution_count": 40,
   "id": "51d5ee2a-29ac-41b7-9ada-c4741cd80e92",
   "metadata": {},
   "outputs": [
    {
     "data": {
      "text/plain": [
       "2"
      ]
     },
     "execution_count": 40,
     "metadata": {},
     "output_type": "execute_result"
    }
   ],
   "source": [
    "a.count(\"python\")"
   ]
  },
  {
   "cell_type": "code",
   "execution_count": 47,
   "id": "411421af-2684-4510-88f9-59c55fabcbbc",
   "metadata": {},
   "outputs": [
    {
     "data": {
      "text/plain": [
       "True"
      ]
     },
     "execution_count": 47,
     "metadata": {},
     "output_type": "execute_result"
    }
   ],
   "source": [
    "a.endswith(\"l \")"
   ]
  },
  {
   "cell_type": "code",
   "execution_count": 45,
   "id": "684973e9-23fc-4d52-929f-5017f62933c4",
   "metadata": {},
   "outputs": [
    {
     "data": {
      "text/plain": [
       "True"
      ]
     },
     "execution_count": 45,
     "metadata": {},
     "output_type": "execute_result"
    }
   ],
   "source": [
    "a.endswith(\"unethical \")"
   ]
  },
  {
   "cell_type": "code",
   "execution_count": 55,
   "id": "525497ca-2494-416d-8eca-90d04b6c78a4",
   "metadata": {},
   "outputs": [
    {
     "data": {
      "text/plain": [
       "'python is funny language because it seems useless python is unethical '"
      ]
     },
     "execution_count": 55,
     "metadata": {},
     "output_type": "execute_result"
    }
   ],
   "source": [
    "a.expandtabs( 10 )"
   ]
  },
  {
   "cell_type": "code",
   "execution_count": 58,
   "id": "32ff9288-a58b-429d-9b2f-66d519c310df",
   "metadata": {},
   "outputs": [],
   "source": [
    "a=\"py\\thon is funny language because i\\t seems useless py\\thon is une\\thical\" \n"
   ]
  },
  {
   "cell_type": "code",
   "execution_count": 60,
   "id": "b6b87ca7-b79e-4265-a28d-a224517b122f",
   "metadata": {},
   "outputs": [
    {
     "name": "stdout",
     "output_type": "stream",
     "text": [
      "py\thon is funny language because i\t seems useless py\thon is une\thical\n"
     ]
    }
   ],
   "source": [
    "print(a)"
   ]
  },
  {
   "cell_type": "code",
   "execution_count": 62,
   "id": "98928664-bd66-4d3b-84ba-7fbba528f140",
   "metadata": {},
   "outputs": [
    {
     "name": "stdout",
     "output_type": "stream",
     "text": [
      "py  hon is funny language because i  seems useless py   hon is une  hical\n"
     ]
    }
   ],
   "source": [
    "print(a.expandtabs(4))"
   ]
  },
  {
   "cell_type": "code",
   "execution_count": 63,
   "id": "dad176f7-6731-425b-ad8b-b2655546934c",
   "metadata": {},
   "outputs": [
    {
     "name": "stdout",
     "output_type": "stream",
     "text": [
      "-1\n"
     ]
    }
   ],
   "source": [
    "print(a.find(\"space\")) # its giving negtaive value because of slash"
   ]
  },
  {
   "cell_type": "code",
   "execution_count": 65,
   "id": "dd91316d-4548-4346-8230-ce6552334b2e",
   "metadata": {},
   "outputs": [
    {
     "data": {
      "text/plain": [
       "16"
      ]
     },
     "execution_count": 65,
     "metadata": {},
     "output_type": "execute_result"
    }
   ],
   "source": [
    "a.find(\"language\")"
   ]
  },
  {
   "cell_type": "code",
   "execution_count": 74,
   "id": "71904ece-0514-42b4-9f60-19893203d46f",
   "metadata": {},
   "outputs": [
    {
     "name": "stdout",
     "output_type": "stream",
     "text": [
      "i belive in punctuality songsong\n"
     ]
    }
   ],
   "source": [
    "name=\"songsong\"\n",
    "a=\"i belive in punctuality {}\".format(name) # .format use for specified value(s) and insert them inside the string's placeholder.\n",
    "print(a)"
   ]
  },
  {
   "cell_type": "code",
   "execution_count": 75,
   "id": "fac37b88-0dec-4ba0-b125-4277520036f5",
   "metadata": {},
   "outputs": [
    {
     "data": {
      "text/plain": [
       "'i belive in punctuality songsongsongsong'"
      ]
     },
     "execution_count": 75,
     "metadata": {},
     "output_type": "execute_result"
    }
   ],
   "source": [
    "a + name"
   ]
  },
  {
   "cell_type": "code",
   "execution_count": 76,
   "id": "9f16aa03-95af-4a1e-9b64-1588187175bd",
   "metadata": {},
   "outputs": [],
   "source": [
    "#f string\n",
    "#F atring"
   ]
  },
  {
   "cell_type": "code",
   "execution_count": 81,
   "id": "c550c11f-f697-4f9c-ac48-b8f2f3e81aea",
   "metadata": {},
   "outputs": [
    {
     "name": "stdout",
     "output_type": "stream",
     "text": [
      "i am tugba and i am 25 years old\n"
     ]
    }
   ],
   "source": [
    "name=\"tugba\"\n",
    "age=25\n",
    "print(\"i am {} and i am {} years old\".format(name,age))"
   ]
  },
  {
   "cell_type": "code",
   "execution_count": 82,
   "id": "5f44ca50-5c8d-4c53-8228-0d036edf5647",
   "metadata": {},
   "outputs": [
    {
     "name": "stdout",
     "output_type": "stream",
     "text": [
      "i am 26 and i am nafisa years old\n"
     ]
    }
   ],
   "source": [
    "name=\"nafisa\"\n",
    "age=26\n",
    "print(\"i am {1} and i am {0} years old\".format(name,age))"
   ]
  },
  {
   "cell_type": "code",
   "execution_count": 85,
   "id": "12bb43c0-a5b4-4d92-94e0-a5aafb728980",
   "metadata": {},
   "outputs": [
    {
     "name": "stdout",
     "output_type": "stream",
     "text": [
      "i am tusbi and my  25\n"
     ]
    }
   ],
   "source": [
    "name=\"tusbi\"\n",
    "age=25\n",
    "print(f\"i am {name} and my  {age}\")"
   ]
  },
  {
   "cell_type": "code",
   "execution_count": 86,
   "id": "394304c5-8e48-49fd-8f4b-a4559cb30275",
   "metadata": {},
   "outputs": [
    {
     "name": "stdout",
     "output_type": "stream",
     "text": [
      "i am tusbi and my  25\n"
     ]
    }
   ],
   "source": [
    "name=\"tusbi\"\n",
    "age=25\n",
    "print(F\"i am {name} and my  {age}\")"
   ]
  },
  {
   "cell_type": "code",
   "execution_count": 2,
   "id": "7132e053-57fe-4558-87b1-b367b5812216",
   "metadata": {},
   "outputs": [],
   "source": [
    "a=\"i am chanchal\""
   ]
  },
  {
   "cell_type": "code",
   "execution_count": 3,
   "id": "55602771-3e88-4f41-9d79-25f03ccf21fe",
   "metadata": {},
   "outputs": [
    {
     "data": {
      "text/plain": [
       "13"
      ]
     },
     "execution_count": 3,
     "metadata": {},
     "output_type": "execute_result"
    }
   ],
   "source": [
    "len(a) # len counts letters in strings."
   ]
  },
  {
   "cell_type": "code",
   "execution_count": 7,
   "id": "887ee175-f910-43f7-83bb-5ad3db2eab6d",
   "metadata": {},
   "outputs": [
    {
     "data": {
      "text/plain": [
       "2"
      ]
     },
     "execution_count": 7,
     "metadata": {},
     "output_type": "execute_result"
    }
   ],
   "source": [
    "a.index(\"a\")"
   ]
  },
  {
   "cell_type": "code",
   "execution_count": 1,
   "id": "38222fe2-f299-4da5-8b09-dd0725a45e10",
   "metadata": {},
   "outputs": [],
   "source": [
    "a=\"bhoovika\""
   ]
  },
  {
   "cell_type": "code",
   "execution_count": 2,
   "id": "de4bb879-295d-4d28-ae50-1f24a1e639e7",
   "metadata": {},
   "outputs": [
    {
     "data": {
      "text/plain": [
       "'BHOOVIKA'"
      ]
     },
     "execution_count": 2,
     "metadata": {},
     "output_type": "execute_result"
    }
   ],
   "source": [
    "a.upper()"
   ]
  },
  {
   "cell_type": "code",
   "execution_count": 3,
   "id": "2fd81e24-8ef5-49c1-86a5-bb1e9383dda0",
   "metadata": {},
   "outputs": [
    {
     "data": {
      "text/plain": [
       "'Bhoovika'"
      ]
     },
     "execution_count": 3,
     "metadata": {},
     "output_type": "execute_result"
    }
   ],
   "source": [
    "a.capitalize()"
   ]
  },
  {
   "cell_type": "code",
   "execution_count": null,
   "id": "811a4193-ff5b-4241-9b52-b4862c3d250d",
   "metadata": {},
   "outputs": [],
   "source": []
  }
 ],
 "metadata": {
  "kernelspec": {
   "display_name": "Python 3 (ipykernel)",
   "language": "python",
   "name": "python3"
  },
  "language_info": {
   "codemirror_mode": {
    "name": "ipython",
    "version": 3
   },
   "file_extension": ".py",
   "mimetype": "text/x-python",
   "name": "python",
   "nbconvert_exporter": "python",
   "pygments_lexer": "ipython3",
   "version": "3.11.4"
  }
 },
 "nbformat": 4,
 "nbformat_minor": 5
}
