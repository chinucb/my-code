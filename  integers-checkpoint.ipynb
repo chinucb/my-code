{
 "cells": [
  {
   "cell_type": "markdown",
   "id": "d5e94ecd-1ae6-4dca-b69b-ae31b7ea052b",
   "metadata": {},
   "source": [
    "# Integers"
   ]
  },
  {
   "cell_type": "raw",
   "id": "ac808c8e-cca7-4b67-bf59-c5761f7fbc8b",
   "metadata": {},
   "source": [
    "< Integers are whole number,and can be negative or positive ex:- 1,23,34,-40,-10,250\n"
   ]
  },
  {
   "cell_type": "code",
   "execution_count": 4,
   "id": "840ba6ae-83da-47aa-a240-ef52db3a125a",
   "metadata": {},
   "outputs": [
    {
     "data": {
      "text/plain": [
       "7"
      ]
     },
     "execution_count": 4,
     "metadata": {},
     "output_type": "execute_result"
    }
   ],
   "source": [
    "1+6\n"
   ]
  },
  {
   "cell_type": "code",
   "execution_count": 5,
   "id": "d1955042-d3cb-462a-a3a2-71927a77b914",
   "metadata": {},
   "outputs": [
    {
     "data": {
      "text/plain": [
       "0"
      ]
     },
     "execution_count": 5,
     "metadata": {},
     "output_type": "execute_result"
    }
   ],
   "source": [
    "4%2"
   ]
  },
  {
   "cell_type": "code",
   "execution_count": 3,
   "id": "84cf8a4d-fd0c-4605-950e-cd7a457de403",
   "metadata": {},
   "outputs": [
    {
     "data": {
      "text/plain": [
       "int"
      ]
     },
     "execution_count": 3,
     "metadata": {},
     "output_type": "execute_result"
    }
   ],
   "source": [
    "type(-25) # we can find data type just doing this write type and put the value it will tell u whether it is int or float"
   ]
  },
  {
   "cell_type": "code",
   "execution_count": null,
   "id": "38a028d6-e3b9-4c02-a52d-8187627f3dea",
   "metadata": {},
   "outputs": [],
   "source": []
  }
 ],
 "metadata": {
  "kernelspec": {
   "display_name": "Python 3 (ipykernel)",
   "language": "python",
   "name": "python3"
  },
  "language_info": {
   "codemirror_mode": {
    "name": "ipython",
    "version": 3
   },
   "file_extension": ".py",
   "mimetype": "text/x-python",
   "name": "python",
   "nbconvert_exporter": "python",
   "pygments_lexer": "ipython3",
   "version": "3.11.4"
  }
 },
 "nbformat": 4,
 "nbformat_minor": 5
}
