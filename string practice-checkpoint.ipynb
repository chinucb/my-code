{
 "cells": [
  {
   "cell_type": "code",
   "execution_count": 2,
   "id": "1389462e-ca93-49a2-b162-990d6a9d0c21",
   "metadata": {},
   "outputs": [],
   "source": [
    "a= \"krishna\""
   ]
  },
  {
   "cell_type": "code",
   "execution_count": 3,
   "id": "afd8a772-ac34-4887-8d47-72430d753f0c",
   "metadata": {},
   "outputs": [
    {
     "name": "stdout",
     "output_type": "stream",
     "text": [
      "krishna\n"
     ]
    }
   ],
   "source": [
    "print(a)"
   ]
  },
  {
   "cell_type": "raw",
   "id": "85e3a2a2-159d-48df-b411-1b80cf708b29",
   "metadata": {},
   "source": [
    "indexing slicing set of sequence of character."
   ]
  },
  {
   "cell_type": "code",
   "execution_count": 9,
   "id": "4f31b27b-dee4-4663-ae45-6d9c4b691ee0",
   "metadata": {},
   "outputs": [
    {
     "name": "stdout",
     "output_type": "stream",
     "text": [
      "k\n"
     ]
    }
   ],
   "source": [
    "print(a[0])"
   ]
  },
  {
   "cell_type": "code",
   "execution_count": 10,
   "id": "4b127c3f-d57a-45d8-81ca-ae0ed9f1e431",
   "metadata": {},
   "outputs": [
    {
     "data": {
      "text/plain": [
       "'krish'"
      ]
     },
     "execution_count": 10,
     "metadata": {},
     "output_type": "execute_result"
    }
   ],
   "source": [
    "a[0:5:1]"
   ]
  },
  {
   "cell_type": "code",
   "execution_count": 11,
   "id": "fd2007fb-a7f2-4f9c-a450-54418d834b55",
   "metadata": {},
   "outputs": [
    {
     "data": {
      "text/plain": [
       "'rishn'"
      ]
     },
     "execution_count": 11,
     "metadata": {},
     "output_type": "execute_result"
    }
   ],
   "source": [
    "a[1:6:1] # left to right positive movement."
   ]
  },
  {
   "cell_type": "code",
   "execution_count": 12,
   "id": "29900f63-33a5-4f5d-93ff-8d0614e954af",
   "metadata": {},
   "outputs": [
    {
     "data": {
      "text/plain": [
       "'krish'"
      ]
     },
     "execution_count": 12,
     "metadata": {},
     "output_type": "execute_result"
    }
   ],
   "source": [
    "a[-7:-2:1] # negative indexing right to left movement"
   ]
  },
  {
   "cell_type": "code",
   "execution_count": 17,
   "id": "5268e710-7967-40b6-b097-c242988da54b",
   "metadata": {},
   "outputs": [
    {
     "data": {
      "text/plain": [
       "'krish'"
      ]
     },
     "execution_count": 17,
     "metadata": {},
     "output_type": "execute_result"
    }
   ],
   "source": [
    "a[0:-2:1] # we have two ways to print krish\n"
   ]
  },
  {
   "cell_type": "code",
   "execution_count": 15,
   "id": "31162b03-c1ce-466a-b6b0-b211dd87e01b",
   "metadata": {},
   "outputs": [
    {
     "data": {
      "text/plain": [
       "'kn'"
      ]
     },
     "execution_count": 15,
     "metadata": {},
     "output_type": "execute_result"
    }
   ],
   "source": [
    "a[-8:6:5]"
   ]
  },
  {
   "cell_type": "code",
   "execution_count": 19,
   "id": "f085788f-ab79-44f7-910d-cec2cde165ae",
   "metadata": {},
   "outputs": [
    {
     "data": {
      "text/plain": [
       "'krishna'"
      ]
     },
     "execution_count": 19,
     "metadata": {},
     "output_type": "execute_result"
    }
   ],
   "source": [
    "a[-7:6678876232725:1]"
   ]
  },
  {
   "cell_type": "code",
   "execution_count": 23,
   "id": "f4f7f44a-d02b-44eb-a0b7-8ff555bff190",
   "metadata": {},
   "outputs": [
    {
     "data": {
      "text/plain": [
       "'anhsirk'"
      ]
     },
     "execution_count": 23,
     "metadata": {},
     "output_type": "execute_result"
    }
   ],
   "source": [
    "a[-1:-8:-1]\n"
   ]
  },
  {
   "cell_type": "code",
   "execution_count": 28,
   "id": "898e699f-6b3c-4678-870e-280091cc51ac",
   "metadata": {},
   "outputs": [
    {
     "data": {
      "text/plain": [
       "'anhsirk'"
      ]
     },
     "execution_count": 28,
     "metadata": {},
     "output_type": "execute_result"
    }
   ],
   "source": [
    "a[6:-\n",
    "8:-1]"
   ]
  },
  {
   "cell_type": "code",
   "execution_count": 30,
   "id": "7bf27d5b-18d0-4cc1-811a-63e1e34e7a12",
   "metadata": {},
   "outputs": [
    {
     "data": {
      "text/plain": [
       "'anhsirk'"
      ]
     },
     "execution_count": 30,
     "metadata": {},
     "output_type": "execute_result"
    }
   ],
   "source": [
    "a[6::-1] # use case\n"
   ]
  },
  {
   "cell_type": "code",
   "execution_count": 33,
   "id": "6d73d70a-6d8a-4ec0-aa4e-fd979002aa3a",
   "metadata": {},
   "outputs": [
    {
     "data": {
      "text/plain": [
       "'krishna'"
      ]
     },
     "execution_count": 33,
     "metadata": {},
     "output_type": "execute_result"
    }
   ],
   "source": [
    "a[::1] # use case"
   ]
  },
  {
   "cell_type": "code",
   "execution_count": 35,
   "id": "98d352df-4e7d-48c2-86f3-1a142001af78",
   "metadata": {},
   "outputs": [
    {
     "data": {
      "text/plain": [
       "'krishna'"
      ]
     },
     "execution_count": 35,
     "metadata": {},
     "output_type": "execute_result"
    }
   ],
   "source": [
    "a[:] # use case\n"
   ]
  },
  {
   "cell_type": "code",
   "execution_count": 37,
   "id": "e82d1699-0c09-48eb-9b1e-f95837eed550",
   "metadata": {},
   "outputs": [
    {
     "data": {
      "text/plain": [
       "'krishna'"
      ]
     },
     "execution_count": 37,
     "metadata": {},
     "output_type": "execute_result"
    }
   ],
   "source": [
    "a[:]"
   ]
  },
  {
   "cell_type": "markdown",
   "id": "17385c30-84c0-4ecf-9570-ed5687dec316",
   "metadata": {},
   "source": [
    "# step skipping"
   ]
  },
  {
   "cell_type": "code",
   "execution_count": 39,
   "id": "782c2490-1af0-43f2-87e3-64845ea81c14",
   "metadata": {},
   "outputs": [
    {
     "data": {
      "text/plain": [
       "'kiha'"
      ]
     },
     "execution_count": 39,
     "metadata": {},
     "output_type": "execute_result"
    }
   ],
   "source": [
    "a[0:7:2]"
   ]
  },
  {
   "cell_type": "code",
   "execution_count": 40,
   "id": "8119261e-a608-4eff-8a69-69642b81a5ad",
   "metadata": {},
   "outputs": [
    {
     "data": {
      "text/plain": [
       "'kh'"
      ]
     },
     "execution_count": 40,
     "metadata": {},
     "output_type": "execute_result"
    }
   ],
   "source": [
    "a[0:7:4]"
   ]
  },
  {
   "cell_type": "code",
   "execution_count": 41,
   "id": "dbf530d2-d699-47b3-9b74-cf0d067b71ce",
   "metadata": {},
   "outputs": [
    {
     "data": {
      "text/plain": [
       "'ksa'"
      ]
     },
     "execution_count": 41,
     "metadata": {},
     "output_type": "execute_result"
    }
   ],
   "source": [
    "a[0::3] # if i m not giving middle value it will work"
   ]
  },
  {
   "cell_type": "code",
   "execution_count": 44,
   "id": "88206556-ef10-4274-a1c0-ce97196d5436",
   "metadata": {},
   "outputs": [
    {
     "data": {
      "text/plain": [
       "'ksa'"
      ]
     },
     "execution_count": 44,
     "metadata": {},
     "output_type": "execute_result"
    }
   ],
   "source": [
    "a[::3] # m not givng value in beggining too it will work\n"
   ]
  },
  {
   "cell_type": "code",
   "execution_count": 45,
   "id": "3c179e19-edaf-44fd-a811-19ebffe6fb73",
   "metadata": {},
   "outputs": [],
   "source": [
    "course =\"python programming\""
   ]
  },
  {
   "cell_type": "code",
   "execution_count": 46,
   "id": "7427829e-ca81-46d2-bff4-6773670878bd",
   "metadata": {},
   "outputs": [
    {
     "name": "stdout",
     "output_type": "stream",
     "text": [
      "18\n"
     ]
    }
   ],
   "source": [
    "print(len(course))"
   ]
  },
  {
   "cell_type": "code",
   "execution_count": 48,
   "id": "0710ce73-7dcf-4e27-94b4-84c0240e61e3",
   "metadata": {},
   "outputs": [
    {
     "name": "stdout",
     "output_type": "stream",
     "text": [
      "p\n"
     ]
    }
   ],
   "source": [
    "print(course[0])"
   ]
  },
  {
   "cell_type": "code",
   "execution_count": 49,
   "id": "020fa3ce-8fb0-4e08-8f6c-08bcbc9c3259",
   "metadata": {},
   "outputs": [
    {
     "name": "stdout",
     "output_type": "stream",
     "text": [
      "g\n"
     ]
    }
   ],
   "source": [
    "print(course[-1])"
   ]
  },
  {
   "cell_type": "code",
   "execution_count": 50,
   "id": "03aa0a0b-40af-436a-94a3-3204b69f9033",
   "metadata": {},
   "outputs": [
    {
     "name": "stdout",
     "output_type": "stream",
     "text": [
      "pyt\n"
     ]
    }
   ],
   "source": [
    "print(course[0:3])"
   ]
  },
  {
   "cell_type": "code",
   "execution_count": 51,
   "id": "b94da7ff-017f-45ef-a440-115099dcb354",
   "metadata": {},
   "outputs": [
    {
     "name": "stdout",
     "output_type": "stream",
     "text": [
      "python programming\n"
     ]
    }
   ],
   "source": [
    "print(course[0:])"
   ]
  },
  {
   "cell_type": "code",
   "execution_count": 52,
   "id": "9e962611-b10b-4f14-a185-1c809b3ed093",
   "metadata": {},
   "outputs": [
    {
     "name": "stdout",
     "output_type": "stream",
     "text": [
      "pyt\n"
     ]
    }
   ],
   "source": [
    "print(course[:3])"
   ]
  },
  {
   "cell_type": "code",
   "execution_count": 53,
   "id": "7d8649d5-1ecf-420c-a4d6-f421c7f8102c",
   "metadata": {},
   "outputs": [
    {
     "name": "stdout",
     "output_type": "stream",
     "text": [
      "python programming\n"
     ]
    }
   ],
   "source": [
    "print(course[:])"
   ]
  },
  {
   "cell_type": "code",
   "execution_count": 76,
   "id": "83eb87ed-9769-40ad-bb93-8508be544218",
   "metadata": {},
   "outputs": [],
   "source": [
    "course= \"python \\'programming\" #"
   ]
  },
  {
   "cell_type": "code",
   "execution_count": 60,
   "id": "eafbc0a8-af38-44f6-b2b6-6fe4be60532d",
   "metadata": {},
   "outputs": [
    {
     "name": "stdout",
     "output_type": "stream",
     "text": [
      "python \n",
      "'programming\n"
     ]
    }
   ],
   "source": [
    "print(course)"
   ]
  },
  {
   "cell_type": "code",
   "execution_count": 61,
   "id": "24ddd586-3788-4ab2-beff-124a46d5bd3f",
   "metadata": {},
   "outputs": [],
   "source": [
    "first=\"aradhita\""
   ]
  },
  {
   "cell_type": "code",
   "execution_count": 62,
   "id": "f23067f6-c56e-4449-aa51-6fec226968e3",
   "metadata": {},
   "outputs": [],
   "source": [
    "last =\"sharma\""
   ]
  },
  {
   "cell_type": "code",
   "execution_count": 72,
   "id": "49632ef0-28ba-4f77-b633-dddd1f5bcbc2",
   "metadata": {},
   "outputs": [],
   "source": [
    "full= f\"{len(first)} {3+3}\""
   ]
  },
  {
   "cell_type": "code",
   "execution_count": 73,
   "id": "9b5fa127-cc8b-4fec-b177-d274e1db7a5f",
   "metadata": {},
   "outputs": [
    {
     "name": "stdout",
     "output_type": "stream",
     "text": [
      "8 6\n"
     ]
    }
   ],
   "source": [
    "print(full)"
   ]
  },
  {
   "cell_type": "code",
   "execution_count": 77,
   "id": "926d16bc-e4c0-44a0-823e-e1a536faf078",
   "metadata": {},
   "outputs": [
    {
     "name": "stdout",
     "output_type": "stream",
     "text": [
      "PYTHON 'PROGRAMMING\n"
     ]
    }
   ],
   "source": [
    "print(course.upper())\n"
   ]
  },
  {
   "cell_type": "code",
   "execution_count": 78,
   "id": "eb22aca7-d581-43ae-9147-80525bbd82bf",
   "metadata": {},
   "outputs": [
    {
     "name": "stdout",
     "output_type": "stream",
     "text": [
      "python 'programming\n"
     ]
    }
   ],
   "source": [
    "print(course.lower())"
   ]
  },
  {
   "cell_type": "code",
   "execution_count": 79,
   "id": "d9348960-cfea-4a38-8417-ee9353e58738",
   "metadata": {},
   "outputs": [
    {
     "name": "stdout",
     "output_type": "stream",
     "text": [
      "Python 'Programming\n"
     ]
    }
   ],
   "source": [
    "print(course.title())"
   ]
  },
  {
   "cell_type": "code",
   "execution_count": 80,
   "id": "ed2751b8-3cbf-449d-961b-541b637f9fc3",
   "metadata": {},
   "outputs": [
    {
     "name": "stdout",
     "output_type": "stream",
     "text": [
      "python 'programming\n"
     ]
    }
   ],
   "source": [
    "print(course.strip())"
   ]
  },
  {
   "cell_type": "code",
   "execution_count": 81,
   "id": "4618ea21-7d97-4583-809c-54c241e7a2d8",
   "metadata": {},
   "outputs": [
    {
     "name": "stdout",
     "output_type": "stream",
     "text": [
      "python 'programming\n"
     ]
    }
   ],
   "source": [
    "print(course.rstrip())"
   ]
  },
  {
   "cell_type": "code",
   "execution_count": 86,
   "id": "a976feb0-9e6b-489f-b1bb-704ded77f998",
   "metadata": {},
   "outputs": [
    {
     "name": "stdout",
     "output_type": "stream",
     "text": [
      "8\n"
     ]
    }
   ],
   "source": [
    "print(course.find(\"pro\"))"
   ]
  },
  {
   "cell_type": "code",
   "execution_count": 87,
   "id": "1a7da0af-8592-4ebd-bcf7-b7008782947c",
   "metadata": {},
   "outputs": [
    {
     "name": "stdout",
     "output_type": "stream",
     "text": [
      "jython 'jrogramming\n"
     ]
    }
   ],
   "source": [
    "print(course.replace(\"p\",\"j\"))"
   ]
  },
  {
   "cell_type": "code",
   "execution_count": 89,
   "id": "26f95744-b167-46cd-ba21-ca4dca374089",
   "metadata": {},
   "outputs": [
    {
     "name": "stdout",
     "output_type": "stream",
     "text": [
      "True\n"
     ]
    }
   ],
   "source": [
    "print(\"pro\"in course) # it's an expression\n"
   ]
  },
  {
   "cell_type": "code",
   "execution_count": 91,
   "id": "d35ca9a4-fe75-4a98-9a42-065e9913a325",
   "metadata": {},
   "outputs": [
    {
     "name": "stdout",
     "output_type": "stream",
     "text": [
      "True\n"
     ]
    }
   ],
   "source": [
    "print(\"swift\" not in course)"
   ]
  },
  {
   "cell_type": "markdown",
   "id": "4c6aa86f-0bcd-477a-96b0-5de066d7aa44",
   "metadata": {},
   "source": [
    " # python string() format function"
   ]
  },
  {
   "cell_type": "raw",
   "id": "677cf689-686c-4c4a-9032-c57279d6b08a",
   "metadata": {},
   "source": [
    "<the format() method formats the specified value(s) and insert them inside them inside. the string's placeholder the placeholder is defined using curly{} brackets. "
   ]
  },
  {
   "cell_type": "markdown",
   "id": "0481c5fa-2949-46cb-a745-f1f5c01ee751",
   "metadata": {},
   "source": [
    "# tuple practice"
   ]
  },
  {
   "cell_type": "code",
   "execution_count": 4,
   "id": "4cc41a0d-452f-4a41-a334-95da04a6c514",
   "metadata": {},
   "outputs": [],
   "source": [
    "a=(10,10.0,'10',[1,2,3],(1,2,3))"
   ]
  },
  {
   "cell_type": "code",
   "execution_count": 8,
   "id": "e14a08fc-dc80-4bb9-9fb7-b4bddc14a708",
   "metadata": {},
   "outputs": [
    {
     "name": "stdout",
     "output_type": "stream",
     "text": [
      "[1, 2, 3]\n"
     ]
    }
   ],
   "source": [
    "print(a[3])"
   ]
  },
  {
   "cell_type": "code",
   "execution_count": 9,
   "id": "d34d24a4-7682-4fa9-8d35-1b1d5c98560a",
   "metadata": {},
   "outputs": [
    {
     "name": "stdout",
     "output_type": "stream",
     "text": [
      "[1, 2, 3]\n"
     ]
    }
   ],
   "source": [
    "print(a[-2])"
   ]
  },
  {
   "cell_type": "code",
   "execution_count": 10,
   "id": "040e041a-f635-48c7-9bc5-e5c8fdb366d2",
   "metadata": {},
   "outputs": [
    {
     "name": "stdout",
     "output_type": "stream",
     "text": [
      "(10, 10.0, '10')\n"
     ]
    }
   ],
   "source": [
    "print(a[0:3])"
   ]
  },
  {
   "cell_type": "code",
   "execution_count": 11,
   "id": "e99d27a8-5216-4a0f-82de-756d9f941bc2",
   "metadata": {},
   "outputs": [
    {
     "name": "stdout",
     "output_type": "stream",
     "text": [
      "10\n"
     ]
    }
   ],
   "source": [
    "print(a[-5])"
   ]
  },
  {
   "cell_type": "code",
   "execution_count": 18,
   "id": "38483f7f-6b52-4322-80cf-02844c87824d",
   "metadata": {},
   "outputs": [
    {
     "name": "stdout",
     "output_type": "stream",
     "text": [
      "((1, 2, 3), [1, 2, 3], '10', 10.0, 10)\n"
     ]
    }
   ],
   "source": [
    "print(a[::-1]) #a[start:end+1step]"
   ]
  },
  {
   "cell_type": "code",
   "execution_count": 17,
   "id": "d35a9ddc-5bc8-461a-8baf-0c129c5051b4",
   "metadata": {},
   "outputs": [
    {
     "name": "stdout",
     "output_type": "stream",
     "text": [
      "((1, 2, 3), [1, 2, 3])\n"
     ]
    }
   ],
   "source": [
    "print(a[-1:-3:-1])"
   ]
  },
  {
   "cell_type": "code",
   "execution_count": 19,
   "id": "bd354d6f-6153-4cad-88a9-24b9dbfca1de",
   "metadata": {},
   "outputs": [
    {
     "data": {
      "text/plain": [
       "(10.0, '10', [1, 2, 3], (1, 2, 3))"
      ]
     },
     "execution_count": 19,
     "metadata": {},
     "output_type": "execute_result"
    }
   ],
   "source": [
    "a[1:5:1]"
   ]
  },
  {
   "cell_type": "code",
   "execution_count": 20,
   "id": "b0e0cd19-71e8-401e-badd-04b978de807e",
   "metadata": {},
   "outputs": [
    {
     "data": {
      "text/plain": [
       "(10.0, '10')"
      ]
     },
     "execution_count": 20,
     "metadata": {},
     "output_type": "execute_result"
    }
   ],
   "source": [
    "a[1:3:1]"
   ]
  },
  {
   "cell_type": "code",
   "execution_count": 26,
   "id": "87d59d12-314a-41ed-9d17-f7259c9a12cb",
   "metadata": {},
   "outputs": [
    {
     "name": "stdout",
     "output_type": "stream",
     "text": [
      "((1, 2, 3), [1, 2, 3], '10', 10.0, 10)\n"
     ]
    }
   ],
   "source": [
    "print(a[-1: :-1]) #reverse indexing"
   ]
  },
  {
   "cell_type": "code",
   "execution_count": 31,
   "id": "8b99b9b7-13cc-4fc6-8a9e-5d44f75819ec",
   "metadata": {},
   "outputs": [
    {
     "data": {
      "text/plain": [
       "((1, 2, 3), [1, 2, 3], '10', 10.0, 10)"
      ]
     },
     "execution_count": 31,
     "metadata": {},
     "output_type": "execute_result"
    }
   ],
   "source": [
    "a[4::-1] # negative slicing through positive values."
   ]
  },
  {
   "cell_type": "markdown",
   "id": "da1958a1-4bbd-44bc-be27-2632244bf20d",
   "metadata": {},
   "source": [
    "# use cases in tupple"
   ]
  },
  {
   "cell_type": "markdown",
   "id": "e4000121-7925-4d8c-bd3f-8a41295c4399",
   "metadata": {},
   "source": [
    "# packing unpacking"
   ]
  },
  {
   "cell_type": "code",
   "execution_count": 36,
   "id": "fd6abacf-24dc-4f91-94d4-40f2c898ebe3",
   "metadata": {},
   "outputs": [],
   "source": [
    "a=1,2,3,4,5,6,7 # packing  when u assign a multiple value to a variable that come to in collection thats called packing"
   ]
  },
  {
   "cell_type": "code",
   "execution_count": 34,
   "id": "5b7c3f7f-49bc-48ff-90ee-97af89ec0170",
   "metadata": {},
   "outputs": [
    {
     "name": "stdout",
     "output_type": "stream",
     "text": [
      "(1, 2, 3, 4, 5, 6, 7)\n"
     ]
    }
   ],
   "source": [
    "print(a)"
   ]
  },
  {
   "cell_type": "code",
   "execution_count": 35,
   "id": "0c74b9eb-62ad-490c-8635-57fbc20be2e7",
   "metadata": {},
   "outputs": [
    {
     "data": {
      "text/plain": [
       "tuple"
      ]
     },
     "execution_count": 35,
     "metadata": {},
     "output_type": "execute_result"
    }
   ],
   "source": [
    "type(a)"
   ]
  },
  {
   "cell_type": "code",
   "execution_count": 38,
   "id": "d93dd6e1-d92b-4980-83a0-911c7e8537c2",
   "metadata": {},
   "outputs": [
    {
     "ename": "ValueError",
     "evalue": "too many values to unpack (expected 4)",
     "output_type": "error",
     "traceback": [
      "\u001b[1;31m---------------------------------------------------------------------------\u001b[0m",
      "\u001b[1;31mValueError\u001b[0m                                Traceback (most recent call last)",
      "Cell \u001b[1;32mIn[38], line 1\u001b[0m\n\u001b[1;32m----> 1\u001b[0m d,e,f,g\u001b[38;5;241m=\u001b[39ma\n",
      "\u001b[1;31mValueError\u001b[0m: too many values to unpack (expected 4)"
     ]
    }
   ],
   "source": [
    "d,e,f,g=a"
   ]
  },
  {
   "cell_type": "code",
   "execution_count": 39,
   "id": "51f1482b-58ce-40ff-b67f-35b986e7fe5d",
   "metadata": {},
   "outputs": [],
   "source": [
    "a=1,2,3,4,5"
   ]
  },
  {
   "cell_type": "code",
   "execution_count": 40,
   "id": "1601b5bd-44d2-4c53-853d-76b1cf2733b6",
   "metadata": {},
   "outputs": [],
   "source": [
    "d,e,f,g,h=a # unpacking when unpack value "
   ]
  },
  {
   "cell_type": "code",
   "execution_count": 41,
   "id": "9b3416e4-9fbc-46b0-b358-fc8dda3c7ee9",
   "metadata": {},
   "outputs": [
    {
     "name": "stdout",
     "output_type": "stream",
     "text": [
      "1\n"
     ]
    }
   ],
   "source": [
    "print(d)"
   ]
  },
  {
   "cell_type": "code",
   "execution_count": 42,
   "id": "ad01436d-bd97-4af4-b9e1-9ad3d15a2d56",
   "metadata": {},
   "outputs": [
    {
     "name": "stdout",
     "output_type": "stream",
     "text": [
      "2\n"
     ]
    }
   ],
   "source": [
    "print(e)"
   ]
  },
  {
   "cell_type": "code",
   "execution_count": 43,
   "id": "7bca3e25-a52f-4cd0-9e33-f3305587fa4b",
   "metadata": {},
   "outputs": [
    {
     "name": "stdout",
     "output_type": "stream",
     "text": [
      "4\n"
     ]
    }
   ],
   "source": [
    "print(g)"
   ]
  },
  {
   "cell_type": "code",
   "execution_count": 44,
   "id": "02f2e2ac-d4b0-43fc-8c9c-ef95223d77d3",
   "metadata": {},
   "outputs": [
    {
     "name": "stdout",
     "output_type": "stream",
     "text": [
      "5\n"
     ]
    }
   ],
   "source": [
    "print(h)"
   ]
  },
  {
   "cell_type": "code",
   "execution_count": 45,
   "id": "6f9293f6-f0b3-44cc-811f-3b04c21a1788",
   "metadata": {},
   "outputs": [],
   "source": [
    "k,l,m,n,o=(1,2,3,4,5)"
   ]
  },
  {
   "cell_type": "code",
   "execution_count": 46,
   "id": "91c3390b-7ed8-45da-aa50-d7b7ce94e3bf",
   "metadata": {},
   "outputs": [
    {
     "name": "stdout",
     "output_type": "stream",
     "text": [
      "1\n"
     ]
    }
   ],
   "source": [
    "print(k)"
   ]
  },
  {
   "cell_type": "raw",
   "id": "0520e86e-0024-404f-8fa8-019e60c6bb38",
   "metadata": {},
   "source": [
    "unpacking:(1) create as many values as there are values\n",
    "(2) u can asterisk when u r not adding variables"
   ]
  },
  {
   "cell_type": "code",
   "execution_count": 50,
   "id": "ddb54593-06f3-4364-9bdd-4f5166f091bb",
   "metadata": {},
   "outputs": [],
   "source": [
    "k,l,m,*n=(1,2,3,4,5)"
   ]
  },
  {
   "cell_type": "code",
   "execution_count": 51,
   "id": "89d8e7ae-6bea-42f0-ae7c-0aefab728ba6",
   "metadata": {},
   "outputs": [
    {
     "name": "stdout",
     "output_type": "stream",
     "text": [
      "1\n"
     ]
    }
   ],
   "source": [
    "print(k)"
   ]
  },
  {
   "cell_type": "code",
   "execution_count": 55,
   "id": "1a53e8d5-6df5-488e-be3b-3b40e752ca51",
   "metadata": {},
   "outputs": [
    {
     "name": "stdout",
     "output_type": "stream",
     "text": [
      "[4, 5]\n"
     ]
    }
   ],
   "source": [
    "print(n)"
   ]
  },
  {
   "cell_type": "code",
   "execution_count": 58,
   "id": "f9217bbc-2092-437e-b177-ad4a95d9b625",
   "metadata": {},
   "outputs": [],
   "source": [
    "k,l,*m,n=(1,2,3,4,5)\n"
   ]
  },
  {
   "cell_type": "code",
   "execution_count": 60,
   "id": "bbee85fc-3194-4a79-9fab-6de899b4cc7e",
   "metadata": {},
   "outputs": [
    {
     "name": "stdout",
     "output_type": "stream",
     "text": [
      "1\n"
     ]
    }
   ],
   "source": [
    "print(k)"
   ]
  },
  {
   "cell_type": "code",
   "execution_count": 61,
   "id": "576aaaf2-131d-428c-bee3-0a65b7ae7a69",
   "metadata": {},
   "outputs": [
    {
     "name": "stdout",
     "output_type": "stream",
     "text": [
      "[3, 4]\n"
     ]
    }
   ],
   "source": [
    "print(m)"
   ]
  },
  {
   "cell_type": "code",
   "execution_count": null,
   "id": "9b4f0474-eae2-4855-a42c-e4cffe818c5b",
   "metadata": {},
   "outputs": [],
   "source": []
  }
 ],
 "metadata": {
  "kernelspec": {
   "display_name": "Python 3 (ipykernel)",
   "language": "python",
   "name": "python3"
  },
  "language_info": {
   "codemirror_mode": {
    "name": "ipython",
    "version": 3
   },
   "file_extension": ".py",
   "mimetype": "text/x-python",
   "name": "python",
   "nbconvert_exporter": "python",
   "pygments_lexer": "ipython3",
   "version": "3.11.4"
  }
 },
 "nbformat": 4,
 "nbformat_minor": 5
}
