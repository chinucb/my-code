{
 "cells": [
  {
   "cell_type": "code",
   "execution_count": 1,
   "id": "ec0ba54e-072c-4d8d-853f-30abd61bf084",
   "metadata": {},
   "outputs": [],
   "source": [
    "# loop {looping means repeating something over until a particular condition is satisfied.}"
   ]
  },
  {
   "cell_type": "code",
   "execution_count": 4,
   "id": "64af578d-dd4c-4d7b-ad9c-8b8bcc1b9f8e",
   "metadata": {},
   "outputs": [
    {
     "name": "stdout",
     "output_type": "stream",
     "text": [
      "hello world\n",
      "hello world\n",
      "hello world\n",
      "hello world\n",
      "hello world\n"
     ]
    }
   ],
   "source": [
    "for i in range(5):\n",
    "    print(\"hello world\")"
   ]
  },
  {
   "cell_type": "code",
   "execution_count": 5,
   "id": "4b8c9fe2-7dbf-40be-b5c9-366d2e72c317",
   "metadata": {},
   "outputs": [
    {
     "data": {
      "text/plain": [
       "range(0, 5)"
      ]
     },
     "execution_count": 5,
     "metadata": {},
     "output_type": "execute_result"
    }
   ],
   "source": [
    "range(5)"
   ]
  },
  {
   "cell_type": "code",
   "execution_count": 9,
   "id": "c1db1675-4cf6-4f1b-b3bd-cc5861bbac9e",
   "metadata": {},
   "outputs": [
    {
     "name": "stdout",
     "output_type": "stream",
     "text": [
      "0\n",
      "1\n",
      "2\n",
      "3\n",
      "4\n"
     ]
    }
   ],
   "source": [
    "for bihu in range(5):\n",
    "    print(bihu)"
   ]
  },
  {
   "cell_type": "code",
   "execution_count": 13,
   "id": "ea32c3d1-4531-41dc-ab18-7d9fbdf06177",
   "metadata": {},
   "outputs": [
    {
     "name": "stdout",
     "output_type": "stream",
     "text": [
      "hello world\n",
      "hello world\n",
      "hello world\n",
      "hello world\n",
      "hello world\n",
      "hello world\n",
      "hello world\n",
      "hello world\n",
      "hello world\n",
      "hello world\n"
     ]
    }
   ],
   "source": [
    "for bihu in range(10):\n",
    "    print(\"hello world\")\n"
   ]
  },
  {
   "cell_type": "code",
   "execution_count": 17,
   "id": "800e556c-2b42-4e34-bdab-0c8b4e6b873d",
   "metadata": {},
   "outputs": [
    {
     "name": "stdout",
     "output_type": "stream",
     "text": [
      "0 heelo siri\n",
      "1 heelo siri\n",
      "2 heelo siri\n",
      "3 heelo siri\n",
      "4 heelo siri\n",
      "5 heelo siri\n"
     ]
    }
   ],
   "source": [
    "for bihu in range(6):\n",
    "    print(bihu,\"heelo siri\")"
   ]
  },
  {
   "cell_type": "code",
   "execution_count": null,
   "id": "66be4d92-91de-4bf4-99dc-3fadc7825c9b",
   "metadata": {},
   "outputs": [],
   "source": [
    "iterable : (a data type which contain/ a class which contain a magic method (dunder methods _iter_,_()_))\n",
    "> srt of sequence of charcter:- str\n",
    ",set of sequence of elements:- list,tupple\n",
    "unordered set os sequence of elements:- set,frozenset\n",
    ",set of items:- sictionary\n",
    "iterator:\n",
    "\n",
    "iterate:"
   ]
  },
  {
   "cell_type": "code",
   "execution_count": 20,
   "id": "380e442f-19f8-4834-8d91-bc9a5b2d5b13",
   "metadata": {},
   "outputs": [
    {
     "data": {
      "text/plain": [
       "['__add__',\n",
       " '__class__',\n",
       " '__contains__',\n",
       " '__delattr__',\n",
       " '__dir__',\n",
       " '__doc__',\n",
       " '__eq__',\n",
       " '__format__',\n",
       " '__ge__',\n",
       " '__getattribute__',\n",
       " '__getitem__',\n",
       " '__getnewargs__',\n",
       " '__getstate__',\n",
       " '__gt__',\n",
       " '__hash__',\n",
       " '__init__',\n",
       " '__init_subclass__',\n",
       " '__iter__',\n",
       " '__le__',\n",
       " '__len__',\n",
       " '__lt__',\n",
       " '__mod__',\n",
       " '__mul__',\n",
       " '__ne__',\n",
       " '__new__',\n",
       " '__reduce__',\n",
       " '__reduce_ex__',\n",
       " '__repr__',\n",
       " '__rmod__',\n",
       " '__rmul__',\n",
       " '__setattr__',\n",
       " '__sizeof__',\n",
       " '__str__',\n",
       " '__subclasshook__',\n",
       " 'capitalize',\n",
       " 'casefold',\n",
       " 'center',\n",
       " 'count',\n",
       " 'encode',\n",
       " 'endswith',\n",
       " 'expandtabs',\n",
       " 'find',\n",
       " 'format',\n",
       " 'format_map',\n",
       " 'index',\n",
       " 'isalnum',\n",
       " 'isalpha',\n",
       " 'isascii',\n",
       " 'isdecimal',\n",
       " 'isdigit',\n",
       " 'isidentifier',\n",
       " 'islower',\n",
       " 'isnumeric',\n",
       " 'isprintable',\n",
       " 'isspace',\n",
       " 'istitle',\n",
       " 'isupper',\n",
       " 'join',\n",
       " 'ljust',\n",
       " 'lower',\n",
       " 'lstrip',\n",
       " 'maketrans',\n",
       " 'partition',\n",
       " 'removeprefix',\n",
       " 'removesuffix',\n",
       " 'replace',\n",
       " 'rfind',\n",
       " 'rindex',\n",
       " 'rjust',\n",
       " 'rpartition',\n",
       " 'rsplit',\n",
       " 'rstrip',\n",
       " 'split',\n",
       " 'splitlines',\n",
       " 'startswith',\n",
       " 'strip',\n",
       " 'swapcase',\n",
       " 'title',\n",
       " 'translate',\n",
       " 'upper',\n",
       " 'zfill']"
      ]
     },
     "execution_count": 20,
     "metadata": {},
     "output_type": "execute_result"
    }
   ],
   "source": [
    "a=str()\n",
    "dir(a) # conatains multiple elemenyt called iterable"
   ]
  },
  {
   "cell_type": "markdown",
   "id": "443d69a4-3ab3-4755-99b6-ec8b337170d0",
   "metadata": {},
   "source": [
    "# there are two types of loop\n",
    "< for loop\n",
    "< while loop\n",
    "< do while loop"
   ]
  },
  {
   "cell_type": "code",
   "execution_count": 1,
   "id": "b5a44389-f4ef-48cf-9fd0-11c7711c64f7",
   "metadata": {},
   "outputs": [],
   "source": [
    "# for loop"
   ]
  },
  {
   "cell_type": "markdown",
   "id": "2c58ba1f-669f-4711-87ca-b5481ace748e",
   "metadata": {},
   "source": [
    " range(),iterable_iter(),single for loop,nested for loop.\n",
    "# key words in for loop :- break,continue,,pass,else"
   ]
  },
  {
   "cell_type": "code",
   "execution_count": 3,
   "id": "d8592192-3c2b-4238-ac0d-bab34fa052b7",
   "metadata": {},
   "outputs": [],
   "source": [
    "# range is used for make iterable"
   ]
  },
  {
   "cell_type": "code",
   "execution_count": 4,
   "id": "a93e9825-fe07-42d5-9e26-fac33a643fe7",
   "metadata": {},
   "outputs": [
    {
     "name": "stdout",
     "output_type": "stream",
     "text": [
      "0\n",
      "1\n",
      "2\n",
      "3\n",
      "4\n"
     ]
    }
   ],
   "source": [
    "for i in range(5):\n",
    "    print(i)"
   ]
  },
  {
   "cell_type": "code",
   "execution_count": 14,
   "id": "b368cffb-31e0-415c-8c62-d65b7196438b",
   "metadata": {},
   "outputs": [],
   "source": [
    "a=0,[1,2,3,4,5,6,7,8,9,]\n"
   ]
  },
  {
   "cell_type": "code",
   "execution_count": 15,
   "id": "65e04517-7945-43d7-86c2-e9888d60267c",
   "metadata": {},
   "outputs": [
    {
     "name": "stdout",
     "output_type": "stream",
     "text": [
      "(0, [1, 2, 3, 4, 5, 6, 7, 8, 9])\n"
     ]
    }
   ],
   "source": [
    "print(a)"
   ]
  },
  {
   "cell_type": "code",
   "execution_count": 13,
   "id": "311e5c47-c830-42f1-b2d7-55bad029fa8e",
   "metadata": {},
   "outputs": [
    {
     "data": {
      "text/plain": [
       "136"
      ]
     },
     "execution_count": 13,
     "metadata": {},
     "output_type": "execute_result"
    }
   ],
   "source": [
    "import sys\n",
    "sys.getsizeof(a)"
   ]
  },
  {
   "cell_type": "code",
   "execution_count": 31,
   "id": "328c0b41-a91a-47b1-9cff-e90b429dbcea",
   "metadata": {},
   "outputs": [],
   "source": [
    "c=range(10)"
   ]
  },
  {
   "cell_type": "code",
   "execution_count": 28,
   "id": "960cbee9-16d9-495d-872e-13bf6a6ea570",
   "metadata": {},
   "outputs": [],
   "source": [
    "a=list()\n",
    "for i in range(10):\n",
    "    a.append(i)\n"
   ]
  },
  {
   "cell_type": "code",
   "execution_count": 29,
   "id": "b021f4fa-35bd-4840-acb7-23221712cbe6",
   "metadata": {},
   "outputs": [
    {
     "name": "stdout",
     "output_type": "stream",
     "text": [
      "[0, 1, 2, 3, 4, 5, 6, 7, 8, 9]\n"
     ]
    }
   ],
   "source": [
    "print(a)"
   ]
  },
  {
   "cell_type": "code",
   "execution_count": 30,
   "id": "2378cda3-2c43-498f-9025-34096b37fe13",
   "metadata": {},
   "outputs": [
    {
     "data": {
      "text/plain": [
       "184"
      ]
     },
     "execution_count": 30,
     "metadata": {},
     "output_type": "execute_result"
    }
   ],
   "source": [
    "import sys\n",
    "sys.getsizeof(a)"
   ]
  },
  {
   "cell_type": "code",
   "execution_count": 34,
   "id": "d6a8ae91-8744-4251-94f6-49971df4c6a2",
   "metadata": {},
   "outputs": [
    {
     "name": "stdout",
     "output_type": "stream",
     "text": [
      "range(0, 100000)\n"
     ]
    },
    {
     "data": {
      "text/plain": [
       "48"
      ]
     },
     "execution_count": 34,
     "metadata": {},
     "output_type": "execute_result"
    }
   ],
   "source": [
    "c=range(0,100000)\n",
    "print(c)\n",
    "import sys \n",
    "sys.getsizeof(c)"
   ]
  },
  {
   "cell_type": "code",
   "execution_count": 35,
   "id": "1fbecc38-58ee-4099-9106-19c764fa6600",
   "metadata": {},
   "outputs": [
    {
     "data": {
      "text/plain": [
       "range(0, 10)"
      ]
     },
     "execution_count": 35,
     "metadata": {},
     "output_type": "execute_result"
    }
   ],
   "source": [
    "range(10)"
   ]
  },
  {
   "cell_type": "code",
   "execution_count": 38,
   "id": "29d7374f-331b-4e0f-9df6-4e3814f90071",
   "metadata": {},
   "outputs": [
    {
     "name": "stdout",
     "output_type": "stream",
     "text": [
      "1\n",
      "6\n"
     ]
    }
   ],
   "source": [
    "for i in range(1,10,5):\n",
    "    print(i)"
   ]
  },
  {
   "cell_type": "code",
   "execution_count": 39,
   "id": "8f1f6dae-1285-433f-b9ac-6d63ae264a78",
   "metadata": {},
   "outputs": [
    {
     "data": {
      "text/plain": [
       "range(2, 10, 5)"
      ]
     },
     "execution_count": 39,
     "metadata": {},
     "output_type": "execute_result"
    }
   ],
   "source": [
    "range(2,10,5)"
   ]
  },
  {
   "cell_type": "code",
   "execution_count": 43,
   "id": "d91ca5cd-4803-4f4d-be6c-7fa6059ce79a",
   "metadata": {},
   "outputs": [
    {
     "name": "stdout",
     "output_type": "stream",
     "text": [
      "10\n",
      "6\n",
      "2\n"
     ]
    }
   ],
   "source": [
    "for i in range(10,1,-4):\n",
    "    print(i)"
   ]
  },
  {
   "cell_type": "code",
   "execution_count": 44,
   "id": "034aaa4a-9c7e-4408-8417-95cdf710ad4d",
   "metadata": {},
   "outputs": [],
   "source": [
    "import numpy"
   ]
  },
  {
   "cell_type": "code",
   "execution_count": 50,
   "id": "86a18825-41aa-44b2-b215-69fd28c1b2d0",
   "metadata": {},
   "outputs": [
    {
     "name": "stdout",
     "output_type": "stream",
     "text": [
      "[2 5 8]\n"
     ]
    }
   ],
   "source": [
    "d=numpy.arange(2,10,3)\n",
    "print(d)"
   ]
  },
  {
   "cell_type": "code",
   "execution_count": 51,
   "id": "738e15af-4a50-4a0c-96c7-8d6c0375dc16",
   "metadata": {},
   "outputs": [
    {
     "ename": "SyntaxError",
     "evalue": "invalid syntax (2347787253.py, line 1)",
     "output_type": "error",
     "traceback": [
      "\u001b[1;36m  Cell \u001b[1;32mIn[51], line 1\u001b[1;36m\u001b[0m\n\u001b[1;33m    fo i in range(-1,-10,-1):\u001b[0m\n\u001b[1;37m       ^\u001b[0m\n\u001b[1;31mSyntaxError\u001b[0m\u001b[1;31m:\u001b[0m invalid syntax\n"
     ]
    }
   ],
   "source": [
    "fo i in range(-1,-10,-1):\n",
    "\n",
    "print(i)"
   ]
  },
  {
   "cell_type": "code",
   "execution_count": 52,
   "id": "9a079abe-e651-49b6-8b1a-0a0f1e2e3719",
   "metadata": {},
   "outputs": [
    {
     "name": "stdout",
     "output_type": "stream",
     "text": [
      "0\n",
      "1\n",
      "2\n",
      "3\n",
      "4\n"
     ]
    }
   ],
   "source": [
    "for i in range(5):\n",
    "    print(i)"
   ]
  },
  {
   "cell_type": "code",
   "execution_count": 54,
   "id": "859bfa75-dbae-48f2-91bd-67cc2b46ff5b",
   "metadata": {},
   "outputs": [
    {
     "name": "stdout",
     "output_type": "stream",
     "text": [
      "-1\n",
      "-2\n",
      "-3\n",
      "-4\n",
      "-5\n",
      "-6\n",
      "-7\n",
      "-8\n",
      "-9\n"
     ]
    }
   ],
   "source": [
    "for i in range(-1,-10,-1):\n",
    "    print(i)"
   ]
  },
  {
   "cell_type": "code",
   "execution_count": 55,
   "id": "833e7918-187d-4675-b4d8-1e8a70390951",
   "metadata": {},
   "outputs": [
    {
     "name": "stdout",
     "output_type": "stream",
     "text": [
      "0\n",
      "-1\n",
      "-2\n",
      "-3\n",
      "-4\n"
     ]
    }
   ],
   "source": [
    "for i in range(5):\n",
    "    print(-i)"
   ]
  },
  {
   "cell_type": "code",
   "execution_count": 56,
   "id": "03a93e32-2f2f-4ced-b31e-8d83f9a1a238",
   "metadata": {},
   "outputs": [],
   "source": [
    "# pattern"
   ]
  },
  {
   "cell_type": "code",
   "execution_count": 57,
   "id": "7407171c-e146-4501-849b-b58c6c4aaa6f",
   "metadata": {},
   "outputs": [
    {
     "name": "stdout",
     "output_type": "stream",
     "text": [
      "*\n",
      "**\n",
      "***\n",
      "****\n",
      "*****\n"
     ]
    }
   ],
   "source": [
    "print(\"*\")\n",
    "print(\"**\")\n",
    "print(\"***\")\n",
    "print(\"****\")\n",
    "print(\"*****\")\n"
   ]
  },
  {
   "cell_type": "code",
   "execution_count": 58,
   "id": "2a930663-8de8-4a58-af17-80235e666254",
   "metadata": {},
   "outputs": [
    {
     "data": {
      "text/plain": [
       "'*****'"
      ]
     },
     "execution_count": 58,
     "metadata": {},
     "output_type": "execute_result"
    }
   ],
   "source": [
    "\"*\"*5"
   ]
  },
  {
   "cell_type": "code",
   "execution_count": 59,
   "id": "6ea23d19-f995-447d-a11f-a88e1124630d",
   "metadata": {},
   "outputs": [
    {
     "name": "stdout",
     "output_type": "stream",
     "text": [
      "*\n",
      "**\n",
      "***\n",
      "****\n",
      "*****\n"
     ]
    }
   ],
   "source": [
    "print(\"*\"*1)\n",
    "print(\"*\"*2)\n",
    "print(\"*\"*3)\n",
    "print(\"*\"*4)\n",
    "print(\"*\"*5)\n"
   ]
  },
  {
   "cell_type": "code",
   "execution_count": 62,
   "id": "7f1847a9-24e1-4aca-ac23-383984c6bef1",
   "metadata": {},
   "outputs": [
    {
     "name": "stdout",
     "output_type": "stream",
     "text": [
      "* 1\n",
      "* 2\n",
      "* 3\n",
      "* 4\n",
      "* 5\n"
     ]
    }
   ],
   "source": [
    "for i in range(1,6):\n",
    "    print(\"*\",i)"
   ]
  },
  {
   "cell_type": "code",
   "execution_count": 65,
   "id": "78fcfe04-0b71-4fa1-8438-d205fc645d70",
   "metadata": {},
   "outputs": [
    {
     "name": "stdout",
     "output_type": "stream",
     "text": [
      " * \n",
      " *  * \n",
      " *  *  * \n",
      " *  *  *  * \n",
      " *  *  *  *  * \n"
     ]
    }
   ],
   "source": [
    "for i in range(1,6):\n",
    "    print(\" * \"*i)"
   ]
  },
  {
   "cell_type": "code",
   "execution_count": 66,
   "id": "b1aba613-f6f9-45ed-9534-c11723c18ecb",
   "metadata": {},
   "outputs": [
    {
     "name": "stdout",
     "output_type": "stream",
     "text": [
      " *  *  *  *  * \n",
      " *  *  *  * \n",
      " *  *  * \n",
      " *  * \n",
      " * \n"
     ]
    }
   ],
   "source": [
    "for i in range(5,-0,-1):\n",
    "    print(\" * \"*i)\n"
   ]
  },
  {
   "cell_type": "code",
   "execution_count": 1,
   "id": "8f62b4da-c1c6-40e5-8f16-f69935495596",
   "metadata": {},
   "outputs": [
    {
     "name": "stdout",
     "output_type": "stream",
     "text": [
      "* * * * * \n",
      "* * * * \n",
      "* * * \n",
      "* * \n",
      "* \n"
     ]
    }
   ],
   "source": [
    "for i in range(5):\n",
    "    print(\"\"*(0+i)+\"* \"*(5-i))"
   ]
  },
  {
   "cell_type": "code",
   "execution_count": null,
   "id": "41293455-0451-4aee-b25d-c595552671ce",
   "metadata": {},
   "outputs": [],
   "source": []
  }
 ],
 "metadata": {
  "kernelspec": {
   "display_name": "Python 3 (ipykernel)",
   "language": "python",
   "name": "python3"
  },
  "language_info": {
   "codemirror_mode": {
    "name": "ipython",
    "version": 3
   },
   "file_extension": ".py",
   "mimetype": "text/x-python",
   "name": "python",
   "nbconvert_exporter": "python",
   "pygments_lexer": "ipython3",
   "version": "3.11.4"
  }
 },
 "nbformat": 4,
 "nbformat_minor": 5
}
