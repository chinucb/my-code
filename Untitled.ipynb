{
 "cells": [
  {
   "cell_type": "code",
   "execution_count": 12,
   "id": "c7e6663c-bb02-4730-93db-b6120b9dac45",
   "metadata": {},
   "outputs": [
    {
     "name": "stdin",
     "output_type": "stream",
     "text": [
      "enter a number 2\n"
     ]
    },
    {
     "name": "stdout",
     "output_type": "stream",
     "text": [
      "number is positive,odd\n"
     ]
    }
   ],
   "source": [
    "user=eval(input(\"enter a number\"))\n",
    "if user%2==0:\n",
    "    print(\"number is positive,odd\")\n",
    "elif user%3==0:\n",
    "    print(\"number is positvie,even\")\n",
    "elif user%4==0:\n",
    "    print(\"number is positive,odd\")\n",
    "else :\n",
    "    print(\"invalid\")"
   ]
  },
  {
   "cell_type": "code",
   "execution_count": null,
   "id": "53483f12-e8b2-4007-9205-216870a4ed90",
   "metadata": {},
   "outputs": [],
   "source": []
  }
 ],
 "metadata": {
  "kernelspec": {
   "display_name": "Python 3 (ipykernel)",
   "language": "python",
   "name": "python3"
  },
  "language_info": {
   "codemirror_mode": {
    "name": "ipython",
    "version": 3
   },
   "file_extension": ".py",
   "mimetype": "text/x-python",
   "name": "python",
   "nbconvert_exporter": "python",
   "pygments_lexer": "ipython3",
   "version": "3.11.4"
  }
 },
 "nbformat": 4,
 "nbformat_minor": 5
}
