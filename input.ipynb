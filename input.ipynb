{
 "cells": [
  {
   "cell_type": "markdown",
   "id": "5a400088-f6ed-47bc-abe6-9fa64eb5d2a0",
   "metadata": {},
   "source": [
    "# input"
   ]
  },
  {
   "cell_type": "markdown",
   "id": "69c0b114-2e35-45f8-9b06-b0191b0e9e2f",
   "metadata": {},
   "source": [
    "input() : input is used to interact with machine"
   ]
  },
  {
   "cell_type": "code",
   "execution_count": 2,
   "id": "7ca396cb-18c9-48d4-bbdb-86b68a0b0518",
   "metadata": {},
   "outputs": [
    {
     "name": "stdin",
     "output_type": "stream",
     "text": [
      " 10\n",
      " 20\n"
     ]
    },
    {
     "name": "stdout",
     "output_type": "stream",
     "text": [
      "1020\n"
     ]
    }
   ],
   "source": [
    "a=input()\n",
    "b=input()\n",
    "print(a+b)"
   ]
  },
  {
   "cell_type": "code",
   "execution_count": 7,
   "id": "a2991e6c-445a-49dc-bea8-ca2bffe49298",
   "metadata": {},
   "outputs": [
    {
     "name": "stdin",
     "output_type": "stream",
     "text": [
      "enter a number: 20\n",
      "enter a second number: 40\n"
     ]
    },
    {
     "name": "stdout",
     "output_type": "stream",
     "text": [
      "60.0\n"
     ]
    }
   ],
   "source": [
    "a=float(input(\"enter a number:\"))\n",
    "b=float(input(\"enter a second number:\") )# input data type always take string because string carry all data types\n",
    "print(a+b)"
   ]
  },
  {
   "cell_type": "code",
   "execution_count": 8,
   "id": "28bf9399-5c97-42e8-8b60-923d7735162c",
   "metadata": {},
   "outputs": [
    {
     "name": "stdin",
     "output_type": "stream",
     "text": [
      " 9897\n"
     ]
    }
   ],
   "source": [
    "b=input()"
   ]
  },
  {
   "cell_type": "code",
   "execution_count": 9,
   "id": "8cdff822-f9e8-4f19-9c66-dc9cb9b875e2",
   "metadata": {},
   "outputs": [
    {
     "data": {
      "text/plain": [
       "str"
      ]
     },
     "execution_count": 9,
     "metadata": {},
     "output_type": "execute_result"
    }
   ],
   "source": [
    "type(b)"
   ]
  },
  {
   "cell_type": "code",
   "execution_count": 13,
   "id": "24a7efd4-26fa-4095-8873-106aa0e2f1a4",
   "metadata": {},
   "outputs": [
    {
     "name": "stdin",
     "output_type": "stream",
     "text": [
      "enter your card no: 98989.99\n",
      "enter your pin no: 86789.99\n"
     ]
    },
    {
     "name": "stdout",
     "output_type": "stream",
     "text": [
      "99009.99\n"
     ]
    }
   ],
   "source": [
    "b=float(input(\"enter your card no:\"))\n",
    "c=float(input(\"enter your pin no:\"))\n",
    "print(a+b)"
   ]
  },
  {
   "cell_type": "code",
   "execution_count": 14,
   "id": "37853649-ac83-4fd3-9c9f-d7d63693167d",
   "metadata": {},
   "outputs": [
    {
     "data": {
      "text/plain": [
       "float"
      ]
     },
     "execution_count": 14,
     "metadata": {},
     "output_type": "execute_result"
    }
   ],
   "source": [
    "type(a+b)"
   ]
  },
  {
   "cell_type": "code",
   "execution_count": 15,
   "id": "ebce47ec-ae6b-4836-a07d-d91c1dfb2b9e",
   "metadata": {
    "scrolled": true
   },
   "outputs": [
    {
     "name": "stdin",
     "output_type": "stream",
     "text": [
      "enter your card no: 2345.33\n",
      "enter your pin no: 3444\n"
     ]
    },
    {
     "name": "stdout",
     "output_type": "stream",
     "text": [
      "2365.33\n"
     ]
    }
   ],
   "source": [
    "b=eval(input(\"enter your card no:\"))\n",
    "c=eval(input(\"enter your pin no:\"))\n",
    "print(a+b)"
   ]
  },
  {
   "cell_type": "code",
   "execution_count": 16,
   "id": "012a58ec-f27c-44fb-a445-e97debf3909b",
   "metadata": {},
   "outputs": [
    {
     "name": "stdin",
     "output_type": "stream",
     "text": [
      "enter your card id: 10.05\n"
     ]
    },
    {
     "name": "stdout",
     "output_type": "stream",
     "text": [
      "b <class 'str'> 10.05\n",
      "d <class 'float'> 10.05\n"
     ]
    },
    {
     "name": "stdin",
     "output_type": "stream",
     "text": [
      "card no 20\n"
     ]
    },
    {
     "name": "stdout",
     "output_type": "stream",
     "text": [
      "c <class 'str'> 20\n",
      "e <class 'int'> 20\n",
      "30.05\n"
     ]
    }
   ],
   "source": [
    "b=input(\"enter your card id:\")\n",
    "print(\"b\",type(b),b)\n",
    "d=eval(b)\n",
    "print(\"d\",type(d),d)\n",
    "c=input(\"card no\")\n",
    "print(\"c\",type(c),c)\n",
    "e=eval(c)\n",
    "print(\"e\",type(e),e)\n",
    "print(d+e)"
   ]
  },
  {
   "cell_type": "code",
   "execution_count": 17,
   "id": "d46ab9b1-3fdc-43eb-a84b-209443772e98",
   "metadata": {},
   "outputs": [
    {
     "name": "stdin",
     "output_type": "stream",
     "text": [
      "enter your first number: 10.25\n",
      "enter your second number 25.54\n"
     ]
    },
    {
     "name": "stdout",
     "output_type": "stream",
     "text": [
      "35.79\n"
     ]
    }
   ],
   "source": [
    "d=eval(input(\"enter your first number:\"))\n",
    "e=eval(input(\"enter your second number\"))\n",
    "print(d+e)"
   ]
  },
  {
   "cell_type": "code",
   "execution_count": 18,
   "id": "d515c18e-2bf1-487a-9b6c-cd1c67cb74d9",
   "metadata": {},
   "outputs": [
    {
     "name": "stdin",
     "output_type": "stream",
     "text": [
      "enter your first number: 10.223253663347\n",
      "enter your second number 2345.43666\n"
     ]
    },
    {
     "name": "stdout",
     "output_type": "stream",
     "text": [
      "2355.6599136633467\n"
     ]
    }
   ],
   "source": [
    "print(eval(input(\"enter your first number:\"))+eval(input(\"enter your second number\")))"
   ]
  },
  {
   "cell_type": "code",
   "execution_count": 19,
   "id": "73ab5205-47ba-4a6d-b636-8b67b254dff0",
   "metadata": {},
   "outputs": [
    {
     "name": "stdin",
     "output_type": "stream",
     "text": [
      "enter your number: 10\n"
     ]
    },
    {
     "name": "stdout",
     "output_type": "stream",
     "text": [
      "<class 'str'> 10\n",
      "<class 'int'> 10\n"
     ]
    }
   ],
   "source": [
    "a=input(\"enter your number:\")\n",
    "print(type(a),a)\n",
    "c=int(a)\n",
    "print(type(c),c)"
   ]
  },
  {
   "cell_type": "code",
   "execution_count": 20,
   "id": "2c131f5c-b7ba-43a0-a3b2-d85fd9193c88",
   "metadata": {},
   "outputs": [
    {
     "name": "stdin",
     "output_type": "stream",
     "text": [
      "enter your number: 10\n"
     ]
    },
    {
     "name": "stdout",
     "output_type": "stream",
     "text": [
      "<class 'str'> 10\n",
      "<class 'float'> 10.0\n"
     ]
    }
   ],
   "source": [
    "a=input(\"enter your number:\")\n",
    "print(type(a),a)\n",
    "c=float(a)\n",
    "print(type(c),c)"
   ]
  },
  {
   "cell_type": "code",
   "execution_count": 21,
   "id": "6898374d-59dc-4dbf-b893-d22df953d48d",
   "metadata": {},
   "outputs": [
    {
     "name": "stdin",
     "output_type": "stream",
     "text": [
      "enter your number: 10.25\n"
     ]
    },
    {
     "name": "stdout",
     "output_type": "stream",
     "text": [
      "<class 'str'> 10.25\n"
     ]
    },
    {
     "ename": "ValueError",
     "evalue": "invalid literal for int() with base 10: '10.25'",
     "output_type": "error",
     "traceback": [
      "\u001b[1;31m---------------------------------------------------------------------------\u001b[0m",
      "\u001b[1;31mValueError\u001b[0m                                Traceback (most recent call last)",
      "Cell \u001b[1;32mIn[21], line 3\u001b[0m\n\u001b[0;32m      1\u001b[0m a\u001b[38;5;241m=\u001b[39m\u001b[38;5;28minput\u001b[39m(\u001b[38;5;124m\"\u001b[39m\u001b[38;5;124menter your number:\u001b[39m\u001b[38;5;124m\"\u001b[39m)\n\u001b[0;32m      2\u001b[0m \u001b[38;5;28mprint\u001b[39m(\u001b[38;5;28mtype\u001b[39m(a),a)\n\u001b[1;32m----> 3\u001b[0m c\u001b[38;5;241m=\u001b[39m\u001b[38;5;28;43mint\u001b[39;49m\u001b[43m(\u001b[49m\u001b[43ma\u001b[49m\u001b[43m)\u001b[49m\n\u001b[0;32m      4\u001b[0m \u001b[38;5;28mprint\u001b[39m(\u001b[38;5;28mtype\u001b[39m(c),c)\n",
      "\u001b[1;31mValueError\u001b[0m: invalid literal for int() with base 10: '10.25'"
     ]
    }
   ],
   "source": [
    "a=input(\"enter your number:\")\n",
    "print(type(a),a)\n",
    "c=int(a)\n",
    "print(type(c),c)\n"
   ]
  },
  {
   "cell_type": "code",
   "execution_count": 23,
   "id": "7900b1e8-2cc3-45f2-b4ea-bffad76c2ba0",
   "metadata": {},
   "outputs": [
    {
     "name": "stdin",
     "output_type": "stream",
     "text": [
      "enter your number: 10.25\n"
     ]
    },
    {
     "name": "stdout",
     "output_type": "stream",
     "text": [
      "<class 'str'> 10.25\n",
      "<class 'int'> 10\n"
     ]
    }
   ],
   "source": [
    "a=input(\"enter your number:\")\n",
    "print(type(a),a)\n",
    "c=int(float(a))\n",
    "print(type(c),c)\n"
   ]
  },
  {
   "cell_type": "code",
   "execution_count": 24,
   "id": "aac89f93-21f5-4ebd-9ffa-adf9e17f81f0",
   "metadata": {},
   "outputs": [
    {
     "name": "stdin",
     "output_type": "stream",
     "text": [
      "enter your number: 10.25\n"
     ]
    },
    {
     "name": "stdout",
     "output_type": "stream",
     "text": [
      "<class 'str'> 10.25\n",
      "<class 'float'> 10.25\n"
     ]
    }
   ],
   "source": [
    "a=input(\"enter your number:\")\n",
    "print(type(a),a)\n",
    "c=eval(a)\n",
    "print(type(c),c)"
   ]
  },
  {
   "cell_type": "code",
   "execution_count": 25,
   "id": "bfd06adf-1d00-4638-886d-341c9bbb30a7",
   "metadata": {},
   "outputs": [
    {
     "name": "stdin",
     "output_type": "stream",
     "text": [
      "enter your number: 10\n"
     ]
    },
    {
     "name": "stdout",
     "output_type": "stream",
     "text": [
      "<class 'str'> 10\n",
      "<class 'int'> 10\n"
     ]
    }
   ],
   "source": [
    "a=input(\"enter your number:\")\n",
    "print(type(a),a)\n",
    "c=int(a)\n",
    "print(type(c),c)"
   ]
  },
  {
   "cell_type": "code",
   "execution_count": 26,
   "id": "09ba2563-5c56-4b23-99f6-54c3d0e5b99c",
   "metadata": {},
   "outputs": [
    {
     "name": "stdin",
     "output_type": "stream",
     "text": [
      "enter your number: 10.25k\n"
     ]
    },
    {
     "name": "stdout",
     "output_type": "stream",
     "text": [
      "<class 'str'> 10.25k\n"
     ]
    },
    {
     "ename": "ValueError",
     "evalue": "invalid literal for int() with base 10: '10.25k'",
     "output_type": "error",
     "traceback": [
      "\u001b[1;31m---------------------------------------------------------------------------\u001b[0m",
      "\u001b[1;31mValueError\u001b[0m                                Traceback (most recent call last)",
      "Cell \u001b[1;32mIn[26], line 3\u001b[0m\n\u001b[0;32m      1\u001b[0m a\u001b[38;5;241m=\u001b[39m\u001b[38;5;28minput\u001b[39m(\u001b[38;5;124m\"\u001b[39m\u001b[38;5;124menter your number:\u001b[39m\u001b[38;5;124m\"\u001b[39m)\n\u001b[0;32m      2\u001b[0m \u001b[38;5;28mprint\u001b[39m(\u001b[38;5;28mtype\u001b[39m(a),a)\n\u001b[1;32m----> 3\u001b[0m c\u001b[38;5;241m=\u001b[39m\u001b[38;5;28;43mint\u001b[39;49m\u001b[43m(\u001b[49m\u001b[43ma\u001b[49m\u001b[43m)\u001b[49m\n\u001b[0;32m      4\u001b[0m \u001b[38;5;28mprint\u001b[39m(\u001b[38;5;28mtype\u001b[39m(c),c)\n",
      "\u001b[1;31mValueError\u001b[0m: invalid literal for int() with base 10: '10.25k'"
     ]
    }
   ],
   "source": [
    "a=input(\"enter your number:\")\n",
    "print(type(a),a)\n",
    "c=int(a)\n",
    "print(type(c),c)"
   ]
  },
  {
   "cell_type": "markdown",
   "id": "9cee5d57-8083-43c8-ab46-03e6ce746d3a",
   "metadata": {},
   "source": [
    "# regular expression"
   ]
  },
  {
   "cell_type": "code",
   "execution_count": 27,
   "id": "407598ef-4189-44b8-be26-f45aa61464a7",
   "metadata": {},
   "outputs": [],
   "source": [
    "import re\n"
   ]
  },
  {
   "cell_type": "code",
   "execution_count": 31,
   "id": "efc2eeab-6117-45e9-822b-186f36bc92d6",
   "metadata": {},
   "outputs": [],
   "source": [
    "a=\"THE Cigerate iNJUriousth$$%^^^^\""
   ]
  },
  {
   "cell_type": "code",
   "execution_count": 36,
   "id": "8c771d59-04ec-4f28-97bd-974357905a2b",
   "metadata": {},
   "outputs": [
    {
     "data": {
      "text/plain": [
       "'THE C NJU$$%'"
      ]
     },
     "execution_count": 36,
     "metadata": {},
     "output_type": "execute_result"
    }
   ],
   "source": [
    "re.sub(\"[a-z^]\",\"\",a)"
   ]
  },
  {
   "cell_type": "code",
   "execution_count": null,
   "id": "0b4c9ad6-8e7b-4e57-bbe2-2c1fae5c3ca5",
   "metadata": {},
   "outputs": [],
   "source": []
  }
 ],
 "metadata": {
  "kernelspec": {
   "display_name": "Python 3 (ipykernel)",
   "language": "python",
   "name": "python3"
  },
  "language_info": {
   "codemirror_mode": {
    "name": "ipython",
    "version": 3
   },
   "file_extension": ".py",
   "mimetype": "text/x-python",
   "name": "python",
   "nbconvert_exporter": "python",
   "pygments_lexer": "ipython3",
   "version": "3.11.4"
  }
 },
 "nbformat": 4,
 "nbformat_minor": 5
}
