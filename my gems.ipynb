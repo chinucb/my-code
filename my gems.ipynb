{
 "cells": [
  {
   "cell_type": "markdown",
   "id": "fe3891b6-711a-4138-95c7-5ee3c8ff021d",
   "metadata": {},
   "source": [
    "# creating calendar"
   ]
  },
  {
   "cell_type": "code",
   "execution_count": 1,
   "id": "03450b9c-f0bb-44ba-83fd-7333f92f3a3c",
   "metadata": {},
   "outputs": [],
   "source": [
    "import calendar"
   ]
  },
  {
   "cell_type": "code",
   "execution_count": 2,
   "id": "e48f9321-4409-43b9-8c9c-548320476b78",
   "metadata": {},
   "outputs": [],
   "source": [
    "year= 2023"
   ]
  },
  {
   "cell_type": "code",
   "execution_count": 3,
   "id": "991e398f-e150-40ce-84f6-10d7cbb98f66",
   "metadata": {},
   "outputs": [],
   "source": [
    "month=9"
   ]
  },
  {
   "cell_type": "code",
   "execution_count": 4,
   "id": "d625d7ed-d2b4-4730-b4dc-663a2ab524d8",
   "metadata": {},
   "outputs": [
    {
     "name": "stdout",
     "output_type": "stream",
     "text": [
      "   September 2023\n",
      "Mo Tu We Th Fr Sa Su\n",
      "             1  2  3\n",
      " 4  5  6  7  8  9 10\n",
      "11 12 13 14 15 16 17\n",
      "18 19 20 21 22 23 24\n",
      "25 26 27 28 29 30\n",
      "\n"
     ]
    }
   ],
   "source": [
    "print(calendar.month(year,month))"
   ]
  },
  {
   "cell_type": "code",
   "execution_count": 1,
   "id": "b54b5776-1a1b-466e-a1ec-2e2bcdbdc1ce",
   "metadata": {},
   "outputs": [],
   "source": [
    "from turtle import *\n",
    "color(\"red\")\n",
    "begin_fill()\n",
    "pensize(3)\n",
    "left(50)\n",
    "forward(133)\n",
    "circle(50,200)\n",
    "right(140)\n",
    "circle(50,200)\n",
    "forward(133)\n",
    "end_fill()"
   ]
  },
  {
   "cell_type": "code",
   "execution_count": 1,
   "id": "eeefdf9b-127b-43ef-a9a0-ba2d1ea84828",
   "metadata": {},
   "outputs": [
    {
     "ename": "SyntaxError",
     "evalue": "invalid syntax (2926903586.py, line 2)",
     "output_type": "error",
     "traceback": [
      "\u001b[1;36m  Cell \u001b[1;32mIn[1], line 2\u001b[1;36m\u001b[0m\n\u001b[1;33m    def_init_(self):\u001b[0m\n\u001b[1;37m                   ^\u001b[0m\n\u001b[1;31mSyntaxError\u001b[0m\u001b[1;31m:\u001b[0m invalid syntax\n"
     ]
    }
   ],
   "source": [
    "class chanchal:\n",
    "    def_init_(self):\n",
    "    excludedindices=(\"aeiouAEIOU\")\n",
    "    print(\"input string\",self.name) \n",
    "    \n",
    "    for char in self.name:\n",
    "        if char in excludedindices:\n",
    "            self.name=self.name.replace(char,\"\")\n",
    "            print(\"output string without excluded\",self.name)"
   ]
  },
  {
   "cell_type": "code",
   "execution_count": 3,
   "id": "d1d2a118-28a3-40aa-91e4-6d796bd98e8a",
   "metadata": {},
   "outputs": [],
   "source": [
    "# circle mania"
   ]
  },
  {
   "cell_type": "code",
   "execution_count": 9,
   "id": "2469aba0-af43-49d8-a145-0b0c50f54127",
   "metadata": {},
   "outputs": [
    {
     "ename": "SyntaxError",
     "evalue": "cannot assign to literal (3511442155.py, line 16)",
     "output_type": "error",
     "traceback": [
      "\u001b[1;36m  Cell \u001b[1;32mIn[9], line 16\u001b[1;36m\u001b[0m\n\u001b[1;33m    for 1 in range_(repeat):\u001b[0m\n\u001b[1;37m        ^\u001b[0m\n\u001b[1;31mSyntaxError\u001b[0m\u001b[1;31m:\u001b[0m cannot assign to literal\n"
     ]
    }
   ],
   "source": [
    "import turtle\n",
    "cppsecrets = turtle.screen()\n",
    "cppsecrets.bgcolor('black')\n",
    "s=turtle.turtle()\n",
    "s.speed('fastest')\n",
    "s.color('yellow')\n",
    "rotate=int(180)\n",
    "\n",
    "def circles(t,size):\n",
    "    for i in range(10):\n",
    "        t.circle(size)\n",
    "        size=size-4\n",
    "\n",
    "\n",
    "def cppsecrets1(t,size,repeat):\n",
    "    for 1 in range_(repeat):\n",
    "        circles(t,size)\n",
    "        t.right(360/repeat)\n",
    "\n",
    "cppsecrets(s,size 200,repeat 10)\n",
    "t1=turtle.Turtle()\n",
    "t1.speed(0)\n",
    "t1.color('yellow')\n",
    "rotate=int(90)\n",
    "\n",
    "def circles(t,size):\n",
    "    for i in range(4):\n",
    "        t.circle(size)\n",
    "        size=size-10\n",
    "\n",
    "def cppsecrets1(t,size):\n",
    "    for i in range_(repeat):\n",
    "        circles(t,size)\n",
    "        t.right(360/repeat)\n",
    "\n",
    "cppsecrets1(t1,size 160,repeat 10)\n",
    "t2=turtle.Turtle()\n",
    "t2.speed(0)\n",
    "t2.color('blue')\n",
    "rotate=int(80)\n",
    "\n",
    "def circles(t,size):\n",
    "    for i in range(4):\n",
    "        t.circles(size)\n",
    "\n",
    "cppsecrets1() for in range(repeat)"
   ]
  },
  {
   "cell_type": "code",
   "execution_count": null,
   "id": "e7206a25-ddac-4854-87eb-7812da957348",
   "metadata": {},
   "outputs": [],
   "source": []
  }
 ],
 "metadata": {
  "kernelspec": {
   "display_name": "Python 3 (ipykernel)",
   "language": "python",
   "name": "python3"
  },
  "language_info": {
   "codemirror_mode": {
    "name": "ipython",
    "version": 3
   },
   "file_extension": ".py",
   "mimetype": "text/x-python",
   "name": "python",
   "nbconvert_exporter": "python",
   "pygments_lexer": "ipython3",
   "version": "3.11.4"
  }
 },
 "nbformat": 4,
 "nbformat_minor": 5
}
