{
 "cells": [
  {
   "cell_type": "markdown",
   "id": "1e8eb295-510a-4c18-95de-67e4be78a6af",
   "metadata": {
    "editable": true,
    "slideshow": {
     "slide_type": ""
    },
    "tags": []
   },
   "source": [
    "# date- 9/8/2023"
   ]
  },
  {
   "cell_type": "raw",
   "id": "b9a853ef-c6a7-49ae-8af9-da97963ebacd",
   "metadata": {},
   "source": [
    "sep,end operator available inside print,print()# whenever we put parenthesis after print option so we call it function."
   ]
  },
  {
   "cell_type": "code",
   "execution_count": 1,
   "id": "f87d76ab-0f0d-42da-832f-15bfaa797cce",
   "metadata": {},
   "outputs": [
    {
     "name": "stdout",
     "output_type": "stream",
     "text": [
      "namstey india\n"
     ]
    }
   ],
   "source": [
    "print('namstey india')"
   ]
  },
  {
   "cell_type": "code",
   "execution_count": 2,
   "id": "91cb95bf-8538-4a14-9fd1-d722d240d42e",
   "metadata": {},
   "outputs": [
    {
     "name": "stdout",
     "output_type": "stream",
     "text": [
      "namstey india\n",
      "namstey india\n"
     ]
    }
   ],
   "source": [
    "print('namstey india')\n",
    "print('namstey india')"
   ]
  },
  {
   "cell_type": "code",
   "execution_count": 3,
   "id": "847e01aa-9177-49c0-8ab1-3946350905c0",
   "metadata": {},
   "outputs": [
    {
     "name": "stdout",
     "output_type": "stream",
     "text": [
      "namstey india\n",
      "namstey india\n"
     ]
    }
   ],
   "source": [
    "print('namstey india');print('namstey india')\n"
   ]
  },
  {
   "cell_type": "code",
   "execution_count": 4,
   "id": "790595e3-5bb5-493d-acd5-05102e1106bb",
   "metadata": {},
   "outputs": [
    {
     "name": "stdout",
     "output_type": "stream",
     "text": [
      "namstey india\n",
      "namstey india\n"
     ]
    },
    {
     "data": {
      "text/plain": [
       "(None, None)"
      ]
     },
     "execution_count": 4,
     "metadata": {},
     "output_type": "execute_result"
    }
   ],
   "source": [
    "print('namstey india'),print('namstey india')"
   ]
  },
  {
   "cell_type": "code",
   "execution_count": 5,
   "id": "08543f59-056b-4781-a565-cf029e3130b9",
   "metadata": {},
   "outputs": [
    {
     "ename": "SyntaxError",
     "evalue": "invalid syntax (312634025.py, line 1)",
     "output_type": "error",
     "traceback": [
      "\u001b[1;36m  Cell \u001b[1;32mIn[5], line 1\u001b[1;36m\u001b[0m\n\u001b[1;33m    print('namstey india');,print('namstey india');\u001b[0m\n\u001b[1;37m                           ^\u001b[0m\n\u001b[1;31mSyntaxError\u001b[0m\u001b[1;31m:\u001b[0m invalid syntax\n"
     ]
    }
   ],
   "source": [
    "print('namstey india');,print('namstey india');"
   ]
  },
  {
   "cell_type": "code",
   "execution_count": 6,
   "id": "9ebfa54d-b047-45fa-9794-8dc79276e937",
   "metadata": {},
   "outputs": [
    {
     "ename": "SyntaxError",
     "evalue": "invalid syntax (1145904097.py, line 1)",
     "output_type": "error",
     "traceback": [
      "\u001b[1;36m  Cell \u001b[1;32mIn[6], line 1\u001b[1;36m\u001b[0m\n\u001b[1;33m    print('namstey india')!print('namstey india')\u001b[0m\n\u001b[1;37m                          ^\u001b[0m\n\u001b[1;31mSyntaxError\u001b[0m\u001b[1;31m:\u001b[0m invalid syntax\n"
     ]
    }
   ],
   "source": [
    "print('namstey india')!print('namstey india')# semicolon is termination in python"
   ]
  },
  {
   "cell_type": "code",
   "execution_count": 7,
   "id": "9a0e399a-2a8c-48c4-9f9f-e21f0f451603",
   "metadata": {},
   "outputs": [
    {
     "name": "stdout",
     "output_type": "stream",
     "text": [
      "namstey india\n",
      "namstey india\n"
     ]
    }
   ],
   "source": [
    "print('namstey india');print('namstey india')"
   ]
  },
  {
   "cell_type": "code",
   "execution_count": 8,
   "id": "31032f3a-13f1-467d-868d-0c90bb77a090",
   "metadata": {},
   "outputs": [
    {
     "ename": "SyntaxError",
     "evalue": "invalid syntax (3891127648.py, line 1)",
     "output_type": "error",
     "traceback": [
      "\u001b[1;36m  Cell \u001b[1;32mIn[8], line 1\u001b[1;36m\u001b[0m\n\u001b[1;33m    print(\"hello world\");print(\"hello world\";\u001b[0m\n\u001b[1;37m                                            ^\u001b[0m\n\u001b[1;31mSyntaxError\u001b[0m\u001b[1;31m:\u001b[0m invalid syntax\n"
     ]
    }
   ],
   "source": [
    "print(\"hello world\");print(\"hello world\";"
   ]
  },
  {
   "cell_type": "code",
   "execution_count": 9,
   "id": "23531f0b-f1c3-450e-a771-c1e17229de08",
   "metadata": {},
   "outputs": [
    {
     "name": "stdout",
     "output_type": "stream",
     "text": [
      "hello python\n",
      "hello python\n"
     ]
    }
   ],
   "source": [
    "print(\"hello python\");print(\"hello python\")"
   ]
  },
  {
   "cell_type": "code",
   "execution_count": 10,
   "id": "aff2592c-b5c4-4eb4-857c-a6220d545bd4",
   "metadata": {},
   "outputs": [
    {
     "name": "stdout",
     "output_type": "stream",
     "text": [
      "hello python$"
     ]
    }
   ],
   "source": [
    "print(\"hello python\",end=\"$\")"
   ]
  },
  {
   "cell_type": "code",
   "execution_count": 11,
   "id": "3052918b-d0b4-48b9-88f8-7ae477b1d659",
   "metadata": {},
   "outputs": [
    {
     "ename": "SyntaxError",
     "evalue": "invalid syntax (1511683550.py, line 1)",
     "output_type": "error",
     "traceback": [
      "\u001b[1;36m  Cell \u001b[1;32mIn[11], line 1\u001b[1;36m\u001b[0m\n\u001b[1;33m    print(\"hello india\",end=\"!\");print(\"hello india\",end=\"india\")print(\"hello india\")\u001b[0m\n\u001b[1;37m                                                                 ^\u001b[0m\n\u001b[1;31mSyntaxError\u001b[0m\u001b[1;31m:\u001b[0m invalid syntax\n"
     ]
    }
   ],
   "source": [
    "print(\"hello india\",end=\"!\");print(\"hello india\",end=\"india\");print(\"hello india\")"
   ]
  },
  {
   "cell_type": "code",
   "execution_count": 12,
   "id": "07f5fece-8283-45db-ae1a-3bf9432973e5",
   "metadata": {},
   "outputs": [
    {
     "name": "stdout",
     "output_type": "stream",
     "text": [
      "hello india!hello indiaindiahello india\n"
     ]
    }
   ],
   "source": [
    "print(\"hello india\",end=\"!\");print(\"hello india\",end=\"india\");print(\"hello india\")"
   ]
  },
  {
   "cell_type": "code",
   "execution_count": 13,
   "id": "085ad663-3e24-4ad6-8b7c-879d32de53f1",
   "metadata": {},
   "outputs": [
    {
     "name": "stdout",
     "output_type": "stream",
     "text": [
      "hello india!hello india namstey hello india\n"
     ]
    }
   ],
   "source": [
    "print(\"hello india\",end=\"!\");print(\"hello india\",end=\" namstey \");print(\"hello india\")"
   ]
  },
  {
   "cell_type": "code",
   "execution_count": 14,
   "id": "c64ec636-2c8f-44dd-b617-c0380368478d",
   "metadata": {},
   "outputs": [
    {
     "ename": "SyntaxError",
     "evalue": "unterminated string literal (detected at line 1) (1619965327.py, line 1)",
     "output_type": "error",
     "traceback": [
      "\u001b[1;36m  Cell \u001b[1;32mIn[14], line 1\u001b[1;36m\u001b[0m\n\u001b[1;33m    print('today's meeting\")\u001b[0m\n\u001b[1;37m                          ^\u001b[0m\n\u001b[1;31mSyntaxError\u001b[0m\u001b[1;31m:\u001b[0m unterminated string literal (detected at line 1)\n"
     ]
    }
   ],
   "source": [
    "print('today's meeting\")"
   ]
  },
  {
   "cell_type": "code",
   "execution_count": 15,
   "id": "ab6a7666-e469-4a6c-9113-818c219e4d29",
   "metadata": {},
   "outputs": [
    {
     "name": "stdout",
     "output_type": "stream",
     "text": [
      "today's meeting in day time\n"
     ]
    }
   ],
   "source": [
    "print(\"today's meeting in day time\")"
   ]
  },
  {
   "cell_type": "code",
   "execution_count": 16,
   "id": "25e7a4fe-6311-45e2-92d2-22e5b66be99d",
   "metadata": {},
   "outputs": [
    {
     "name": "stdout",
     "output_type": "stream",
     "text": [
      "green panthorpanthor rangeblue panthorpanthor rangeblack panthor\n"
     ]
    }
   ],
   "source": [
    "print(\"green panthor\",\"blue panthor\",\"black panthor\",sep=\"panthor range\")"
   ]
  },
  {
   "cell_type": "code",
   "execution_count": 17,
   "id": "a3cc2ce0-eaa1-4863-ac10-00b0f9cd8122",
   "metadata": {},
   "outputs": [
    {
     "name": "stdout",
     "output_type": "stream",
     "text": [
      "https://www.bing.com/search?q=what+is+unicode+error+in+python&qs=AS&pq=what+is+unicode+&sk=HS1SS1&sc=10-16&cvid=8B7A5954401241F2B2921EEEE634AE5E&FORM=QBRE&sp=3&lq=0\n"
     ]
    }
   ],
   "source": [
    "print(\"https://www.bing.com/search?q=what+is+unicode+error+in+python&qs=AS&pq=what+is+unicode+&sk=HS1SS1&sc=10-16&cvid=8B7A5954401241F2B2921EEEE634AE5E&FORM=QBRE&sp=3&lq=0\")"
   ]
  },
  {
   "cell_type": "code",
   "execution_count": 18,
   "id": "47fc4894-1874-4e13-9e7c-df96b892a5bb",
   "metadata": {},
   "outputs": [
    {
     "name": "stdout",
     "output_type": "stream",
     "text": [
      "😀\n"
     ]
    }
   ],
   "source": [
    "print(\"\\U0001f600\")"
   ]
  },
  {
   "cell_type": "code",
   "execution_count": 19,
   "id": "77e18ceb-89ba-4153-8beb-01be32c7f344",
   "metadata": {},
   "outputs": [
    {
     "ename": "SyntaxError",
     "evalue": "(unicode error) 'unicodeescape' codec can't decode bytes in position 0-1: truncated \\UXXXXXXXX escape (1060394090.py, line 1)",
     "output_type": "error",
     "traceback": [
      "\u001b[1;36m  Cell \u001b[1;32mIn[19], line 1\u001b[1;36m\u001b[0m\n\u001b[1;33m    print(\"\\U+2655\")\u001b[0m\n\u001b[1;37m                   ^\u001b[0m\n\u001b[1;31mSyntaxError\u001b[0m\u001b[1;31m:\u001b[0m (unicode error) 'unicodeescape' codec can't decode bytes in position 0-1: truncated \\UXXXXXXXX escape\n"
     ]
    }
   ],
   "source": [
    "print(\"\\U+2655\")"
   ]
  },
  {
   "cell_type": "code",
   "execution_count": 20,
   "id": "f3820166-8a43-4c00-83ee-475686ba1a19",
   "metadata": {},
   "outputs": [
    {
     "name": "stdout",
     "output_type": "stream",
     "text": [
      "U+2655\n"
     ]
    }
   ],
   "source": [
    "print(\"U+2655\")"
   ]
  },
  {
   "cell_type": "code",
   "execution_count": 21,
   "id": "2da6a60e-309b-4d9d-af1b-71a95ea4102f",
   "metadata": {},
   "outputs": [
    {
     "ename": "SyntaxError",
     "evalue": "unterminated string literal (detected at line 1) (1721034115.py, line 1)",
     "output_type": "error",
     "traceback": [
      "\u001b[1;36m  Cell \u001b[1;32mIn[21], line 1\u001b[1;36m\u001b[0m\n\u001b[1;33m    print(\"\\U+2655\\\")\u001b[0m\n\u001b[1;37m          ^\u001b[0m\n\u001b[1;31mSyntaxError\u001b[0m\u001b[1;31m:\u001b[0m unterminated string literal (detected at line 1)\n"
     ]
    }
   ],
   "source": [
    "print(\"\\U+2655\\\")"
   ]
  },
  {
   "cell_type": "code",
   "execution_count": 22,
   "id": "0834623f-a929-4829-bdb3-6e3e9a3acfaf",
   "metadata": {},
   "outputs": [
    {
     "name": "stdout",
     "output_type": "stream",
     "text": [
      "/U+2656/\n"
     ]
    }
   ],
   "source": [
    "print('/U+2656/')"
   ]
  },
  {
   "cell_type": "code",
   "execution_count": 1,
   "id": "ad4cf981-b71a-4a18-bb21-f7b8738c190b",
   "metadata": {},
   "outputs": [
    {
     "ename": "SyntaxError",
     "evalue": "(unicode error) 'unicodeescape' codec can't decode bytes in position 0-1: truncated \\UXXXXXXXX escape (1020236913.py, line 1)",
     "output_type": "error",
     "traceback": [
      "\u001b[1;36m  Cell \u001b[1;32mIn[1], line 1\u001b[1;36m\u001b[0m\n\u001b[1;33m    print(\"\\U+2656\")\u001b[0m\n\u001b[1;37m                   ^\u001b[0m\n\u001b[1;31mSyntaxError\u001b[0m\u001b[1;31m:\u001b[0m (unicode error) 'unicodeescape' codec can't decode bytes in position 0-1: truncated \\UXXXXXXXX escape\n"
     ]
    }
   ],
   "source": [
    "print(\"\\U+2656\")"
   ]
  },
  {
   "cell_type": "code",
   "execution_count": 2,
   "id": "f5e965d6-7ba8-44e4-8719-f8e205eefc42",
   "metadata": {},
   "outputs": [
    {
     "ename": "SyntaxError",
     "evalue": "unterminated string literal (detected at line 1) (3111297434.py, line 1)",
     "output_type": "error",
     "traceback": [
      "\u001b[1;36m  Cell \u001b[1;32mIn[2], line 1\u001b[1;36m\u001b[0m\n\u001b[1;33m    print(\"\\U+2656\\\")\u001b[0m\n\u001b[1;37m          ^\u001b[0m\n\u001b[1;31mSyntaxError\u001b[0m\u001b[1;31m:\u001b[0m unterminated string literal (detected at line 1)\n"
     ]
    }
   ],
   "source": [
    "print(\"\\U+2656\\\")"
   ]
  },
  {
   "cell_type": "code",
   "execution_count": 3,
   "id": "ea605c97-d49f-4d51-a9e5-c43b5ee084bc",
   "metadata": {},
   "outputs": [
    {
     "name": "stdout",
     "output_type": "stream",
     "text": [
      " \\ U+2656  \\ \n"
     ]
    }
   ],
   "source": [
    "print( \" \\ U+2656  \\ \" )"
   ]
  },
  {
   "cell_type": "code",
   "execution_count": 3,
   "id": "3e97d336-b077-4963-9ede-43cf1f15ce37",
   "metadata": {},
   "outputs": [
    {
     "ename": "SyntaxError",
     "evalue": "unterminated string literal (detected at line 1) (3867520806.py, line 1)",
     "output_type": "error",
     "traceback": [
      "\u001b[1;36m  Cell \u001b[1;32mIn[3], line 1\u001b[1;36m\u001b[0m\n\u001b[1;33m    print(\"\\ Alt + 126980 \\\")\u001b[0m\n\u001b[1;37m          ^\u001b[0m\n\u001b[1;31mSyntaxError\u001b[0m\u001b[1;31m:\u001b[0m unterminated string literal (detected at line 1)\n"
     ]
    }
   ],
   "source": [
    "print(\"\\ Alt + 126980 \\\")"
   ]
  },
  {
   "cell_type": "code",
   "execution_count": 8,
   "id": "4a5e7fbe-bab3-4358-bd20-a02b74a1124f",
   "metadata": {},
   "outputs": [
    {
     "ename": "SyntaxError",
     "evalue": "unterminated string literal (detected at line 1) (1308492678.py, line 1)",
     "output_type": "error",
     "traceback": [
      "\u001b[1;36m  Cell \u001b[1;32mIn[8], line 1\u001b[1;36m\u001b[0m\n\u001b[1;33m    print(\"\\Alt + 126980\\\")\u001b[0m\n\u001b[1;37m          ^\u001b[0m\n\u001b[1;31mSyntaxError\u001b[0m\u001b[1;31m:\u001b[0m unterminated string literal (detected at line 1)\n"
     ]
    }
   ],
   "source": [
    "print(\"\\Alt + 126980\\\")"
   ]
  },
  {
   "cell_type": "code",
   "execution_count": null,
   "id": "320f9cd6-ab91-410f-bd02-382e67b5805b",
   "metadata": {},
   "outputs": [],
   "source": []
  }
 ],
 "metadata": {
  "kernelspec": {
   "display_name": "Python 3 (ipykernel)",
   "language": "python",
   "name": "python3"
  },
  "language_info": {
   "codemirror_mode": {
    "name": "ipython",
    "version": 3
   },
   "file_extension": ".py",
   "mimetype": "text/x-python",
   "name": "python",
   "nbconvert_exporter": "python",
   "pygments_lexer": "ipython3",
   "version": "3.11.4"
  }
 },
 "nbformat": 4,
 "nbformat_minor": 5
}
