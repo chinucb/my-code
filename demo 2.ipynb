{
 "cells": [
  {
   "cell_type": "code",
   "execution_count": 1,
   "id": "0f1d87fb-f6cd-4db0-8880-9bd63f05fef5",
   "metadata": {},
   "outputs": [
    {
     "name": "stdout",
     "output_type": "stream",
     "text": [
      "hello world\n",
      "hello world\n"
     ]
    }
   ],
   "source": [
    "print(\"hello world\");\n",
    "print(end=\"\")\n",
    "print(\"hello world\");"
   ]
  },
  {
   "cell_type": "code",
   "execution_count": 2,
   "id": "c72a7bf7-d1a0-4a0f-addc-7538350c7d8c",
   "metadata": {},
   "outputs": [
    {
     "ename": "SyntaxError",
     "evalue": "unmatched ')' (1334713279.py, line 2)",
     "output_type": "error",
     "traceback": [
      "\u001b[1;36m  Cell \u001b[1;32mIn[2], line 2\u001b[1;36m\u001b[0m\n\u001b[1;33m    print(\"hello world\"),end=\"\\n\");\u001b[0m\n\u001b[1;37m                                 ^\u001b[0m\n\u001b[1;31mSyntaxError\u001b[0m\u001b[1;31m:\u001b[0m unmatched ')'\n"
     ]
    }
   ],
   "source": [
    "print(\"hello world\",end=\"\");\n",
    "print(\"hello world\"),end=\"\\n\");"
   ]
  },
  {
   "cell_type": "code",
   "execution_count": 3,
   "id": "b355cdb2-98b4-4edb-adac-562ebfa7cff2",
   "metadata": {},
   "outputs": [
    {
     "name": "stdout",
     "output_type": "stream",
     "text": [
      "hello worldhello world\n"
     ]
    }
   ],
   "source": [
    "print(\"hello world\",end=\"\")\n",
    "print(\"hello world\",end=\"\\n\")"
   ]
  },
  {
   "cell_type": "code",
   "execution_count": 6,
   "id": "b28524f7-fa2e-4732-a573-b062a3aa47fa",
   "metadata": {},
   "outputs": [
    {
     "name": "stdout",
     "output_type": "stream",
     "text": [
      "hello worldhello world\n"
     ]
    }
   ],
   "source": [
    "print(\"hello world\",end=\"\",sep=\",\")\n",
    "print(\"hello world\",end=\"\\n\")"
   ]
  },
  {
   "cell_type": "code",
   "execution_count": 7,
   "id": "75a70887-9881-452d-abaf-5c0e72faa6c1",
   "metadata": {},
   "outputs": [
    {
     "name": "stdout",
     "output_type": "stream",
     "text": [
      "hello worldhello world\n",
      "what's new\n"
     ]
    }
   ],
   "source": [
    "print(\"hello world\",end=\"\")\n",
    "print(\"hello world\",end=\"\\n\")\n",
    "print(\"what's new\")"
   ]
  },
  {
   "cell_type": "code",
   "execution_count": 8,
   "id": "a3073013-90e9-4581-8471-3471406eeb44",
   "metadata": {},
   "outputs": [
    {
     "name": "stdout",
     "output_type": "stream",
     "text": [
      "hello world#hello world#new beginning\n"
     ]
    }
   ],
   "source": [
    "print(\"hello world\",end=\"#\")\n",
    "print(\"hello world\",end=\"#\")\n",
    "print(\"new beginning\")"
   ]
  },
  {
   "cell_type": "markdown",
   "id": "19cb3296-06ac-4dec-86d2-b3eee603dc3f",
   "metadata": {},
   "source": [
    "# Date- 10/08/2023"
   ]
  },
  {
   "cell_type": "code",
   "execution_count": 9,
   "id": "d6ed7dac-4cd6-4f86-b0bb-cfe0e05a5b3d",
   "metadata": {},
   "outputs": [
    {
     "name": "stdout",
     "output_type": "stream",
     "text": [
      "hello world&hello world&"
     ]
    }
   ],
   "source": [
    "print(\"hello world\",end=\"&\");print(\"hello world\",end=\"&\");"
   ]
  },
  {
   "cell_type": "code",
   "execution_count": 10,
   "id": "76bb0830-a968-4693-ac35-1974832ad8f3",
   "metadata": {},
   "outputs": [
    {
     "ename": "SyntaxError",
     "evalue": "invalid syntax. Perhaps you forgot a comma? (1907680965.py, line 1)",
     "output_type": "error",
     "traceback": [
      "\u001b[1;36m  Cell \u001b[1;32mIn[10], line 1\u001b[1;36m\u001b[0m\n\u001b[1;33m    print(\"apple\",\"banana\",\"orange\"sep=\"\\n\")\u001b[0m\n\u001b[1;37m                           ^\u001b[0m\n\u001b[1;31mSyntaxError\u001b[0m\u001b[1;31m:\u001b[0m invalid syntax. Perhaps you forgot a comma?\n"
     ]
    }
   ],
   "source": [
    "print(\"apple\",\"banana\",\"orange\"sep=\"\\n\")"
   ]
  },
  {
   "cell_type": "code",
   "execution_count": 11,
   "id": "b731d12b-16c1-44bc-a85f-edd5a5a1d23d",
   "metadata": {},
   "outputs": [
    {
     "name": "stdout",
     "output_type": "stream",
     "text": [
      "apple\n",
      "banana\n",
      "orange\n"
     ]
    }
   ],
   "source": [
    "print(\"apple\",\"banana\",\"orange\",sep=\"\\n\")"
   ]
  },
  {
   "cell_type": "code",
   "execution_count": 13,
   "id": "09dcc63b-3092-4070-be88-51970e49ca02",
   "metadata": {},
   "outputs": [
    {
     "name": "stdout",
     "output_type": "stream",
     "text": [
      "this is cha\n",
      "\n"
     ]
    }
   ],
   "source": [
    "print(\"this is cha\\n\")# in python back slash(n value is by default is change the line.)"
   ]
  },
  {
   "cell_type": "code",
   "execution_count": 14,
   "id": "3edb2da1-65f7-464e-877f-fe47075878ba",
   "metadata": {},
   "outputs": [
    {
     "name": "stdout",
     "output_type": "stream",
     "text": [
      "this is krishna's \table\n"
     ]
    }
   ],
   "source": [
    "print(\"this is krishna's \\table\")# back slash(t) value indicate as tab and tab means space"
   ]
  },
  {
   "cell_type": "code",
   "execution_count": 15,
   "id": "4f2c3a3d-fc8a-4c7e-9fa3-cdce359f9b02",
   "metadata": {},
   "outputs": [
    {
     "name": "stdout",
     "output_type": "stream",
     "text": [
      "this is krishna'sottle\n"
     ]
    }
   ],
   "source": [
    "print(\"this is krishna's \\bottle\")# back slash(b) value cover the backspace "
   ]
  },
  {
   "cell_type": "code",
   "execution_count": 16,
   "id": "4251598f-d073-4b30-b8a4-ec7d44677446",
   "metadata": {},
   "outputs": [
    {
     "name": "stdout",
     "output_type": "stream",
     "text": [
      "you gals are \"genius\"\n"
     ]
    }
   ],
   "source": [
    "print(\"you gals are \\\"genius\\\"\")# backslash switch his place with double comma's.double charecterstics hide by backslash"
   ]
  },
  {
   "cell_type": "markdown",
   "id": "248e32ef-bf62-4afa-9d80-67fb3776a026",
   "metadata": {},
   "source": [
    "we can't put space between coma it should be without space."
   ]
  },
  {
   "cell_type": "markdown",
   "id": "7c7c2b72-476b-41d1-ac10-3c45b5008c15",
   "metadata": {},
   "source": [
    "we can write string with four types\n",
    "<single coma string:- print('hello world')\n",
    "<double coma string:- print(\"hello world\")\n",
    "<tripple single code coma string:- print('''hello world'''\n",
    "<tripple code coma string:- print(\"\"\"hello world\"\"\")"
   ]
  },
  {
   "cell_type": "code",
   "execution_count": 17,
   "id": "ff5ea9f0-0735-4d6a-a04f-f2005ad4d489",
   "metadata": {},
   "outputs": [
    {
     "name": "stdout",
     "output_type": "stream",
     "text": [
      "hello world\n"
     ]
    }
   ],
   "source": [
    "print('hello world')"
   ]
  },
  {
   "cell_type": "code",
   "execution_count": 18,
   "id": "2933132c-d106-4b5d-82d0-fe2f31ccc585",
   "metadata": {},
   "outputs": [
    {
     "name": "stdout",
     "output_type": "stream",
     "text": [
      "hello world\n"
     ]
    }
   ],
   "source": [
    "print(\"hello world\")"
   ]
  },
  {
   "cell_type": "code",
   "execution_count": 19,
   "id": "eeced292-89fa-4d0f-8494-0711c9ec6ab0",
   "metadata": {},
   "outputs": [
    {
     "name": "stdout",
     "output_type": "stream",
     "text": [
      "hello world\n"
     ]
    }
   ],
   "source": [
    "print('''hello world''')"
   ]
  },
  {
   "cell_type": "code",
   "execution_count": 20,
   "id": "a57adafd-b3bb-49c6-9d8c-42f5408db0d1",
   "metadata": {},
   "outputs": [
    {
     "name": "stdout",
     "output_type": "stream",
     "text": [
      "hello world\n"
     ]
    }
   ],
   "source": [
    "print(\"\"\"hello world\"\"\")"
   ]
  },
  {
   "cell_type": "code",
   "execution_count": 21,
   "id": "f92e4472-b303-4e4c-ac97-5a1fd59cef1b",
   "metadata": {},
   "outputs": [
    {
     "name": "stdout",
     "output_type": "stream",
     "text": [
      "hello world\n",
      "hello world\n"
     ]
    }
   ],
   "source": [
    "print('hello world')# these both are similar they share same error\n",
    "print(\"hello world\")"
   ]
  },
  {
   "cell_type": "code",
   "execution_count": 22,
   "id": "cc754479-9fd2-4faf-a137-02dcfc1beacb",
   "metadata": {},
   "outputs": [
    {
     "name": "stdout",
     "output_type": "stream",
     "text": [
      "hello world\n",
      "hello world\n"
     ]
    }
   ],
   "source": [
    "print('''hello world''')# these both are similar\n",
    "print(\"\"\"hello world\"\"\")\n"
   ]
  },
  {
   "cell_type": "code",
   "execution_count": 25,
   "id": "97beeadd-c873-4c0c-b99a-554b8087c27e",
   "metadata": {},
   "outputs": [
    {
     "name": "stdout",
     "output_type": "stream",
     "text": [
      "hie this is chanchal sharma\n",
      "I am an imaginative person those who love imagination's\n",
      "and some time get hurt easily because \n",
      "they are far away from reality\n",
      "hello \n",
      "\n",
      "\n",
      "world\n"
     ]
    }
   ],
   "source": [
    "print(\"\"\"hie this is chanchal sharma\n",
    "I am an imaginative person those who love imagination's\n",
    "and some time get hurt easily because \n",
    "they are far away from reality\"\"\")\n",
    "print('''hello \n",
    "\n",
    "\n",
    "world''')"
   ]
  },
  {
   "cell_type": "code",
   "execution_count": 26,
   "id": "94216fb3-edc5-4140-9384-5f4bf60fc727",
   "metadata": {},
   "outputs": [
    {
     "name": "stdout",
     "output_type": "stream",
     "text": [
      "you are \"humble\"\n"
     ]
    }
   ],
   "source": [
    "print('you are \"humble\"')"
   ]
  },
  {
   "cell_type": "code",
   "execution_count": 27,
   "id": "e85417e1-aaff-4f23-bf6c-989ee67676c7",
   "metadata": {},
   "outputs": [
    {
     "name": "stdout",
     "output_type": "stream",
     "text": [
      "you are \"gentel\"\n"
     ]
    }
   ],
   "source": [
    "print('''you are \"gentel\"''')"
   ]
  },
  {
   "cell_type": "code",
   "execution_count": 28,
   "id": "2788ed94-8c6d-4a2b-9039-f4a133dc0d6e",
   "metadata": {},
   "outputs": [
    {
     "ename": "SyntaxError",
     "evalue": "invalid syntax. Perhaps you forgot a comma? (2806123259.py, line 1)",
     "output_type": "error",
     "traceback": [
      "\u001b[1;36m  Cell \u001b[1;32mIn[28], line 1\u001b[1;36m\u001b[0m\n\u001b[1;33m    print(\"you are \"bechlor\"\")\u001b[0m\n\u001b[1;37m          ^\u001b[0m\n\u001b[1;31mSyntaxError\u001b[0m\u001b[1;31m:\u001b[0m invalid syntax. Perhaps you forgot a comma?\n"
     ]
    }
   ],
   "source": [
    "print(\"you are \"bechlor\"\")#so there is a problem that says u forgot a coma i think interpreter is confuse because i added double coma for highlighting a word\n"
   ]
  },
  {
   "cell_type": "code",
   "execution_count": 32,
   "id": "920733cc-95b3-4bdc-a24b-ddac55dfddc6",
   "metadata": {},
   "outputs": [
    {
     "ename": "SyntaxError",
     "evalue": "invalid decimal literal (1406594994.py, line 1)",
     "output_type": "error",
     "traceback": [
      "\u001b[1;36m  Cell \u001b[1;32mIn[32], line 1\u001b[1;36m\u001b[0m\n\u001b[1;33m    print(r\"https://www.bing.com/search?pglt=673&q=git+hub&cvid=c9f4ddb5466a4b27916660f9b301c0e6&aqs=edge\")..69i57j69i60.2310j0j1&FORM=ANAB01&PC=U531\u001b[0m\n\u001b[1;37m                                                                                                              ^\u001b[0m\n\u001b[1;31mSyntaxError\u001b[0m\u001b[1;31m:\u001b[0m invalid decimal literal\n"
     ]
    }
   ],
   "source": [
    "print(r\"https://www.bing.com/search?pglt=673&q=git+hub&cvid=c9f4ddb5466a4b27916660f9b301c0e6&aqs=edge\")..69i57j69i60.2310j0j1&FORM=ANAB01&PC=U531"
   ]
  },
  {
   "cell_type": "code",
   "execution_count": 30,
   "id": "ed22e0e6-ab45-4e27-a826-8efee7b17774",
   "metadata": {},
   "outputs": [
    {
     "name": "stdout",
     "output_type": "stream",
     "text": [
      "https:\\www.bing.com/search?pglt=673&q=git+hub&cvid=c9f4ddb5466a4b27916660f9b301c0e6&aqs\n"
     ]
    }
   ],
   "source": [
    "print(\"https:\\\\www.bing.com/search?pglt=673&q=git+hub&cvid=c9f4ddb5466a4b27916660f9b301c0e6&aqs\")"
   ]
  },
  {
   "cell_type": "code",
   "execution_count": 31,
   "id": "a165c8ad-2cbd-4bc8-889b-8ddbc8a25ceb",
   "metadata": {},
   "outputs": [
    {
     "name": "stdout",
     "output_type": "stream",
     "text": [
      "https:\\github.com/jupyterlab/jupyterlab/graphs/contributors\n"
     ]
    }
   ],
   "source": [
    "print(\"https:\\\\github.com/jupyterlab/jupyterlab/graphs/contributors\")"
   ]
  },
  {
   "cell_type": "code",
   "execution_count": 33,
   "id": "fa606ebf-5d72-45be-bbcb-69af540b8b1e",
   "metadata": {},
   "outputs": [
    {
     "ename": "SyntaxError",
     "evalue": "(unicode error) 'unicodeescape' codec can't decode bytes in position 55-56: truncated \\uXXXX escape (3863758951.py, line 1)",
     "output_type": "error",
     "traceback": [
      "\u001b[1;36m  Cell \u001b[1;32mIn[33], line 1\u001b[1;36m\u001b[0m\n\u001b[1;33m    print(\"https://github.com/jupyterlab/jupyterlab/graphs/contrib\\utors\")\u001b[0m\n\u001b[1;37m                                                                         ^\u001b[0m\n\u001b[1;31mSyntaxError\u001b[0m\u001b[1;31m:\u001b[0m (unicode error) 'unicodeescape' codec can't decode bytes in position 55-56: truncated \\uXXXX escape\n"
     ]
    }
   ],
   "source": [
    "print(\"https://github.com/jupyterlab/jupyterlab/graphs/contrib\\utors\")# u can put r or u can put backslash."
   ]
  },
  {
   "cell_type": "code",
   "execution_count": 34,
   "id": "7638cd80-d63b-435d-9fba-1b71603ca23b",
   "metadata": {},
   "outputs": [
    {
     "name": "stdout",
     "output_type": "stream",
     "text": [
      "https:\\github.com\\jupyterlab\\jupyterlab\\graphs\\contributors\n"
     ]
    }
   ],
   "source": [
    "print(\"https:\\\\github.com\\\\jupyterlab\\\\jupyterlab\\\\graphs\\\\contributors\")"
   ]
  },
  {
   "cell_type": "code",
   "execution_count": 35,
   "id": "be812d26-bf97-4b2b-940b-d0672ac2928f",
   "metadata": {},
   "outputs": [
    {
     "name": "stdout",
     "output_type": "stream",
     "text": [
      "♘\n"
     ]
    }
   ],
   "source": [
    "print(\"\\u2658\")\n"
   ]
  },
  {
   "cell_type": "code",
   "execution_count": 36,
   "id": "96129d9c-cb70-43f1-bb63-ebcb9d7f84a6",
   "metadata": {},
   "outputs": [
    {
     "ename": "SyntaxError",
     "evalue": "unexpected character after line continuation character (3811738151.py, line 1)",
     "output_type": "error",
     "traceback": [
      "\u001b[1;36m  Cell \u001b[1;32mIn[36], line 1\u001b[1;36m\u001b[0m\n\u001b[1;33m    print(\"mango\",end=\\n'india',\"banana\",end=\\n'vegas',\"apple\",end=\\n'nagpur'\")\u001b[0m\n\u001b[1;37m                       ^\u001b[0m\n\u001b[1;31mSyntaxError\u001b[0m\u001b[1;31m:\u001b[0m unexpected character after line continuation character\n"
     ]
    }
   ],
   "source": [
    "print(\"mango\",end=\\n'india',\"banana\",end=\\n'vegas',\"apple\",end=\\n'nagpur'\")"
   ]
  },
  {
   "cell_type": "code",
   "execution_count": 37,
   "id": "b49f28fe-05f6-49ce-9144-292821867a25",
   "metadata": {},
   "outputs": [
    {
     "name": "stdout",
     "output_type": "stream",
     "text": [
      "mangoindia\n",
      "bananaindia\n",
      "appleindia"
     ]
    }
   ],
   "source": [
    "print(\"mango\",\"banana\",\"apple\",sep=\"india\\n\",end=\"india\")"
   ]
  },
  {
   "cell_type": "code",
   "execution_count": 38,
   "id": "33bab7ca-8e55-4b83-8ea3-38f2dafe2099",
   "metadata": {},
   "outputs": [
    {
     "ename": "SyntaxError",
     "evalue": "unmatched ')' (2886341054.py, line 1)",
     "output_type": "error",
     "traceback": [
      "\u001b[1;36m  Cell \u001b[1;32mIn[38], line 1\u001b[1;36m\u001b[0m\n\u001b[1;33m    print(\"apple\"),\"cherry\",\"stawberry\",end=\",\")\u001b[0m\n\u001b[1;37m                                               ^\u001b[0m\n\u001b[1;31mSyntaxError\u001b[0m\u001b[1;31m:\u001b[0m unmatched ')'\n"
     ]
    }
   ],
   "source": [
    "print(\"apple\"),\"cherry\",\"stawberry\",end=\",\")"
   ]
  },
  {
   "cell_type": "code",
   "execution_count": 40,
   "id": "049a981d-8028-4c58-855d-f47d64afc902",
   "metadata": {},
   "outputs": [
    {
     "name": "stdout",
     "output_type": "stream",
     "text": [
      "mango apple banana mango apple banana\n"
     ]
    }
   ],
   "source": [
    "print(\"mango\",\"apple\",\"banana\",end=\" \")\n",
    "print(\"mango\",\"apple\",\"banana\")"
   ]
  },
  {
   "cell_type": "code",
   "execution_count": 41,
   "id": "c97e07b8-8373-46ce-bfe4-616ffc527678",
   "metadata": {},
   "outputs": [
    {
     "name": "stdout",
     "output_type": "stream",
     "text": [
      "mango apple banana\n"
     ]
    }
   ],
   "source": [
    "print(\"mango\",\"apple\",\"banana\",end=\"\\n\")"
   ]
  },
  {
   "cell_type": "code",
   "execution_count": 42,
   "id": "55f7349f-1fa4-4c84-9a0d-b0109422b74f",
   "metadata": {},
   "outputs": [
    {
     "name": "stdout",
     "output_type": "stream",
     "text": [
      "mango\n",
      "apple\n",
      "banana"
     ]
    }
   ],
   "source": [
    "print(\"mango\",\"apple\",\"banana\",sep=\"\\n\",end=\"\")"
   ]
  },
  {
   "cell_type": "code",
   "execution_count": null,
   "id": "f5618bdf-f5c4-4d79-9bc1-ded90ac37942",
   "metadata": {},
   "outputs": [],
   "source": []
  }
 ],
 "metadata": {
  "kernelspec": {
   "display_name": "Python 3 (ipykernel)",
   "language": "python",
   "name": "python3"
  },
  "language_info": {
   "codemirror_mode": {
    "name": "ipython",
    "version": 3
   },
   "file_extension": ".py",
   "mimetype": "text/x-python",
   "name": "python",
   "nbconvert_exporter": "python",
   "pygments_lexer": "ipython3",
   "version": "3.11.4"
  }
 },
 "nbformat": 4,
 "nbformat_minor": 5
}
