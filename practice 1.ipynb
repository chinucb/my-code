{
 "cells": [
  {
   "cell_type": "markdown",
   "id": "499a6a32-14dd-4c17-b3cc-52ca53ab6efc",
   "metadata": {},
   "source": [
    "# string"
   ]
  },
  {
   "cell_type": "raw",
   "id": "b5159041-1123-450c-b8db-17604a94e6f3",
   "metadata": {},
   "source": [
    "indexing slicing in string "
   ]
  },
  {
   "cell_type": "code",
   "execution_count": 10,
   "id": "4b37eba2-f844-4d4c-847e-c34da64ec980",
   "metadata": {},
   "outputs": [],
   "source": [
    "a=(\"love mother nature\")"
   ]
  },
  {
   "cell_type": "code",
   "execution_count": 11,
   "id": "33738891-d55e-49e0-9996-aed86d5a7783",
   "metadata": {},
   "outputs": [
    {
     "data": {
      "text/plain": [
       "18"
      ]
     },
     "execution_count": 11,
     "metadata": {},
     "output_type": "execute_result"
    }
   ],
   "source": [
    "len(a)"
   ]
  },
  {
   "cell_type": "code",
   "execution_count": 2,
   "id": "26a983fd-a7d6-4c59-a9aa-0a8e27060580",
   "metadata": {},
   "outputs": [
    {
     "ename": "NameError",
     "evalue": "name 'a' is not defined",
     "output_type": "error",
     "traceback": [
      "\u001b[1;31m---------------------------------------------------------------------------\u001b[0m",
      "\u001b[1;31mNameError\u001b[0m                                 Traceback (most recent call last)",
      "Cell \u001b[1;32mIn[2], line 1\u001b[0m\n\u001b[1;32m----> 1\u001b[0m \u001b[38;5;28mprint\u001b[39m(\u001b[43ma\u001b[49m[\u001b[38;5;241m0\u001b[39m:\u001b[38;5;241m5\u001b[39m])\n",
      "\u001b[1;31mNameError\u001b[0m: name 'a' is not defined"
     ]
    }
   ],
   "source": [
    "print(a[0:5])"
   ]
  },
  {
   "cell_type": "code",
   "execution_count": null,
   "id": "88f27590-0757-43f9-b62f-3cbe78b0feb0",
   "metadata": {},
   "outputs": [],
   "source": [
    "a[7:14]"
   ]
  },
  {
   "cell_type": "code",
   "execution_count": null,
   "id": "80392ac9-3b8c-444c-a00d-e77fc786a1b9",
   "metadata": {},
   "outputs": [],
   "source": [
    "a[::-1]"
   ]
  },
  {
   "cell_type": "code",
   "execution_count": 3,
   "id": "82e6074d-13dd-48c0-ac9b-1e8579499271",
   "metadata": {},
   "outputs": [],
   "source": [
    "a=(\"love mother nature\")"
   ]
  },
  {
   "cell_type": "code",
   "execution_count": 4,
   "id": "3da46276-8bad-4766-a6da-c28e608dcec8",
   "metadata": {},
   "outputs": [
    {
     "data": {
      "text/plain": [
       "'love mother nature'"
      ]
     },
     "execution_count": 4,
     "metadata": {},
     "output_type": "execute_result"
    }
   ],
   "source": [
    "a.format(\"love mother nature\")"
   ]
  },
  {
   "cell_type": "code",
   "execution_count": 5,
   "id": "7ff90c38-8dc7-4f9d-ae6b-93a71f78073f",
   "metadata": {},
   "outputs": [
    {
     "data": {
      "text/plain": [
       "False"
      ]
     },
     "execution_count": 5,
     "metadata": {},
     "output_type": "execute_result"
    }
   ],
   "source": [
    "a.isalnum()"
   ]
  },
  {
   "cell_type": "code",
   "execution_count": 6,
   "id": "18caa6e3-b4b0-46fd-afef-8f89893de707",
   "metadata": {},
   "outputs": [
    {
     "data": {
      "text/plain": [
       "False"
      ]
     },
     "execution_count": 6,
     "metadata": {},
     "output_type": "execute_result"
    }
   ],
   "source": [
    "a.isalpha()"
   ]
  },
  {
   "cell_type": "code",
   "execution_count": 7,
   "id": "a771a3bf-9447-42c1-9b39-9ced48e8e8b0",
   "metadata": {},
   "outputs": [
    {
     "data": {
      "text/plain": [
       "True"
      ]
     },
     "execution_count": 7,
     "metadata": {},
     "output_type": "execute_result"
    }
   ],
   "source": [
    "a.isascii()"
   ]
  },
  {
   "cell_type": "code",
   "execution_count": 8,
   "id": "135bfdba-f39d-4bb5-957f-b0515aa03e91",
   "metadata": {},
   "outputs": [
    {
     "ename": "SyntaxError",
     "evalue": "leading zeros in decimal integer literals are not permitted; use an 0o prefix for octal integers (3771078575.py, line 1)",
     "output_type": "error",
     "traceback": [
      "\u001b[1;36m  Cell \u001b[1;32mIn[8], line 1\u001b[1;36m\u001b[0m\n\u001b[1;33m    a.isascii(U+0000-U+007F)\u001b[0m\n\u001b[1;37m                       ^\u001b[0m\n\u001b[1;31mSyntaxError\u001b[0m\u001b[1;31m:\u001b[0m leading zeros in decimal integer literals are not permitted; use an 0o prefix for octal integers\n"
     ]
    }
   ],
   "source": [
    "a.isascii(U+0000-U+007F)"
   ]
  },
  {
   "cell_type": "code",
   "execution_count": 1,
   "id": "7915973d-d425-4029-a41a-5971076a486a",
   "metadata": {},
   "outputs": [
    {
     "name": "stdout",
     "output_type": "stream",
     "text": [
      "False True True True\n"
     ]
    }
   ],
   "source": [
    "print(bool(0),bool(3.14159),bool(-3),bool(1.0+1j))"
   ]
  },
  {
   "cell_type": "code",
   "execution_count": 2,
   "id": "651a0df8-2bde-4404-b308-d37143421707",
   "metadata": {},
   "outputs": [
    {
     "name": "stdout",
     "output_type": "stream",
     "text": [
      "<class 'int'>\n"
     ]
    }
   ],
   "source": [
    "print(type(10))"
   ]
  },
  {
   "cell_type": "code",
   "execution_count": 3,
   "id": "b9997a91-5826-4c72-811d-6732c7c95633",
   "metadata": {},
   "outputs": [
    {
     "name": "stdout",
     "output_type": "stream",
     "text": [
      "<class 'int'>\n"
     ]
    }
   ],
   "source": [
    "print(type(0xff))"
   ]
  },
  {
   "cell_type": "code",
   "execution_count": 4,
   "id": "10348d4a-7638-4b6c-8863-c4d2b21c0853",
   "metadata": {},
   "outputs": [],
   "source": [
    "x=75\n",
    "def myfuc():\n",
    "    x=x+1\n",
    "    myfunc()\n",
    "    print(x)"
   ]
  },
  {
   "cell_type": "code",
   "execution_count": 7,
   "id": "9853d166-e1ca-41f4-9846-2814cbba612a",
   "metadata": {},
   "outputs": [
    {
     "ename": "SyntaxError",
     "evalue": "expected ':' (2504654500.py, line 2)",
     "output_type": "error",
     "traceback": [
      "\u001b[1;36m  Cell \u001b[1;32mIn[7], line 2\u001b[1;36m\u001b[0m\n\u001b[1;33m    def fun1()\u001b[0m\n\u001b[1;37m              ^\u001b[0m\n\u001b[1;31mSyntaxError\u001b[0m\u001b[1;31m:\u001b[0m expected ':'\n"
     ]
    }
   ],
   "source": [
    "x=50\n",
    "def fun1()\n",
    "fun1()\n",
    "print(x)"
   ]
  },
  {
   "cell_type": "code",
   "execution_count": 6,
   "id": "fa19e857-eec9-4653-a2ea-9974f9b0fdfe",
   "metadata": {},
   "outputs": [
    {
     "ename": "NameError",
     "evalue": "name 'golabl' is not defined",
     "output_type": "error",
     "traceback": [
      "\u001b[1;31m---------------------------------------------------------------------------\u001b[0m",
      "\u001b[1;31mNameError\u001b[0m                                 Traceback (most recent call last)",
      "Cell \u001b[1;32mIn[6], line 1\u001b[0m\n\u001b[1;32m----> 1\u001b[0m \u001b[43mgolabl\u001b[49m\u001b[38;5;241m.\u001b[39mx\u001b[38;5;241m=\u001b[39m\u001b[38;5;241m20\u001b[39m\n",
      "\u001b[1;31mNameError\u001b[0m: name 'golabl' is not defined"
     ]
    }
   ],
   "source": [
    "golabl.x=20"
   ]
  },
  {
   "cell_type": "code",
   "execution_count": 8,
   "id": "786ac768-a46b-4bde-a11d-405d52a841fa",
   "metadata": {},
   "outputs": [],
   "source": [
    "a=({})"
   ]
  },
  {
   "cell_type": "code",
   "execution_count": 9,
   "id": "e9a8ccfe-b4df-4069-9d29-291eff0885fe",
   "metadata": {},
   "outputs": [
    {
     "name": "stdout",
     "output_type": "stream",
     "text": [
      "<class 'dict'>\n"
     ]
    }
   ],
   "source": [
    "print(type(a))"
   ]
  },
  {
   "cell_type": "code",
   "execution_count": 10,
   "id": "38cae1ca-502b-4b9e-9b6c-66d326392d66",
   "metadata": {},
   "outputs": [
    {
     "data": {
      "text/plain": [
       "range"
      ]
     },
     "execution_count": 10,
     "metadata": {},
     "output_type": "execute_result"
    }
   ],
   "source": [
    "type(range(5))"
   ]
  },
  {
   "cell_type": "code",
   "execution_count": 12,
   "id": "b0e52c72-616e-401d-bb61-b38d91474db5",
   "metadata": {},
   "outputs": [
    {
     "ename": "SyntaxError",
     "evalue": "expected '(' (4076935394.py, line 1)",
     "output_type": "error",
     "traceback": [
      "\u001b[1;36m  Cell \u001b[1;32mIn[12], line 1\u001b[1;36m\u001b[0m\n\u001b[1;33m    def func1:\u001b[0m\n\u001b[1;37m             ^\u001b[0m\n\u001b[1;31mSyntaxError\u001b[0m\u001b[1;31m:\u001b[0m expected '('\n"
     ]
    }
   ],
   "source": [
    "def func1:\n",
    "x=50\n",
    "return x\n",
    "funct1()\n",
    "print(x)"
   ]
  },
  {
   "cell_type": "code",
   "execution_count": 17,
   "id": "6bbf31e8-c619-4486-91e0-2cc72c5a9818",
   "metadata": {},
   "outputs": [
    {
     "name": "stdout",
     "output_type": "stream",
     "text": [
      "5\n"
     ]
    }
   ],
   "source": [
    "list1=['a','b','c',1,5]\n",
    "print(list1.pop())"
   ]
  },
  {
   "cell_type": "code",
   "execution_count": 18,
   "id": "bed5c466-ed1c-4686-9baa-aa24633fd157",
   "metadata": {},
   "outputs": [
    {
     "name": "stdout",
     "output_type": "stream",
     "text": [
      "True\n"
     ]
    }
   ],
   "source": [
    "var=2\n",
    "print(2==2.0)"
   ]
  },
  {
   "cell_type": "code",
   "execution_count": 19,
   "id": "d4f24fab-e06c-4476-aedf-fda49b622a2b",
   "metadata": {},
   "outputs": [],
   "source": [
    "x=48\n",
    "y=str(x)"
   ]
  },
  {
   "cell_type": "code",
   "execution_count": 20,
   "id": "5d3b28cc-8d57-4c55-a7d2-0ebe7dc44dd9",
   "metadata": {},
   "outputs": [
    {
     "data": {
      "text/plain": [
       "int"
      ]
     },
     "execution_count": 20,
     "metadata": {},
     "output_type": "execute_result"
    }
   ],
   "source": [
    "type(x)"
   ]
  },
  {
   "cell_type": "code",
   "execution_count": 1,
   "id": "ee068299-b27b-49ca-a91d-81f5f33c31ba",
   "metadata": {},
   "outputs": [
    {
     "name": "stdout",
     "output_type": "stream",
     "text": [
      "Accessing a element using key:\n",
      "For\n",
      "Accessing a element using get:\n",
      "Geeks\n"
     ]
    }
   ],
   "source": [
    "# Python program to demonstrate\n",
    "# accessing a element from a Dictionary\n",
    "\n",
    "# Creating a Dictionary\n",
    "Dict = {1: 'Geeks', 'name': 'For', 3: 'Geeks'}\n",
    "\n",
    "# accessing a element using key\n",
    "print(\"Accessing a element using key:\")\n",
    "print(Dict['name'])\n",
    "\n",
    "# accessing a element using get()\n",
    "# method\n",
    "print(\"Accessing a element using get:\")\n",
    "print(Dict.get(3))\n"
   ]
  },
  {
   "cell_type": "markdown",
   "id": "7e0aec04-35a4-4daf-aa4d-cf50fa9974ac",
   "metadata": {},
   "source": [
    "# revision list"
   ]
  },
  {
   "cell_type": "code",
   "execution_count": 7,
   "id": "1d8de1a6-b65a-4e1d-a58e-74fe9704f751",
   "metadata": {},
   "outputs": [
    {
     "name": "stdout",
     "output_type": "stream",
     "text": [
      "[]\n"
     ]
    }
   ],
   "source": [
    "a=list() # empty list we are using constructor\n",
    "print(a)"
   ]
  },
  {
   "cell_type": "code",
   "execution_count": 9,
   "id": "14d0ba4d-ea8f-45a0-aedf-a6bd13f138ad",
   "metadata": {},
   "outputs": [
    {
     "name": "stdout",
     "output_type": "stream",
     "text": [
      "[]\n"
     ]
    }
   ],
   "source": [
    "a=[]\n",
    "print(a) # using literal making empty list."
   ]
  },
  {
   "cell_type": "code",
   "execution_count": 14,
   "id": "22e53f46-449b-43b5-8e39-740dcaf8a65f",
   "metadata": {},
   "outputs": [
    {
     "name": "stdout",
     "output_type": "stream",
     "text": [
      "[10, 10.0, '10']\n"
     ]
    }
   ],
   "source": [
    "c=[10,10.0,\"10\"]\n",
    "print(c)#list can contain multiple values"
   ]
  },
  {
   "cell_type": "code",
   "execution_count": 11,
   "id": "ec0c070b-1b11-4923-9b90-e2aa1a196465",
   "metadata": {},
   "outputs": [
    {
     "data": {
      "text/plain": [
       "list"
      ]
     },
     "execution_count": 11,
     "metadata": {},
     "output_type": "execute_result"
    }
   ],
   "source": [
    "type(c)"
   ]
  },
  {
   "cell_type": "markdown",
   "id": "60b5124c-bb8b-4d7a-aa7f-3616488e4033",
   "metadata": {},
   "source": [
    "# indexing"
   ]
  },
  {
   "cell_type": "code",
   "execution_count": 15,
   "id": "354b0245-a651-4f8e-84eb-68dc4f38df4c",
   "metadata": {},
   "outputs": [
    {
     "data": {
      "text/plain": [
       "10"
      ]
     },
     "execution_count": 15,
     "metadata": {},
     "output_type": "execute_result"
    }
   ],
   "source": [
    "c[0]"
   ]
  },
  {
   "cell_type": "code",
   "execution_count": 18,
   "id": "f52e3d37-dde7-4a70-b273-94c4f8fa0f53",
   "metadata": {},
   "outputs": [
    {
     "name": "stdout",
     "output_type": "stream",
     "text": [
      "[10, 10.0, '10']\n"
     ]
    }
   ],
   "source": [
    "print(c[0:3])"
   ]
  },
  {
   "cell_type": "code",
   "execution_count": 21,
   "id": "3c251513-6cd2-49e8-9d8f-f43d6afa8511",
   "metadata": {},
   "outputs": [
    {
     "name": "stdout",
     "output_type": "stream",
     "text": [
      "10\n"
     ]
    }
   ],
   "source": [
    "print(c[-3])"
   ]
  },
  {
   "cell_type": "code",
   "execution_count": 22,
   "id": "eb5ad25e-23bc-4725-aed3-c93294a0da15",
   "metadata": {},
   "outputs": [
    {
     "name": "stdout",
     "output_type": "stream",
     "text": [
      "10\n"
     ]
    }
   ],
   "source": [
    "print(c[2])"
   ]
  },
  {
   "cell_type": "code",
   "execution_count": 23,
   "id": "6aacbc40-7ddf-49e8-88db-fe26234fb401",
   "metadata": {},
   "outputs": [
    {
     "name": "stdout",
     "output_type": "stream",
     "text": [
      "10.0\n"
     ]
    }
   ],
   "source": [
    "print(c[1])"
   ]
  },
  {
   "cell_type": "code",
   "execution_count": 25,
   "id": "26edd91f-8c03-4875-8344-5e37129eb19a",
   "metadata": {},
   "outputs": [
    {
     "name": "stdout",
     "output_type": "stream",
     "text": [
      "10.0\n"
     ]
    }
   ],
   "source": [
    "print(c[-2])"
   ]
  },
  {
   "cell_type": "code",
   "execution_count": 38,
   "id": "d081b5c9-0f2a-49a0-a250-d2dc22f4273d",
   "metadata": {},
   "outputs": [
    {
     "name": "stdout",
     "output_type": "stream",
     "text": [
      "[10]\n"
     ]
    }
   ],
   "source": [
    "print(c[::3])\n"
   ]
  },
  {
   "cell_type": "markdown",
   "id": "4115f5c3-fcf1-4d09-a6de-d7b85f75bf3c",
   "metadata": {},
   "source": [
    "# slicing"
   ]
  },
  {
   "cell_type": "code",
   "execution_count": 39,
   "id": "80552b9d-6c0f-4f1c-a13a-ae5c9e0d329f",
   "metadata": {},
   "outputs": [
    {
     "data": {
      "text/plain": [
       "['k', 'r', 'i', 's', 'h', 'n', 'a']"
      ]
     },
     "execution_count": 39,
     "metadata": {},
     "output_type": "execute_result"
    }
   ],
   "source": [
    "list(\"krishna\")"
   ]
  },
  {
   "cell_type": "code",
   "execution_count": 40,
   "id": "f54a6220-5b0a-4e68-b191-7cdf61eb41c6",
   "metadata": {},
   "outputs": [],
   "source": [
    "a=['k', 'r', 'i', 's', 'h', 'n', 'a']"
   ]
  },
  {
   "cell_type": "code",
   "execution_count": 41,
   "id": "e63ec859-7cca-4167-a848-5ea65c47c945",
   "metadata": {},
   "outputs": [
    {
     "data": {
      "text/plain": [
       "['k', 'r', 'i']"
      ]
     },
     "execution_count": 41,
     "metadata": {},
     "output_type": "execute_result"
    }
   ],
   "source": [
    "a[0:3]"
   ]
  },
  {
   "cell_type": "code",
   "execution_count": 46,
   "id": "eb97678d-4c13-414b-bc7e-44fac4752094",
   "metadata": {},
   "outputs": [
    {
     "data": {
      "text/plain": [
       "['r', 'h']"
      ]
     },
     "execution_count": 46,
     "metadata": {},
     "output_type": "execute_result"
    }
   ],
   "source": [
    "a[1:6:3]"
   ]
  },
  {
   "cell_type": "code",
   "execution_count": 47,
   "id": "b1ec247c-a3fd-42e1-826d-97087bb3a493",
   "metadata": {},
   "outputs": [
    {
     "data": {
      "text/plain": [
       "['s', 'h', 'n']"
      ]
     },
     "execution_count": 47,
     "metadata": {},
     "output_type": "execute_result"
    }
   ],
   "source": [
    "a[3:6:1]"
   ]
  },
  {
   "cell_type": "code",
   "execution_count": 48,
   "id": "4f4f2202-25f8-4ffe-912a-181e2d4acf8c",
   "metadata": {},
   "outputs": [
    {
     "data": {
      "text/plain": [
       "['k', 'r', 'i', 's', 'h']"
      ]
     },
     "execution_count": 48,
     "metadata": {},
     "output_type": "execute_result"
    }
   ],
   "source": [
    "a[0:5]"
   ]
  },
  {
   "cell_type": "code",
   "execution_count": 51,
   "id": "b55e40dc-11c3-4c27-a4bb-a84843b12f41",
   "metadata": {},
   "outputs": [
    {
     "data": {
      "text/plain": [
       "[]"
      ]
     },
     "execution_count": 51,
     "metadata": {},
     "output_type": "execute_result"
    }
   ],
   "source": [
    "a[-1:-7:1]"
   ]
  },
  {
   "cell_type": "code",
   "execution_count": 55,
   "id": "9902c104-d4ce-4020-8eda-a95038f0c876",
   "metadata": {},
   "outputs": [
    {
     "data": {
      "text/plain": [
       "[]"
      ]
     },
     "execution_count": 55,
     "metadata": {},
     "output_type": "execute_result"
    }
   ],
   "source": [
    "a[1:-6:-1]"
   ]
  },
  {
   "cell_type": "code",
   "execution_count": 57,
   "id": "02917c46-1062-4de5-99f2-f2beefcccb94",
   "metadata": {},
   "outputs": [
    {
     "data": {
      "text/plain": [
       "['a', 'n', 'h', 's', 'i', 'r', 'k']"
      ]
     },
     "execution_count": 57,
     "metadata": {},
     "output_type": "execute_result"
    }
   ],
   "source": [
    "a[-1:-8:-1]"
   ]
  },
  {
   "cell_type": "code",
   "execution_count": 58,
   "id": "73b911ed-ce75-4d10-9c10-c554f29f8959",
   "metadata": {},
   "outputs": [
    {
     "data": {
      "text/plain": [
       "['a', 'n', 'h', 's', 'i', 'r', 'k']"
      ]
     },
     "execution_count": 58,
     "metadata": {},
     "output_type": "execute_result"
    }
   ],
   "source": [
    "a[::-1]"
   ]
  },
  {
   "cell_type": "code",
   "execution_count": 60,
   "id": "8c9d3930-e5e8-493c-8727-d7ac446a94fb",
   "metadata": {},
   "outputs": [
    {
     "data": {
      "text/plain": [
       "'krishna'"
      ]
     },
     "execution_count": 60,
     "metadata": {},
     "output_type": "execute_result"
    }
   ],
   "source": [
    "\"\".join(a) # vip question\n"
   ]
  },
  {
   "cell_type": "code",
   "execution_count": 61,
   "id": "65247d07-2647-4c66-ae42-455422007844",
   "metadata": {},
   "outputs": [
    {
     "name": "stdout",
     "output_type": "stream",
     "text": [
      "['k', 'r', 'i', 's', 'h', 'n', 'a']\n"
     ]
    }
   ],
   "source": [
    "print(a)"
   ]
  },
  {
   "cell_type": "markdown",
   "id": "cb1abba4-0deb-4b0b-9295-a5cf00d9b753",
   "metadata": {},
   "source": [
    "concatination # similar data type"
   ]
  },
  {
   "cell_type": "code",
   "execution_count": 66,
   "id": "c7dbfa42-1d0c-493c-a7b5-6383ae910715",
   "metadata": {},
   "outputs": [
    {
     "name": "stdout",
     "output_type": "stream",
     "text": [
      "[12.5647, 797709, 57, 8789, 46547]\n"
     ]
    }
   ],
   "source": [
    "a=[12.5647,797709]\n",
    "b=[57,8789,46547]\n",
    "print(a+b)"
   ]
  },
  {
   "cell_type": "markdown",
   "id": "6efff328-fd4e-47d3-8686-811ea3cfe0c5",
   "metadata": {},
   "source": [
    "# nested list"
   ]
  },
  {
   "cell_type": "code",
   "execution_count": 69,
   "id": "4f7152db-6856-4c55-af87-8fc86b371855",
   "metadata": {},
   "outputs": [],
   "source": [
    "##elements := multiple data types exist in list"
   ]
  },
  {
   "cell_type": "code",
   "execution_count": 71,
   "id": "0878b98d-727a-4d80-ba82-e9a60359d9ee",
   "metadata": {},
   "outputs": [],
   "source": [
    "a=[1,2,3,4,5,[1,2,3],6,7,8,9]"
   ]
  },
  {
   "cell_type": "code",
   "execution_count": 79,
   "id": "0c2d8a58-1393-4d3d-b4a7-aca968e430b8",
   "metadata": {},
   "outputs": [
    {
     "name": "stdout",
     "output_type": "stream",
     "text": [
      "[1, 2, 3]\n"
     ]
    }
   ],
   "source": [
    "b=a[5]\n",
    "print(b)"
   ]
  },
  {
   "cell_type": "code",
   "execution_count": 77,
   "id": "c50b6f5f-9cbe-4273-92e3-3a15f6215c78",
   "metadata": {},
   "outputs": [
    {
     "data": {
      "text/plain": [
       "[1, 2, 3, 4, 5, [1, 2, 3], 6, 7, 8, 9]"
      ]
     },
     "execution_count": 77,
     "metadata": {},
     "output_type": "execute_result"
    }
   ],
   "source": [
    "a"
   ]
  },
  {
   "cell_type": "code",
   "execution_count": 78,
   "id": "d90777e5-f749-43fd-b77b-9596b7435a69",
   "metadata": {},
   "outputs": [
    {
     "name": "stdout",
     "output_type": "stream",
     "text": [
      "[1, 2, 3]\n"
     ]
    }
   ],
   "source": [
    "print(b)"
   ]
  },
  {
   "cell_type": "code",
   "execution_count": 80,
   "id": "5a2dbd8b-7039-4409-8a84-b83278a36249",
   "metadata": {},
   "outputs": [
    {
     "data": {
      "text/plain": [
       "2"
      ]
     },
     "execution_count": 80,
     "metadata": {},
     "output_type": "execute_result"
    }
   ],
   "source": [
    "b[1]"
   ]
  },
  {
   "cell_type": "code",
   "execution_count": 81,
   "id": "3f0e9566-0a7f-4202-ae00-60ad3e4691b4",
   "metadata": {},
   "outputs": [
    {
     "data": {
      "text/plain": [
       "2"
      ]
     },
     "execution_count": 81,
     "metadata": {},
     "output_type": "execute_result"
    }
   ],
   "source": [
    "a[5][1]"
   ]
  },
  {
   "cell_type": "code",
   "execution_count": 83,
   "id": "a4391e3d-9265-4634-981e-7a7fb5294046",
   "metadata": {},
   "outputs": [
    {
     "data": {
      "text/plain": [
       "1"
      ]
     },
     "execution_count": 83,
     "metadata": {},
     "output_type": "execute_result"
    }
   ],
   "source": [
    "a[-5][-3]"
   ]
  },
  {
   "cell_type": "code",
   "execution_count": 88,
   "id": "0383c070-d732-49fa-9f25-553f2434cd69",
   "metadata": {},
   "outputs": [
    {
     "data": {
      "text/plain": [
       "[9, 5]"
      ]
     },
     "execution_count": 88,
     "metadata": {},
     "output_type": "execute_result"
    }
   ],
   "source": [
    "a[-1:-11:-5]"
   ]
  },
  {
   "cell_type": "code",
   "execution_count": 90,
   "id": "6932136f-4773-428b-9c06-478fece682cc",
   "metadata": {},
   "outputs": [
    {
     "name": "stdout",
     "output_type": "stream",
     "text": [
      "[1, 2, 3, 4, 5, [1, 2, 3], 6, 7, 8, 9]\n"
     ]
    }
   ],
   "source": [
    "print(a)\n"
   ]
  },
  {
   "cell_type": "code",
   "execution_count": 101,
   "id": "0ab0019f-e010-4d85-bb86-055cc2cdf6e9",
   "metadata": {},
   "outputs": [],
   "source": [
    "a=[1, 2, 3, 4, 5, [1, 2, 3],[999,998,997,[111,113,112,],996,995,] ,6, 7, 8, 9]\n"
   ]
  },
  {
   "cell_type": "code",
   "execution_count": 102,
   "id": "9aa7840d-ed7c-49ea-8917-8dfa08066d3a",
   "metadata": {},
   "outputs": [
    {
     "data": {
      "text/plain": [
       "11"
      ]
     },
     "execution_count": 102,
     "metadata": {},
     "output_type": "execute_result"
    }
   ],
   "source": [
    "len(a)"
   ]
  },
  {
   "cell_type": "code",
   "execution_count": 103,
   "id": "eadb789c-2927-4c4b-b043-aa073354129b",
   "metadata": {},
   "outputs": [
    {
     "data": {
      "text/plain": [
       "113"
      ]
     },
     "execution_count": 103,
     "metadata": {},
     "output_type": "execute_result"
    }
   ],
   "source": [
    "a[6][3][1]"
   ]
  },
  {
   "cell_type": "code",
   "execution_count": 104,
   "id": "777ac3a7-d8b6-49e7-968e-63f9b6df7797",
   "metadata": {},
   "outputs": [
    {
     "data": {
      "text/plain": [
       "111"
      ]
     },
     "execution_count": 104,
     "metadata": {},
     "output_type": "execute_result"
    }
   ],
   "source": [
    "a[-5][-3][-3]"
   ]
  },
  {
   "cell_type": "code",
   "execution_count": 108,
   "id": "9ba4ef08-a2ef-438a-9db8-2e4779ffce2d",
   "metadata": {},
   "outputs": [
    {
     "data": {
      "text/plain": [
       "[]"
      ]
     },
     "execution_count": 108,
     "metadata": {},
     "output_type": "execute_result"
    }
   ],
   "source": [
    "a[-5:-1:-1]"
   ]
  },
  {
   "cell_type": "code",
   "execution_count": 116,
   "id": "815c9a9d-98de-4503-808b-673e5a86f1d7",
   "metadata": {},
   "outputs": [
    {
     "data": {
      "text/plain": [
       "[112, 113, 111]"
      ]
     },
     "execution_count": 116,
     "metadata": {},
     "output_type": "execute_result"
    }
   ],
   "source": [
    "a[6][3][-1:-5:-1]"
   ]
  },
  {
   "cell_type": "code",
   "execution_count": 117,
   "id": "29bff0ae-8ef6-42b6-92f9-ac6849bbb377",
   "metadata": {},
   "outputs": [
    {
     "data": {
      "text/plain": [
       "[3, 2, 1]"
      ]
     },
     "execution_count": 117,
     "metadata": {},
     "output_type": "execute_result"
    }
   ],
   "source": [
    "a[2::-1]"
   ]
  },
  {
   "cell_type": "code",
   "execution_count": 118,
   "id": "ae2db2d6-7cb3-41ac-8a44-90e3915c0e88",
   "metadata": {},
   "outputs": [
    {
     "data": {
      "text/plain": [
       "9"
      ]
     },
     "execution_count": 118,
     "metadata": {},
     "output_type": "execute_result"
    }
   ],
   "source": [
    "a[-1]"
   ]
  },
  {
   "cell_type": "code",
   "execution_count": 119,
   "id": "1e0114f0-3cb1-4d26-a3a2-9d6053f44367",
   "metadata": {},
   "outputs": [
    {
     "name": "stdout",
     "output_type": "stream",
     "text": [
      "[1, 2, 3, 4, 5, [1, 2, 3], [999, 998, 997, [111, 113, 112], 996, 995], 6, 7, 8, 9]\n"
     ]
    }
   ],
   "source": [
    "print(a)"
   ]
  },
  {
   "cell_type": "code",
   "execution_count": 120,
   "id": "df7bc4d0-cf6d-4f3f-8a4b-99ad74a46797",
   "metadata": {},
   "outputs": [],
   "source": [
    "a=[1, 2, 3, 4, 5, [1, 2, 3], [999, 998, 997, [111,\"noona\",112], 996, 995], 6, 7, 8, 9]\n"
   ]
  },
  {
   "cell_type": "code",
   "execution_count": 122,
   "id": "f30163fd-aed8-4e85-8113-0c0be59fd2b0",
   "metadata": {},
   "outputs": [
    {
     "data": {
      "text/plain": [
       "'anoon'"
      ]
     },
     "execution_count": 122,
     "metadata": {},
     "output_type": "execute_result"
    }
   ],
   "source": [
    "a[6][3][1][::-1]"
   ]
  },
  {
   "cell_type": "code",
   "execution_count": 123,
   "id": "d8a85193-6af3-466e-8d91-4903bd16b9aa",
   "metadata": {},
   "outputs": [],
   "source": [
    "a=[1, 2, 3, 4, 5, [1, 2, 3], [999, 998, 997, [111,\"123456789\",112], 996, 995], 6, 7, 8, 9]"
   ]
  },
  {
   "cell_type": "code",
   "execution_count": 132,
   "id": "b6af26f1-b874-48b4-bbe3-065e68ac03db",
   "metadata": {},
   "outputs": [
    {
     "data": {
      "text/plain": [
       "'13579'"
      ]
     },
     "execution_count": 132,
     "metadata": {},
     "output_type": "execute_result"
    }
   ],
   "source": [
    "a[6][3][1][::2] # it's odd numbers"
   ]
  },
  {
   "cell_type": "code",
   "execution_count": 135,
   "id": "8cc3218f-8426-4ce0-8eab-2f093bcaad18",
   "metadata": {},
   "outputs": [],
   "source": [
    "e=[1,2,3,[1,2,3,4,5,[1,2,3,4,5,6,7,8,9],6,7,8,9],4,5,6,7,8,9]"
   ]
  },
  {
   "cell_type": "code",
   "execution_count": 141,
   "id": "e12ccb1b-8546-4105-8e0e-abe517818229",
   "metadata": {},
   "outputs": [
    {
     "data": {
      "text/plain": [
       "[1, 3, 4, 6, 8]"
      ]
     },
     "execution_count": 141,
     "metadata": {},
     "output_type": "execute_result"
    }
   ],
   "source": [
    "e[0::2]"
   ]
  },
  {
   "cell_type": "code",
   "execution_count": 142,
   "id": "3c4601be-33e1-4c02-8877-e0a6abedbed9",
   "metadata": {},
   "outputs": [
    {
     "data": {
      "text/plain": [
       "[1, 3, 5, 7, 9]"
      ]
     },
     "execution_count": 142,
     "metadata": {},
     "output_type": "execute_result"
    }
   ],
   "source": [
    "e[3][5][0::2]"
   ]
  },
  {
   "cell_type": "code",
   "execution_count": 143,
   "id": "2562a474-24d6-4742-9d0e-1d70e6aa81f9",
   "metadata": {},
   "outputs": [
    {
     "data": {
      "text/plain": [
       "['__add__',\n",
       " '__class__',\n",
       " '__class_getitem__',\n",
       " '__contains__',\n",
       " '__delattr__',\n",
       " '__delitem__',\n",
       " '__dir__',\n",
       " '__doc__',\n",
       " '__eq__',\n",
       " '__format__',\n",
       " '__ge__',\n",
       " '__getattribute__',\n",
       " '__getitem__',\n",
       " '__getstate__',\n",
       " '__gt__',\n",
       " '__hash__',\n",
       " '__iadd__',\n",
       " '__imul__',\n",
       " '__init__',\n",
       " '__init_subclass__',\n",
       " '__iter__',\n",
       " '__le__',\n",
       " '__len__',\n",
       " '__lt__',\n",
       " '__mul__',\n",
       " '__ne__',\n",
       " '__new__',\n",
       " '__reduce__',\n",
       " '__reduce_ex__',\n",
       " '__repr__',\n",
       " '__reversed__',\n",
       " '__rmul__',\n",
       " '__setattr__',\n",
       " '__setitem__',\n",
       " '__sizeof__',\n",
       " '__str__',\n",
       " '__subclasshook__',\n",
       " 'append',\n",
       " 'clear',\n",
       " 'copy',\n",
       " 'count',\n",
       " 'extend',\n",
       " 'index',\n",
       " 'insert',\n",
       " 'pop',\n",
       " 'remove',\n",
       " 'reverse',\n",
       " 'sort']"
      ]
     },
     "execution_count": 143,
     "metadata": {},
     "output_type": "execute_result"
    }
   ],
   "source": [
    "dir(list)"
   ]
  },
  {
   "cell_type": "markdown",
   "id": "b2cf4608-4b67-4043-9925-f2925a931562",
   "metadata": {},
   "source": [
    "# methods of list"
   ]
  },
  {
   "cell_type": "code",
   "execution_count": null,
   "id": "9aec695b-8a14-4ec6-939b-b446f385e0c4",
   "metadata": {},
   "outputs": [],
   "source": []
  },
  {
   "cell_type": "code",
   "execution_count": null,
   "id": "bf33baae-9081-4f2d-ba7a-80caaf44aa82",
   "metadata": {},
   "outputs": [],
   "source": []
  },
  {
   "cell_type": "code",
   "execution_count": null,
   "id": "de010173-9b4a-4801-9ca4-f96a313661d7",
   "metadata": {},
   "outputs": [],
   "source": []
  },
  {
   "cell_type": "markdown",
   "id": "7e03b497-3e97-4d0b-bf29-640a57b98aa4",
   "metadata": {},
   "source": [
    "# set "
   ]
  },
  {
   "cell_type": "code",
   "execution_count": 10,
   "id": "d70bfc18-6324-42cb-86ed-97b0b6bf33e1",
   "metadata": {},
   "outputs": [
    {
     "name": "stdout",
     "output_type": "stream",
     "text": [
      "set()\n"
     ]
    }
   ],
   "source": [
    "a=set()\n",
    "print(a)"
   ]
  },
  {
   "cell_type": "code",
   "execution_count": 11,
   "id": "75b38c0b-370b-4343-8767-6cc6edd259a9",
   "metadata": {},
   "outputs": [
    {
     "data": {
      "text/plain": [
       "{1, 2, 3, 4, 5, 23, 32}"
      ]
     },
     "execution_count": 11,
     "metadata": {},
     "output_type": "execute_result"
    }
   ],
   "source": [
    "{1,2,23,3,2,3,4,32,5,5,5,}"
   ]
  },
  {
   "cell_type": "code",
   "execution_count": 13,
   "id": "72f86560-a286-42ea-bcf4-c2828004394c",
   "metadata": {},
   "outputs": [],
   "source": [
    "# set doesnt support concatination"
   ]
  },
  {
   "cell_type": "code",
   "execution_count": 15,
   "id": "d129d91e-d488-4a1b-bfd9-b09d62071288",
   "metadata": {},
   "outputs": [
    {
     "ename": "SyntaxError",
     "evalue": "invalid syntax (2972887357.py, line 1)",
     "output_type": "error",
     "traceback": [
      "\u001b[1;36m  Cell \u001b[1;32mIn[15], line 1\u001b[1;36m\u001b[0m\n\u001b[1;33m    a=set{12,334,34,+455,666,688}\u001b[0m\n\u001b[1;37m         ^\u001b[0m\n\u001b[1;31mSyntaxError\u001b[0m\u001b[1;31m:\u001b[0m invalid syntax\n"
     ]
    }
   ],
   "source": [
    "a=set{12,334,34,+455,666,688}\n",
    "     print(a) "
   ]
  },
  {
   "cell_type": "code",
   "execution_count": 1,
   "id": "909ce165-02bc-4918-b03f-58440123bc64",
   "metadata": {},
   "outputs": [],
   "source": [
    "a={1,2,3,4,5}\n",
    "b={1,2,3,3,}"
   ]
  },
  {
   "cell_type": "code",
   "execution_count": 2,
   "id": "eac8ecc3-e575-4bdd-8068-95068cb708c9",
   "metadata": {},
   "outputs": [],
   "source": [
    "a.add(34)"
   ]
  },
  {
   "cell_type": "code",
   "execution_count": 3,
   "id": "92f0318f-75e6-4cf8-a71f-4c2373c03c82",
   "metadata": {},
   "outputs": [
    {
     "name": "stdout",
     "output_type": "stream",
     "text": [
      "{1, 2, 3, 4, 5, 34}\n"
     ]
    }
   ],
   "source": [
    "print(a)"
   ]
  },
  {
   "cell_type": "code",
   "execution_count": 4,
   "id": "a9b87386-5cc5-4eed-8fff-450cb9987819",
   "metadata": {},
   "outputs": [],
   "source": [
    "a.clear()"
   ]
  },
  {
   "cell_type": "code",
   "execution_count": 5,
   "id": "44230478-dcb7-4383-a9ff-57362fd006de",
   "metadata": {},
   "outputs": [
    {
     "name": "stdout",
     "output_type": "stream",
     "text": [
      "set()\n"
     ]
    }
   ],
   "source": [
    "print(a)"
   ]
  },
  {
   "cell_type": "code",
   "execution_count": 6,
   "id": "c19f6f16-6139-4d5b-949c-8521de441232",
   "metadata": {},
   "outputs": [
    {
     "name": "stdout",
     "output_type": "stream",
     "text": [
      "{1, 2, 3}\n"
     ]
    }
   ],
   "source": [
    "print(b)"
   ]
  },
  {
   "cell_type": "code",
   "execution_count": 9,
   "id": "b9d986fe-5bb6-4c73-82ee-22ff36e80df3",
   "metadata": {},
   "outputs": [
    {
     "name": "stdout",
     "output_type": "stream",
     "text": [
      "{4, 5}\n"
     ]
    }
   ],
   "source": [
    "a={1,2,3,4,5}\n",
    "b={1,2,3,3} # subs\n",
    "print(a-b)"
   ]
  },
  {
   "cell_type": "code",
   "execution_count": 11,
   "id": "149dbbcc-b5ac-4773-9057-1e2175bde1b9",
   "metadata": {},
   "outputs": [
    {
     "data": {
      "text/plain": [
       "{4, 5}"
      ]
     },
     "execution_count": 11,
     "metadata": {},
     "output_type": "execute_result"
    }
   ],
   "source": [
    "a.difference(b) # it gave instant answer it doesnt change in a"
   ]
  },
  {
   "cell_type": "code",
   "execution_count": 13,
   "id": "68f93fcf-30a2-47c9-9017-efab6b09e0d9",
   "metadata": {},
   "outputs": [],
   "source": [
    "a.add(12)"
   ]
  },
  {
   "cell_type": "code",
   "execution_count": 14,
   "id": "d431f6e6-6a13-4762-80b6-bd0751ed3f5d",
   "metadata": {},
   "outputs": [],
   "source": [
    "a.add(13.1)"
   ]
  },
  {
   "cell_type": "code",
   "execution_count": 16,
   "id": "0455c2e5-3fcd-4ae9-add6-7175ad5cd647",
   "metadata": {},
   "outputs": [],
   "source": [
    "a.add(\"lovely\")"
   ]
  },
  {
   "cell_type": "code",
   "execution_count": 17,
   "id": "f54bd264-35fb-40a0-98a8-db872086e86b",
   "metadata": {},
   "outputs": [
    {
     "name": "stdout",
     "output_type": "stream",
     "text": [
      "{1, 2, 3, 4, 5, 'lovely', 12, 13.1}\n"
     ]
    }
   ],
   "source": [
    "print(a)"
   ]
  },
  {
   "cell_type": "code",
   "execution_count": 19,
   "id": "d241016a-8094-42f0-baa6-447232605970",
   "metadata": {},
   "outputs": [
    {
     "name": "stdout",
     "output_type": "stream",
     "text": [
      "{1, 2, 3, 4, 5, 'lovely', 12, 13.1, (1000,)}\n"
     ]
    }
   ],
   "source": [
    "a.add((1000,))\n",
    "print(a)"
   ]
  },
  {
   "cell_type": "code",
   "execution_count": 21,
   "id": "fa8f02a2-4ca3-493c-b6ce-d03a471beff7",
   "metadata": {},
   "outputs": [
    {
     "name": "stdout",
     "output_type": "stream",
     "text": [
      "set()\n"
     ]
    }
   ],
   "source": [
    "b.clear()\n",
    "print(b)"
   ]
  },
  {
   "cell_type": "code",
   "execution_count": 22,
   "id": "fa7d66a2-702f-4c77-8289-f47f9cc01468",
   "metadata": {},
   "outputs": [
    {
     "name": "stdout",
     "output_type": "stream",
     "text": [
      "{(1, 2, 3, 4, 5)}\n"
     ]
    }
   ],
   "source": [
    "b.add((1,2,3,4,5,))\n",
    "print(b)"
   ]
  },
  {
   "cell_type": "code",
   "execution_count": 23,
   "id": "73401e7f-f641-46f3-abb4-37a17682eb79",
   "metadata": {},
   "outputs": [
    {
     "name": "stdout",
     "output_type": "stream",
     "text": [
      "{1, 2, 3, 4, 5, (1, 2, 3, 4, 5)}\n"
     ]
    }
   ],
   "source": [
    "b.update((1,2,3,4,5))\n",
    "print(b)\n"
   ]
  },
  {
   "cell_type": "code",
   "execution_count": 29,
   "id": "7c9f22c6-b511-457f-a514-60d59e0e3c3e",
   "metadata": {},
   "outputs": [
    {
     "name": "stdout",
     "output_type": "stream",
     "text": [
      "{3, 4, 5, (1, 2, 3, 4, 5)}\n"
     ]
    }
   ],
   "source": [
    "b.pop()\n",
    "print(b)"
   ]
  },
  {
   "cell_type": "markdown",
   "id": "f107549f-e27e-4a06-a384-e539f0f67d5a",
   "metadata": {},
   "source": [
    "# frozenset"
   ]
  },
  {
   "cell_type": "code",
   "execution_count": 1,
   "id": "0fc26747-ce0b-44f0-a59e-e14ed3fa6420",
   "metadata": {},
   "outputs": [],
   "source": [
    "a=frozenset({1,2,3,4,5,6,7,8})"
   ]
  },
  {
   "cell_type": "code",
   "execution_count": 2,
   "id": "f6cb199c-ffce-40c1-9f4b-91faf38e6bd1",
   "metadata": {},
   "outputs": [
    {
     "name": "stdout",
     "output_type": "stream",
     "text": [
      "frozenset({1, 2, 3, 4, 5, 6, 7, 8})\n"
     ]
    }
   ],
   "source": [
    "print(a)"
   ]
  },
  {
   "cell_type": "code",
   "execution_count": 5,
   "id": "ee1b316f-cd2d-4718-b4d6-4d71ac40dad3",
   "metadata": {},
   "outputs": [],
   "source": [
    "a=frozenset((1,2,3,4,))"
   ]
  },
  {
   "cell_type": "code",
   "execution_count": 6,
   "id": "8595b1fe-901c-4cae-b84c-c10267f3cff6",
   "metadata": {},
   "outputs": [
    {
     "name": "stdout",
     "output_type": "stream",
     "text": [
      "frozenset({1, 2, 3, 4})\n"
     ]
    }
   ],
   "source": [
    "print(a)"
   ]
  },
  {
   "cell_type": "code",
   "execution_count": 7,
   "id": "d492b639-74b8-4b9c-acc2-49069c51fff7",
   "metadata": {},
   "outputs": [
    {
     "data": {
      "text/plain": [
       "frozenset"
      ]
     },
     "execution_count": 7,
     "metadata": {},
     "output_type": "execute_result"
    }
   ],
   "source": [
    "type(a)"
   ]
  },
  {
   "cell_type": "code",
   "execution_count": 8,
   "id": "88521b58-db6c-4b01-80ee-1da0f60d2d0c",
   "metadata": {},
   "outputs": [
    {
     "name": "stdout",
     "output_type": "stream",
     "text": [
      "frozenset({1, 2, 3, 4, 5})\n"
     ]
    }
   ],
   "source": [
    "a=frozenset([1,2,3,4,5])\n",
    "print(a)"
   ]
  },
  {
   "cell_type": "code",
   "execution_count": 9,
   "id": "70934657-ac21-4bca-99ba-ffeb55cd6a51",
   "metadata": {},
   "outputs": [],
   "source": [
    "# immutable and support nesting"
   ]
  },
  {
   "cell_type": "code",
   "execution_count": 10,
   "id": "23d0b827-f2b3-4243-9252-cf1c85db2010",
   "metadata": {},
   "outputs": [
    {
     "data": {
      "text/plain": [
       "frozenset({1, 2, 3, 4, 5, frozenset({1, 2, 3, 4, 5, 34})})"
      ]
     },
     "execution_count": 10,
     "metadata": {},
     "output_type": "execute_result"
    }
   ],
   "source": [
    "frozenset({1,2,3,4,5,frozenset({1,2,3,34,4,5,5,})})\n"
   ]
  },
  {
   "cell_type": "code",
   "execution_count": 11,
   "id": "d57c8b79-9cbf-4b6c-aa08-a1d494db8457",
   "metadata": {},
   "outputs": [],
   "source": [
    "a=frozenset({})"
   ]
  },
  {
   "cell_type": "code",
   "execution_count": 12,
   "id": "4914c72e-2ebc-439d-9373-6abfcf9dd86e",
   "metadata": {},
   "outputs": [
    {
     "name": "stdout",
     "output_type": "stream",
     "text": [
      "frozenset()\n"
     ]
    }
   ],
   "source": [
    "print(a)"
   ]
  },
  {
   "cell_type": "code",
   "execution_count": 13,
   "id": "27ac3991-fafb-441c-9bbc-cd10162716b0",
   "metadata": {},
   "outputs": [
    {
     "ename": "TypeError",
     "evalue": "frozenset expected at most 1 argument, got 2",
     "output_type": "error",
     "traceback": [
      "\u001b[1;31m---------------------------------------------------------------------------\u001b[0m",
      "\u001b[1;31mTypeError\u001b[0m                                 Traceback (most recent call last)",
      "Cell \u001b[1;32mIn[13], line 1\u001b[0m\n\u001b[1;32m----> 1\u001b[0m a\u001b[38;5;241m=\u001b[39m\u001b[38;5;28;43mfrozenset\u001b[39;49m\u001b[43m(\u001b[49m\u001b[43m[\u001b[49m\u001b[38;5;241;43m1\u001b[39;49m\u001b[43m,\u001b[49m\u001b[38;5;241;43m2\u001b[39;49m\u001b[43m]\u001b[49m\u001b[38;5;241;43m+\u001b[39;49m\u001b[43m[\u001b[49m\u001b[38;5;241;43m2\u001b[39;49m\u001b[43m,\u001b[49m\u001b[38;5;241;43m4\u001b[39;49m\u001b[43m]\u001b[49m\u001b[43m,\u001b[49m\u001b[43m[\u001b[49m\u001b[38;5;241;43m1\u001b[39;49m\u001b[43m,\u001b[49m\u001b[38;5;241;43m2\u001b[39;49m\u001b[43m,\u001b[49m\u001b[38;5;241;43m3\u001b[39;49m\u001b[43m,\u001b[49m\u001b[38;5;241;43m4\u001b[39;49m\u001b[43m]\u001b[49m\u001b[43m)\u001b[49m\n\u001b[0;32m      2\u001b[0m \u001b[38;5;28mprint\u001b[39m(a)\n",
      "\u001b[1;31mTypeError\u001b[0m: frozenset expected at most 1 argument, got 2"
     ]
    }
   ],
   "source": [
    "a=frozenset([1,2]+[2,4],[1,2,3,4])\n",
    "print(a)"
   ]
  },
  {
   "cell_type": "code",
   "execution_count": null,
   "id": "6236761d-4d1a-4bf6-84d0-a2538774d2b7",
   "metadata": {},
   "outputs": [],
   "source": []
  }
 ],
 "metadata": {
  "kernelspec": {
   "display_name": "Python 3 (ipykernel)",
   "language": "python",
   "name": "python3"
  },
  "language_info": {
   "codemirror_mode": {
    "name": "ipython",
    "version": 3
   },
   "file_extension": ".py",
   "mimetype": "text/x-python",
   "name": "python",
   "nbconvert_exporter": "python",
   "pygments_lexer": "ipython3",
   "version": "3.11.4"
  }
 },
 "nbformat": 4,
 "nbformat_minor": 5
}
