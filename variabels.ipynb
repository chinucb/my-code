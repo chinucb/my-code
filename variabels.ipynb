{
 "cells": [
  {
   "cell_type": "markdown",
   "id": "bf79c6c4-f85c-4348-8596-e29cedf1dcc3",
   "metadata": {},
   "source": [
    " # variabels"
   ]
  },
  {
   "cell_type": "code",
   "execution_count": null,
   "id": "0d148c66-1b95-4d8a-b1cb-f143950bfbf8",
   "metadata": {},
   "outputs": [],
   "source": [
    "<variable never start with a number\n",
    "<variable name never contain special characters:- except underscore ' ! # % & \\( )*+,-./<=> ? @ [\\\\]^`{|}~'\n",
    "vaiable name must be readable."
   ]
  },
  {
   "cell_type": "code",
   "execution_count": null,
   "id": "73e88d5f-580a-4589-852f-292b96d8fbf6",
   "metadata": {},
   "outputs": [],
   "source": [
    "# jenifer_methews=10\n",
    "# brada_rodrigus=20\n",
    "# ram_gopal_verma=20\n"
   ]
  },
  {
   "cell_type": "markdown",
   "id": "436c1c2c-d340-4007-81cf-3a6c6a5dbef2",
   "metadata": {},
   "source": [
    "# java have three types of variables"
   ]
  },
  {
   "cell_type": "code",
   "execution_count": null,
   "id": "c5c35141-2cad-45f2-a35f-a3c221517971",
   "metadata": {},
   "outputs": [],
   "source": [
    "ramGopalverma=20 # camel case( start with small letter but in middle we use block letter\n",
    "ram_goapl_verma=20 # snake case(we use underscore in this case\n",
    "RamGopalverma=20 # pascal case we start with block letter nd we use block letter in middle."
   ]
  },
  {
   "cell_type": "markdown",
   "id": "3efc51e8-bf01-4b9a-8de1-1031761cf3c6",
   "metadata": {},
   "source": [
    "# metadata # data about data called metadata."
   ]
  },
  {
   "cell_type": "code",
   "execution_count": null,
   "id": "743d7504-9cdc-4ba8-9aa6-a63697f2d42f",
   "metadata": {},
   "outputs": [],
   "source": [
    "a12=23   # a=12= name of 12 the employee"
   ]
  },
  {
   "cell_type": "code",
   "execution_count": 3,
   "id": "ed059d2b-517c-436d-9e2b-eeeaae02e2de",
   "metadata": {},
   "outputs": [
    {
     "ename": "SyntaxError",
     "evalue": "invalid decimal literal (2088083547.py, line 1)",
     "output_type": "error",
     "traceback": [
      "\u001b[1;36m  Cell \u001b[1;32mIn[3], line 1\u001b[1;36m\u001b[0m\n\u001b[1;33m    1ankit=10\u001b[0m\n\u001b[1;37m    ^\u001b[0m\n\u001b[1;31mSyntaxError\u001b[0m\u001b[1;31m:\u001b[0m invalid decimal literal\n"
     ]
    }
   ],
   "source": [
    "1ankit=10 # i have started this with number that's the reason i got an error."
   ]
  },
  {
   "cell_type": "code",
   "execution_count": 4,
   "id": "f4e052a5-f71c-4b03-9df7-70a3098a41a4",
   "metadata": {},
   "outputs": [],
   "source": [
    "ankit1=10"
   ]
  },
  {
   "cell_type": "code",
   "execution_count": 6,
   "id": "af3e20af-e959-48ca-92b1-44f749d0498c",
   "metadata": {},
   "outputs": [
    {
     "data": {
      "text/plain": [
       "10"
      ]
     },
     "execution_count": 6,
     "metadata": {},
     "output_type": "execute_result"
    }
   ],
   "source": [
    "ankit1\n"
   ]
  },
  {
   "cell_type": "code",
   "execution_count": 7,
   "id": "abfa1ff2-1cda-4623-b544-1d9fbc7e4271",
   "metadata": {},
   "outputs": [
    {
     "name": "stdout",
     "output_type": "stream",
     "text": [
      "ankit1\n"
     ]
    }
   ],
   "source": [
    "print(\"ankit1\")"
   ]
  },
  {
   "cell_type": "code",
   "execution_count": 8,
   "id": "f50be426-0f63-47ed-bb9d-95ea7e5f832a",
   "metadata": {},
   "outputs": [
    {
     "ename": "SyntaxError",
     "evalue": "cannot assign to expression here. Maybe you meant '==' instead of '='? (2704757385.py, line 1)",
     "output_type": "error",
     "traceback": [
      "\u001b[1;36m  Cell \u001b[1;32mIn[8], line 1\u001b[1;36m\u001b[0m\n\u001b[1;33m    krish@na=10\u001b[0m\n\u001b[1;37m    ^\u001b[0m\n\u001b[1;31mSyntaxError\u001b[0m\u001b[1;31m:\u001b[0m cannot assign to expression here. Maybe you meant '==' instead of '='?\n"
     ]
    }
   ],
   "source": [
    "krish@na=10"
   ]
  },
  {
   "cell_type": "code",
   "execution_count": null,
   "id": "334623bb-3ea8-44ae-8809-7eafc55020cd",
   "metadata": {},
   "outputs": [],
   "source": [
    "# container carry value in it."
   ]
  },
  {
   "cell_type": "code",
   "execution_count": 9,
   "id": "18c2c148-6f01-4134-91c1-3d21dc8a0dde",
   "metadata": {},
   "outputs": [],
   "source": [
    "a=18969861790797308816982646427674"
   ]
  },
  {
   "cell_type": "code",
   "execution_count": 10,
   "id": "20849a26-a3c7-4485-9de3-08e855916b77",
   "metadata": {},
   "outputs": [],
   "source": [
    "b=968468897894"
   ]
  },
  {
   "cell_type": "code",
   "execution_count": 11,
   "id": "97f9e3b6-345b-419d-a32a-9d9c51bb3b10",
   "metadata": {},
   "outputs": [
    {
     "data": {
      "text/plain": [
       "18969861790797308817951115325568"
      ]
     },
     "execution_count": 11,
     "metadata": {},
     "output_type": "execute_result"
    }
   ],
   "source": [
    "a+b"
   ]
  },
  {
   "cell_type": "code",
   "execution_count": null,
   "id": "84255abd-3584-4d25-bc71-d3390eb99745",
   "metadata": {},
   "outputs": [],
   "source": []
  }
 ],
 "metadata": {
  "kernelspec": {
   "display_name": "Python 3 (ipykernel)",
   "language": "python",
   "name": "python3"
  },
  "language_info": {
   "codemirror_mode": {
    "name": "ipython",
    "version": 3
   },
   "file_extension": ".py",
   "mimetype": "text/x-python",
   "name": "python",
   "nbconvert_exporter": "python",
   "pygments_lexer": "ipython3",
   "version": "3.11.4"
  }
 },
 "nbformat": 4,
 "nbformat_minor": 5
}
