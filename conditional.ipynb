{
 "cells": [
  {
   "cell_type": "markdown",
   "id": "21f8f35c-1ee0-426d-9e38-58dac8657fa8",
   "metadata": {},
   "source": [
    "# conditional programming"
   ]
  },
  {
   "cell_type": "code",
   "execution_count": 2,
   "id": "21586c81-85fe-4f78-88c0-2ef0d8af465f",
   "metadata": {},
   "outputs": [
    {
     "ename": "IndentationError",
     "evalue": "unexpected indent (1817919887.py, line 3)",
     "output_type": "error",
     "traceback": [
      "\u001b[1;36m  Cell \u001b[1;32mIn[2], line 3\u001b[1;36m\u001b[0m\n\u001b[1;33m    print(\"helo world\")\u001b[0m\n\u001b[1;37m    ^\u001b[0m\n\u001b[1;31mIndentationError\u001b[0m\u001b[1;31m:\u001b[0m unexpected indent\n"
     ]
    }
   ],
   "source": [
    "print(\"helo world\")\n",
    "print(\"helo world\")\n",
    "   print(\"helo world\")"
   ]
  },
  {
   "cell_type": "code",
   "execution_count": 3,
   "id": "59693f48-8d81-405a-a399-d2ca5c115b8d",
   "metadata": {},
   "outputs": [],
   "source": [
    "# python work on indentation \n"
   ]
  },
  {
   "cell_type": "code",
   "execution_count": 4,
   "id": "56427ccf-e926-4818-8369-f3fc19e93418",
   "metadata": {},
   "outputs": [
    {
     "name": "stdout",
     "output_type": "stream",
     "text": [
      "this is true\n",
      "hello world\n"
     ]
    }
   ],
   "source": [
    "if 10==10:\n",
    "    print(\"this is true\")\n",
    "    print(\"hello world\")"
   ]
  },
  {
   "cell_type": "code",
   "execution_count": 5,
   "id": "611de89b-3a64-4176-938d-1514eab90ccc",
   "metadata": {},
   "outputs": [
    {
     "name": "stdout",
     "output_type": "stream",
     "text": [
      "this is true\n",
      "hello world\n"
     ]
    }
   ],
   "source": [
    "if 10==10:\n",
    "    print(\"this is true\")\n",
    "    print(\"hello world\")\n",
    "else:\n",
    "    print(\"bye\")"
   ]
  },
  {
   "cell_type": "code",
   "execution_count": 6,
   "id": "46e8cf07-2e55-46c7-bae8-55bd68e7f312",
   "metadata": {},
   "outputs": [
    {
     "name": "stdout",
     "output_type": "stream",
     "text": [
      "bye\n"
     ]
    }
   ],
   "source": [
    "if 10!=10:\n",
    "    print(\"this is true\")\n",
    "    print(\"hello world\")\n",
    "\n",
    "else:\n",
    "    print(\"bye\")\n"
   ]
  },
  {
   "cell_type": "code",
   "execution_count": 8,
   "id": "a6ac7bbf-e7aa-4c7d-9bc5-804d4ee92494",
   "metadata": {},
   "outputs": [
    {
     "ename": "SyntaxError",
     "evalue": "invalid syntax (2941151715.py, line 1)",
     "output_type": "error",
     "traceback": [
      "\u001b[1;36m  Cell \u001b[1;32mIn[8], line 1\u001b[1;36m\u001b[0m\n\u001b[1;33m    else:\u001b[0m\n\u001b[1;37m    ^\u001b[0m\n\u001b[1;31mSyntaxError\u001b[0m\u001b[1;31m:\u001b[0m invalid syntax\n"
     ]
    }
   ],
   "source": [
    "else:\n",
    "      print(\"hello world\")"
   ]
  },
  {
   "cell_type": "raw",
   "id": "05416baa-e67d-435a-ac12-2e8e9753a28c",
   "metadata": {},
   "source": [
    "if else , for loop else,while loop else,try except finally else"
   ]
  },
  {
   "cell_type": "code",
   "execution_count": 10,
   "id": "a47e0262-2fa8-4988-a122-4ae7341f65b2",
   "metadata": {},
   "outputs": [
    {
     "name": "stdout",
     "output_type": "stream",
     "text": [
      "it's true:\n",
      "yes this value will run:\n"
     ]
    }
   ],
   "source": [
    "if 10==10:\n",
    "    print(\"it's true:\")\n",
    "    print(\"yes this value will run:\")\n",
    "\n",
    "else:\n",
    "    print(\"null\")\n",
    "    print(\"null and void\")"
   ]
  },
  {
   "cell_type": "code",
   "execution_count": 11,
   "id": "9e322f5d-01a7-4e0b-b7b1-1c3cd2c33428",
   "metadata": {},
   "outputs": [
    {
     "name": "stdin",
     "output_type": "stream",
     "text": [
      "which designation you are going to slect: a\n"
     ]
    },
    {
     "name": "stdout",
     "output_type": "stream",
     "text": [
      "a\n"
     ]
    }
   ],
   "source": [
    "a=input(\"which designation you are going to slect:\")\n",
    "print(a)"
   ]
  },
  {
   "cell_type": "code",
   "execution_count": 12,
   "id": "9d615eeb-22cc-4f07-bea5-3b4594a454d6",
   "metadata": {},
   "outputs": [
    {
     "name": "stdin",
     "output_type": "stream",
     "text": [
      "which designation you are going to slect: a\n"
     ]
    },
    {
     "name": "stdout",
     "output_type": "stream",
     "text": [
      "varanasi\n"
     ]
    }
   ],
   "source": [
    "a=input(\"which designation you are going to slect:\")\n",
    "if a==\"a\":\n",
    "    print(\"varanasi\")\n",
    "\n",
    "else:\n",
    "    print(\"kanyakumari\")\n",
    "\n",
    "\n",
    "    "
   ]
  },
  {
   "cell_type": "code",
   "execution_count": 13,
   "id": "f907cdcf-9db6-4832-b256-fd20c90dcac8",
   "metadata": {},
   "outputs": [
    {
     "name": "stdin",
     "output_type": "stream",
     "text": [
      "which designation you are going to slect: b\n"
     ]
    },
    {
     "name": "stdout",
     "output_type": "stream",
     "text": [
      "kanyakumari\n"
     ]
    }
   ],
   "source": [
    "a=input(\"which designation you are going to slect:\")\n",
    "if a==\"a\":\n",
    "    print(\"varanasi\")\n",
    "\n",
    "else:\n",
    "    print(\"kanyakumari\")"
   ]
  },
  {
   "cell_type": "code",
   "execution_count": 14,
   "id": "35c99c19-f99c-4690-9191-2106d3b0ac86",
   "metadata": {},
   "outputs": [
    {
     "ename": "SyntaxError",
     "evalue": "invalid syntax (2321353158.py, line 1)",
     "output_type": "error",
     "traceback": [
      "\u001b[1;36m  Cell \u001b[1;32mIn[14], line 1\u001b[1;36m\u001b[0m\n\u001b[1;33m    is \"a\"=\"a\"\u001b[0m\n\u001b[1;37m    ^\u001b[0m\n\u001b[1;31mSyntaxError\u001b[0m\u001b[1;31m:\u001b[0m invalid syntax\n"
     ]
    }
   ],
   "source": [
    "is \"a\"=\"a\""
   ]
  },
  {
   "cell_type": "code",
   "execution_count": 15,
   "id": "04d7cc49-2a31-4dbd-8827-064b3b76958c",
   "metadata": {},
   "outputs": [
    {
     "name": "stdin",
     "output_type": "stream",
     "text": [
      "enter first no: 10\n",
      "enter second no: 20\n"
     ]
    }
   ],
   "source": [
    "a=int(input(\"enter first no:\"))\n",
    "num=int(input(\"enter second no:\"))\n"
   ]
  },
  {
   "cell_type": "code",
   "execution_count": 16,
   "id": "934e5b4a-66e9-4705-ad50-7a9ba270441b",
   "metadata": {},
   "outputs": [
    {
     "name": "stdout",
     "output_type": "stream",
     "text": [
      "10\n"
     ]
    }
   ],
   "source": [
    "print(a)"
   ]
  },
  {
   "cell_type": "code",
   "execution_count": 17,
   "id": "28b43439-0b27-44b0-ab3a-27dfc1b15d22",
   "metadata": {},
   "outputs": [
    {
     "data": {
      "text/plain": [
       "30"
      ]
     },
     "execution_count": 17,
     "metadata": {},
     "output_type": "execute_result"
    }
   ],
   "source": [
    "a+num"
   ]
  },
  {
   "cell_type": "code",
   "execution_count": 18,
   "id": "f7114a44-30d8-49e2-93b2-77e07d691113",
   "metadata": {},
   "outputs": [
    {
     "name": "stdin",
     "output_type": "stream",
     "text": [
      "enter first no: 10\n",
      "enter second no: 20\n"
     ]
    },
    {
     "name": "stdout",
     "output_type": "stream",
     "text": [
      "30\n"
     ]
    }
   ],
   "source": [
    "a=int(input(\"enter first no:\"))\n",
    "num=int(input(\"enter second no:\"))\n",
    "print(num+a)"
   ]
  },
  {
   "cell_type": "code",
   "execution_count": 21,
   "id": "076adcce-c77f-4513-ac5b-41ed8a25e9f3",
   "metadata": {},
   "outputs": [
    {
     "name": "stdin",
     "output_type": "stream",
     "text": [
      "enter first no: 10\n",
      "enter second no: 20\n"
     ]
    },
    {
     "name": "stdout",
     "output_type": "stream",
     "text": [
      "30\n",
      "-10\n"
     ]
    }
   ],
   "source": [
    "num=int(input(\"enter first no:\"))\n",
    "num2=int(input(\"enter second no:\"))\n",
    "print(num+num2)\n",
    "print(num-num2)"
   ]
  },
  {
   "cell_type": "code",
   "execution_count": 25,
   "id": "79bc739b-a4dc-476c-87c5-0eec69f3da10",
   "metadata": {},
   "outputs": [
    {
     "ename": "IndentationError",
     "evalue": "expected an indented block after 'else' statement on line 10 (4028717977.py, line 11)",
     "output_type": "error",
     "traceback": [
      "\u001b[1;36m  Cell \u001b[1;32mIn[25], line 11\u001b[1;36m\u001b[0m\n\u001b[1;33m    print(num-num2)\u001b[0m\n\u001b[1;37m    ^\u001b[0m\n\u001b[1;31mIndentationError\u001b[0m\u001b[1;31m:\u001b[0m expected an indented block after 'else' statement on line 10\n"
     ]
    }
   ],
   "source": [
    "num=int(input(\"enter first no:\"))\n",
    "num2=int(input(\"enter second no:\"))\n",
    "option=input(\"enter your operation +,-:\")\n",
    "\n",
    "if option==\"+\":\n",
    "    print(num+num2)\n",
    "    \n",
    "\n",
    "\n",
    "else:\n",
    "print(num-num2)"
   ]
  },
  {
   "cell_type": "code",
   "execution_count": 28,
   "id": "76a2466f-f37d-405a-9ee3-48bd3c422c2c",
   "metadata": {},
   "outputs": [
    {
     "name": "stdin",
     "output_type": "stream",
     "text": [
      "enter first number: 10\n",
      "enter your 2 number: 20\n",
      "enter your operation +,-,*,% +\n"
     ]
    },
    {
     "name": "stdout",
     "output_type": "stream",
     "text": [
      "30 200\n"
     ]
    }
   ],
   "source": [
    "num1=int(input('enter first number:'))\n",
    "num2=int(input('enter your 2 number:'))\n",
    "option=input(\"enter your operation +,-,*,%\")\n",
    "\n",
    "if option=='+':\n",
    "    print(num1+num2,num1*num2)\n",
    "else:\n",
    "    print(num1-num2,num1%num2)\n"
   ]
  },
  {
   "cell_type": "code",
   "execution_count": 29,
   "id": "cb3b1597-3a50-4292-b509-4d1e74f26766",
   "metadata": {},
   "outputs": [
    {
     "name": "stdin",
     "output_type": "stream",
     "text": [
      "enter first number: 10\n",
      "enter your 2 number: 20\n",
      "enter your operation +,-,*,% -\n"
     ]
    },
    {
     "name": "stdout",
     "output_type": "stream",
     "text": [
      "-10 10\n"
     ]
    }
   ],
   "source": [
    "num1=int(input('enter first number:'))\n",
    "num2=int(input('enter your 2 number:'))\n",
    "option=input(\"enter your operation +,-,*,%\")\n",
    "\n",
    "if option=='+':\n",
    "    print(num1+num2,num1*num2)\n",
    "else:\n",
    "    print(num1-num2,num1%num2)"
   ]
  },
  {
   "cell_type": "code",
   "execution_count": 30,
   "id": "befdcfe1-a5d5-4e97-b284-69c71feb310c",
   "metadata": {},
   "outputs": [
    {
     "ename": "IndentationError",
     "evalue": "expected an indented block after 'elif' statement on line 7 (2355863161.py, line 8)",
     "output_type": "error",
     "traceback": [
      "\u001b[1;36m  Cell \u001b[1;32mIn[30], line 8\u001b[1;36m\u001b[0m\n\u001b[1;33m    else:\u001b[0m\n\u001b[1;37m    ^\u001b[0m\n\u001b[1;31mIndentationError\u001b[0m\u001b[1;31m:\u001b[0m expected an indented block after 'elif' statement on line 7\n"
     ]
    }
   ],
   "source": [
    "num1=int(input('enter first number:'))\n",
    "num2=int(input('enter your 2 number:'))\n",
    "option=input(\"enter your operation +,-,*,%\")\n",
    "\n",
    "if option=='+':\n",
    "    print(num1+num2,num1*num2)\n",
    "elif options== '-':   \n",
    "else:\n",
    "    print(num1-num2,num1%num2)\n",
    "    "
   ]
  },
  {
   "cell_type": "code",
   "execution_count": 31,
   "id": "ea87f30a-b9e6-4857-85b5-d1b0a2bee5f6",
   "metadata": {},
   "outputs": [
    {
     "name": "stdin",
     "output_type": "stream",
     "text": [
      "enter your 1st number: 10\n",
      "enter your 2nd number: 20\n",
      "enter your operation +,-: -\n"
     ]
    },
    {
     "name": "stdout",
     "output_type": "stream",
     "text": [
      "-10\n"
     ]
    }
   ],
   "source": [
    "num1=int(input(\"enter your 1st number:\"))\n",
    "num2=int(input(\"enter your 2nd number:\"))\n",
    "option=input(\"enter your operation +,-:\")\n",
    "\n",
    "if option==\"+\":\n",
    "    print(num1+num2)\n",
    "elif option==\"-\":\n",
    "    print(num1-num2)"
   ]
  },
  {
   "cell_type": "code",
   "execution_count": 32,
   "id": "8b7d6af9-74f9-42a6-a710-90bbf183b4c2",
   "metadata": {},
   "outputs": [
    {
     "name": "stdin",
     "output_type": "stream",
     "text": [
      "enter your 1st number: 10\n",
      "enter your 2nd number: 20\n",
      "enter your operation +,-: %\n"
     ]
    }
   ],
   "source": [
    "num1=int(input(\"enter your 1st number:\"))\n",
    "num2=int(input(\"enter your 2nd number:\"))\n",
    "option=input(\"enter your operation +,-:\")\n",
    "\n",
    "if option==\"+\":\n",
    "    print(num1+num2)\n",
    "elif option==\"-\":\n",
    "    print(num1-num2)"
   ]
  },
  {
   "cell_type": "code",
   "execution_count": 33,
   "id": "a5cd47c8-9934-4f7e-9056-04a9286ad42c",
   "metadata": {},
   "outputs": [
    {
     "name": "stdin",
     "output_type": "stream",
     "text": [
      "enter your 1st number: 10\n",
      "enter your 2nd number: 20\n",
      "enter your operation +,-: /\n"
     ]
    },
    {
     "name": "stdout",
     "output_type": "stream",
     "text": [
      "0.5\n"
     ]
    }
   ],
   "source": [
    "num1=int(input(\"enter your 1st number:\"))\n",
    "num2=int(input(\"enter your 2nd number:\"))\n",
    "option=input(\"enter your operation +,-,*,/:\")\n",
    "\n",
    "if option==\"+\":\n",
    "    print(num1+num2)\n",
    "elif option==\"-\":\n",
    "    print(num1-num2)\n",
    "elif option==\"/\":\n",
    "    print(num1/num2)\n",
    "    \n"
   ]
  },
  {
   "cell_type": "code",
   "execution_count": 34,
   "id": "14d0f89b-4045-4880-8f60-b1c37cc600f6",
   "metadata": {},
   "outputs": [
    {
     "name": "stdin",
     "output_type": "stream",
     "text": [
      "enter your 1st number: 20\n",
      "enter your 2nd number: 40\n",
      "enter your operation +,-,*,/: *\n"
     ]
    },
    {
     "name": "stdout",
     "output_type": "stream",
     "text": [
      "800\n"
     ]
    }
   ],
   "source": [
    "num1=int(input(\"enter your 1st number:\"))\n",
    "num2=int(input(\"enter your 2nd number:\"))\n",
    "option=input(\"enter your operation +,-,*,/:\")\n",
    "\n",
    "if option==\"+\":\n",
    "    print(num1+num2)\n",
    "elif option==\"-\":\n",
    "    print(num1-num2)\n",
    "elif option==\"/\":\n",
    "    print(num1/num2)\n",
    "elif option==\"*\":\n",
    "    print(num1*num2)\n",
    "    "
   ]
  },
  {
   "cell_type": "code",
   "execution_count": 35,
   "id": "d5845ab0-b49e-4c4f-b45d-499f58760474",
   "metadata": {},
   "outputs": [
    {
     "name": "stdin",
     "output_type": "stream",
     "text": [
      "enter your 1st number: 20\n",
      "enter your 2nd number: 50\n",
      "enter your operation +,-,*,/: /\n"
     ]
    },
    {
     "name": "stdout",
     "output_type": "stream",
     "text": [
      "0.4\n"
     ]
    }
   ],
   "source": [
    "num1=int(input(\"enter your 1st number:\"))\n",
    "num2=int(input(\"enter your 2nd number:\"))\n",
    "option=input(\"enter your operation +,-,*,/:\")\n",
    "\n",
    "if option==\"+\":\n",
    "    print(num1+num2)\n",
    "elif option==\"-\":\n",
    "    print(num1-num2)\n",
    "elif option==\"/\":\n",
    "    print(num1/num2)\n",
    "elif option==\"*\":\n",
    "    print(num1*num2)"
   ]
  },
  {
   "cell_type": "markdown",
   "id": "4e2fe87e-4db2-494c-8d0a-11cacae2f986",
   "metadata": {},
   "source": [
    "# nested if else, nested if elif else"
   ]
  },
  {
   "cell_type": "code",
   "execution_count": 1,
   "id": "5f022f60-94a2-4425-b0b0-9d5dff8f208d",
   "metadata": {},
   "outputs": [
    {
     "name": "stdin",
     "output_type": "stream",
     "text": [
      "enter a number 10\n"
     ]
    },
    {
     "name": "stdout",
     "output_type": "stream",
     "text": [
      "a is positive number\n"
     ]
    }
   ],
   "source": [
    "a=int(input(\"enter a number\"))\n",
    "\n",
    "if a>=0:\n",
    "    print(\"a is positive number\")\n",
    "else:\n",
    "    print(\"a is a negative number\")\n",
    "    "
   ]
  },
  {
   "cell_type": "code",
   "execution_count": 3,
   "id": "92e5ede1-99f0-4180-a66b-2b22d6ade66a",
   "metadata": {},
   "outputs": [
    {
     "name": "stdin",
     "output_type": "stream",
     "text": [
      "enter a number 10%2\n"
     ]
    },
    {
     "ename": "ValueError",
     "evalue": "invalid literal for int() with base 10: '10%2'",
     "output_type": "error",
     "traceback": [
      "\u001b[1;31m---------------------------------------------------------------------------\u001b[0m",
      "\u001b[1;31mValueError\u001b[0m                                Traceback (most recent call last)",
      "Cell \u001b[1;32mIn[3], line 1\u001b[0m\n\u001b[1;32m----> 1\u001b[0m a\u001b[38;5;241m=\u001b[39m\u001b[38;5;28;43mint\u001b[39;49m\u001b[43m(\u001b[49m\u001b[38;5;28;43minput\u001b[39;49m\u001b[43m(\u001b[49m\u001b[38;5;124;43m\"\u001b[39;49m\u001b[38;5;124;43menter a number\u001b[39;49m\u001b[38;5;124;43m\"\u001b[39;49m\u001b[43m)\u001b[49m\u001b[43m)\u001b[49m\n\u001b[0;32m      3\u001b[0m \u001b[38;5;28;01mif\u001b[39;00m a\u001b[38;5;241m>\u001b[39m\u001b[38;5;241m=\u001b[39m\u001b[38;5;241m0\u001b[39m:\n\u001b[0;32m      4\u001b[0m     \u001b[38;5;28mprint\u001b[39m(\u001b[38;5;124m\"\u001b[39m\u001b[38;5;124ma is positive number\u001b[39m\u001b[38;5;124m\"\u001b[39m)\n",
      "\u001b[1;31mValueError\u001b[0m: invalid literal for int() with base 10: '10%2'"
     ]
    }
   ],
   "source": [
    "a=int(input(\"enter a number\"))\n",
    "\n",
    "if a>=0:\n",
    "    print(\"a is positive number\")\n",
    "else:\n",
    "    print(\"a is a negative number\")\n",
    "    "
   ]
  },
  {
   "cell_type": "code",
   "execution_count": 4,
   "id": "438c8e3b-2f5b-4b43-acb5-2b01135ab92e",
   "metadata": {},
   "outputs": [
    {
     "name": "stdin",
     "output_type": "stream",
     "text": [
      "enter a number 11\n"
     ]
    },
    {
     "name": "stdout",
     "output_type": "stream",
     "text": [
      "a is positive number\n",
      "a is odd number\n"
     ]
    }
   ],
   "source": [
    "a=int(input(\"enter a number\"))\n",
    "\n",
    "if a>=0:\n",
    "    print(\"a is positive number\")\n",
    "    if a%2==0:\n",
    "        print(\"a is even number\")\n",
    "    else:\n",
    "        print(\"a is odd number\")\n",
    "else:\n",
    "    print(\"a is a negative number\")"
   ]
  },
  {
   "cell_type": "code",
   "execution_count": null,
   "id": "b4f98bc0-5fbe-4333-a475-58cccbc43ed2",
   "metadata": {},
   "outputs": [],
   "source": [
    "a=int(input(\"enter a number\"))\n",
    "\n",
    "if a>=0:\n",
    "    print(\"a is positive number\")\n",
    "    if a%2==0:\n",
    "        print(\"a is even number\")\n",
    "    else:\n",
    "        print(\"a is odd number\")\n",
    "else:\n",
    "    print(\"a is a negative number\")"
   ]
  },
  {
   "cell_type": "markdown",
   "id": "65bf728f-0143-49d9-ba43-a2f1f3bce955",
   "metadata": {},
   "source": [
    "# Revision"
   ]
  },
  {
   "cell_type": "code",
   "execution_count": 3,
   "id": "3cffbf14-1249-42fb-b3e3-15afb1f53926",
   "metadata": {},
   "outputs": [],
   "source": [
    "# conditional programming:\n",
    "# if else"
   ]
  },
  {
   "cell_type": "code",
   "execution_count": 5,
   "id": "7199a172-aa81-4b5b-9895-39b4ab676519",
   "metadata": {},
   "outputs": [
    {
     "name": "stdin",
     "output_type": "stream",
     "text": [
      "choose your way: japan\n"
     ]
    },
    {
     "name": "stdout",
     "output_type": "stream",
     "text": [
      "i m choosing japan\n",
      "jhingsang\n"
     ]
    }
   ],
   "source": [
    "user=input(\"choose your way:\")\n",
    "suppose=\"japan\"\n",
    "if user==suppose:\n",
    "    print(\"i m choosing japan\")\n",
    "    print(\"jhingsang\")\n",
    "\n",
    "\n",
    "    "
   ]
  },
  {
   "cell_type": "markdown",
   "id": "72387560-8823-45dd-adfa-47b50d7f715a",
   "metadata": {},
   "source": [
    "# indentation"
   ]
  },
  {
   "cell_type": "code",
   "execution_count": 2,
   "id": "0bd88ce5-e36e-4569-b1e1-d1e4d1fd0706",
   "metadata": {},
   "outputs": [
    {
     "name": "stdin",
     "output_type": "stream",
     "text": [
      "hello world hello world say correct\n"
     ]
    },
    {
     "name": "stdout",
     "output_type": "stream",
     "text": [
      "in if condition  space before print is called indentation our if condtion is based on indentation\n"
     ]
    }
   ],
   "source": [
    "user=input(\"hello world\")\n",
    "if user==\"hello world say correct\":\n",
    "    print(\"in if condition  space before print is called indentation our if condtion is based on indentation\")\n",
    "\n",
    "else:\n",
    "    \"no\"\n",
    "\n",
    "\n"
   ]
  },
  {
   "cell_type": "code",
   "execution_count": 6,
   "id": "60236a41-1283-49d6-b12d-315445bcca5c",
   "metadata": {},
   "outputs": [
    {
     "name": "stdin",
     "output_type": "stream",
     "text": [
      "choose your way: simla\n"
     ]
    },
    {
     "name": "stdout",
     "output_type": "stream",
     "text": [
      "i am going to tokyo\n"
     ]
    }
   ],
   "source": [
    "user=input(\"choose your way:\")\n",
    "suppose=\"japan\"\n",
    "if user==suppose:\n",
    "    print(\"i m choosing japan\")\n",
    "    print(\"jhingsang\")\n",
    "\n",
    "else:\n",
    "    print(\"i am going to tokyo\")\n"
   ]
  },
  {
   "cell_type": "code",
   "execution_count": 7,
   "id": "c613c97a-f116-4766-8bec-f60b2203b02f",
   "metadata": {},
   "outputs": [
    {
     "name": "stdout",
     "output_type": "stream",
     "text": [
      "hello world\n",
      "this condition is True\n",
      "this double equal represent L.H.S = R.H.S\n"
     ]
    }
   ],
   "source": [
    "print(\"hello world\")\n",
    "if 10==10:\n",
    "    print(\"this condition is True\")\n",
    "    print(\"this double equal represent L.H.S = R.H.S\")"
   ]
  },
  {
   "cell_type": "code",
   "execution_count": 13,
   "id": "6afcb5cd-161c-4966-975d-940d48e3e590",
   "metadata": {},
   "outputs": [
    {
     "name": "stdout",
     "output_type": "stream",
     "text": [
      "hello world\n",
      "no more explantion\n"
     ]
    }
   ],
   "source": [
    "print(\"hello world\")\n",
    "if 10!=10:\n",
    "    print(\"this condition is True\")\n",
    "    print(\"this double equal represent L.H.S = R.H.S\")\n",
    "\n",
    "else:\n",
    "    print(\"no more explantion\")"
   ]
  },
  {
   "cell_type": "code",
   "execution_count": 14,
   "id": "d631d1cf-2897-4c35-bf20-23d07ed0cee9",
   "metadata": {},
   "outputs": [
    {
     "data": {
      "text/plain": [
       "True"
      ]
     },
     "execution_count": 14,
     "metadata": {},
     "output_type": "execute_result"
    }
   ],
   "source": [
    "\"a\"==\"a\""
   ]
  },
  {
   "cell_type": "code",
   "execution_count": 15,
   "id": "9a832e00-b59e-4428-b572-1762f7bb79f7",
   "metadata": {},
   "outputs": [
    {
     "name": "stdin",
     "output_type": "stream",
     "text": [
      "enter your 1st number: 20\n",
      "enter your 2nd number: 40\n"
     ]
    }
   ],
   "source": [
    "num1=int(input(\"enter your 1st number:\"))\n",
    "num2=int(input(\"enter your 2nd number:\"))\n",
    "\n"
   ]
  },
  {
   "cell_type": "code",
   "execution_count": 16,
   "id": "2c257791-af71-4af0-a349-1f65a5b6898d",
   "metadata": {},
   "outputs": [
    {
     "name": "stdout",
     "output_type": "stream",
     "text": [
      "20\n"
     ]
    }
   ],
   "source": [
    "print(num1)"
   ]
  },
  {
   "cell_type": "code",
   "execution_count": 19,
   "id": "b37f1fab-080b-4280-8e8f-2e4efa140896",
   "metadata": {},
   "outputs": [
    {
     "name": "stdout",
     "output_type": "stream",
     "text": [
      "60\n"
     ]
    }
   ],
   "source": [
    "print(num1+num2)"
   ]
  },
  {
   "cell_type": "code",
   "execution_count": 20,
   "id": "9331d4ad-5d8b-4b57-a2c2-340df4535584",
   "metadata": {},
   "outputs": [
    {
     "name": "stdin",
     "output_type": "stream",
     "text": [
      "enter your 1st number: 20\n",
      "enter your 2nd number: 40\n"
     ]
    },
    {
     "name": "stdout",
     "output_type": "stream",
     "text": [
      "60\n"
     ]
    }
   ],
   "source": [
    "num1=int(input(\"enter your 1st number:\"))\n",
    "num2=int(input(\"enter your 2nd number:\"))\n",
    "print(num1+num2)"
   ]
  },
  {
   "cell_type": "code",
   "execution_count": 21,
   "id": "a53b3c60-1310-4173-bd1a-0c1e221c848e",
   "metadata": {},
   "outputs": [
    {
     "name": "stdin",
     "output_type": "stream",
     "text": [
      "enter your 1st number: 20\n",
      "enter your 2nd number: 60\n"
     ]
    },
    {
     "name": "stdout",
     "output_type": "stream",
     "text": [
      "80 -40 1200 0.3333333333333333\n"
     ]
    }
   ],
   "source": [
    "num1=int(input(\"enter your 1st number:\"))\n",
    "num2=int(input(\"enter your 2nd number:\"))\n",
    "print(num1+num2,num1-num2,num1*num2,num1/num2)"
   ]
  },
  {
   "cell_type": "code",
   "execution_count": 23,
   "id": "b49691b1-cb2c-4372-8a27-8dd67258a7c1",
   "metadata": {},
   "outputs": [
    {
     "name": "stdin",
     "output_type": "stream",
     "text": [
      "enter your 1st number: 10\n",
      "enter your 2nd number: 10\n",
      "enter your operation +,-,*,/ +\n"
     ]
    },
    {
     "name": "stdout",
     "output_type": "stream",
     "text": [
      "20\n"
     ]
    }
   ],
   "source": [
    "num1=int(input(\"enter your 1st number:\"))\n",
    "num2=int(input(\"enter your 2nd number:\"))\n",
    "sppose=input(\"enter your operation +,-,*,/\")\n",
    "\n",
    "if sppose==\"+\":\n",
    "    print(num1+num2)\n",
    "\n",
    "else:\n",
    "    print(num1-num2)\n",
    "\n"
   ]
  },
  {
   "cell_type": "code",
   "execution_count": 24,
   "id": "4195fa1a-15ec-4841-8303-0161585d1f14",
   "metadata": {},
   "outputs": [
    {
     "name": "stdin",
     "output_type": "stream",
     "text": [
      "enter your 1st number: 10\n",
      "enter your 2nd number: 20\n",
      "enter your operation +,-,*,/ -\n"
     ]
    },
    {
     "name": "stdout",
     "output_type": "stream",
     "text": [
      "-10\n"
     ]
    }
   ],
   "source": [
    "num1=int(input(\"enter your 1st number:\"))\n",
    "num2=int(input(\"enter your 2nd number:\"))\n",
    "sppose=input(\"enter your operation +,-,*,/\")\n",
    "\n",
    "if sppose==\"+\":\n",
    "    print(num1+num2)\n",
    "\n",
    "else:\n",
    "    print(num1-num2)\n"
   ]
  },
  {
   "cell_type": "code",
   "execution_count": 25,
   "id": "9d12d46c-13c2-4ce1-ae41-6e1faa03ac16",
   "metadata": {},
   "outputs": [
    {
     "name": "stdin",
     "output_type": "stream",
     "text": [
      "enter your 1st number: 12\n",
      "enter your 2nd number: 13\n",
      "enter your operation +,-,*,/ *\n"
     ]
    },
    {
     "name": "stdout",
     "output_type": "stream",
     "text": [
      "-1\n"
     ]
    }
   ],
   "source": [
    "num1=int(input(\"enter your 1st number:\"))\n",
    "num2=int(input(\"enter your 2nd number:\"))\n",
    "sppose=input(\"enter your operation +,-,*,/\")\n",
    "\n",
    "if sppose==\"+\":\n",
    "    print(num1+num2)\n",
    "\n",
    "else:\n",
    "    print(num1-num2)\n"
   ]
  },
  {
   "cell_type": "code",
   "execution_count": 26,
   "id": "3f49f833-8ab3-4bc1-a84c-3e7437a076eb",
   "metadata": {},
   "outputs": [
    {
     "name": "stdin",
     "output_type": "stream",
     "text": [
      "enter your 1st number: gggugu\n"
     ]
    },
    {
     "ename": "ValueError",
     "evalue": "invalid literal for int() with base 10: 'gggugu'",
     "output_type": "error",
     "traceback": [
      "\u001b[1;31m---------------------------------------------------------------------------\u001b[0m",
      "\u001b[1;31mValueError\u001b[0m                                Traceback (most recent call last)",
      "Cell \u001b[1;32mIn[26], line 1\u001b[0m\n\u001b[1;32m----> 1\u001b[0m num1\u001b[38;5;241m=\u001b[39m\u001b[38;5;28;43mint\u001b[39;49m\u001b[43m(\u001b[49m\u001b[38;5;28;43minput\u001b[39;49m\u001b[43m(\u001b[49m\u001b[38;5;124;43m\"\u001b[39;49m\u001b[38;5;124;43menter your 1st number:\u001b[39;49m\u001b[38;5;124;43m\"\u001b[39;49m\u001b[43m)\u001b[49m\u001b[43m)\u001b[49m\n\u001b[0;32m      2\u001b[0m num2\u001b[38;5;241m=\u001b[39m\u001b[38;5;28mint\u001b[39m(\u001b[38;5;28minput\u001b[39m(\u001b[38;5;124m\"\u001b[39m\u001b[38;5;124menter your 2nd number:\u001b[39m\u001b[38;5;124m\"\u001b[39m))\n\u001b[0;32m      3\u001b[0m sppose\u001b[38;5;241m=\u001b[39m\u001b[38;5;28minput\u001b[39m(\u001b[38;5;124m\"\u001b[39m\u001b[38;5;124menter your operation +,-,*,/\u001b[39m\u001b[38;5;124m\"\u001b[39m)\n",
      "\u001b[1;31mValueError\u001b[0m: invalid literal for int() with base 10: 'gggugu'"
     ]
    }
   ],
   "source": [
    "num1=int(input(\"enter your 1st number:\"))\n",
    "num2=int(input(\"enter your 2nd number:\"))\n",
    "sppose=input(\"enter your operation +,-,*,/\")\n",
    "\n",
    "if sppose==\"+\":\n",
    "    print(num1+num2)\n",
    "\n",
    "else:\n",
    "    print(num1-num2)\n"
   ]
  },
  {
   "cell_type": "code",
   "execution_count": 34,
   "id": "f958a975-3d08-4a5a-84fd-5815ef9c5715",
   "metadata": {},
   "outputs": [
    {
     "name": "stdin",
     "output_type": "stream",
     "text": [
      "enter your 1st number: 10\n",
      "enter your 2nd number: 20\n",
      "enter your operation +,-,*,/ *\n"
     ]
    },
    {
     "ename": "NameError",
     "evalue": "name 'spoose' is not defined",
     "output_type": "error",
     "traceback": [
      "\u001b[1;31m---------------------------------------------------------------------------\u001b[0m",
      "\u001b[1;31mNameError\u001b[0m                                 Traceback (most recent call last)",
      "Cell \u001b[1;32mIn[34], line 9\u001b[0m\n\u001b[0;32m      5\u001b[0m \u001b[38;5;28;01mif\u001b[39;00m sppose\u001b[38;5;241m==\u001b[39m\u001b[38;5;124m\"\u001b[39m\u001b[38;5;124m+\u001b[39m\u001b[38;5;124m\"\u001b[39m:\n\u001b[0;32m      6\u001b[0m     \u001b[38;5;28mprint\u001b[39m(num1\u001b[38;5;241m+\u001b[39mnum2)\n\u001b[1;32m----> 9\u001b[0m \u001b[38;5;28;01melif\u001b[39;00m \u001b[43mspoose\u001b[49m\u001b[38;5;241m==\u001b[39m\u001b[38;5;124m\"\u001b[39m\u001b[38;5;124m*\u001b[39m\u001b[38;5;124m\"\u001b[39m:\n\u001b[0;32m     10\u001b[0m     \u001b[38;5;28mprint\u001b[39m(num1\u001b[38;5;241m*\u001b[39mnum2)\n",
      "\u001b[1;31mNameError\u001b[0m: name 'spoose' is not defined"
     ]
    }
   ],
   "source": [
    "num1=int(input(\"enter your 1st number:\"))\n",
    "num2=int(input(\"enter your 2nd number:\"))\n",
    "sppose=input(\"enter your operation +,-,*,/\")\n",
    "\n",
    "if sppose==\"+\":\n",
    "    print(num1+num2)\n",
    "    \n",
    "\n",
    "elif spoose==\"*\":\n",
    "    print(num1*num2)\n",
    "\n"
   ]
  },
  {
   "cell_type": "code",
   "execution_count": 42,
   "id": "98a962e7-3c42-40b4-ba5f-27b00b4cde65",
   "metadata": {},
   "outputs": [
    {
     "name": "stdin",
     "output_type": "stream",
     "text": [
      "enter your 1st number: 10\n",
      "enter your 2nd number: 20\n",
      "enter your operation +,-,*,/ -\n"
     ]
    },
    {
     "name": "stdout",
     "output_type": "stream",
     "text": [
      "30\n"
     ]
    }
   ],
   "source": [
    "num1=int(input(\"enter your 1st number:\"))\n",
    "num2=int(input(\"enter your 2nd number:\"))\n",
    "sppose=input(\"enter your operation +,-,*,/\")\n",
    "\n",
    "if sppose==\"-\":\n",
    "    print(num1+num2)\n",
    "\n",
    "elif sppose==\"-\":\n",
    "    print(num1-num2)\n"
   ]
  },
  {
   "cell_type": "code",
   "execution_count": 41,
   "id": "0193df85-0dd3-4e30-8a93-7db07e768eea",
   "metadata": {},
   "outputs": [
    {
     "name": "stdin",
     "output_type": "stream",
     "text": [
      "enter your 1st number: 10\n",
      "enter your 2nd number: 20\n",
      "enter your operation +,-,*,/ /\n"
     ]
    },
    {
     "name": "stdout",
     "output_type": "stream",
     "text": [
      "0.5\n"
     ]
    }
   ],
   "source": [
    "num1=int(input(\"enter your 1st number:\"))\n",
    "num2=int(input(\"enter your 2nd number:\"))\n",
    "option=input(\"enter your operation +,-,*,/\")\n",
    "\n",
    "if option==\"+\":\n",
    "    print(num1+num2)\n",
    "\n",
    "elif option==\"-\":\n",
    "    print(num1-num2)\n",
    "\n",
    "elif option==\"*\":\n",
    "    print(num1*num2)\n",
    "\n",
    "elif option==\"/\":\n",
    "    print(num1/num2)\n",
    "\n"
   ]
  },
  {
   "cell_type": "code",
   "execution_count": 43,
   "id": "15d94873-1ee7-4b69-a618-8171c7fbc7b4",
   "metadata": {},
   "outputs": [],
   "source": [
    "# nested if else,nested"
   ]
  },
  {
   "cell_type": "code",
   "execution_count": 44,
   "id": "2e8b9ac1-1b94-4fde-8171-5a232da1f671",
   "metadata": {},
   "outputs": [
    {
     "name": "stdin",
     "output_type": "stream",
     "text": [
      "enter a number 10\n"
     ]
    },
    {
     "name": "stdout",
     "output_type": "stream",
     "text": [
      "a is positive number\n"
     ]
    }
   ],
   "source": [
    "a=int(input(\"enter a number\"))\n",
    "\n",
    "if a>=0:\n",
    "    print(\"a is positive number\")\n",
    "else:\n",
    "    print(\"a is a negative number\")\n"
   ]
  },
  {
   "cell_type": "code",
   "execution_count": 45,
   "id": "55741b55-34bb-45d6-a3e1-0feb915a0466",
   "metadata": {},
   "outputs": [
    {
     "name": "stdin",
     "output_type": "stream",
     "text": [
      "enter a number -10\n"
     ]
    },
    {
     "name": "stdout",
     "output_type": "stream",
     "text": [
      "a is a negative number\n"
     ]
    }
   ],
   "source": [
    "\n",
    "a=int(input(\"enter a number\"))\n",
    "\n",
    "if a>=0:\n",
    "    print(\"a is positive number\")\n",
    "else:\n",
    "    print(\"a is a negative number\")"
   ]
  },
  {
   "cell_type": "code",
   "execution_count": 48,
   "id": "0eff34ff-f248-4f12-8678-ad9c634c8578",
   "metadata": {},
   "outputs": [
    {
     "name": "stdin",
     "output_type": "stream",
     "text": [
      "enter a number 10\n"
     ]
    },
    {
     "name": "stdout",
     "output_type": "stream",
     "text": [
      "a is positive number\n",
      "a is even number\n"
     ]
    }
   ],
   "source": [
    "a=int(input(\"enter a number\"))\n",
    "\n",
    "if a>=0:\n",
    "    print(\"a is positive number\")\n",
    "    if a%2==0:\n",
    "        print(\"a is even number\")\n",
    "    else:\n",
    "        print(\"a is odd number\")\n",
    "else:\n",
    "    print(\"a is a negative number\")\n"
   ]
  },
  {
   "cell_type": "code",
   "execution_count": 49,
   "id": "d3596c78-bc83-4e33-8cb0-8db6b02f501a",
   "metadata": {},
   "outputs": [],
   "source": [
    "a=\"this is chanchal\""
   ]
  },
  {
   "cell_type": "code",
   "execution_count": 50,
   "id": "91436f57-4a22-4c4b-a196-66bd200f7854",
   "metadata": {},
   "outputs": [
    {
     "name": "stdout",
     "output_type": "stream",
     "text": [
      "this is chanchal\n"
     ]
    }
   ],
   "source": [
    "print(a)"
   ]
  },
  {
   "cell_type": "code",
   "execution_count": 51,
   "id": "3765a8ef-8fb9-45da-9b63-1a00bcb55300",
   "metadata": {},
   "outputs": [],
   "source": [
    "a=\"this36777358888 iqwyy444s chanchal\""
   ]
  },
  {
   "cell_type": "code",
   "execution_count": 52,
   "id": "59363292-6040-44ae-9b1a-f214503c30a7",
   "metadata": {},
   "outputs": [],
   "source": [
    "import re"
   ]
  },
  {
   "cell_type": "code",
   "execution_count": 53,
   "id": "1877d5cc-bea1-4061-a42d-7f9c051b8aa5",
   "metadata": {},
   "outputs": [
    {
     "data": {
      "text/plain": [
       "'thisiqwyyschanchal'"
      ]
     },
     "execution_count": 53,
     "metadata": {},
     "output_type": "execute_result"
    }
   ],
   "source": [
    "re.sub(\"[^a-z]\",\"\",a)"
   ]
  },
  {
   "cell_type": "code",
   "execution_count": 54,
   "id": "68677b4e-6fd2-4c5e-9925-cd453b643dca",
   "metadata": {},
   "outputs": [],
   "source": [
    "a=\"this is chanchal i am pisces\"\n",
    "\n",
    "\n"
   ]
  },
  {
   "cell_type": "code",
   "execution_count": 55,
   "id": "bd71fb19-ee79-4140-8635-fd8e26a2f84d",
   "metadata": {},
   "outputs": [],
   "source": [
    "name=\"aradhita\"\n",
    "age=("
   ]
  },
  {
   "cell_type": "code",
   "execution_count": null,
   "id": "5429966c-1f18-4765-affe-47933303992b",
   "metadata": {},
   "outputs": [],
   "source": [
    "a=\"this is {} i am \".format()\n",
    "\n"
   ]
  },
  {
   "cell_type": "code",
   "execution_count": 1,
   "id": "98de106f-d77e-49d9-9b51-5cc1fbd23058",
   "metadata": {},
   "outputs": [
    {
     "name": "stdin",
     "output_type": "stream",
     "text": [
      "enter a number 10\n"
     ]
    },
    {
     "name": "stdout",
     "output_type": "stream",
     "text": [
      "number is positive,odd\n"
     ]
    }
   ],
   "source": [
    "user=eval(input(\"enter a number\"))\n",
    "if user%2==0:\n",
    "    print(\"number is positive,odd\")\n",
    "elif user%3==0:\n",
    "    print(\"number is positvie,even\")\n",
    "elif user%4==0:\n",
    "    print(\"number is positive,odd\")\n",
    "else :\n",
    "    print(\"invalid\")"
   ]
  },
  {
   "cell_type": "code",
   "execution_count": 19,
   "id": "4dd1613e-d79c-40a2-a21c-0a40b8ebc7d6",
   "metadata": {},
   "outputs": [
    {
     "name": "stdin",
     "output_type": "stream",
     "text": [
      "enter your age: 12\n"
     ]
    },
    {
     "name": "stdout",
     "output_type": "stream",
     "text": [
      "speed thrills but kills\n"
     ]
    }
   ],
   "source": [
    "# if statement\n",
    "age=int(input(\"enter your age:\"))\n",
    "if age>18:\n",
    "    print(\"you can apply for the voter id\")\n",
    "else:\n",
    "    print(\"speed thrills but kills\")\n"
   ]
  },
  {
   "cell_type": "code",
   "execution_count": 24,
   "id": "e1511bf3-e3b0-4ce5-b4f7-5b49c575e65e",
   "metadata": {},
   "outputs": [
    {
     "name": "stdin",
     "output_type": "stream",
     "text": [
      "enter your age: 19\n"
     ]
    },
    {
     "name": "stdout",
     "output_type": "stream",
     "text": [
      "you can apply for the voter id\n",
      "speed thrills but kills\n"
     ]
    }
   ],
   "source": [
    "age=int(input(\"enter your age:\"))\n",
    "if age>18:\n",
    "    print(\"you can apply for the voter id\")\n",
    "    print(\"speed thrills but kills\")\n",
    "    "
   ]
  },
  {
   "cell_type": "code",
   "execution_count": 26,
   "id": "0acda298-3d0b-4c5d-80dc-5685d3054cdd",
   "metadata": {},
   "outputs": [
    {
     "name": "stdin",
     "output_type": "stream",
     "text": [
      "enter your age: 12\n"
     ]
    },
    {
     "name": "stdout",
     "output_type": "stream",
     "text": [
      "wait for 18\n"
     ]
    }
   ],
   "source": [
    "age=int(input(\"enter your age:\"))\n",
    "if age>18:\n",
    "    print(\"you can apply for the voter id\")\n",
    "\n",
    "else:\n",
    "    \n",
    "    print(\"wait for 18\")"
   ]
  },
  {
   "cell_type": "code",
   "execution_count": 27,
   "id": "e93d197f-0bda-4e0c-ba42-488fb8771abe",
   "metadata": {},
   "outputs": [],
   "source": [
    "# if elif else..."
   ]
  },
  {
   "cell_type": "code",
   "execution_count": 30,
   "id": "55a539b4-2b58-4bba-a937-77a733697561",
   "metadata": {},
   "outputs": [
    {
     "name": "stdout",
     "output_type": "stream",
     "text": [
      "you will marry with a super model\n"
     ]
    }
   ],
   "source": [
    "handsome='true'\n",
    "good_salary='true'\n",
    "if handsome=='true' and good_salary=='true':\n",
    "    print(\"you will marry with a super model\")\n",
    "elif handsome!='true' and good_salary=='true':\n",
    "    print(\"you will marry with a beautiful girl\")\n",
    "elif handsome=='true' and good_salary!='true':\n",
    "    print(\"you will marry with a girl\")\n",
    "\n",
    "else:\n",
    "    print(\"bhagwan bharose\")\n"
   ]
  },
  {
   "cell_type": "code",
   "execution_count": 31,
   "id": "ed4d603a-677e-4407-9597-ce589188ec89",
   "metadata": {},
   "outputs": [
    {
     "name": "stdout",
     "output_type": "stream",
     "text": [
      "you will marry with a girl\n"
     ]
    }
   ],
   "source": [
    "handsome='true'\n",
    "good_salary='false'\n",
    "if handsome=='true' and good_salary=='true':\n",
    "    print(\"you will marry with a super model\")\n",
    "elif handsome!='true' and good_salary=='true':\n",
    "    print(\"you will marry with a beautiful girl\")\n",
    "elif handsome=='true' and good_salary!='true':\n",
    "    print(\"you will marry with a girl\")\n",
    "\n",
    "else:\n",
    "    print(\"bhagwan bharose\")"
   ]
  },
  {
   "cell_type": "code",
   "execution_count": 32,
   "id": "402f2ab5-a82d-4435-a186-c9899ac6a76a",
   "metadata": {},
   "outputs": [
    {
     "name": "stdout",
     "output_type": "stream",
     "text": [
      "you will marry with a beautiful girl\n"
     ]
    }
   ],
   "source": [
    "handsome='false'\n",
    "good_salary='true'\n",
    "if handsome=='true' and good_salary=='true':\n",
    "    print(\"you will marry with a super model\")\n",
    "elif handsome!='true' and good_salary=='true':\n",
    "    print(\"you will marry with a beautiful girl\")\n",
    "elif handsome=='true' and good_salary!='true':\n",
    "    print(\"you will marry with a girl\")\n",
    "\n",
    "else:\n",
    "    print(\"bhagwan bharose\")"
   ]
  },
  {
   "cell_type": "code",
   "execution_count": 33,
   "id": "d5f0e86b-eafd-47e3-a3b3-0fb817790e6d",
   "metadata": {},
   "outputs": [
    {
     "name": "stdout",
     "output_type": "stream",
     "text": [
      "bhagwan bharose\n"
     ]
    }
   ],
   "source": [
    "handsome='false'\n",
    "good_salary='false'\n",
    "if handsome=='true' and good_salary=='true':\n",
    "    print(\"you will marry with a super model\")\n",
    "elif handsome!='true' and good_salary=='true':\n",
    "    print(\"you will marry with a beautiful girl\")\n",
    "elif handsome=='true' and good_salary!='true':\n",
    "    print(\"you will marry with a girl\")\n",
    "\n",
    "else:\n",
    "    print(\"bhagwan bharose\")"
   ]
  },
  {
   "cell_type": "code",
   "execution_count": 34,
   "id": "4ee80474-fe82-48bf-8075-b2dd27ac552c",
   "metadata": {},
   "outputs": [],
   "source": [
    "# nested if"
   ]
  },
  {
   "cell_type": "code",
   "execution_count": 42,
   "id": "11f895c5-1266-444a-afde-70d7195b7f14",
   "metadata": {},
   "outputs": [
    {
     "ename": "SyntaxError",
     "evalue": "invalid syntax (421763566.py, line 11)",
     "output_type": "error",
     "traceback": [
      "\u001b[1;36m  Cell \u001b[1;32mIn[42], line 11\u001b[1;36m\u001b[0m\n\u001b[1;33m    else:\u001b[0m\n\u001b[1;37m    ^\u001b[0m\n\u001b[1;31mSyntaxError\u001b[0m\u001b[1;31m:\u001b[0m invalid syntax\n"
     ]
    }
   ],
   "source": [
    "# nested if \n",
    "age= 20\n",
    "own_car='false'\n",
    "# outer if statement\n",
    "if (age>=18):\n",
    "    print(\"you can drive a car\")\n",
    "    if (own_car == 'true'):\n",
    "        print(\"drive you car\")\n",
    "    else:\n",
    "        print(\"work hard and purchase a car\")\n",
    "    else:\n",
    "    print(\"bade to ho jao phle\")\n",
    "    "
   ]
  },
  {
   "cell_type": "code",
   "execution_count": 49,
   "id": "99af05c5-9c8c-41df-85ab-1a2fd05ad181",
   "metadata": {},
   "outputs": [
    {
     "ename": "IndentationError",
     "evalue": "expected an indented block after 'if' statement on line 5 (1844004550.py, line 6)",
     "output_type": "error",
     "traceback": [
      "\u001b[1;36m  Cell \u001b[1;32mIn[49], line 6\u001b[1;36m\u001b[0m\n\u001b[1;33m    else:\u001b[0m\n\u001b[1;37m    ^\u001b[0m\n\u001b[1;31mIndentationError\u001b[0m\u001b[1;31m:\u001b[0m expected an indented block after 'if' statement on line 5\n"
     ]
    }
   ],
   "source": [
    "age=20\n",
    "own_car='false'\n",
    "if (age>=18):\n",
    "    print(\"you can drive your car\")\n",
    "    if (own_car == \"true\"):\n",
    "    else:\n",
    "        print(\"work hard and buy one for urself\")\n",
    "    else:\n",
    "    (\"wait for 18\")\n"
   ]
  },
  {
   "cell_type": "code",
   "execution_count": 2,
   "id": "6dfe046d-3b18-4f1c-8fd7-cde217043ae4",
   "metadata": {},
   "outputs": [
    {
     "name": "stdin",
     "output_type": "stream",
     "text": [
      "enter your 1st number: 10\n",
      "enter your 2nd number: 20\n",
      "enter your operation +,-,*,/ werrr\n"
     ]
    }
   ],
   "source": [
    "num1=int(input(\"enter your 1st number:\"))\n",
    "num2=int(input(\"enter your 2nd number:\"))\n",
    "option=input(\"enter your operation +,-,*,/\")\n",
    "\n",
    "if option==\"+\":\n",
    "    print(num1+num2)\n",
    "\n",
    "elif option==\"-\":\n",
    "    print(num1-num2)\n",
    "\n",
    "elif option==\"*\":\n",
    "    print(num1*num2)\n",
    "\n",
    "elif option==\"/\":\n",
    "    print(num1/num2)"
   ]
  },
  {
   "cell_type": "code",
   "execution_count": 4,
   "id": "3ef44710-3edf-48c6-9f5b-a74dc0ec4119",
   "metadata": {},
   "outputs": [
    {
     "name": "stdin",
     "output_type": "stream",
     "text": [
      "enter your 1st number: 20\n",
      "enter your 2nd number: 12\n",
      "enter your operation +,-,*,/ ugikkkkkkkkkkkkkkt\n"
     ]
    },
    {
     "name": "stdout",
     "output_type": "stream",
     "text": [
      "kindly choose a valid option\n"
     ]
    }
   ],
   "source": [
    "num1=int(input(\"enter your 1st number:\"))\n",
    "num2=int(input(\"enter your 2nd number:\"))\n",
    "option=input(\"enter your operation +,-,*,/\")\n",
    "\n",
    "if option==\"+\":\n",
    "    print(num1+num2)\n",
    "\n",
    "elif option==\"-\":\n",
    "    print(num1-num2)\n",
    "\n",
    "elif option==\"*\":\n",
    "    print(num1*num2)\n",
    "\n",
    "elif option==\"/\":\n",
    "    print(num1/num2)\n",
    "else:\n",
    "    print(\"kindly choose a valid option\")"
   ]
  },
  {
   "cell_type": "code",
   "execution_count": 5,
   "id": "3db409f8-6690-4966-a064-d996b2bf1193",
   "metadata": {},
   "outputs": [
    {
     "name": "stdin",
     "output_type": "stream",
     "text": [
      "enter your 1st number: 10\n",
      "enter your 2nd number: 20\n",
      "enter your operation +,-,*,/ **\n"
     ]
    },
    {
     "name": "stdout",
     "output_type": "stream",
     "text": [
      "100000000000000000000\n"
     ]
    }
   ],
   "source": [
    "num1=int(input(\"enter your 1st number:\"))\n",
    "num2=int(input(\"enter your 2nd number:\"))\n",
    "option=input(\"enter your operation +,-,*,/\")\n",
    "\n",
    "if option==\"+\":\n",
    "    print(num1+num2)\n",
    "\n",
    "elif option==\"-\":\n",
    "    print(num1-num2)\n",
    "\n",
    "elif option==\"*\":\n",
    "    print(num1*num2)\n",
    "\n",
    "elif option==\"/\":\n",
    "    print(num1/num2)\n",
    "elif option==\"%\":\n",
    "    print(num1%num2)\n",
    "elif option==\"**\":\n",
    "    print(num1**num2)\n",
    "elif option==\"//\":\n",
    "    print(num1//num2)\n",
    "else:\n",
    "    print(\"please choose a valid answer\")\n",
    "\n"
   ]
  },
  {
   "cell_type": "code",
   "execution_count": 6,
   "id": "e1f9d0c2-2d47-4290-8c37-3d4263bf7294",
   "metadata": {},
   "outputs": [
    {
     "name": "stdin",
     "output_type": "stream",
     "text": [
      "enter your 1st number: 10\n",
      "enter your 2nd number: 20\n",
      "enter your operation +,-,*,/ //\n"
     ]
    },
    {
     "name": "stdout",
     "output_type": "stream",
     "text": [
      "0\n"
     ]
    }
   ],
   "source": [
    "num1=int(input(\"enter your 1st number:\"))\n",
    "num2=int(input(\"enter your 2nd number:\"))\n",
    "option=input(\"enter your operation +,-,*,/\")\n",
    "\n",
    "if option==\"+\":\n",
    "    print(num1+num2)\n",
    "\n",
    "elif option==\"-\":\n",
    "    print(num1-num2)\n",
    "\n",
    "elif option==\"*\":\n",
    "    print(num1*num2)\n",
    "\n",
    "elif option==\"/\":\n",
    "    print(num1/num2)\n",
    "elif option==\"%\":\n",
    "    print(num1%num2)\n",
    "elif option==\"**\":\n",
    "    print(num1**num2)\n",
    "elif option==\"//\":\n",
    "    print(num1//num2)\n",
    "else:\n",
    "    print(\"please choose a valid answer\")"
   ]
  },
  {
   "cell_type": "code",
   "execution_count": 8,
   "id": "1e3e3cbe-c0ef-4032-b345-9008e22b13d8",
   "metadata": {},
   "outputs": [
    {
     "name": "stdin",
     "output_type": "stream",
     "text": [
      "enter your 1st number: 50\n",
      "enter your 2nd number: 30\n",
      "enter your operation +,-,*,/,%,**,// %\n"
     ]
    },
    {
     "name": "stdout",
     "output_type": "stream",
     "text": [
      "20\n"
     ]
    }
   ],
   "source": [
    "num1=int(input(\"enter your 1st number:\"))\n",
    "num2=int(input(\"enter your 2nd number:\"))\n",
    "option=input(\"enter your operation +,-,*,/,%,**,//\")\n",
    "\n",
    "if option==\"+\":\n",
    "    print(num1+num2)\n",
    "\n",
    "elif option==\"-\":\n",
    "    print(num1-num2)\n",
    "\n",
    "elif option==\"*\":\n",
    "    print(num1*num2)\n",
    "\n",
    "elif option==\"/\":\n",
    "    print(num1/num2)\n",
    "elif option==\"%\":\n",
    "    print(num1%num2)\n",
    "elif option==\"**\":\n",
    "    print(num1**num2)\n",
    "elif option==\"//\":\n",
    "    print(num1//num2)\n",
    "else:\n",
    "    print(\"please choose a valid answer\")\n",
    "    "
   ]
  },
  {
   "cell_type": "code",
   "execution_count": 9,
   "id": "039b579d-dc33-4b22-92d8-0907ec0d8dc7",
   "metadata": {},
   "outputs": [
    {
     "data": {
      "text/plain": [
       "20"
      ]
     },
     "execution_count": 9,
     "metadata": {},
     "output_type": "execute_result"
    }
   ],
   "source": [
    "50 % 30"
   ]
  },
  {
   "cell_type": "code",
   "execution_count": 10,
   "id": "4c8bbd46-9b3c-45cb-aafe-9f014a313b82",
   "metadata": {},
   "outputs": [],
   "source": [
    "#comyle type error # when interpretor covert code english to binary\n",
    "# run tyme error when u are running ur code nd it gie an erroe"
   ]
  },
  {
   "cell_type": "code",
   "execution_count": 11,
   "id": "b41d8bf0-4b49-4ed6-b90c-2db2b9479ca6",
   "metadata": {},
   "outputs": [
    {
     "name": "stdin",
     "output_type": "stream",
     "text": [
      "enter a number krishna\n"
     ]
    },
    {
     "ename": "ValueError",
     "evalue": "invalid literal for int() with base 10: 'krishna'",
     "output_type": "error",
     "traceback": [
      "\u001b[1;31m---------------------------------------------------------------------------\u001b[0m",
      "\u001b[1;31mValueError\u001b[0m                                Traceback (most recent call last)",
      "Cell \u001b[1;32mIn[11], line 1\u001b[0m\n\u001b[1;32m----> 1\u001b[0m a\u001b[38;5;241m=\u001b[39m\u001b[38;5;28;43mint\u001b[39;49m\u001b[43m(\u001b[49m\u001b[38;5;28;43minput\u001b[39;49m\u001b[43m(\u001b[49m\u001b[38;5;124;43m\"\u001b[39;49m\u001b[38;5;124;43menter a number\u001b[39;49m\u001b[38;5;124;43m\"\u001b[39;49m\u001b[43m)\u001b[49m\u001b[43m)\u001b[49m\n\u001b[0;32m      2\u001b[0m \u001b[38;5;28mprint\u001b[39m(a\u001b[38;5;241m/\u001b[39m\u001b[38;5;241m0\u001b[39m)\n",
      "\u001b[1;31mValueError\u001b[0m: invalid literal for int() with base 10: 'krishna'"
     ]
    }
   ],
   "source": [
    "a=int(input(\"enter a number\"))\n",
    "print(a/0)"
   ]
  },
  {
   "cell_type": "code",
   "execution_count": 12,
   "id": "759ae3ae-3d9e-4931-a67d-5eaeaf788e6d",
   "metadata": {},
   "outputs": [],
   "source": [
    "a=\"this is krishna and i am 27\""
   ]
  },
  {
   "cell_type": "code",
   "execution_count": 13,
   "id": "9ed2e7a7-98e3-4f10-a8cc-ea6639e736f3",
   "metadata": {},
   "outputs": [
    {
     "name": "stdin",
     "output_type": "stream",
     "text": [
      "enter your name: chanchal\n",
      "enter your age: 26\n"
     ]
    }
   ],
   "source": [
    "name=input(\"enter your name:\")\n",
    "age=input(\"enter your age:\")\n"
   ]
  },
  {
   "cell_type": "code",
   "execution_count": 14,
   "id": "a3d151be-cdba-40e4-bc08-36218a961f36",
   "metadata": {},
   "outputs": [
    {
     "data": {
      "text/plain": [
       "'this is chanchal and i am 26'"
      ]
     },
     "execution_count": 14,
     "metadata": {},
     "output_type": "execute_result"
    }
   ],
   "source": [
    "\"this is {} and i am {}\".format(name,age)"
   ]
  },
  {
   "cell_type": "code",
   "execution_count": 15,
   "id": "3418efd5-9aa9-4ef3-8d26-224472618b92",
   "metadata": {},
   "outputs": [],
   "source": [
    "# f string"
   ]
  },
  {
   "cell_type": "code",
   "execution_count": 16,
   "id": "ed032ff5-3085-4963-8085-ac5724c0822e",
   "metadata": {},
   "outputs": [
    {
     "name": "stdin",
     "output_type": "stream",
     "text": [
      "enter your name: chanchal\n",
      "enter your age: sharma\n"
     ]
    },
    {
     "name": "stdout",
     "output_type": "stream",
     "text": [
      "this is chanchal and i am sharma\n"
     ]
    }
   ],
   "source": [
    "name=input(\"enter your name:\")\n",
    "age=input(\"enter your age:\")\n",
    "print(f\"this is {name} and i am {age}\")"
   ]
  },
  {
   "cell_type": "code",
   "execution_count": 17,
   "id": "eaa8adc0-ee34-464e-a70e-2c2b82d325d8",
   "metadata": {},
   "outputs": [
    {
     "name": "stdin",
     "output_type": "stream",
     "text": [
      "enter your name: vibha\n",
      "enter your age: 21\n"
     ]
    },
    {
     "name": "stdout",
     "output_type": "stream",
     "text": [
      "this is vibha and i am 21\n"
     ]
    }
   ],
   "source": [
    "name=input(\"enter your name:\")\n",
    "age=input(\"enter your age:\")\n",
    "print(F\"this is {name} and i am {age}\")\n"
   ]
  },
  {
   "cell_type": "code",
   "execution_count": 32,
   "id": "3468b16a-4fb2-48a5-89a9-523084f35c0a",
   "metadata": {},
   "outputs": [
    {
     "name": "stdin",
     "output_type": "stream",
     "text": [
      "enter a number: -11\n"
     ]
    },
    {
     "name": "stdout",
     "output_type": "stream",
     "text": [
      "number is negative\n"
     ]
    }
   ],
   "source": [
    "a=int(input(\"enter a number:\"))\n",
    "if a>=0:\n",
    "    print(\"number is positive\")\n",
    "    if a%2==0:\n",
    "        print(\"number is even\")\n",
    "    else:\n",
    "        print(\"number is odd\".format(a))\n",
    "else:\n",
    "    print(\"number is negative\".format(a))\n",
    "    \n"
   ]
  },
  {
   "cell_type": "code",
   "execution_count": 33,
   "id": "d4f6a655-8e95-4e30-98d3-e80a736aa6d0",
   "metadata": {},
   "outputs": [
    {
     "name": "stdin",
     "output_type": "stream",
     "text": [
      "enter a number: -10\n"
     ]
    },
    {
     "name": "stdout",
     "output_type": "stream",
     "text": [
      "number is negative\n",
      "-10\n"
     ]
    }
   ],
   "source": [
    "a=int(input(\"enter a number:\"))\n",
    "if a>=0:\n",
    "    print(\"number is positive\")\n",
    "    if a%2==0:\n",
    "        print(\"number is even\")\n",
    "    else:\n",
    "        print(\"number is odd\".format(a))\n",
    "else:\n",
    "    print(\"number is negative\".format(a))\n",
    "    if a>-10:\n",
    "        print(abs(a))\n",
    "    else:\n",
    "        print(a)\n",
    "    "
   ]
  },
  {
   "cell_type": "code",
   "execution_count": 34,
   "id": "e6e54bc5-332d-446b-b080-cddf8fb72527",
   "metadata": {},
   "outputs": [
    {
     "name": "stdin",
     "output_type": "stream",
     "text": [
      "enter a number: -9\n"
     ]
    },
    {
     "name": "stdout",
     "output_type": "stream",
     "text": [
      "number is negative\n",
      "9\n"
     ]
    }
   ],
   "source": [
    "a=int(input(\"enter a number:\"))\n",
    "if a>=0:\n",
    "    print(\"number is positive\")\n",
    "    if a%2==0:\n",
    "        print(\"number is even\")\n",
    "    else:\n",
    "        print(\"number is odd\".format(a))\n",
    "else:\n",
    "    print(\"number is negative\".format(a))\n",
    "    if a>-10:\n",
    "        print(abs(a))\n",
    "    else:\n",
    "        print(a)"
   ]
  },
  {
   "cell_type": "markdown",
   "id": "16460afa-e258-4ae0-b7b8-c5fcf15728e1",
   "metadata": {},
   "source": [
    "# nested if elif else"
   ]
  },
  {
   "cell_type": "code",
   "execution_count": 37,
   "id": "ead8a388-8b65-4c54-84f0-e581297625dd",
   "metadata": {},
   "outputs": [
    {
     "name": "stdin",
     "output_type": "stream",
     "text": [
      "enter your age 2.5\n"
     ]
    },
    {
     "name": "stdout",
     "output_type": "stream",
     "text": [
      "i will give you toy's\n"
     ]
    }
   ],
   "source": [
    "user=eval(input(\"enter your age\"))\n",
    "if user>=0 and user<=5:\n",
    "    print(\"i will give you toy's\")"
   ]
  },
  {
   "cell_type": "code",
   "execution_count": 47,
   "id": "3c850ae1-3ae9-4a69-b129-49ffe3598653",
   "metadata": {},
   "outputs": [
    {
     "name": "stdin",
     "output_type": "stream",
     "text": [
      "enter your age 7\n"
     ]
    },
    {
     "name": "stdout",
     "output_type": "stream",
     "text": [
      "coaching\n"
     ]
    }
   ],
   "source": [
    "user=eval(input(\"enter your age\"))\n",
    "if user>=0 and user<=5:\n",
    "    print(\"i will give you toy's\")\n",
    "elif user>5 and user<=18:\n",
    "    print(\"coaching\")\n",
    "    "
   ]
  },
  {
   "cell_type": "code",
   "execution_count": 49,
   "id": "9e873cd2-8c04-44f4-88bf-b6aff4916ec4",
   "metadata": {},
   "outputs": [
    {
     "name": "stdin",
     "output_type": "stream",
     "text": [
      "enter your age 101\n"
     ]
    },
    {
     "name": "stdout",
     "output_type": "stream",
     "text": [
      "nothing\n"
     ]
    }
   ],
   "source": [
    "user=eval(input(\"enter your age\"))\n",
    "if user>=0 and user<=5:\n",
    "    print(\"i will give you toy's\")\n",
    "elif user>5 and user<=18:\n",
    "    print(\"coaching\")\n",
    "elif user>18 and user<=30:\n",
    "    print(\"trip to goa\")\n",
    "elif user>30 and user<=100:\n",
    "    print(\"4 dham yatra\")\n",
    "else:\n",
    "    print(\"nothing\")\n",
    "    "
   ]
  },
  {
   "cell_type": "code",
   "execution_count": 50,
   "id": "ee83020c-4d95-42b0-8e10-be59c2c12218",
   "metadata": {},
   "outputs": [
    {
     "name": "stdin",
     "output_type": "stream",
     "text": [
      "enter your age -5\n"
     ]
    },
    {
     "name": "stdout",
     "output_type": "stream",
     "text": [
      "nothing\n"
     ]
    }
   ],
   "source": [
    "user=eval(input(\"enter your age\"))\n",
    "if user>=0 and user<=5:\n",
    "    print(\"i will give you toy's\")\n",
    "elif user>5 and user<=18:\n",
    "    print(\"coaching\")\n",
    "elif user>18 and user<=30:\n",
    "    print(\"trip to goa\")\n",
    "elif user>30 and user<=100:\n",
    "    print(\"4 dham yatra\")\n",
    "else:\n",
    "    print(\"nothing\")"
   ]
  },
  {
   "cell_type": "code",
   "execution_count": null,
   "id": "d4f426e0-3133-4936-9dd0-8975c7d84ccf",
   "metadata": {},
   "outputs": [],
   "source": [
    "# nested if else if"
   ]
  },
  {
   "cell_type": "code",
   "execution_count": null,
   "id": "18a7ae15-5a7f-429f-ac7c-833657af2a9c",
   "metadata": {},
   "outputs": [],
   "source": [
    "user=eval(input(\"enter your age\"))\n",
    "if user>=0 and user<=5:\n",
    "    print(\"i will give you toy's\")\n",
    "elif user>5 and user<=18:\n",
    "    print(\"coaching\")\n",
    "elif user>18 and user<=30:\n",
    "    print(\"trip to goa\")\n",
    "elif user>30 and user<=100:\n",
    "    print(\"4 dham yatra\")\n",
    "else:\n",
    "    print(\"nothing\")"
   ]
  },
  {
   "cell_type": "code",
   "execution_count": null,
   "id": "8d97a1fe-160e-4007-b241-a086a64083bf",
   "metadata": {},
   "outputs": [],
   "source": []
  }
 ],
 "metadata": {
  "kernelspec": {
   "display_name": "Python 3 (ipykernel)",
   "language": "python",
   "name": "python3"
  },
  "language_info": {
   "codemirror_mode": {
    "name": "ipython",
    "version": 3
   },
   "file_extension": ".py",
   "mimetype": "text/x-python",
   "name": "python",
   "nbconvert_exporter": "python",
   "pygments_lexer": "ipython3",
   "version": "3.11.4"
  }
 },
 "nbformat": 4,
 "nbformat_minor": 5
}
