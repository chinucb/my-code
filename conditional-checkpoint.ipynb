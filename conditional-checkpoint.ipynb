{
 "cells": [
  {
   "cell_type": "markdown",
   "id": "21f8f35c-1ee0-426d-9e38-58dac8657fa8",
   "metadata": {},
   "source": [
    "# conditional programming"
   ]
  },
  {
   "cell_type": "code",
   "execution_count": 2,
   "id": "21586c81-85fe-4f78-88c0-2ef0d8af465f",
   "metadata": {},
   "outputs": [
    {
     "ename": "IndentationError",
     "evalue": "unexpected indent (1817919887.py, line 3)",
     "output_type": "error",
     "traceback": [
      "\u001b[1;36m  Cell \u001b[1;32mIn[2], line 3\u001b[1;36m\u001b[0m\n\u001b[1;33m    print(\"helo world\")\u001b[0m\n\u001b[1;37m    ^\u001b[0m\n\u001b[1;31mIndentationError\u001b[0m\u001b[1;31m:\u001b[0m unexpected indent\n"
     ]
    }
   ],
   "source": [
    "print(\"helo world\")\n",
    "print(\"helo world\")\n",
    "   print(\"helo world\")"
   ]
  },
  {
   "cell_type": "code",
   "execution_count": 3,
   "id": "59693f48-8d81-405a-a399-d2ca5c115b8d",
   "metadata": {},
   "outputs": [],
   "source": [
    "# python work on indentation \n"
   ]
  },
  {
   "cell_type": "code",
   "execution_count": 4,
   "id": "56427ccf-e926-4818-8369-f3fc19e93418",
   "metadata": {},
   "outputs": [
    {
     "name": "stdout",
     "output_type": "stream",
     "text": [
      "this is true\n",
      "hello world\n"
     ]
    }
   ],
   "source": [
    "if 10==10:\n",
    "    print(\"this is true\")\n",
    "    print(\"hello world\")"
   ]
  },
  {
   "cell_type": "code",
   "execution_count": 5,
   "id": "611de89b-3a64-4176-938d-1514eab90ccc",
   "metadata": {},
   "outputs": [
    {
     "name": "stdout",
     "output_type": "stream",
     "text": [
      "this is true\n",
      "hello world\n"
     ]
    }
   ],
   "source": [
    "if 10==10:\n",
    "    print(\"this is true\")\n",
    "    print(\"hello world\")\n",
    "else:\n",
    "    print(\"bye\")"
   ]
  },
  {
   "cell_type": "code",
   "execution_count": 6,
   "id": "46e8cf07-2e55-46c7-bae8-55bd68e7f312",
   "metadata": {},
   "outputs": [
    {
     "name": "stdout",
     "output_type": "stream",
     "text": [
      "bye\n"
     ]
    }
   ],
   "source": [
    "if 10!=10:\n",
    "    print(\"this is true\")\n",
    "    print(\"hello world\")\n",
    "\n",
    "else:\n",
    "    print(\"bye\")\n"
   ]
  },
  {
   "cell_type": "code",
   "execution_count": 8,
   "id": "a6ac7bbf-e7aa-4c7d-9bc5-804d4ee92494",
   "metadata": {},
   "outputs": [
    {
     "ename": "SyntaxError",
     "evalue": "invalid syntax (2941151715.py, line 1)",
     "output_type": "error",
     "traceback": [
      "\u001b[1;36m  Cell \u001b[1;32mIn[8], line 1\u001b[1;36m\u001b[0m\n\u001b[1;33m    else:\u001b[0m\n\u001b[1;37m    ^\u001b[0m\n\u001b[1;31mSyntaxError\u001b[0m\u001b[1;31m:\u001b[0m invalid syntax\n"
     ]
    }
   ],
   "source": [
    "else:\n",
    "      print(\"hello world\")"
   ]
  },
  {
   "cell_type": "raw",
   "id": "05416baa-e67d-435a-ac12-2e8e9753a28c",
   "metadata": {},
   "source": [
    "if else , for loop else,while loop else,try except finally else"
   ]
  },
  {
   "cell_type": "code",
   "execution_count": 10,
   "id": "a47e0262-2fa8-4988-a122-4ae7341f65b2",
   "metadata": {},
   "outputs": [
    {
     "name": "stdout",
     "output_type": "stream",
     "text": [
      "it's true:\n",
      "yes this value will run:\n"
     ]
    }
   ],
   "source": [
    "if 10==10:\n",
    "    print(\"it's true:\")\n",
    "    print(\"yes this value will run:\")\n",
    "\n",
    "else:\n",
    "    print(\"null\")\n",
    "    print(\"null and void\")"
   ]
  },
  {
   "cell_type": "code",
   "execution_count": 11,
   "id": "9e322f5d-01a7-4e0b-b7b1-1c3cd2c33428",
   "metadata": {},
   "outputs": [
    {
     "name": "stdin",
     "output_type": "stream",
     "text": [
      "which designation you are going to slect: a\n"
     ]
    },
    {
     "name": "stdout",
     "output_type": "stream",
     "text": [
      "a\n"
     ]
    }
   ],
   "source": [
    "a=input(\"which designation you are going to slect:\")\n",
    "print(a)"
   ]
  },
  {
   "cell_type": "code",
   "execution_count": 12,
   "id": "9d615eeb-22cc-4f07-bea5-3b4594a454d6",
   "metadata": {},
   "outputs": [
    {
     "name": "stdin",
     "output_type": "stream",
     "text": [
      "which designation you are going to slect: a\n"
     ]
    },
    {
     "name": "stdout",
     "output_type": "stream",
     "text": [
      "varanasi\n"
     ]
    }
   ],
   "source": [
    "a=input(\"which designation you are going to slect:\")\n",
    "if a==\"a\":\n",
    "    print(\"varanasi\")\n",
    "\n",
    "else:\n",
    "    print(\"kanyakumari\")\n",
    "\n",
    "\n",
    "    "
   ]
  },
  {
   "cell_type": "code",
   "execution_count": 13,
   "id": "f907cdcf-9db6-4832-b256-fd20c90dcac8",
   "metadata": {},
   "outputs": [
    {
     "name": "stdin",
     "output_type": "stream",
     "text": [
      "which designation you are going to slect: b\n"
     ]
    },
    {
     "name": "stdout",
     "output_type": "stream",
     "text": [
      "kanyakumari\n"
     ]
    }
   ],
   "source": [
    "a=input(\"which designation you are going to slect:\")\n",
    "if a==\"a\":\n",
    "    print(\"varanasi\")\n",
    "\n",
    "else:\n",
    "    print(\"kanyakumari\")"
   ]
  },
  {
   "cell_type": "code",
   "execution_count": 14,
   "id": "35c99c19-f99c-4690-9191-2106d3b0ac86",
   "metadata": {},
   "outputs": [
    {
     "ename": "SyntaxError",
     "evalue": "invalid syntax (2321353158.py, line 1)",
     "output_type": "error",
     "traceback": [
      "\u001b[1;36m  Cell \u001b[1;32mIn[14], line 1\u001b[1;36m\u001b[0m\n\u001b[1;33m    is \"a\"=\"a\"\u001b[0m\n\u001b[1;37m    ^\u001b[0m\n\u001b[1;31mSyntaxError\u001b[0m\u001b[1;31m:\u001b[0m invalid syntax\n"
     ]
    }
   ],
   "source": [
    "is \"a\"=\"a\""
   ]
  },
  {
   "cell_type": "code",
   "execution_count": 15,
   "id": "04d7cc49-2a31-4dbd-8827-064b3b76958c",
   "metadata": {},
   "outputs": [
    {
     "name": "stdin",
     "output_type": "stream",
     "text": [
      "enter first no: 10\n",
      "enter second no: 20\n"
     ]
    }
   ],
   "source": [
    "a=int(input(\"enter first no:\"))\n",
    "num=int(input(\"enter second no:\"))\n"
   ]
  },
  {
   "cell_type": "code",
   "execution_count": 16,
   "id": "934e5b4a-66e9-4705-ad50-7a9ba270441b",
   "metadata": {},
   "outputs": [
    {
     "name": "stdout",
     "output_type": "stream",
     "text": [
      "10\n"
     ]
    }
   ],
   "source": [
    "print(a)"
   ]
  },
  {
   "cell_type": "code",
   "execution_count": 17,
   "id": "28b43439-0b27-44b0-ab3a-27dfc1b15d22",
   "metadata": {},
   "outputs": [
    {
     "data": {
      "text/plain": [
       "30"
      ]
     },
     "execution_count": 17,
     "metadata": {},
     "output_type": "execute_result"
    }
   ],
   "source": [
    "a+num"
   ]
  },
  {
   "cell_type": "code",
   "execution_count": 18,
   "id": "f7114a44-30d8-49e2-93b2-77e07d691113",
   "metadata": {},
   "outputs": [
    {
     "name": "stdin",
     "output_type": "stream",
     "text": [
      "enter first no: 10\n",
      "enter second no: 20\n"
     ]
    },
    {
     "name": "stdout",
     "output_type": "stream",
     "text": [
      "30\n"
     ]
    }
   ],
   "source": [
    "a=int(input(\"enter first no:\"))\n",
    "num=int(input(\"enter second no:\"))\n",
    "print(num+a)"
   ]
  },
  {
   "cell_type": "code",
   "execution_count": 21,
   "id": "076adcce-c77f-4513-ac5b-41ed8a25e9f3",
   "metadata": {},
   "outputs": [
    {
     "name": "stdin",
     "output_type": "stream",
     "text": [
      "enter first no: 10\n",
      "enter second no: 20\n"
     ]
    },
    {
     "name": "stdout",
     "output_type": "stream",
     "text": [
      "30\n",
      "-10\n"
     ]
    }
   ],
   "source": [
    "num=int(input(\"enter first no:\"))\n",
    "num2=int(input(\"enter second no:\"))\n",
    "print(num+num2)\n",
    "print(num-num2)"
   ]
  },
  {
   "cell_type": "code",
   "execution_count": 25,
   "id": "79bc739b-a4dc-476c-87c5-0eec69f3da10",
   "metadata": {},
   "outputs": [
    {
     "ename": "IndentationError",
     "evalue": "expected an indented block after 'else' statement on line 10 (4028717977.py, line 11)",
     "output_type": "error",
     "traceback": [
      "\u001b[1;36m  Cell \u001b[1;32mIn[25], line 11\u001b[1;36m\u001b[0m\n\u001b[1;33m    print(num-num2)\u001b[0m\n\u001b[1;37m    ^\u001b[0m\n\u001b[1;31mIndentationError\u001b[0m\u001b[1;31m:\u001b[0m expected an indented block after 'else' statement on line 10\n"
     ]
    }
   ],
   "source": [
    "num=int(input(\"enter first no:\"))\n",
    "num2=int(input(\"enter second no:\"))\n",
    "option=input(\"enter your operation +,-:\")\n",
    "\n",
    "if option==\"+\":\n",
    "    print(num+num2)\n",
    "    \n",
    "\n",
    "\n",
    "else:\n",
    "print(num-num2)"
   ]
  },
  {
   "cell_type": "code",
   "execution_count": 28,
   "id": "76a2466f-f37d-405a-9ee3-48bd3c422c2c",
   "metadata": {},
   "outputs": [
    {
     "name": "stdin",
     "output_type": "stream",
     "text": [
      "enter first number: 10\n",
      "enter your 2 number: 20\n",
      "enter your operation +,-,*,% +\n"
     ]
    },
    {
     "name": "stdout",
     "output_type": "stream",
     "text": [
      "30 200\n"
     ]
    }
   ],
   "source": [
    "num1=int(input('enter first number:'))\n",
    "num2=int(input('enter your 2 number:'))\n",
    "option=input(\"enter your operation +,-,*,%\")\n",
    "\n",
    "if option=='+':\n",
    "    print(num1+num2,num1*num2)\n",
    "else:\n",
    "    print(num1-num2,num1%num2)\n"
   ]
  },
  {
   "cell_type": "code",
   "execution_count": 29,
   "id": "cb3b1597-3a50-4292-b509-4d1e74f26766",
   "metadata": {},
   "outputs": [
    {
     "name": "stdin",
     "output_type": "stream",
     "text": [
      "enter first number: 10\n",
      "enter your 2 number: 20\n",
      "enter your operation +,-,*,% -\n"
     ]
    },
    {
     "name": "stdout",
     "output_type": "stream",
     "text": [
      "-10 10\n"
     ]
    }
   ],
   "source": [
    "num1=int(input('enter first number:'))\n",
    "num2=int(input('enter your 2 number:'))\n",
    "option=input(\"enter your operation +,-,*,%\")\n",
    "\n",
    "if option=='+':\n",
    "    print(num1+num2,num1*num2)\n",
    "else:\n",
    "    print(num1-num2,num1%num2)"
   ]
  },
  {
   "cell_type": "code",
   "execution_count": 30,
   "id": "befdcfe1-a5d5-4e97-b284-69c71feb310c",
   "metadata": {},
   "outputs": [
    {
     "ename": "IndentationError",
     "evalue": "expected an indented block after 'elif' statement on line 7 (2355863161.py, line 8)",
     "output_type": "error",
     "traceback": [
      "\u001b[1;36m  Cell \u001b[1;32mIn[30], line 8\u001b[1;36m\u001b[0m\n\u001b[1;33m    else:\u001b[0m\n\u001b[1;37m    ^\u001b[0m\n\u001b[1;31mIndentationError\u001b[0m\u001b[1;31m:\u001b[0m expected an indented block after 'elif' statement on line 7\n"
     ]
    }
   ],
   "source": [
    "num1=int(input('enter first number:'))\n",
    "num2=int(input('enter your 2 number:'))\n",
    "option=input(\"enter your operation +,-,*,%\")\n",
    "\n",
    "if option=='+':\n",
    "    print(num1+num2,num1*num2)\n",
    "elif options== '-':   \n",
    "else:\n",
    "    print(num1-num2,num1%num2)\n",
    "    "
   ]
  },
  {
   "cell_type": "code",
   "execution_count": 31,
   "id": "ea87f30a-b9e6-4857-85b5-d1b0a2bee5f6",
   "metadata": {},
   "outputs": [
    {
     "name": "stdin",
     "output_type": "stream",
     "text": [
      "enter your 1st number: 10\n",
      "enter your 2nd number: 20\n",
      "enter your operation +,-: -\n"
     ]
    },
    {
     "name": "stdout",
     "output_type": "stream",
     "text": [
      "-10\n"
     ]
    }
   ],
   "source": [
    "num1=int(input(\"enter your 1st number:\"))\n",
    "num2=int(input(\"enter your 2nd number:\"))\n",
    "option=input(\"enter your operation +,-:\")\n",
    "\n",
    "if option==\"+\":\n",
    "    print(num1+num2)\n",
    "elif option==\"-\":\n",
    "    print(num1-num2)"
   ]
  },
  {
   "cell_type": "code",
   "execution_count": 32,
   "id": "8b7d6af9-74f9-42a6-a710-90bbf183b4c2",
   "metadata": {},
   "outputs": [
    {
     "name": "stdin",
     "output_type": "stream",
     "text": [
      "enter your 1st number: 10\n",
      "enter your 2nd number: 20\n",
      "enter your operation +,-: %\n"
     ]
    }
   ],
   "source": [
    "num1=int(input(\"enter your 1st number:\"))\n",
    "num2=int(input(\"enter your 2nd number:\"))\n",
    "option=input(\"enter your operation +,-:\")\n",
    "\n",
    "if option==\"+\":\n",
    "    print(num1+num2)\n",
    "elif option==\"-\":\n",
    "    print(num1-num2)"
   ]
  },
  {
   "cell_type": "code",
   "execution_count": 33,
   "id": "a5cd47c8-9934-4f7e-9056-04a9286ad42c",
   "metadata": {},
   "outputs": [
    {
     "name": "stdin",
     "output_type": "stream",
     "text": [
      "enter your 1st number: 10\n",
      "enter your 2nd number: 20\n",
      "enter your operation +,-: /\n"
     ]
    },
    {
     "name": "stdout",
     "output_type": "stream",
     "text": [
      "0.5\n"
     ]
    }
   ],
   "source": [
    "num1=int(input(\"enter your 1st number:\"))\n",
    "num2=int(input(\"enter your 2nd number:\"))\n",
    "option=input(\"enter your operation +,-,*,/:\")\n",
    "\n",
    "if option==\"+\":\n",
    "    print(num1+num2)\n",
    "elif option==\"-\":\n",
    "    print(num1-num2)\n",
    "elif option==\"/\":\n",
    "    print(num1/num2)\n",
    "    \n"
   ]
  },
  {
   "cell_type": "code",
   "execution_count": 34,
   "id": "14d0f89b-4045-4880-8f60-b1c37cc600f6",
   "metadata": {},
   "outputs": [
    {
     "name": "stdin",
     "output_type": "stream",
     "text": [
      "enter your 1st number: 20\n",
      "enter your 2nd number: 40\n",
      "enter your operation +,-,*,/: *\n"
     ]
    },
    {
     "name": "stdout",
     "output_type": "stream",
     "text": [
      "800\n"
     ]
    }
   ],
   "source": [
    "num1=int(input(\"enter your 1st number:\"))\n",
    "num2=int(input(\"enter your 2nd number:\"))\n",
    "option=input(\"enter your operation +,-,*,/:\")\n",
    "\n",
    "if option==\"+\":\n",
    "    print(num1+num2)\n",
    "elif option==\"-\":\n",
    "    print(num1-num2)\n",
    "elif option==\"/\":\n",
    "    print(num1/num2)\n",
    "elif option==\"*\":\n",
    "    print(num1*num2)\n",
    "    "
   ]
  },
  {
   "cell_type": "code",
   "execution_count": 35,
   "id": "d5845ab0-b49e-4c4f-b45d-499f58760474",
   "metadata": {},
   "outputs": [
    {
     "name": "stdin",
     "output_type": "stream",
     "text": [
      "enter your 1st number: 20\n",
      "enter your 2nd number: 50\n",
      "enter your operation +,-,*,/: /\n"
     ]
    },
    {
     "name": "stdout",
     "output_type": "stream",
     "text": [
      "0.4\n"
     ]
    }
   ],
   "source": [
    "num1=int(input(\"enter your 1st number:\"))\n",
    "num2=int(input(\"enter your 2nd number:\"))\n",
    "option=input(\"enter your operation +,-,*,/:\")\n",
    "\n",
    "if option==\"+\":\n",
    "    print(num1+num2)\n",
    "elif option==\"-\":\n",
    "    print(num1-num2)\n",
    "elif option==\"/\":\n",
    "    print(num1/num2)\n",
    "elif option==\"*\":\n",
    "    print(num1*num2)"
   ]
  },
  {
   "cell_type": "markdown",
   "id": "4e2fe87e-4db2-494c-8d0a-11cacae2f986",
   "metadata": {},
   "source": [
    "# nested if else, nested if elif else"
   ]
  },
  {
   "cell_type": "code",
   "execution_count": 1,
   "id": "5f022f60-94a2-4425-b0b0-9d5dff8f208d",
   "metadata": {},
   "outputs": [
    {
     "name": "stdin",
     "output_type": "stream",
     "text": [
      "enter a number 10\n"
     ]
    },
    {
     "name": "stdout",
     "output_type": "stream",
     "text": [
      "a is positive number\n"
     ]
    }
   ],
   "source": [
    "a=int(input(\"enter a number\"))\n",
    "\n",
    "if a>=0:\n",
    "    print(\"a is positive number\")\n",
    "else:\n",
    "    print(\"a is a negative number\")\n",
    "    "
   ]
  },
  {
   "cell_type": "code",
   "execution_count": 3,
   "id": "92e5ede1-99f0-4180-a66b-2b22d6ade66a",
   "metadata": {},
   "outputs": [
    {
     "name": "stdin",
     "output_type": "stream",
     "text": [
      "enter a number 10%2\n"
     ]
    },
    {
     "ename": "ValueError",
     "evalue": "invalid literal for int() with base 10: '10%2'",
     "output_type": "error",
     "traceback": [
      "\u001b[1;31m---------------------------------------------------------------------------\u001b[0m",
      "\u001b[1;31mValueError\u001b[0m                                Traceback (most recent call last)",
      "Cell \u001b[1;32mIn[3], line 1\u001b[0m\n\u001b[1;32m----> 1\u001b[0m a\u001b[38;5;241m=\u001b[39m\u001b[38;5;28;43mint\u001b[39;49m\u001b[43m(\u001b[49m\u001b[38;5;28;43minput\u001b[39;49m\u001b[43m(\u001b[49m\u001b[38;5;124;43m\"\u001b[39;49m\u001b[38;5;124;43menter a number\u001b[39;49m\u001b[38;5;124;43m\"\u001b[39;49m\u001b[43m)\u001b[49m\u001b[43m)\u001b[49m\n\u001b[0;32m      3\u001b[0m \u001b[38;5;28;01mif\u001b[39;00m a\u001b[38;5;241m>\u001b[39m\u001b[38;5;241m=\u001b[39m\u001b[38;5;241m0\u001b[39m:\n\u001b[0;32m      4\u001b[0m     \u001b[38;5;28mprint\u001b[39m(\u001b[38;5;124m\"\u001b[39m\u001b[38;5;124ma is positive number\u001b[39m\u001b[38;5;124m\"\u001b[39m)\n",
      "\u001b[1;31mValueError\u001b[0m: invalid literal for int() with base 10: '10%2'"
     ]
    }
   ],
   "source": [
    "a=int(input(\"enter a number\"))\n",
    "\n",
    "if a>=0:\n",
    "    print(\"a is positive number\")\n",
    "else:\n",
    "    print(\"a is a negative number\")\n",
    "    "
   ]
  },
  {
   "cell_type": "code",
   "execution_count": 4,
   "id": "438c8e3b-2f5b-4b43-acb5-2b01135ab92e",
   "metadata": {},
   "outputs": [
    {
     "name": "stdin",
     "output_type": "stream",
     "text": [
      "enter a number 11\n"
     ]
    },
    {
     "name": "stdout",
     "output_type": "stream",
     "text": [
      "a is positive number\n",
      "a is odd number\n"
     ]
    }
   ],
   "source": [
    "a=int(input(\"enter a number\"))\n",
    "\n",
    "if a>=0:\n",
    "    print(\"a is positive number\")\n",
    "    if a%2==0:\n",
    "        print(\"a is even number\")\n",
    "    else:\n",
    "        print(\"a is odd number\")\n",
    "else:\n",
    "    print(\"a is a negative number\")"
   ]
  },
  {
   "cell_type": "code",
   "execution_count": null,
   "id": "b4f98bc0-5fbe-4333-a475-58cccbc43ed2",
   "metadata": {},
   "outputs": [],
   "source": [
    "a=int(input(\"enter a number\"))\n",
    "\n",
    "if a>=0:\n",
    "    print(\"a is positive number\")\n",
    "    if a%2==0:\n",
    "        print(\"a is even number\")\n",
    "    else:\n",
    "        print(\"a is odd number\")\n",
    "else:\n",
    "    print(\"a is a negative number\")"
   ]
  },
  {
   "cell_type": "markdown",
   "id": "65bf728f-0143-49d9-ba43-a2f1f3bce955",
   "metadata": {},
   "source": [
    "# Revision"
   ]
  },
  {
   "cell_type": "code",
   "execution_count": null,
   "id": "7199a172-aa81-4b5b-9895-39b4ab676519",
   "metadata": {},
   "outputs": [],
   "source": []
  }
 ],
 "metadata": {
  "kernelspec": {
   "display_name": "Python 3 (ipykernel)",
   "language": "python",
   "name": "python3"
  },
  "language_info": {
   "codemirror_mode": {
    "name": "ipython",
    "version": 3
   },
   "file_extension": ".py",
   "mimetype": "text/x-python",
   "name": "python",
   "nbconvert_exporter": "python",
   "pygments_lexer": "ipython3",
   "version": "3.11.4"
  }
 },
 "nbformat": 4,
 "nbformat_minor": 5
}
