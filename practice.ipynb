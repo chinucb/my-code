{
 "cells": [
  {
   "cell_type": "code",
   "execution_count": 2,
   "id": "39a30708-b298-4f06-823a-a4de06a30adc",
   "metadata": {},
   "outputs": [
    {
     "name": "stdout",
     "output_type": "stream",
     "text": [
      "199.0\n"
     ]
    }
   ],
   "source": [
    "print(float(99)+100) # this is the way i can change integer into float value"
   ]
  },
  {
   "cell_type": "code",
   "execution_count": 3,
   "id": "4948d0a0-346c-4ed5-a85d-d9b8207f7d61",
   "metadata": {},
   "outputs": [
    {
     "name": "stdout",
     "output_type": "stream",
     "text": [
      "5.0\n"
     ]
    }
   ],
   "source": [
    "print(10/2) # integer division"
   ]
  },
  {
   "cell_type": "code",
   "execution_count": 4,
   "id": "2b449d27-9052-43e7-9dd3-723f2b4e6fb4",
   "metadata": {},
   "outputs": [
    {
     "name": "stdout",
     "output_type": "stream",
     "text": [
      "5.0\n"
     ]
    }
   ],
   "source": [
    "print(15/3)"
   ]
  },
  {
   "cell_type": "code",
   "execution_count": 5,
   "id": "db302675-db42-4b79-9430-0097d2541887",
   "metadata": {},
   "outputs": [],
   "source": [
    "sval='123'"
   ]
  },
  {
   "cell_type": "code",
   "execution_count": 6,
   "id": "08eab46c-bc0e-4b9b-9586-c0e1a446066d",
   "metadata": {},
   "outputs": [
    {
     "data": {
      "text/plain": [
       "str"
      ]
     },
     "execution_count": 6,
     "metadata": {},
     "output_type": "execute_result"
    }
   ],
   "source": [
    "type(sval)"
   ]
  },
  {
   "cell_type": "code",
   "execution_count": 8,
   "id": "89af57f8-c115-47ac-b1fe-fc455c3bd186",
   "metadata": {},
   "outputs": [
    {
     "ename": "TypeError",
     "evalue": "can only concatenate str (not \"int\") to str",
     "output_type": "error",
     "traceback": [
      "\u001b[1;31m---------------------------------------------------------------------------\u001b[0m",
      "\u001b[1;31mTypeError\u001b[0m                                 Traceback (most recent call last)",
      "Cell \u001b[1;32mIn[8], line 1\u001b[0m\n\u001b[1;32m----> 1\u001b[0m \u001b[38;5;28mprint\u001b[39m(\u001b[43msval\u001b[49m\u001b[38;5;241;43m+\u001b[39;49m\u001b[38;5;241;43m1\u001b[39;49m) \u001b[38;5;66;03m# we cant convert string int to string\u001b[39;00m\n",
      "\u001b[1;31mTypeError\u001b[0m: can only concatenate str (not \"int\") to str"
     ]
    }
   ],
   "source": [
    "print(sval+1) # we cant convert string int to string"
   ]
  },
  {
   "cell_type": "code",
   "execution_count": 9,
   "id": "3447ad35-6663-463f-8fb6-28628b8b4037",
   "metadata": {},
   "outputs": [],
   "source": [
    "nam=('who are you?')"
   ]
  },
  {
   "cell_type": "code",
   "execution_count": 12,
   "id": "360d9b78-c295-4540-9f20-e9bd720af455",
   "metadata": {},
   "outputs": [
    {
     "name": "stdout",
     "output_type": "stream",
     "text": [
      "welcome who are you?\n"
     ]
    }
   ],
   "source": [
    "print('welcome',nam)"
   ]
  },
  {
   "cell_type": "code",
   "execution_count": 13,
   "id": "32f7165e-a446-4f03-9241-378cc20ad3d0",
   "metadata": {},
   "outputs": [],
   "source": [
    "inp=('europe floor?')"
   ]
  },
  {
   "cell_type": "code",
   "execution_count": 17,
   "id": "a7602f86-355e-499e-8d6d-d58859e0439f",
   "metadata": {},
   "outputs": [
    {
     "ename": "SyntaxError",
     "evalue": "invalid syntax (1278845766.py, line 1)",
     "output_type": "error",
     "traceback": [
      "\u001b[1;36m  Cell \u001b[1;32mIn[17], line 1\u001b[1;36m\u001b[0m\n\u001b[1;33m    usf=([int.(inp)+1])\u001b[0m\n\u001b[1;37m              ^\u001b[0m\n\u001b[1;31mSyntaxError\u001b[0m\u001b[1;31m:\u001b[0m invalid syntax\n"
     ]
    }
   ],
   "source": [
    "usf=([int.(inp)+1])"
   ]
  },
  {
   "cell_type": "code",
   "execution_count": 20,
   "id": "261c5564-1210-4142-aef6-b3f1023a0cb5",
   "metadata": {},
   "outputs": [
    {
     "ename": "IndentationError",
     "evalue": "expected an indented block after 'if' statement on line 1 (919090554.py, line 2)",
     "output_type": "error",
     "traceback": [
      "\u001b[1;36m  Cell \u001b[1;32mIn[20], line 2\u001b[1;36m\u001b[0m\n\u001b[1;33m    if y == 10:\u001b[0m\n\u001b[1;37m    ^\u001b[0m\n\u001b[1;31mIndentationError\u001b[0m\u001b[1;31m:\u001b[0m expected an indented block after 'if' statement on line 1\n"
     ]
    }
   ],
   "source": [
    "if 0 == x:\n",
    "if y == 10:\n",
    "    print(\"yes\")"
   ]
  },
  {
   "cell_type": "code",
   "execution_count": 21,
   "id": "fca6e94a-f308-4bac-a5c2-48675699831a",
   "metadata": {
    "scrolled": true
   },
   "outputs": [
    {
     "data": {
      "text/plain": [
       "'!\"#$%&\\'()*+,-./:;<=>?@[\\\\]^_`{|}~'"
      ]
     },
     "execution_count": 21,
     "metadata": {},
     "output_type": "execute_result"
    }
   ],
   "source": [
    "import string\n",
    "string.punctuation"
   ]
  },
  {
   "cell_type": "code",
   "execution_count": 4,
   "id": "57ab0b45-53c3-4595-8916-57bb504ea4b1",
   "metadata": {},
   "outputs": [
    {
     "name": "stdout",
     "output_type": "stream",
     "text": [
      "hello world\n",
      "hello world\n",
      "hello world\n",
      "hello world\n"
     ]
    }
   ],
   "source": [
    "print('hello world')\n",
    "print(\"hello world\")\n",
    "print('''hello world''')\n",
    "print(\"\"\"hello world\"\"\")"
   ]
  },
  {
   "cell_type": "code",
   "execution_count": 6,
   "id": "1ba4a378-a573-4084-bdda-a49eef9ba080",
   "metadata": {},
   "outputs": [],
   "source": [
    "# we have a four type of string, single,double,tripple,doble triple."
   ]
  },
  {
   "cell_type": "code",
   "execution_count": 7,
   "id": "7a0b2904-434e-46c4-8682-082c6a36d1c9",
   "metadata": {},
   "outputs": [
    {
     "name": "stdout",
     "output_type": "stream",
     "text": [
      "this is string\n",
      "we use tripple coma\n"
     ]
    }
   ],
   "source": [
    "print('''this is string\n",
    "we use tripple coma''')"
   ]
  },
  {
   "cell_type": "code",
   "execution_count": 14,
   "id": "8f975024-3da6-497d-a5ad-171db0e82daa",
   "metadata": {},
   "outputs": [
    {
     "name": "stdout",
     "output_type": "stream",
     "text": [
      "ambhiibibub\n",
      "\n",
      "bjhubjggu\n"
     ]
    }
   ],
   "source": [
    "print(\"\"\"ambhiibibub\n",
    "\n",
    "bjhubjggu\"\"\")"
   ]
  },
  {
   "cell_type": "code",
   "execution_count": 13,
   "id": "124b4b8f-2f85-492e-a0ad-f62c555ed2fd",
   "metadata": {},
   "outputs": [
    {
     "name": "stdout",
     "output_type": "stream",
     "text": [
      "this is chanchcal sharma\n",
      "hie i have been detected an issue\n",
      "in this programme\n"
     ]
    }
   ],
   "source": [
    "print(\"\"\"this is chanchcal sharma\n",
    "hie i have been detected an issue\n",
    "in this programme\"\"\")"
   ]
  },
  {
   "cell_type": "raw",
   "id": "8dbc2851-9e42-4dc4-817b-cde7393f3bd5",
   "metadata": {},
   "source": [
    "indexing in string"
   ]
  },
  {
   "cell_type": "code",
   "execution_count": 16,
   "id": "c1ec91b7-b9c5-489e-a6e8-2fb22bf8f0ad",
   "metadata": {},
   "outputs": [],
   "source": [
    "a=\"krishna\""
   ]
  },
  {
   "cell_type": "code",
   "execution_count": 18,
   "id": "d99e6578-bf1b-43f6-85ec-5562c2dd81e8",
   "metadata": {},
   "outputs": [
    {
     "name": "stdout",
     "output_type": "stream",
     "text": [
      "k\n"
     ]
    }
   ],
   "source": [
    "print(a[0])"
   ]
  },
  {
   "cell_type": "code",
   "execution_count": 19,
   "id": "b7b5227b-8903-4b51-a2e6-6d4d68e225ba",
   "metadata": {},
   "outputs": [
    {
     "name": "stdout",
     "output_type": "stream",
     "text": [
      "k\n"
     ]
    }
   ],
   "source": [
    "print(a[-7])"
   ]
  },
  {
   "cell_type": "code",
   "execution_count": 20,
   "id": "09efd607-a2aa-4e98-b5a0-f821da035620",
   "metadata": {},
   "outputs": [
    {
     "name": "stdout",
     "output_type": "stream",
     "text": [
      "kri\n"
     ]
    }
   ],
   "source": [
    "print(a[0:3])"
   ]
  },
  {
   "cell_type": "code",
   "execution_count": 22,
   "id": "34a1b553-8884-4ea3-9e78-44cc61421995",
   "metadata": {},
   "outputs": [
    {
     "name": "stdout",
     "output_type": "stream",
     "text": [
      "shna\n"
     ]
    }
   ],
   "source": [
    "print(a[3:7])"
   ]
  },
  {
   "cell_type": "code",
   "execution_count": 35,
   "id": "37f9901f-0618-4fce-87f9-d5fb75d78c11",
   "metadata": {},
   "outputs": [
    {
     "name": "stdout",
     "output_type": "stream",
     "text": [
      "anhsir\n"
     ]
    }
   ],
   "source": [
    "print(a[-1:-7:-1]) #in this case i have mention -1 o the position of minus one is k so it's been deleted from the string"
   ]
  },
  {
   "cell_type": "code",
   "execution_count": 30,
   "id": "10f4e81d-13ad-4124-860c-3a0df974572b",
   "metadata": {},
   "outputs": [
    {
     "name": "stdout",
     "output_type": "stream",
     "text": [
      "a\n"
     ]
    }
   ],
   "source": [
    "print(a[-1])"
   ]
  },
  {
   "cell_type": "code",
   "execution_count": 33,
   "id": "40c5fdfe-4c14-4da3-bcb3-ea9775f1a034",
   "metadata": {},
   "outputs": [
    {
     "name": "stdout",
     "output_type": "stream",
     "text": [
      "anhsirk\n"
     ]
    }
   ],
   "source": [
    "print(a[::-1])"
   ]
  },
  {
   "cell_type": "code",
   "execution_count": 46,
   "id": "fd90fa87-f505-4b37-9dff-d7a5680e2651",
   "metadata": {
    "scrolled": true
   },
   "outputs": [
    {
     "name": "stdout",
     "output_type": "stream",
     "text": [
      "hello world\n",
      "hello world\n",
      "hello \n",
      "                                                          world\n",
      "hello   world\n"
     ]
    }
   ],
   "source": [
    "print(\"hello world\");print('hello world');print('''hello \n",
    "                                                          world''');print(\"\"\"hello   world\"\"\")"
   ]
  },
  {
   "cell_type": "code",
   "execution_count": 49,
   "id": "7ebcdb6b-f1fb-4f83-b7c6-e11c5316d7a6",
   "metadata": {},
   "outputs": [
    {
     "data": {
      "text/plain": [
       "'rish'"
      ]
     },
     "execution_count": 49,
     "metadata": {},
     "output_type": "execute_result"
    }
   ],
   "source": [
    "a[1:5]"
   ]
  },
  {
   "cell_type": "code",
   "execution_count": 54,
   "id": "c5084665-3f77-4286-97a8-5901873f557f",
   "metadata": {},
   "outputs": [
    {
     "name": "stdout",
     "output_type": "stream",
     "text": [
      "rish\n"
     ]
    }
   ],
   "source": [
    "print(a[1:5])"
   ]
  },
  {
   "cell_type": "code",
   "execution_count": 55,
   "id": "5e7434bc-531d-4d4a-aa20-e8bc52df34b7",
   "metadata": {},
   "outputs": [],
   "source": [
    "#video 6"
   ]
  },
  {
   "cell_type": "code",
   "execution_count": null,
   "id": "4e20693b-7f06-44f8-9398-1b30e3996c79",
   "metadata": {},
   "outputs": [],
   "source": []
  }
 ],
 "metadata": {
  "kernelspec": {
   "display_name": "Python 3 (ipykernel)",
   "language": "python",
   "name": "python3"
  },
  "language_info": {
   "codemirror_mode": {
    "name": "ipython",
    "version": 3
   },
   "file_extension": ".py",
   "mimetype": "text/x-python",
   "name": "python",
   "nbconvert_exporter": "python",
   "pygments_lexer": "ipython3",
   "version": "3.11.4"
  }
 },
 "nbformat": 4,
 "nbformat_minor": 5
}
