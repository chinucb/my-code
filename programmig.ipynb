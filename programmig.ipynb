{
 "cells": [
  {
   "cell_type": "code",
   "execution_count": 1,
   "id": "3cfd971c-b1ed-4d51-a5be-3d00875b5c37",
   "metadata": {},
   "outputs": [],
   "source": [
    "# variables :- containers to store data"
   ]
  },
  {
   "cell_type": "code",
   "execution_count": 2,
   "id": "a47e0769-3947-4467-9aea-3d2885938abc",
   "metadata": {},
   "outputs": [
    {
     "name": "stdout",
     "output_type": "stream",
     "text": [
      "chanchal\n"
     ]
    }
   ],
   "source": [
    "print(\"chanchal\")"
   ]
  },
  {
   "cell_type": "code",
   "execution_count": 3,
   "id": "626aa858-e82d-4e77-86da-5f2d347ef38f",
   "metadata": {},
   "outputs": [
    {
     "name": "stdout",
     "output_type": "stream",
     "text": [
      "5\n"
     ]
    }
   ],
   "source": [
    "print(5)"
   ]
  },
  {
   "cell_type": "code",
   "execution_count": 4,
   "id": "288e863b-4948-4dbf-887d-2de42df36fcc",
   "metadata": {},
   "outputs": [
    {
     "name": "stdout",
     "output_type": "stream",
     "text": [
      "5\n"
     ]
    }
   ],
   "source": [
    "x=5\n",
    "print(x)"
   ]
  },
  {
   "cell_type": "code",
   "execution_count": 6,
   "id": "831934f6-fa99-4f5f-82c4-b0fa9dd1cf22",
   "metadata": {},
   "outputs": [
    {
     "name": "stdout",
     "output_type": "stream",
     "text": [
      "this is chanchal\n"
     ]
    }
   ],
   "source": [
    "y=\"this is chanchal\"\n",
    "print(y)"
   ]
  },
  {
   "cell_type": "markdown",
   "id": "7354008e-e124-4876-b0c9-bf37ba52faba",
   "metadata": {},
   "source": [
    "# rules for naming variables\n",
    "< a varibale name can not start from a digit."
   ]
  },
  {
   "cell_type": "code",
   "execution_count": 9,
   "id": "15680292-de11-41cc-8fb9-31325c9faf89",
   "metadata": {},
   "outputs": [
    {
     "ename": "SyntaxError",
     "evalue": "invalid decimal literal (3118538133.py, line 1)",
     "output_type": "error",
     "traceback": [
      "\u001b[1;36m  Cell \u001b[1;32mIn[9], line 1\u001b[1;36m\u001b[0m\n\u001b[1;33m    4x=100 # a variable name cant use from a digit\u001b[0m\n\u001b[1;37m    ^\u001b[0m\n\u001b[1;31mSyntaxError\u001b[0m\u001b[1;31m:\u001b[0m invalid decimal literal\n"
     ]
    }
   ],
   "source": [
    "4x=100 # a variable name cant use from a digit"
   ]
  },
  {
   "cell_type": "code",
   "execution_count": 12,
   "id": "e1e6c8e5-ad97-41af-9648-7b025b53beb2",
   "metadata": {},
   "outputs": [],
   "source": [
    "x4=100"
   ]
  },
  {
   "cell_type": "code",
   "execution_count": 1,
   "id": "3ad9a5e9-047a-4a8f-b2b2-497fdf4169e8",
   "metadata": {},
   "outputs": [],
   "source": [
    "# nested if conditional"
   ]
  },
  {
   "cell_type": "code",
   "execution_count": 2,
   "id": "e09759f4-68c2-43d6-aad3-41d940e42354",
   "metadata": {},
   "outputs": [],
   "source": [
    "# nested if else(if else) called nested if"
   ]
  },
  {
   "cell_type": "code",
   "execution_count": 7,
   "id": "d154b24a-5947-48a4-be87-c300d59f860e",
   "metadata": {},
   "outputs": [
    {
     "name": "stdin",
     "output_type": "stream",
     "text": [
      "enter a number: 10\n"
     ]
    },
    {
     "name": "stdout",
     "output_type": "stream",
     "text": [
      "number is positive\n",
      "even\n"
     ]
    }
   ],
   "source": [
    "user=eval(input('enter a number:'))\n",
    "if user>=0:\n",
    "    print('number is positive')\n",
    "    \n",
    "    if user%2==0:\n",
    "        print('even')\n",
    "    else:\n",
    "        print('odd')\n",
    "    \n",
    "\n",
    "else:\n",
    "    print('number is negative')"
   ]
  },
  {
   "cell_type": "code",
   "execution_count": 9,
   "id": "3a331115-5c07-49a5-aa85-13c71c97e346",
   "metadata": {},
   "outputs": [
    {
     "name": "stdin",
     "output_type": "stream",
     "text": [
      "enter a number: -3\n"
     ]
    },
    {
     "name": "stdout",
     "output_type": "stream",
     "text": [
      "number is negative\n",
      "odd\n"
     ]
    }
   ],
   "source": [
    "user=eval(input('enter a number:'))\n",
    "if user>=0:\n",
    "    print('number is positive')\n",
    "    \n",
    "    if user%2==0:\n",
    "        print('even')\n",
    "    else:\n",
    "        print('odd')\n",
    "        \n",
    "else:\n",
    "    print('number is negative')\n",
    "    \n",
    "    if user%2==0:\n",
    "        print('even')\n",
    "    else:\n",
    "        print('odd')"
   ]
  },
  {
   "cell_type": "code",
   "execution_count": 10,
   "id": "4823db64-9693-4e17-b4a1-a98b8ab7223c",
   "metadata": {},
   "outputs": [
    {
     "name": "stdin",
     "output_type": "stream",
     "text": [
      "enter a number: -2.5\n"
     ]
    },
    {
     "name": "stdout",
     "output_type": "stream",
     "text": [
      "number is negative\n",
      "odd\n"
     ]
    }
   ],
   "source": [
    "user=eval(input('enter a number:'))\n",
    "if user>=0:\n",
    "    print('number is positive')\n",
    "    \n",
    "    if user%2==0:\n",
    "        print('even')\n",
    "    else:\n",
    "        print('odd')\n",
    "        \n",
    "else:\n",
    "    print('number is negative')\n",
    "    \n",
    "    if user%2==0:\n",
    "        print('even')\n",
    "    else:\n",
    "        print('odd')\n"
   ]
  },
  {
   "cell_type": "markdown",
   "id": "31f0a32d-cabb-45cd-98a6-05262fc3f367",
   "metadata": {},
   "source": [
    "# ternary operator"
   ]
  },
  {
   "cell_type": "markdown",
   "id": "eae9dbe4-a2a7-404e-919b-afb02ac8e8ae",
   "metadata": {},
   "source": [
    "\"a concise way of writing simple if else statement in a single line\""
   ]
  },
  {
   "cell_type": "code",
   "execution_count": 12,
   "id": "f4309887-d177-4401-96ee-e7e644f68c15",
   "metadata": {},
   "outputs": [
    {
     "name": "stdin",
     "output_type": "stream",
     "text": [
      "enter your 1st number: 10\n",
      "enter your 2nd number: 20\n",
      "please choose one symbole +,-,*,/: +\n"
     ]
    },
    {
     "name": "stdout",
     "output_type": "stream",
     "text": [
      "30\n"
     ]
    }
   ],
   "source": [
    "num1=eval(input(\"enter your 1st number:\"))\n",
    "num2=eval(input(\"enter your 2nd number:\"))\n",
    "operations=input(\"please choose one symbole +,-,*,/:\")\n",
    "if operations==\"+\":\n",
    "    print(num1+num2)\n",
    "else:\n",
    "    print(num1-num2) "
   ]
  },
  {
   "cell_type": "code",
   "execution_count": 13,
   "id": "207bad80-c70b-4fe3-9d82-ac4108dafc96",
   "metadata": {},
   "outputs": [
    {
     "name": "stdin",
     "output_type": "stream",
     "text": [
      "enter your 1st number: 10\n",
      "enter your 2nd number: 20\n",
      "please choose one symbole +,-,*,/: -\n"
     ]
    },
    {
     "name": "stdout",
     "output_type": "stream",
     "text": [
      "-10\n"
     ]
    }
   ],
   "source": [
    "num1=eval(input(\"enter your 1st number:\"))\n",
    "num2=eval(input(\"enter your 2nd number:\"))\n",
    "operations=input(\"please choose one symbole +,-,*,/:\")\n",
    "print(num1+num2) if operations==\"+\" else print(num1-num2) "
   ]
  },
  {
   "cell_type": "code",
   "execution_count": 14,
   "id": "44836650-6080-4bfa-9975-584118bf8490",
   "metadata": {},
   "outputs": [],
   "source": [
    "# conversion of nested if else in ternary operator"
   ]
  },
  {
   "cell_type": "code",
   "execution_count": 15,
   "id": "73d1a574-fbaa-4c49-951b-7cecdd5f0837",
   "metadata": {},
   "outputs": [],
   "source": [
    "# only if else convert in ternary\n",
    "# in if else  put single statement in it"
   ]
  },
  {
   "cell_type": "code",
   "execution_count": 16,
   "id": "1a6462c4-bb6d-481e-8ddc-4ca0486fb473",
   "metadata": {},
   "outputs": [
    {
     "name": "stdin",
     "output_type": "stream",
     "text": [
      "enter a number: 10\n"
     ]
    },
    {
     "name": "stdout",
     "output_type": "stream",
     "text": [
      "positive even\n",
      "negative even\n"
     ]
    }
   ],
   "source": [
    "user=eval(input('enter a number:'))\n",
    "if user>=0:\n",
    "    if user%2==0:\n",
    "        print(\"positive\",\"even\")\n",
    "    else:\n",
    "        print(\"positive\",\"odd\")\n",
    "else:\n",
    "    if user%2==0:\n",
    "        print(\"negative\",\"even\")\n",
    "    else:\n",
    "        print(\"negative\",\"odd\")\n"
   ]
  },
  {
   "cell_type": "code",
   "execution_count": 21,
   "id": "bf63ae67-0396-447f-ae4c-88755cc2667e",
   "metadata": {},
   "outputs": [],
   "source": [
    "# ternary operator"
   ]
  },
  {
   "cell_type": "code",
   "execution_count": 22,
   "id": "82a8ad60-a83f-4648-9b7d-63683832758e",
   "metadata": {},
   "outputs": [],
   "source": [
    "#work required 3 openends"
   ]
  },
  {
   "cell_type": "code",
   "execution_count": 23,
   "id": "2aa13651-9247-4ca8-b7db-4351ed542121",
   "metadata": {},
   "outputs": [],
   "source": [
    "# ternary operators also known as conditional expression are operators that evaluate something based on a condition being true or false"
   ]
  },
  {
   "cell_type": "code",
   "execution_count": null,
   "id": "1cbd70cd-7e0f-49cc-bbb3-122fdf75fe68",
   "metadata": {},
   "outputs": [],
   "source": [
    "# it simply allows to tset a condition in a single line replacing the multiline if else making the code compact."
   ]
  },
  {
   "cell_type": "code",
   "execution_count": 28,
   "id": "ba43f886-0248-465d-9ee8-2a678c7367f7",
   "metadata": {},
   "outputs": [
    {
     "name": "stdout",
     "output_type": "stream",
     "text": [
      "a is larger\n"
     ]
    }
   ],
   "source": [
    "a=5\n",
    "b=6\n",
    "if a<b:\n",
    "    print(\"a is larger\")\n",
    "\n",
    "else:\n",
    "    print(\"b is larger\")"
   ]
  },
  {
   "cell_type": "code",
   "execution_count": 30,
   "id": "d8933e13-8a53-4e50-a20d-c5fa329454ef",
   "metadata": {},
   "outputs": [
    {
     "name": "stdout",
     "output_type": "stream",
     "text": [
      "a is larger\n"
     ]
    }
   ],
   "source": [
    " print(\"a is larger\") if a<b else print(\"b is larger\")"
   ]
  },
  {
   "cell_type": "code",
   "execution_count": 31,
   "id": "91c353c3-09a9-4e12-a20b-1af3299caf85",
   "metadata": {},
   "outputs": [
    {
     "name": "stdout",
     "output_type": "stream",
     "text": [
      "a is larger\n"
     ]
    }
   ],
   "source": [
    "a=15\n",
    "b=6\n",
    "print(\"a is larger\") if a>b else print(\"b is larger\")"
   ]
  },
  {
   "cell_type": "code",
   "execution_count": 32,
   "id": "9402dd60-f171-4245-82de-62449a832b95",
   "metadata": {},
   "outputs": [],
   "source": [
    "# in ternary we can't make multiline blog"
   ]
  },
  {
   "cell_type": "code",
   "execution_count": 39,
   "id": "310ceec7-3ab4-4ab0-b219-1ca22fb56d9f",
   "metadata": {},
   "outputs": [
    {
     "name": "stdout",
     "output_type": "stream",
     "text": [
      "hello\n"
     ]
    }
   ],
   "source": [
    "print('hello') if (a>b) else print('no')"
   ]
  },
  {
   "cell_type": "code",
   "execution_count": null,
   "id": "81807949-c5c5-4907-88b8-506783dede35",
   "metadata": {},
   "outputs": [],
   "source": []
  }
 ],
 "metadata": {
  "kernelspec": {
   "display_name": "Python 3 (ipykernel)",
   "language": "python",
   "name": "python3"
  },
  "language_info": {
   "codemirror_mode": {
    "name": "ipython",
    "version": 3
   },
   "file_extension": ".py",
   "mimetype": "text/x-python",
   "name": "python",
   "nbconvert_exporter": "python",
   "pygments_lexer": "ipython3",
   "version": "3.11.4"
  }
 },
 "nbformat": 4,
 "nbformat_minor": 5
}
