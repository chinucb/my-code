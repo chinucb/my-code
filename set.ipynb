{
 "cells": [
  {
   "cell_type": "markdown",
   "id": "666c2ba1-8b67-45f0-8b29-31cc85e21022",
   "metadata": {},
   "source": [
    "# set\n",
    "< set cinstructor is set()\n",
    "\n",
    "< set literal is not available\n",
    "\n",
    "< set is unordered set of sequence of elements\n",
    "\n",
    "< set doesn't support indexing,slicing.\n",
    "\n",
    "< set does not allow duplicate values.\n",
    "\n",
    "< set is mutable(unhashable/changeable)\n",
    "\n",
    "< set   set does not support nested set\n",
    "    \n",
    "< set dose not allowed mutable datatype.\n",
    "\n",
    "< set support hashing table to remove duplicacy\n",
    "\n",
    "< set does not support concatination\n",
    "\n",
    "< set support nested set\n",
    "\n",
    "< set always contain immutable datatype(hashable data type)\n",
    "\n",
    "< set methods."
   ]
  },
  {
   "cell_type": "code",
   "execution_count": 2,
   "id": "f0375840-40b9-4b6e-ae90-dbd7aded0af0",
   "metadata": {},
   "outputs": [],
   "source": [
    "a=set() #help of constructor we get empty data type"
   ]
  },
  {
   "cell_type": "code",
   "execution_count": 3,
   "id": "a85a5cf6-42e6-4e9a-b035-a1af51706e2e",
   "metadata": {},
   "outputs": [
    {
     "name": "stdout",
     "output_type": "stream",
     "text": [
      "set()\n"
     ]
    }
   ],
   "source": [
    "print(a) #okay their is not literal so i get paranethesis as literal"
   ]
  },
  {
   "cell_type": "code",
   "execution_count": 11,
   "id": "1242973a-f7db-4e73-83d0-ec54684b9eba",
   "metadata": {},
   "outputs": [
    {
     "data": {
      "text/plain": [
       "{1, 2, 3, 4, 6, 7, 54, 349}"
      ]
     },
     "execution_count": 11,
     "metadata": {},
     "output_type": "execute_result"
    }
   ],
   "source": [
    "{1,1,1,1,2,3,4,349,54,54,6,6,7,7,7,7} # set doesn't hold duplicacy because id are same so we blame all this to hashing table"
   ]
  },
  {
   "cell_type": "code",
   "execution_count": 12,
   "id": "0d793768-baab-468b-addb-9a8d041e7047",
   "metadata": {},
   "outputs": [],
   "source": [
    "# set doesn't support concatination"
   ]
  },
  {
   "cell_type": "code",
   "execution_count": 13,
   "id": "b6d7fb5d-e3c9-4e28-bdaa-68e1fe5570df",
   "metadata": {},
   "outputs": [
    {
     "ename": "TypeError",
     "evalue": "unsupported operand type(s) for +: 'set' and 'set'",
     "output_type": "error",
     "traceback": [
      "\u001b[1;31m---------------------------------------------------------------------------\u001b[0m",
      "\u001b[1;31mTypeError\u001b[0m                                 Traceback (most recent call last)",
      "Cell \u001b[1;32mIn[13], line 1\u001b[0m\n\u001b[1;32m----> 1\u001b[0m \u001b[43m{\u001b[49m\u001b[38;5;241;43m123\u001b[39;49m\u001b[43m}\u001b[49m\u001b[38;5;241;43m+\u001b[39;49m\u001b[43m{\u001b[49m\u001b[38;5;241;43m123\u001b[39;49m\u001b[43m}\u001b[49m\n",
      "\u001b[1;31mTypeError\u001b[0m: unsupported operand type(s) for +: 'set' and 'set'"
     ]
    }
   ],
   "source": [
    "{123}+{123}"
   ]
  },
  {
   "cell_type": "code",
   "execution_count": 14,
   "id": "ab59d104-14f8-4771-bca5-fe8596553e32",
   "metadata": {},
   "outputs": [],
   "source": [
    "# note: set doesn't support conacatination because dupicate vales has been removed \"if we are removing duplicacy so concation cocept is goin to fail\""
   ]
  },
  {
   "cell_type": "code",
   "execution_count": 16,
   "id": "798800ec-ad2c-4be4-918d-1a7d9d156773",
   "metadata": {},
   "outputs": [
    {
     "ename": "TypeError",
     "evalue": "unhashable type: 'set'",
     "output_type": "error",
     "traceback": [
      "\u001b[1;31m---------------------------------------------------------------------------\u001b[0m",
      "\u001b[1;31mTypeError\u001b[0m                                 Traceback (most recent call last)",
      "Cell \u001b[1;32mIn[16], line 1\u001b[0m\n\u001b[1;32m----> 1\u001b[0m {\u001b[38;5;241m51\u001b[39m,\u001b[38;5;241m333\u001b[39m,\u001b[38;5;241m5647\u001b[39m,\u001b[38;5;241m8769\u001b[39m,{\u001b[38;5;241m2355\u001b[39m,\u001b[38;5;241m4235\u001b[39m,\u001b[38;5;241m6564\u001b[39m},\u001b[38;5;241m2445\u001b[39m,\u001b[38;5;241m43\u001b[39m,\u001b[38;5;241m346\u001b[39m}\n",
      "\u001b[1;31mTypeError\u001b[0m: unhashable type: 'set'"
     ]
    }
   ],
   "source": [
    "\n",
    "{51,333,5647,8769,{2355,4235,6564},2445,43,346}"
   ]
  },
  {
   "cell_type": "code",
   "execution_count": 17,
   "id": "e20a8eae-b63e-41ba-8d09-c6bd00a3f583",
   "metadata": {},
   "outputs": [],
   "source": [
    " #set doesn't support nested set because where we are taking support of hashing table \"hashing read that data type those are i  immutable\""
   ]
  },
  {
   "cell_type": "markdown",
   "id": "82e5c22b-2218-4a5d-a09e-ad2645e06c95",
   "metadata": {},
   "source": [
    "# set methods."
   ]
  },
  {
   "cell_type": "code",
   "execution_count": 19,
   "id": "5bb88489-c469-45e6-b537-ebdf41cb16c3",
   "metadata": {},
   "outputs": [],
   "source": [
    "a={1,2,3,4,5,6}\n",
    "b={2,34,546,77}"
   ]
  },
  {
   "cell_type": "code",
   "execution_count": 22,
   "id": "f799205a-d96d-4a03-b6d3-fe2dffb0d612",
   "metadata": {},
   "outputs": [],
   "source": [
    "a.add(367) # it will add a value in the end of the sequence \"mutable\": without changin in id if we cahnging structure is called mutable"
   ]
  },
  {
   "cell_type": "code",
   "execution_count": 21,
   "id": "df8f4870-c779-4d26-8c96-4e3ad134e954",
   "metadata": {},
   "outputs": [
    {
     "name": "stdout",
     "output_type": "stream",
     "text": [
      "{1, 2, 3, 4, 5, 6, 367}\n"
     ]
    }
   ],
   "source": [
    "print(a)"
   ]
  },
  {
   "cell_type": "markdown",
   "id": "6abb78fb-1c38-4d24-ba06-64adef99789c",
   "metadata": {},
   "source": [
    "# set create hashing table "
   ]
  },
  {
   "cell_type": "code",
   "execution_count": 11,
   "id": "751f6bbc-5afe-4777-97fb-e4432bded3ab",
   "metadata": {},
   "outputs": [
    {
     "name": "stdout",
     "output_type": "stream",
     "text": [
      "{2, 3, 4, 5, 6, 7, 8}\n"
     ]
    }
   ],
   "source": [
    "a={2,3,3,3,4,4,4,5,4,4,4,6,5,5,5,7,8,}\n",
    "print(a) # hashing table is behind this scenarion he removes duplicate values."
   ]
  },
  {
   "cell_type": "code",
   "execution_count": 7,
   "id": "0358bef3-4d5e-41e3-82dd-6a2d2af99d55",
   "metadata": {},
   "outputs": [
    {
     "data": {
      "text/plain": [
       "2882622364512"
      ]
     },
     "execution_count": 7,
     "metadata": {},
     "output_type": "execute_result"
    }
   ],
   "source": [
    "id(a)"
   ]
  },
  {
   "cell_type": "code",
   "execution_count": 13,
   "id": "4f17376f-303f-4a0b-84d3-592f19d3b923",
   "metadata": {},
   "outputs": [],
   "source": [
    "# methods in set"
   ]
  },
  {
   "cell_type": "code",
   "execution_count": null,
   "id": "d097ba95-f931-497a-bbf7-faa296fd4146",
   "metadata": {},
   "outputs": [],
   "source": [
    "a."
   ]
  },
  {
   "cell_type": "code",
   "execution_count": 17,
   "id": "fe8529f9-b612-4ea6-a755-3497f53620f8",
   "metadata": {},
   "outputs": [
    {
     "name": "stdout",
     "output_type": "stream",
     "text": [
      "\n"
     ]
    }
   ],
   "source": [
    "x=\"banana\"\n",
    "y=x.lstrip(\"ban\")\n",
    "print(y) # explanation : the.strip() method treats input\"\" ban as as list of characters to remove.so it will remove all b's and n's of the left side(the l in lstrip) of the string \"banana\" until it reaches a character that isn't a b, a or n.but since the rest of the string contains one of those characters,it removes every character,giving us\"'\""
   ]
  },
  {
   "cell_type": "code",
   "execution_count": 18,
   "id": "d2b17d04-74e3-4e1c-90f7-853394c0bcaa",
   "metadata": {},
   "outputs": [],
   "source": [
    "a={1,2,3,4,5,}"
   ]
  },
  {
   "cell_type": "code",
   "execution_count": 20,
   "id": "77e1fdfa-067e-4b2b-87bf-619e2a4256fa",
   "metadata": {},
   "outputs": [],
   "source": [
    "b={4,5,6,7,8,9}"
   ]
  },
  {
   "cell_type": "code",
   "execution_count": 24,
   "id": "cab9af58-5035-46a2-b304-9fe856c16731",
   "metadata": {},
   "outputs": [
    {
     "name": "stdout",
     "output_type": "stream",
     "text": [
      "{8, 9, 6, 7}\n",
      "{1, 2, 3}\n"
     ]
    }
   ],
   "source": [
    "print(b-a)\n",
    "print(a-b)"
   ]
  },
  {
   "cell_type": "code",
   "execution_count": 25,
   "id": "916c99a1-6555-47cc-831d-5ef81d757142",
   "metadata": {},
   "outputs": [],
   "source": [
    "# set is unordered sequence u cant do indexig"
   ]
  },
  {
   "cell_type": "code",
   "execution_count": 26,
   "id": "12241c8f-7d93-4ef8-b9ea-51bef37db99a",
   "metadata": {},
   "outputs": [
    {
     "data": {
      "text/plain": [
       "{1, 2, 3}"
      ]
     },
     "execution_count": 26,
     "metadata": {},
     "output_type": "execute_result"
    }
   ],
   "source": [
    "a.difference(b)"
   ]
  },
  {
   "cell_type": "code",
   "execution_count": 27,
   "id": "cfdb22a1-8f70-4ecb-981f-5a360911825f",
   "metadata": {},
   "outputs": [
    {
     "name": "stdout",
     "output_type": "stream",
     "text": [
      "{1, 2, 3}\n"
     ]
    }
   ],
   "source": [
    "print(a-b)"
   ]
  },
  {
   "cell_type": "code",
   "execution_count": 34,
   "id": "fefb9566-bf5d-4e60-994e-c9f3b005bd74",
   "metadata": {},
   "outputs": [],
   "source": [
    "a.add((45,45,56,))"
   ]
  },
  {
   "cell_type": "code",
   "execution_count": 35,
   "id": "c9afadff-0511-4585-b556-7229e0326a14",
   "metadata": {},
   "outputs": [
    {
     "name": "stdout",
     "output_type": "stream",
     "text": [
      "{(45, 45, 56)}\n"
     ]
    }
   ],
   "source": [
    "print(a)"
   ]
  },
  {
   "cell_type": "code",
   "execution_count": 32,
   "id": "ed2ccd22-48aa-4c77-8791-e2667e4be075",
   "metadata": {},
   "outputs": [],
   "source": [
    "a.clear()"
   ]
  },
  {
   "cell_type": "code",
   "execution_count": 33,
   "id": "a2879917-4117-4dea-bb22-caec674c3ca0",
   "metadata": {},
   "outputs": [
    {
     "name": "stdout",
     "output_type": "stream",
     "text": [
      "set()\n"
     ]
    }
   ],
   "source": [
    "print(a)"
   ]
  },
  {
   "cell_type": "code",
   "execution_count": 37,
   "id": "1c4a2bd6-6aac-44ef-85d6-eb4930ff6d11",
   "metadata": {},
   "outputs": [],
   "source": [
    "r={1,2,3,4,5,6,7,8,}"
   ]
  },
  {
   "cell_type": "code",
   "execution_count": 38,
   "id": "ff3da8dd-83b6-4f90-8bff-69db67bef858",
   "metadata": {},
   "outputs": [
    {
     "name": "stdout",
     "output_type": "stream",
     "text": [
      "{1, 2, 3, 4, 5, 6, 7, 8}\n"
     ]
    }
   ],
   "source": [
    "print(r)"
   ]
  },
  {
   "cell_type": "code",
   "execution_count": 43,
   "id": "a71e48c4-ab4c-4e0a-af59-2c94eeb7a9af",
   "metadata": {},
   "outputs": [],
   "source": [
    "r.add((45,67,78)) # immutable data can be add in set"
   ]
  },
  {
   "cell_type": "code",
   "execution_count": 40,
   "id": "978d7202-f0c4-439b-b0be-5ea97302038b",
   "metadata": {},
   "outputs": [
    {
     "name": "stdout",
     "output_type": "stream",
     "text": [
      "{1, 2, 3, 4, 5, 6, 7, 8, (45, 67, 78)}\n"
     ]
    }
   ],
   "source": [
    "print"
   ]
  },
  {
   "cell_type": "code",
   "execution_count": 44,
   "id": "2bc57cc7-141e-4953-bde9-09cff8874dda",
   "metadata": {},
   "outputs": [],
   "source": [
    "a.clear()"
   ]
  },
  {
   "cell_type": "code",
   "execution_count": 45,
   "id": "cf083411-f656-484b-a5d5-5e2c2fb4b53a",
   "metadata": {},
   "outputs": [
    {
     "name": "stdout",
     "output_type": "stream",
     "text": [
      "set()\n"
     ]
    }
   ],
   "source": [
    "print(a)"
   ]
  },
  {
   "cell_type": "code",
   "execution_count": 46,
   "id": "f5e5e486-41da-4276-88d8-baa09a166228",
   "metadata": {},
   "outputs": [],
   "source": [
    "a.update([1,2,3,4,5,6])"
   ]
  },
  {
   "cell_type": "code",
   "execution_count": 47,
   "id": "b9131979-7645-4b40-8d7b-22883f542da3",
   "metadata": {},
   "outputs": [
    {
     "name": "stdout",
     "output_type": "stream",
     "text": [
      "{1, 2, 3, 4, 5, 6}\n"
     ]
    }
   ],
   "source": [
    "print(a)"
   ]
  },
  {
   "cell_type": "code",
   "execution_count": 49,
   "id": "3336a5cd-83e5-4ced-bc0a-dfc186357af7",
   "metadata": {},
   "outputs": [],
   "source": [
    "b=a"
   ]
  },
  {
   "cell_type": "code",
   "execution_count": 50,
   "id": "0f5cebaa-0acb-4309-b3b5-51965c42c11d",
   "metadata": {},
   "outputs": [
    {
     "name": "stdout",
     "output_type": "stream",
     "text": [
      "{1, 2, 3, 4, 5, 6}\n"
     ]
    }
   ],
   "source": [
    "print(b)"
   ]
  },
  {
   "cell_type": "code",
   "execution_count": 53,
   "id": "72d426b0-4100-480f-84f6-e354657d5ce6",
   "metadata": {},
   "outputs": [
    {
     "data": {
      "text/plain": [
       "2882633946880"
      ]
     },
     "execution_count": 53,
     "metadata": {},
     "output_type": "execute_result"
    }
   ],
   "source": [
    "id(b)\n"
   ]
  },
  {
   "cell_type": "code",
   "execution_count": 57,
   "id": "a7e524ed-ee35-4990-afcc-370f5d71cedb",
   "metadata": {},
   "outputs": [],
   "source": [
    "c=a.copy() # it chnge id"
   ]
  },
  {
   "cell_type": "code",
   "execution_count": 58,
   "id": "e27702db-a0aa-4f96-ac9e-b27cd0e713ec",
   "metadata": {},
   "outputs": [
    {
     "name": "stdout",
     "output_type": "stream",
     "text": [
      "{1, 2, 3, 4, 5, 6}\n"
     ]
    }
   ],
   "source": [
    "print(c)"
   ]
  },
  {
   "cell_type": "code",
   "execution_count": 59,
   "id": "0e6b43cc-a6c0-4f94-ad57-a71fac6cbd06",
   "metadata": {},
   "outputs": [
    {
     "data": {
      "text/plain": [
       "2882634116768"
      ]
     },
     "execution_count": 59,
     "metadata": {},
     "output_type": "execute_result"
    }
   ],
   "source": [
    "id(c)"
   ]
  },
  {
   "cell_type": "code",
   "execution_count": 63,
   "id": "42b46b1b-3704-497a-8ff5-f1cf85a93f29",
   "metadata": {},
   "outputs": [],
   "source": [
    "x={1,2,3,4,5}\n",
    "y={5,6,7,8,9}"
   ]
  },
  {
   "cell_type": "code",
   "execution_count": 64,
   "id": "3a9b8728-6163-473d-bcfe-cc2bf5945e00",
   "metadata": {},
   "outputs": [
    {
     "data": {
      "text/plain": [
       "{5}"
      ]
     },
     "execution_count": 64,
     "metadata": {},
     "output_type": "execute_result"
    }
   ],
   "source": [
    "x.intersection(y)"
   ]
  },
  {
   "cell_type": "code",
   "execution_count": 67,
   "id": "808338d6-8694-4bcc-b178-01a7a350d206",
   "metadata": {},
   "outputs": [
    {
     "data": {
      "text/plain": [
       "False"
      ]
     },
     "execution_count": 67,
     "metadata": {},
     "output_type": "execute_result"
    }
   ],
   "source": [
    "y.isdisjoint(x) # is related methods are questioning method so we will gwt answer in trye,false"
   ]
  },
  {
   "cell_type": "code",
   "execution_count": null,
   "id": "81dc653f-cfbe-4540-9828-2ce65fb8dbc1",
   "metadata": {},
   "outputs": [],
   "source": [
    "y.issubset()"
   ]
  },
  {
   "cell_type": "code",
   "execution_count": 5,
   "id": "c0e58716-fa07-430e-907a-7301bdf17a62",
   "metadata": {},
   "outputs": [],
   "source": [
    "a={1,2,3,4,5,}\n",
    "b={4,5,6,7,8}"
   ]
  },
  {
   "cell_type": "code",
   "execution_count": 8,
   "id": "a91f9608-7985-410d-96a6-dddd12581047",
   "metadata": {},
   "outputs": [
    {
     "name": "stdout",
     "output_type": "stream",
     "text": [
      "{1, 2, 3, 4, 5, 10}\n",
      "{4, 5, 6, 7, 8, 12}\n"
     ]
    }
   ],
   "source": [
    "a.add(10)\n",
    "b.add(12)\n",
    "print(a)\n",
    "print(b)"
   ]
  },
  {
   "cell_type": "code",
   "execution_count": 13,
   "id": "807bb26c-9c2a-4d22-bc52-210e1897b9e0",
   "metadata": {},
   "outputs": [
    {
     "ename": "TypeError",
     "evalue": "unhashable type: 'set'",
     "output_type": "error",
     "traceback": [
      "\u001b[1;31m---------------------------------------------------------------------------\u001b[0m",
      "\u001b[1;31mTypeError\u001b[0m                                 Traceback (most recent call last)",
      "Cell \u001b[1;32mIn[13], line 1\u001b[0m\n\u001b[1;32m----> 1\u001b[0m \u001b[43ma\u001b[49m\u001b[38;5;241;43m.\u001b[39;49m\u001b[43madd\u001b[49m\u001b[43m(\u001b[49m\u001b[43m{\u001b[49m\u001b[38;5;241;43m10\u001b[39;49m\u001b[43m}\u001b[49m\u001b[43m)\u001b[49m \u001b[38;5;66;03m#if set ia acceptng a data type that mean it's immutable\u001b[39;00m\n",
      "\u001b[1;31mTypeError\u001b[0m: unhashable type: 'set'"
     ]
    }
   ],
   "source": [
    "a.add({10}) #if set ia acceptng a data type that mean it's immutable"
   ]
  },
  {
   "cell_type": "code",
   "execution_count": 14,
   "id": "fab84067-12a7-4f3d-ac1f-5932cdb65299",
   "metadata": {},
   "outputs": [
    {
     "name": "stdout",
     "output_type": "stream",
     "text": [
      "{1, 2, 3, 4, 5, 10}\n"
     ]
    }
   ],
   "source": [
    "print(a)"
   ]
  },
  {
   "cell_type": "code",
   "execution_count": 15,
   "id": "0bdf6e57-6bcb-46a4-bbf3-c191867605c4",
   "metadata": {},
   "outputs": [],
   "source": [
    "a.add((10,))"
   ]
  },
  {
   "cell_type": "code",
   "execution_count": 16,
   "id": "2830bb8f-95f2-4553-8ed5-0bb2c5377052",
   "metadata": {},
   "outputs": [
    {
     "name": "stdout",
     "output_type": "stream",
     "text": [
      "{1, 2, 3, 4, 5, (10,), 10}\n"
     ]
    }
   ],
   "source": [
    "print(a)"
   ]
  },
  {
   "cell_type": "code",
   "execution_count": 4,
   "id": "ae24ec55-64a1-425e-9b25-f88152e49c7a",
   "metadata": {},
   "outputs": [
    {
     "ename": "SyntaxError",
     "evalue": "invalid syntax (3471783379.py, line 1)",
     "output_type": "error",
     "traceback": [
      "\u001b[1;36m  Cell \u001b[1;32mIn[4], line 1\u001b[1;36m\u001b[0m\n\u001b[1;33m    .add({}) # set is mutable so set canot add set in this\u001b[0m\n\u001b[1;37m    ^\u001b[0m\n\u001b[1;31mSyntaxError\u001b[0m\u001b[1;31m:\u001b[0m invalid syntax\n"
     ]
    }
   ],
   "source": [
    ".add({}) # set is mutable so set canot add set in this "
   ]
  },
  {
   "cell_type": "code",
   "execution_count": 6,
   "id": "8f8d8bb4-aa51-43f8-a162-76baa35b1fa1",
   "metadata": {},
   "outputs": [],
   "source": [
    "a=({1,2,3,4,5,6,7,(1,2,3,4,5,),5,6,7,})"
   ]
  },
  {
   "cell_type": "code",
   "execution_count": 7,
   "id": "ac2445c9-3e3d-4113-af20-667321310666",
   "metadata": {},
   "outputs": [
    {
     "name": "stdout",
     "output_type": "stream",
     "text": [
      "{1, 2, 3, 4, 5, 6, 7, (1, 2, 3, 4, 5)}\n"
     ]
    }
   ],
   "source": [
    "print(a)"
   ]
  },
  {
   "cell_type": "code",
   "execution_count": 11,
   "id": "d515d018-f9dd-4aa1-9285-b2fe326270d7",
   "metadata": {},
   "outputs": [
    {
     "name": "stdout",
     "output_type": "stream",
     "text": [
      "{1, 2, 3, 4, 5, 6, 7, (1, 2, 3, 4, 5, 6, 7), (1, 2, 3, 4, 5)}\n"
     ]
    }
   ],
   "source": [
    "a.add((1,2,3,4,5,6,7))\n",
    "print(a)"
   ]
  },
  {
   "cell_type": "code",
   "execution_count": 26,
   "id": "9919ce19-57b5-42ed-bda3-7716e2e986cf",
   "metadata": {},
   "outputs": [
    {
     "name": "stdout",
     "output_type": "stream",
     "text": [
      "{4, 5, 6, 7, (1, 2, 3, 4, 5, 6, 7), 9, 8}\n"
     ]
    }
   ],
   "source": [
    "a.update((9,6,7,8))\n",
    "print(a)"
   ]
  },
  {
   "cell_type": "code",
   "execution_count": 27,
   "id": "2b37b3df-de4d-40d4-828e-188102740986",
   "metadata": {},
   "outputs": [
    {
     "data": {
      "text/plain": [
       "4"
      ]
     },
     "execution_count": 27,
     "metadata": {},
     "output_type": "execute_result"
    }
   ],
   "source": [
    "a.pop()\n",
    "       # so in hashing table whichever value is raedable in end it will eb delete by pop"
   ]
  },
  {
   "cell_type": "code",
   "execution_count": 28,
   "id": "5633b4d6-3c66-4fe7-8c5d-1ec4309825c8",
   "metadata": {},
   "outputs": [
    {
     "name": "stdout",
     "output_type": "stream",
     "text": [
      "{5, 6, 7, (1, 2, 3, 4, 5, 6, 7), 9, 8}\n"
     ]
    }
   ],
   "source": [
    "print(a)"
   ]
  },
  {
   "cell_type": "code",
   "execution_count": 29,
   "id": "410856d0-9b51-447e-a9b8-645598430bdc",
   "metadata": {},
   "outputs": [
    {
     "name": "stdout",
     "output_type": "stream",
     "text": [
      "{5, 6, 7, (1, 2, 3, 4, 5, 6, 7), 9, 8}\n"
     ]
    }
   ],
   "source": [
    "print(a)"
   ]
  },
  {
   "cell_type": "code",
   "execution_count": 31,
   "id": "a42a3e6f-07b7-43f0-a4eb-5062e533344a",
   "metadata": {},
   "outputs": [],
   "source": [
    "a.remove((1,2,3,4,5,6,7))"
   ]
  },
  {
   "cell_type": "code",
   "execution_count": 32,
   "id": "17b03901-e02e-4a59-9a66-e395876eaa47",
   "metadata": {},
   "outputs": [
    {
     "name": "stdout",
     "output_type": "stream",
     "text": [
      "{5, 6, 7, 9, 8}\n"
     ]
    }
   ],
   "source": [
    "print(a)"
   ]
  },
  {
   "cell_type": "code",
   "execution_count": 33,
   "id": "6d70d121-90fd-460c-aaa2-26e59560448b",
   "metadata": {},
   "outputs": [],
   "source": [
    "a.discard((1,2,3,4,5,6,7))"
   ]
  },
  {
   "cell_type": "code",
   "execution_count": 34,
   "id": "222ed487-3b10-4876-83c4-55b07f2c3e60",
   "metadata": {},
   "outputs": [
    {
     "name": "stdout",
     "output_type": "stream",
     "text": [
      "{5, 6, 7, 9, 8}\n"
     ]
    }
   ],
   "source": [
    "print(a)"
   ]
  },
  {
   "cell_type": "code",
   "execution_count": 39,
   "id": "f54aa516-1ea1-4a52-8f83-8ff9f5533fd5",
   "metadata": {},
   "outputs": [],
   "source": [
    "a.discard((5))"
   ]
  },
  {
   "cell_type": "code",
   "execution_count": 40,
   "id": "c267e47c-ab49-4f6a-80f4-c2888c6959bf",
   "metadata": {},
   "outputs": [
    {
     "name": "stdout",
     "output_type": "stream",
     "text": [
      "{6, 7, 9, 8}\n"
     ]
    }
   ],
   "source": [
    "print(a)"
   ]
  },
  {
   "cell_type": "code",
   "execution_count": 41,
   "id": "9ac146e8-c1ed-4b63-ac16-d389a0d4f35c",
   "metadata": {},
   "outputs": [],
   "source": [
    "x={1,2,3,4,5}\n",
    "y={3,4,5,6,7}"
   ]
  },
  {
   "cell_type": "code",
   "execution_count": 42,
   "id": "b5d3f05c-e840-496f-b990-a2fdb84c31b8",
   "metadata": {},
   "outputs": [
    {
     "data": {
      "text/plain": [
       "{1, 2}"
      ]
     },
     "execution_count": 42,
     "metadata": {},
     "output_type": "execute_result"
    }
   ],
   "source": [
    "x-y # diffrence method"
   ]
  },
  {
   "cell_type": "code",
   "execution_count": 44,
   "id": "262e6fd8-6e02-41e6-b6df-ed40d6735927",
   "metadata": {},
   "outputs": [
    {
     "data": {
      "text/plain": [
       "{1, 2}"
      ]
     },
     "execution_count": 44,
     "metadata": {},
     "output_type": "execute_result"
    }
   ],
   "source": [
    "x.difference(y)"
   ]
  },
  {
   "cell_type": "code",
   "execution_count": 45,
   "id": "c32b65d2-c61d-4ef6-ac7f-c4b9314a9e5e",
   "metadata": {},
   "outputs": [],
   "source": [
    "x.symmetric_difference_update(y)"
   ]
  },
  {
   "cell_type": "code",
   "execution_count": 46,
   "id": "5a6f9c02-bcdc-4fcd-bc90-c9fcbbee5ced",
   "metadata": {},
   "outputs": [
    {
     "name": "stdout",
     "output_type": "stream",
     "text": [
      "{1, 2, 6, 7}\n"
     ]
    }
   ],
   "source": [
    "print(x)"
   ]
  },
  {
   "cell_type": "code",
   "execution_count": 47,
   "id": "a6c4ab35-850f-4d75-9675-1f1d007e6066",
   "metadata": {},
   "outputs": [],
   "source": [
    "y.difference_update(x)"
   ]
  },
  {
   "cell_type": "code",
   "execution_count": 48,
   "id": "3b269a27-1ab4-4187-8b99-f427a529164d",
   "metadata": {},
   "outputs": [
    {
     "name": "stdout",
     "output_type": "stream",
     "text": [
      "{3, 4, 5}\n"
     ]
    }
   ],
   "source": [
    "print(y)"
   ]
  },
  {
   "cell_type": "code",
   "execution_count": 49,
   "id": "932dcc16-61d9-4790-aca5-51748d545f54",
   "metadata": {},
   "outputs": [
    {
     "data": {
      "text/plain": [
       "{1, 2, 6, 7}"
      ]
     },
     "execution_count": 49,
     "metadata": {},
     "output_type": "execute_result"
    }
   ],
   "source": [
    "x"
   ]
  },
  {
   "cell_type": "code",
   "execution_count": 50,
   "id": "12443c0b-f33e-42a0-a447-33a5c7e84926",
   "metadata": {},
   "outputs": [],
   "source": [
    "x.update((3,4,5))"
   ]
  },
  {
   "cell_type": "code",
   "execution_count": 51,
   "id": "fa3aa01b-f863-4478-abbe-d9d25d9e0319",
   "metadata": {},
   "outputs": [
    {
     "name": "stdout",
     "output_type": "stream",
     "text": [
      "{1, 2, 4, 3, 6, 7, 5}\n"
     ]
    }
   ],
   "source": [
    "print(x)"
   ]
  },
  {
   "cell_type": "code",
   "execution_count": 52,
   "id": "41676b7b-66dc-472a-ab82-d51b75851da9",
   "metadata": {},
   "outputs": [
    {
     "data": {
      "text/plain": [
       "{1, 2, 6, 7}"
      ]
     },
     "execution_count": 52,
     "metadata": {},
     "output_type": "execute_result"
    }
   ],
   "source": [
    "x.symmetric_difference(y)"
   ]
  },
  {
   "cell_type": "code",
   "execution_count": 53,
   "id": "61522c41-0bf6-40b1-91e7-6411eb29ab6d",
   "metadata": {},
   "outputs": [],
   "source": [
    "x.symmetric_difference_update(y)"
   ]
  },
  {
   "cell_type": "code",
   "execution_count": 54,
   "id": "b00a620e-427f-4908-beba-073ae10f9675",
   "metadata": {},
   "outputs": [
    {
     "name": "stdout",
     "output_type": "stream",
     "text": [
      "{1, 2, 6, 7}\n"
     ]
    }
   ],
   "source": [
    "print(x)"
   ]
  },
  {
   "cell_type": "code",
   "execution_count": 57,
   "id": "c08ae04a-da90-4592-967f-47bee6454f35",
   "metadata": {},
   "outputs": [
    {
     "data": {
      "text/plain": [
       "True"
      ]
     },
     "execution_count": 57,
     "metadata": {},
     "output_type": "execute_result"
    }
   ],
   "source": [
    "x.issubset(x)"
   ]
  },
  {
   "cell_type": "code",
   "execution_count": 58,
   "id": "009515c9-650d-4482-ae4a-e3a9bd56fcb5",
   "metadata": {},
   "outputs": [
    {
     "data": {
      "text/plain": [
       "False"
      ]
     },
     "execution_count": 58,
     "metadata": {},
     "output_type": "execute_result"
    }
   ],
   "source": [
    "x.isdisjoint(x)"
   ]
  },
  {
   "cell_type": "code",
   "execution_count": 60,
   "id": "b5b2760c-17b1-42aa-b40c-7de32542cf69",
   "metadata": {},
   "outputs": [
    {
     "data": {
      "text/plain": [
       "False"
      ]
     },
     "execution_count": 60,
     "metadata": {},
     "output_type": "execute_result"
    }
   ],
   "source": [
    "y.isdisjoint(y)\n"
   ]
  },
  {
   "cell_type": "code",
   "execution_count": 4,
   "id": "06dbb022-b387-4c6c-9a31-f795331b8296",
   "metadata": {},
   "outputs": [],
   "source": [
    "k={1,2,3,4,4,55,6}\n",
    "m={2,3,5}"
   ]
  },
  {
   "cell_type": "code",
   "execution_count": 7,
   "id": "a6c23da4-d957-471e-b267-e5f35093f196",
   "metadata": {},
   "outputs": [
    {
     "data": {
      "text/plain": [
       "True"
      ]
     },
     "execution_count": 7,
     "metadata": {},
     "output_type": "execute_result"
    }
   ],
   "source": [
    "k.issubset(k)"
   ]
  },
  {
   "cell_type": "code",
   "execution_count": 8,
   "id": "c5aaeb5a-bd2e-4f31-8cb8-a8fc20a0cdcc",
   "metadata": {},
   "outputs": [
    {
     "data": {
      "text/plain": [
       "True"
      ]
     },
     "execution_count": 8,
     "metadata": {},
     "output_type": "execute_result"
    }
   ],
   "source": [
    "m.issubset(m)"
   ]
  },
  {
   "cell_type": "code",
   "execution_count": 9,
   "id": "aa2bbe7d-8ba6-497b-b6b3-940958d0a400",
   "metadata": {},
   "outputs": [
    {
     "data": {
      "text/plain": [
       "{1, 2, 3, 4, 5, 6, 55}"
      ]
     },
     "execution_count": 9,
     "metadata": {},
     "output_type": "execute_result"
    }
   ],
   "source": [
    "k.union(m)"
   ]
  },
  {
   "cell_type": "code",
   "execution_count": 11,
   "id": "da1bf6f2-7430-426a-9aa9-64cc9122095e",
   "metadata": {},
   "outputs": [],
   "source": [
    "k.intersection_update(m)"
   ]
  },
  {
   "cell_type": "code",
   "execution_count": 12,
   "id": "c1506c93-15d8-4ceb-9b40-f5c5a47289f5",
   "metadata": {},
   "outputs": [
    {
     "name": "stdout",
     "output_type": "stream",
     "text": [
      "{2, 3}\n"
     ]
    }
   ],
   "source": [
    "print(k)"
   ]
  },
  {
   "cell_type": "markdown",
   "id": "68fbc260-c5cb-4297-a52e-94e43a9ec44c",
   "metadata": {},
   "source": [
    "# set methods\n"
   ]
  },
  {
   "cell_type": "raw",
   "id": "25af5c08-dc91-424b-9900-6237692bd83b",
   "metadata": {},
   "source": [
    "add()\tAdds an element to the set\n",
    "clear()\tRemoves all the elements from the set\n",
    "copy()\tReturns a copy of the set\n",
    "difference()\tReturns a set containing the difference between two or more sets\n",
    "difference_update()\tRemoves the items in this set that are also included in another, specified set\n",
    "discard()\tRemove the specified item\n",
    "intersection()\tReturns a set, that is the intersection of two other sets\n",
    "intersection_update()\tRemoves the items in this set that are not present in other, specified set(s)\n",
    "isdisjoint()\tReturns whether two sets have a intersection or not\n",
    "issubset()\tReturns whether another set contains this set or not\n",
    "issuperset()\tReturns whether this set contains another set or not\n",
    "pop()\tRemoves an element from the set\n",
    "remove()\tRemoves the specified element\n",
    "symmetric_difference()\tReturns a set with the symmetric differences of two sets\n",
    "symmetric_difference_update()\tinserts the symmetric differences from this set and another\n",
    "union()\tReturn a set containing the union of sets\n",
    "update()\tUpdate the set with the union of this set and others"
   ]
  }
 ],
 "metadata": {
  "kernelspec": {
   "display_name": "Python 3 (ipykernel)",
   "language": "python",
   "name": "python3"
  },
  "language_info": {
   "codemirror_mode": {
    "name": "ipython",
    "version": 3
   },
   "file_extension": ".py",
   "mimetype": "text/x-python",
   "name": "python",
   "nbconvert_exporter": "python",
   "pygments_lexer": "ipython3",
   "version": "3.11.4"
  }
 },
 "nbformat": 4,
 "nbformat_minor": 5
}
