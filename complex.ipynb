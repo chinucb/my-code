{
 "cells": [
  {
   "cell_type": "raw",
   "id": "f4f8d98e-4d7a-4871-90ca-15033cea7546",
   "metadata": {},
   "source": [
    "# complex\n",
    "# complex constructor is complex()\n",
    "# complex literal is oj"
   ]
  },
  {
   "cell_type": "code",
   "execution_count": 2,
   "id": "33e88947-c611-45e7-b39f-9a69629a3577",
   "metadata": {},
   "outputs": [],
   "source": [
    "a=complex()"
   ]
  },
  {
   "cell_type": "code",
   "execution_count": 3,
   "id": "dcf9e481-3573-43b8-8c89-fca69309b52f",
   "metadata": {},
   "outputs": [
    {
     "name": "stdout",
     "output_type": "stream",
     "text": [
      "0j\n"
     ]
    }
   ],
   "source": [
    "print(a)"
   ]
  },
  {
   "cell_type": "code",
   "execution_count": 4,
   "id": "f9cfe806-6f00-40cc-817e-b41b05ecd05c",
   "metadata": {},
   "outputs": [],
   "source": [
    "a=23j"
   ]
  },
  {
   "cell_type": "code",
   "execution_count": 5,
   "id": "5d29d3e6-4579-4265-8018-45cda8347a04",
   "metadata": {},
   "outputs": [
    {
     "name": "stdout",
     "output_type": "stream",
     "text": [
      "23j\n"
     ]
    }
   ],
   "source": [
    "print(a)"
   ]
  },
  {
   "cell_type": "code",
   "execution_count": 6,
   "id": "e2f9485e-bf8b-4463-aee8-ab9c9a1cc2df",
   "metadata": {},
   "outputs": [
    {
     "data": {
      "text/plain": [
       "(2+2j)"
      ]
     },
     "execution_count": 6,
     "metadata": {},
     "output_type": "execute_result"
    }
   ],
   "source": [
    "2+2j"
   ]
  },
  {
   "cell_type": "code",
   "execution_count": 2,
   "id": "55863bb9-3923-474d-849b-5724c88fa649",
   "metadata": {},
   "outputs": [],
   "source": [
    "c=0j"
   ]
  },
  {
   "cell_type": "code",
   "execution_count": 5,
   "id": "66a552fe-43a0-4361-a298-c038605ce31c",
   "metadata": {},
   "outputs": [
    {
     "name": "stdout",
     "output_type": "stream",
     "text": [
      "0j <class 'type'>\n"
     ]
    }
   ],
   "source": [
    "print(c,(type))"
   ]
  },
  {
   "cell_type": "code",
   "execution_count": 7,
   "id": "081cc918-5800-4ba1-8ed5-d6137422ae6c",
   "metadata": {},
   "outputs": [
    {
     "data": {
      "text/plain": [
       "(16+16j)"
      ]
     },
     "execution_count": 7,
     "metadata": {},
     "output_type": "execute_result"
    }
   ],
   "source": [
    "(2+2)*(4+4j)"
   ]
  },
  {
   "cell_type": "code",
   "execution_count": 8,
   "id": "85baf8a5-57a6-45cb-bdd8-d3317c4d0218",
   "metadata": {},
   "outputs": [],
   "source": [
    "a=complex()"
   ]
  },
  {
   "cell_type": "code",
   "execution_count": 9,
   "id": "7f0888d5-9c34-48ee-93a9-6a12e94123b7",
   "metadata": {},
   "outputs": [
    {
     "name": "stdout",
     "output_type": "stream",
     "text": [
      "0j\n"
     ]
    }
   ],
   "source": [
    "print(a)"
   ]
  },
  {
   "cell_type": "code",
   "execution_count": 1,
   "id": "c058d4c8-492f-44a9-b152-60215a0662a8",
   "metadata": {},
   "outputs": [],
   "source": [
    "# practice"
   ]
  },
  {
   "cell_type": "code",
   "execution_count": 3,
   "id": "455b07fb-0ffb-412f-84ea-b6c0b2469f5e",
   "metadata": {},
   "outputs": [
    {
     "name": "stdout",
     "output_type": "stream",
     "text": [
      "(2+4j)\n"
     ]
    }
   ],
   "source": [
    "a=2+4j\n",
    "print(a)"
   ]
  },
  {
   "cell_type": "code",
   "execution_count": 4,
   "id": "5b46fb61-3221-4181-b64f-edd4d17593fa",
   "metadata": {},
   "outputs": [
    {
     "name": "stdout",
     "output_type": "stream",
     "text": [
      "5j\n"
     ]
    }
   ],
   "source": [
    "b=5j\n",
    "print(b)"
   ]
  },
  {
   "cell_type": "code",
   "execution_count": 5,
   "id": "6cc06bab-0266-4567-a3c0-af3186725e49",
   "metadata": {},
   "outputs": [],
   "source": [
    "c=0j"
   ]
  },
  {
   "cell_type": "code",
   "execution_count": 7,
   "id": "bdc06552-3322-4cd6-86fe-cb0238828556",
   "metadata": {},
   "outputs": [
    {
     "name": "stdout",
     "output_type": "stream",
     "text": [
      "(68868+799j)\n"
     ]
    }
   ],
   "source": [
    "c=68868+799j\n",
    "print(c)"
   ]
  },
  {
   "cell_type": "code",
   "execution_count": 8,
   "id": "db54674e-bebb-47d1-857c-a3e2843081bb",
   "metadata": {},
   "outputs": [
    {
     "data": {
      "text/plain": [
       "(16+16j)"
      ]
     },
     "execution_count": 8,
     "metadata": {},
     "output_type": "execute_result"
    }
   ],
   "source": [
    "(2+2)*(4+4j)"
   ]
  },
  {
   "cell_type": "code",
   "execution_count": null,
   "id": "ea84f167-dde3-468c-a2a4-b9affb8540cb",
   "metadata": {},
   "outputs": [],
   "source": []
  }
 ],
 "metadata": {
  "kernelspec": {
   "display_name": "Python 3 (ipykernel)",
   "language": "python",
   "name": "python3"
  },
  "language_info": {
   "codemirror_mode": {
    "name": "ipython",
    "version": 3
   },
   "file_extension": ".py",
   "mimetype": "text/x-python",
   "name": "python",
   "nbconvert_exporter": "python",
   "pygments_lexer": "ipython3",
   "version": "3.11.4"
  }
 },
 "nbformat": 4,
 "nbformat_minor": 5
}
