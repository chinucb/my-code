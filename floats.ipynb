{
 "cells": [
  {
   "cell_type": "markdown",
   "id": "1c44f16f-c945-472f-ac1e-01a45e39a1de",
   "metadata": {},
   "source": [
    "# Float"
   ]
  },
  {
   "cell_type": "code",
   "execution_count": null,
   "id": "e37420e8-2a63-49ff-94d2-8b614e4fcb8f",
   "metadata": {},
   "outputs": [],
   "source": [
    "<float\n",
    "# float contructor is float()\n",
    "# float literal is 0.0\n",
    "# float contain 0,1,2,3,4,5,6,7,8,9."
   ]
  },
  {
   "cell_type": "code",
   "execution_count": 1,
   "id": "12aa8ffa-d152-4823-87b3-25a50a526971",
   "metadata": {},
   "outputs": [
    {
     "data": {
      "text/plain": [
       "1.0"
      ]
     },
     "execution_count": 1,
     "metadata": {},
     "output_type": "execute_result"
    }
   ],
   "source": [
    "1.0"
   ]
  },
  {
   "cell_type": "code",
   "execution_count": 2,
   "id": "bbec0290-8aef-4658-9db5-f3bf8c78b5c1",
   "metadata": {},
   "outputs": [
    {
     "data": {
      "text/plain": [
       "1.2566"
      ]
     },
     "execution_count": 2,
     "metadata": {},
     "output_type": "execute_result"
    }
   ],
   "source": [
    "1.2566"
   ]
  },
  {
   "cell_type": "code",
   "execution_count": 4,
   "id": "47efd3b0-d36a-451a-b82e-12cd9089565e",
   "metadata": {},
   "outputs": [
    {
     "data": {
      "text/plain": [
       "float"
      ]
     },
     "execution_count": 4,
     "metadata": {},
     "output_type": "execute_result"
    }
   ],
   "source": [
    "type(-23.67)"
   ]
  },
  {
   "cell_type": "code",
   "execution_count": 2,
   "id": "c0622f13-155d-4fa8-a59f-ac619880cb38",
   "metadata": {},
   "outputs": [
    {
     "data": {
      "text/plain": [
       "str"
      ]
     },
     "execution_count": 2,
     "metadata": {},
     "output_type": "execute_result"
    }
   ],
   "source": [
    "type(\"hello world\")"
   ]
  },
  {
   "cell_type": "code",
   "execution_count": 3,
   "id": "8e51aa1d-c0d2-4276-ac9f-d36357acd2d0",
   "metadata": {},
   "outputs": [
    {
     "name": "stdout",
     "output_type": "stream",
     "text": [
      "0.0\n"
     ]
    }
   ],
   "source": [
    "a=float()\n",
    "print(a)"
   ]
  },
  {
   "cell_type": "code",
   "execution_count": 4,
   "id": "aa93b838-d8d0-4d7a-af04-498e10c4f1aa",
   "metadata": {},
   "outputs": [
    {
     "name": "stdout",
     "output_type": "stream",
     "text": [
      "0.0\n"
     ]
    }
   ],
   "source": [
    "b=0.0\n",
    "print(b)"
   ]
  },
  {
   "cell_type": "code",
   "execution_count": 5,
   "id": "2e25ec27-4c10-4346-9d84-d4870bcf3b8c",
   "metadata": {},
   "outputs": [
    {
     "name": "stdout",
     "output_type": "stream",
     "text": [
      "<class 'float'>\n"
     ]
    }
   ],
   "source": [
    "print(type(b))"
   ]
  },
  {
   "cell_type": "code",
   "execution_count": 6,
   "id": "cd70c3f2-2375-477a-be3e-dc0ce77e41c5",
   "metadata": {},
   "outputs": [
    {
     "name": "stdout",
     "output_type": "stream",
     "text": [
      "0.0023\n"
     ]
    }
   ],
   "source": [
    "a=0.0023\n",
    "print(a)"
   ]
  },
  {
   "cell_type": "code",
   "execution_count": 9,
   "id": "36bd3f9a-a13f-4175-a83b-157805482246",
   "metadata": {},
   "outputs": [
    {
     "ename": "SyntaxError",
     "evalue": "leading zeros in decimal integer literals are not permitted; use an 0o prefix for octal integers (920532025.py, line 1)",
     "output_type": "error",
     "traceback": [
      "\u001b[1;36m  Cell \u001b[1;32mIn[9], line 1\u001b[1;36m\u001b[0m\n\u001b[1;33m    c=010\u001b[0m\n\u001b[1;37m      ^\u001b[0m\n\u001b[1;31mSyntaxError\u001b[0m\u001b[1;31m:\u001b[0m leading zeros in decimal integer literals are not permitted; use an 0o prefix for octal integers\n"
     ]
    }
   ],
   "source": [
    "c=010 # never use 0 informt of integer\n",
    "print(c)"
   ]
  },
  {
   "cell_type": "code",
   "execution_count": 11,
   "id": "f4485b88-1c0c-47e9-97ea-6c6e17afe8cc",
   "metadata": {},
   "outputs": [
    {
     "name": "stdout",
     "output_type": "stream",
     "text": [
      "20000000000.0\n",
      "<class 'float'>\n"
     ]
    }
   ],
   "source": [
    "d=2e10\n",
    "print(d)\n",
    "print(type(d))"
   ]
  },
  {
   "cell_type": "code",
   "execution_count": 3,
   "id": "5019c806-38c8-453f-96df-338513d79b93",
   "metadata": {},
   "outputs": [],
   "source": [
    "a=float() # this is empty data type it's literal is zero."
   ]
  },
  {
   "cell_type": "code",
   "execution_count": 4,
   "id": "bab5537f-ba89-4934-8bdb-c2099b962847",
   "metadata": {},
   "outputs": [
    {
     "data": {
      "text/plain": [
       "0.0"
      ]
     },
     "execution_count": 4,
     "metadata": {},
     "output_type": "execute_result"
    }
   ],
   "source": [
    "a"
   ]
  },
  {
   "cell_type": "code",
   "execution_count": 7,
   "id": "6e441dfc-88a7-45d7-8be1-71a44e18d422",
   "metadata": {},
   "outputs": [],
   "source": [
    "b=0.0 # second type of empty data."
   ]
  },
  {
   "cell_type": "code",
   "execution_count": 8,
   "id": "8a58fdf6-fa0d-48c1-8af6-9fb6a119ab83",
   "metadata": {},
   "outputs": [
    {
     "name": "stdout",
     "output_type": "stream",
     "text": [
      "0.0\n"
     ]
    }
   ],
   "source": [
    "print(b)"
   ]
  },
  {
   "cell_type": "code",
   "execution_count": 9,
   "id": "4e988acf-4667-48ed-bed5-c8300a95af31",
   "metadata": {},
   "outputs": [
    {
     "name": "stdout",
     "output_type": "stream",
     "text": [
      "<class 'float'>\n"
     ]
    }
   ],
   "source": [
    "print(type(a))"
   ]
  },
  {
   "cell_type": "code",
   "execution_count": 10,
   "id": "42f35848-62ce-4988-80c7-9c75ff1e8436",
   "metadata": {},
   "outputs": [
    {
     "name": "stdout",
     "output_type": "stream",
     "text": [
      "<class 'float'>\n"
     ]
    }
   ],
   "source": [
    "print(type(b))"
   ]
  },
  {
   "cell_type": "code",
   "execution_count": 11,
   "id": "f772cbac-a102-48e4-a601-b21424d830d8",
   "metadata": {},
   "outputs": [],
   "source": [
    "v=1."
   ]
  },
  {
   "cell_type": "code",
   "execution_count": 12,
   "id": "cc78885a-2755-4ea1-ae06-e765188b04b0",
   "metadata": {},
   "outputs": [
    {
     "data": {
      "text/plain": [
       "1.0"
      ]
     },
     "execution_count": 12,
     "metadata": {},
     "output_type": "execute_result"
    }
   ],
   "source": [
    "v"
   ]
  },
  {
   "cell_type": "code",
   "execution_count": 13,
   "id": "f4685c23-5c7c-47b3-a9b6-04d51fd86621",
   "metadata": {},
   "outputs": [
    {
     "data": {
      "text/plain": [
       "float"
      ]
     },
     "execution_count": 13,
     "metadata": {},
     "output_type": "execute_result"
    }
   ],
   "source": [
    "type(v)"
   ]
  },
  {
   "cell_type": "code",
   "execution_count": 15,
   "id": "105cb1a1-e6fd-4667-8b80-2940c8a6f5ff",
   "metadata": {},
   "outputs": [],
   "source": [
    "x=0.029239393"
   ]
  },
  {
   "cell_type": "code",
   "execution_count": 16,
   "id": "86a84cb6-acec-4a97-a7c7-a7438316cf6a",
   "metadata": {},
   "outputs": [
    {
     "name": "stdout",
     "output_type": "stream",
     "text": [
      "0.029239393\n"
     ]
    }
   ],
   "source": [
    "print(x)"
   ]
  },
  {
   "cell_type": "code",
   "execution_count": 17,
   "id": "cae09964-474c-4f2e-a8b2-8f12d3fea479",
   "metadata": {},
   "outputs": [],
   "source": [
    "y=2e5 # this is use case."
   ]
  },
  {
   "cell_type": "code",
   "execution_count": 18,
   "id": "003e4806-e25b-4efe-8a83-21dfca937ffa",
   "metadata": {},
   "outputs": [
    {
     "name": "stdout",
     "output_type": "stream",
     "text": [
      "200000.0\n"
     ]
    }
   ],
   "source": [
    "print(y)"
   ]
  },
  {
   "cell_type": "code",
   "execution_count": 19,
   "id": "c536f6ff-68ae-40a7-89b0-709d299b9c8a",
   "metadata": {},
   "outputs": [
    {
     "data": {
      "text/plain": [
       "200000.0"
      ]
     },
     "execution_count": 19,
     "metadata": {},
     "output_type": "execute_result"
    }
   ],
   "source": [
    "2*10.0**5 "
   ]
  },
  {
   "cell_type": "code",
   "execution_count": null,
   "id": "e001568c-0040-464b-aac0-0c1d4c377cfb",
   "metadata": {},
   "outputs": [],
   "source": []
  }
 ],
 "metadata": {
  "kernelspec": {
   "display_name": "Python 3 (ipykernel)",
   "language": "python",
   "name": "python3"
  },
  "language_info": {
   "codemirror_mode": {
    "name": "ipython",
    "version": 3
   },
   "file_extension": ".py",
   "mimetype": "text/x-python",
   "name": "python",
   "nbconvert_exporter": "python",
   "pygments_lexer": "ipython3",
   "version": "3.11.4"
  }
 },
 "nbformat": 4,
 "nbformat_minor": 5
}
