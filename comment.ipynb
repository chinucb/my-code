{
 "cells": [
  {
   "cell_type": "code",
   "execution_count": null,
   "id": "01c154f1-7106-4395-8165-3a9a4f486313",
   "metadata": {},
   "outputs": [],
   "source": [
    "#Comments: comments are the linee in the code that are ignored by the interpreter during the execution of the program.\n"
   ]
  },
  {
   "cell_type": "code",
   "execution_count": null,
   "id": "e43df037-ac43-45aa-a16c-568a1a9227b2",
   "metadata": {},
   "outputs": [],
   "source": [
    "# makae code easier to understand.if we write comments in our code.it will be easier for future references."
   ]
  },
  {
   "cell_type": "code",
   "execution_count": null,
   "id": "4f4bb85d-5d59-4ff6-8c6c-a3586677b62d",
   "metadata": {},
   "outputs": [],
   "source": [
    "# using comments for debugging.if we get an error while running the program,we can comment the line of code that cause the error instead of removing it."
   ]
  },
  {
   "cell_type": "code",
   "execution_count": 3,
   "id": "03e58376-e4c8-4515-ad0c-95094e513266",
   "metadata": {},
   "outputs": [],
   "source": [
    "#\n",
    "#print('hello world\") "
   ]
  },
  {
   "cell_type": "code",
   "execution_count": 5,
   "id": "e1cb0d2f-44b8-4db0-a061-a61f3d6cad2e",
   "metadata": {},
   "outputs": [
    {
     "name": "stdout",
     "output_type": "stream",
     "text": [
      "hello world\n"
     ]
    }
   ],
   "source": [
    "print(\"hello world\") # i m a chanchal\n"
   ]
  },
  {
   "cell_type": "markdown",
   "id": "4fb76fd6-1d78-4deb-9cfe-7b80c70415d8",
   "metadata": {},
   "source": [
    "# comment\n"
   ]
  },
  {
   "cell_type": "markdown",
   "id": "9e51ea68-c8fc-4008-94bf-a73fe90a6d51",
   "metadata": {},
   "source": [
    "< use as marker\n",
    "< to test our code\n"
   ]
  },
  {
   "cell_type": "code",
   "execution_count": 1,
   "id": "a45a8081-1f6f-44d3-b773-ff57fcd71614",
   "metadata": {},
   "outputs": [
    {
     "name": "stdout",
     "output_type": "stream",
     "text": [
      "hello world\n"
     ]
    }
   ],
   "source": [
    "print(\"hello world\") #print(function) is used to echo something on screen/console"
   ]
  },
  {
   "cell_type": "code",
   "execution_count": 8,
   "id": "551b4025-db56-4d09-a470-07db632bb1f5",
   "metadata": {},
   "outputs": [],
   "source": [
    "#print('hello world') # cause of hashtag this command can't be read.\n",
    "#print(\"hello world\")\n",
    "#print('''hello world''')\n",
    "#print(\"\"\"hello world\"\"\")"
   ]
  },
  {
   "cell_type": "code",
   "execution_count": null,
   "id": "396d7f6c-449c-4b19-84bb-0f88199a32ff",
   "metadata": {},
   "outputs": [],
   "source": []
  }
 ],
 "metadata": {
  "kernelspec": {
   "display_name": "Python 3 (ipykernel)",
   "language": "python",
   "name": "python3"
  },
  "language_info": {
   "codemirror_mode": {
    "name": "ipython",
    "version": 3
   },
   "file_extension": ".py",
   "mimetype": "text/x-python",
   "name": "python",
   "nbconvert_exporter": "python",
   "pygments_lexer": "ipython3",
   "version": "3.11.4"
  }
 },
 "nbformat": 4,
 "nbformat_minor": 5
}
