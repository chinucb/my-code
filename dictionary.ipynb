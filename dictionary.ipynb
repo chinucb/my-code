{
 "cells": [
  {
   "cell_type": "markdown",
   "id": "733d96ca-ac39-4fce-b134-1508a51f7fe2",
   "metadata": {},
   "source": [
    "# dictionary"
   ]
  },
  {
   "cell_type": "markdown",
   "id": "87e05e7f-e5eb-4759-b6d1-475660a36764",
   "metadata": {},
   "source": [
    "> dictionary constructor is dict()\n",
    "> \n",
    "> dictionary literal is { }\n",
    "\n",
    "> dictionary is mutable(unhashable)\n",
    "\n",
    "> dictionary is ordered set of sequence of item(items is the collection of key and value pair)\n",
    "\n",
    "> dictionary does not support concatination\n",
    "\n",
    "> dictionary support indexing\n",
    "\n",
    "> dictionary does not support slicing\n",
    "\n",
    "> dictionary support nested dictionary\n",
    " \n",
    "> dictionary is a combination of key and value\n",
    " \n",
    "> dictionary key act as index values.\n",
    " \n",
    "> dictionary is mutable\n",
    "\n",
    "> dictionary key must be immutable datatype\n",
    " \n",
    "> dictionary methods."
   ]
  },
  {
   "cell_type": "code",
   "execution_count": 4,
   "id": "e2c1df43-4870-451d-949e-9c4be90f67ce",
   "metadata": {},
   "outputs": [],
   "source": [
    "a={1:\"ankit\",2:\"bharti\",3:\"chanchal\",4:\"elena\",}"
   ]
  },
  {
   "cell_type": "code",
   "execution_count": 13,
   "id": "0c6ea8cc-53dd-4d2a-b0df-4b14271683c1",
   "metadata": {},
   "outputs": [
    {
     "data": {
      "text/plain": [
       "{1: 'ankit', 2: 'bharti', 3: 'chanchal', 4: 'elena'}"
      ]
     },
     "execution_count": 13,
     "metadata": {},
     "output_type": "execute_result"
    }
   ],
   "source": [
    "a"
   ]
  },
  {
   "cell_type": "code",
   "execution_count": 14,
   "id": "59dc993c-4b06-4e74-9f66-b3ceaf739444",
   "metadata": {},
   "outputs": [
    {
     "name": "stdout",
     "output_type": "stream",
     "text": [
      "4\n"
     ]
    }
   ],
   "source": [
    "print(len(a))"
   ]
  },
  {
   "cell_type": "code",
   "execution_count": 8,
   "id": "19858a5f-ef86-4684-b31a-db116af1071b",
   "metadata": {},
   "outputs": [],
   "source": [
    "# keys can be any data type but it should be immutable,don't be repeated "
   ]
  },
  {
   "cell_type": "code",
   "execution_count": 10,
   "id": "c3f6f22e-6e1a-4f2f-a6b2-61416d5ff648",
   "metadata": {},
   "outputs": [],
   "source": [
    "b={1:\"rusa\",2.03:\"rumaisa\",\"father's name\":\"sumeena\",(1,2,3):\"kaleshi\",frozenset({1,2,3}):\"sohan\"}"
   ]
  },
  {
   "cell_type": "code",
   "execution_count": 12,
   "id": "d3a09f70-cb9e-493a-acff-13d4677471c8",
   "metadata": {},
   "outputs": [
    {
     "data": {
      "text/plain": [
       "{1: 'rusa',\n",
       " 2.03: 'rumaisa',\n",
       " \"father's name\": 'sumeena',\n",
       " (1, 2, 3): 'kaleshi',\n",
       " frozenset({1, 2, 3}): 'sohan'}"
      ]
     },
     "execution_count": 12,
     "metadata": {},
     "output_type": "execute_result"
    }
   ],
   "source": [
    "b"
   ]
  },
  {
   "cell_type": "code",
   "execution_count": 16,
   "id": "7201f7d4-692e-436a-a7fd-28f8fd3f5b51",
   "metadata": {},
   "outputs": [
    {
     "data": {
      "text/plain": [
       "'ankit'"
      ]
     },
     "execution_count": 16,
     "metadata": {},
     "output_type": "execute_result"
    }
   ],
   "source": [
    "a[1]"
   ]
  },
  {
   "cell_type": "code",
   "execution_count": 17,
   "id": "0cfe09f3-76b0-4288-a9f3-c4848efd737c",
   "metadata": {},
   "outputs": [],
   "source": [
    "c={\"anme\":\"chanchal\",\"father's name\":\"bhagwat sharma\",\"mother's name\":\"kanta\"}"
   ]
  },
  {
   "cell_type": "code",
   "execution_count": 18,
   "id": "03d3be6f-1da1-4b77-a9f9-a59dfc666c4e",
   "metadata": {},
   "outputs": [
    {
     "data": {
      "text/plain": [
       "'bhagwat sharma'"
      ]
     },
     "execution_count": 18,
     "metadata": {},
     "output_type": "execute_result"
    }
   ],
   "source": [
    "c[\"father's name\"]"
   ]
  },
  {
   "cell_type": "code",
   "execution_count": 21,
   "id": "54c7df5c-f134-4d53-80e6-fb2abbd3ec4a",
   "metadata": {},
   "outputs": [
    {
     "data": {
      "text/plain": [
       "'kanta'"
      ]
     },
     "execution_count": 21,
     "metadata": {},
     "output_type": "execute_result"
    }
   ],
   "source": [
    "c[\"mother's name\"]"
   ]
  },
  {
   "cell_type": "code",
   "execution_count": 24,
   "id": "e3bb6aed-d46c-4f75-aab8-071fd3230f20",
   "metadata": {},
   "outputs": [],
   "source": [
    "g={\"anme\":\"chanchal\",\"father's name\":\"bhagwat sharma\",\"mother's name\":\"kanta\",\"name\":\"bhomi\"} # cause of duplicate key their is a problem causedinterpreter cant read another vale it will return only latest value"
   ]
  },
  {
   "cell_type": "code",
   "execution_count": 27,
   "id": "c3e0aafd-5047-408b-953e-ee91dc60ae4f",
   "metadata": {},
   "outputs": [
    {
     "data": {
      "text/plain": [
       "'bhomi'"
      ]
     },
     "execution_count": 27,
     "metadata": {},
     "output_type": "execute_result"
    }
   ],
   "source": [
    "g[\"name\"]"
   ]
  },
  {
   "cell_type": "code",
   "execution_count": 28,
   "id": "79ee82fa-e428-4865-91d9-d9fd089c5b79",
   "metadata": {},
   "outputs": [
    {
     "name": "stdout",
     "output_type": "stream",
     "text": [
      "{'anme': 'chanchal', \"father's name\": 'bhagwat sharma', \"mother's name\": 'kanta', 'name': 'bhomi'}\n"
     ]
    }
   ],
   "source": [
    "print(g)"
   ]
  },
  {
   "cell_type": "code",
   "execution_count": 33,
   "id": "b8f9f702-8337-4d9a-bc56-0656b7580f28",
   "metadata": {},
   "outputs": [],
   "source": [
    "f={1312:{\"name\":\"chanchal\",\"course\":\"python+da\",\"tyming\":\"3.30pm to 4.30 pm\"}}"
   ]
  },
  {
   "cell_type": "code",
   "execution_count": 35,
   "id": "a54e0f46-c21a-4c00-b8b7-c236a7caaa2a",
   "metadata": {},
   "outputs": [
    {
     "data": {
      "text/plain": [
       "{'name': 'chanchal', 'course': 'python+da', 'tyming': '3.30pm to 4.30 pm'}"
      ]
     },
     "execution_count": 35,
     "metadata": {},
     "output_type": "execute_result"
    }
   ],
   "source": [
    "f[1312]"
   ]
  },
  {
   "cell_type": "code",
   "execution_count": 38,
   "id": "24615619-50e6-458d-8296-f7ec2caf49d6",
   "metadata": {},
   "outputs": [
    {
     "data": {
      "text/plain": [
       "'3.30pm to 4.30 pm'"
      ]
     },
     "execution_count": 38,
     "metadata": {},
     "output_type": "execute_result"
    }
   ],
   "source": [
    "f[1312][\"tyming\"]"
   ]
  },
  {
   "cell_type": "code",
   "execution_count": 4,
   "id": "bcd924f8-3815-4e6b-a70f-8a6073ec70f3",
   "metadata": {},
   "outputs": [],
   "source": [
    "m={1:10,2:11.99,3:\"abc\",4:[1,2,3,4],5:(1,2,3),6:{1,2,3},7:frozenset({1,2,3}),8:{1:\"chanchal\"}}"
   ]
  },
  {
   "cell_type": "code",
   "execution_count": 5,
   "id": "f5368395-f02f-450d-8820-e3270e5b6360",
   "metadata": {},
   "outputs": [
    {
     "name": "stdout",
     "output_type": "stream",
     "text": [
      "{1: 10, 2: 11.99, 3: 'abc', 4: [1, 2, 3, 4], 5: (1, 2, 3), 6: {1, 2, 3}, 7: frozenset({1, 2, 3}), 8: {1: 'chanchal'}}\n"
     ]
    }
   ],
   "source": [
    "print(m)"
   ]
  },
  {
   "cell_type": "code",
   "execution_count": null,
   "id": "b08a3531-d091-47af-9b4c-1d414418b4f9",
   "metadata": {},
   "outputs": [],
   "source": []
  },
  {
   "cell_type": "markdown",
   "id": "08470c85-08d0-4968-bf0d-5085a25221e5",
   "metadata": {},
   "source": [
    "# methods of dictionary\n",
    " 'clear'\n",
    " 'copy',\n",
    " 'fromkeys',\n",
    " 'get',\n",
    " 'items',\n",
    " 'keys',\n",
    " 'pop',\n",
    " 'popitem',\n",
    " 'setdefault',\n",
    " 'update',\n",
    " 'values']"
   ]
  },
  {
   "cell_type": "code",
   "execution_count": 7,
   "id": "df0f7ce1-9708-4c22-abe0-c4f71a8a6640",
   "metadata": {},
   "outputs": [
    {
     "name": "stdout",
     "output_type": "stream",
     "text": [
      "{1: 10, 2: 11.99, 3: 'abc', 4: [1, 2, 3, 4], 5: (1, 2, 3), 6: {1, 2, 3}, 7: frozenset({1, 2, 3}), 8: {1: 'chanchal'}}\n"
     ]
    }
   ],
   "source": [
    "print(m)"
   ]
  },
  {
   "cell_type": "code",
   "execution_count": 8,
   "id": "51727aeb-c846-4326-b852-f6c90e744fd0",
   "metadata": {},
   "outputs": [],
   "source": [
    "# delte:- clear,pop,popitem (for delete something)"
   ]
  },
  {
   "cell_type": "code",
   "execution_count": 9,
   "id": "c696d735-040e-4566-90bc-0daf7e0b244b",
   "metadata": {},
   "outputs": [
    {
     "data": {
      "text/plain": [
       "{1, 2, 3}"
      ]
     },
     "execution_count": 9,
     "metadata": {},
     "output_type": "execute_result"
    }
   ],
   "source": [
    "m.pop(6)"
   ]
  },
  {
   "cell_type": "code",
   "execution_count": 10,
   "id": "18cd0992-0086-4b35-a22e-5d014bfef55a",
   "metadata": {},
   "outputs": [
    {
     "name": "stdout",
     "output_type": "stream",
     "text": [
      "{1: 10, 2: 11.99, 3: 'abc', 4: [1, 2, 3, 4], 5: (1, 2, 3), 7: frozenset({1, 2, 3}), 8: {1: 'chanchal'}}\n"
     ]
    }
   ],
   "source": [
    "print(m)"
   ]
  },
  {
   "cell_type": "code",
   "execution_count": 11,
   "id": "1a06c1e5-c2da-4649-9bd1-d86a6c0ee751",
   "metadata": {},
   "outputs": [
    {
     "data": {
      "text/plain": [
       "(8, {1: 'chanchal'})"
      ]
     },
     "execution_count": 11,
     "metadata": {},
     "output_type": "execute_result"
    }
   ],
   "source": [
    "m.popitem()"
   ]
  },
  {
   "cell_type": "code",
   "execution_count": 12,
   "id": "ab81b39a-be38-4810-b702-4777ee86adec",
   "metadata": {},
   "outputs": [
    {
     "name": "stdout",
     "output_type": "stream",
     "text": [
      "{1: 10, 2: 11.99, 3: 'abc', 4: [1, 2, 3, 4], 5: (1, 2, 3), 7: frozenset({1, 2, 3})}\n"
     ]
    }
   ],
   "source": [
    "print(m)"
   ]
  },
  {
   "cell_type": "code",
   "execution_count": 13,
   "id": "cf94bf3e-fa0f-4d3c-be71-dfadf19cb379",
   "metadata": {},
   "outputs": [],
   "source": [
    "m.clear()"
   ]
  },
  {
   "cell_type": "code",
   "execution_count": 14,
   "id": "c728cd16-c615-4947-be07-336c5f11c369",
   "metadata": {},
   "outputs": [
    {
     "name": "stdout",
     "output_type": "stream",
     "text": [
      "{}\n"
     ]
    }
   ],
   "source": [
    "print(m)"
   ]
  },
  {
   "cell_type": "code",
   "execution_count": 15,
   "id": "f9a28b7c-7ea3-45c0-8358-0d7555693abc",
   "metadata": {},
   "outputs": [],
   "source": [
    "# add something:-update"
   ]
  },
  {
   "cell_type": "code",
   "execution_count": 20,
   "id": "6fe690de-8ece-4a83-afa6-a25a1b76547b",
   "metadata": {},
   "outputs": [],
   "source": [
    "m.update({1:\"anshul\",2:\"bheeshm\",3:\"chaya\",4:\"rupal\"})"
   ]
  },
  {
   "cell_type": "code",
   "execution_count": 21,
   "id": "9b934d5d-0434-442d-a737-9d1ddd23df3d",
   "metadata": {},
   "outputs": [
    {
     "name": "stdout",
     "output_type": "stream",
     "text": [
      "{1: 'anshul', 2: 'bheeshm', 3: 'chaya', 4: 'rupal'}\n"
     ]
    }
   ],
   "source": [
    "print(m)"
   ]
  },
  {
   "cell_type": "code",
   "execution_count": 22,
   "id": "81cda77e-5dd2-4c9b-a110-30feda9e56be",
   "metadata": {},
   "outputs": [
    {
     "data": {
      "text/plain": [
       "'chaya'"
      ]
     },
     "execution_count": 22,
     "metadata": {},
     "output_type": "execute_result"
    }
   ],
   "source": [
    "m[3]"
   ]
  },
  {
   "cell_type": "code",
   "execution_count": 23,
   "id": "51795a95-63c9-46e0-a8a4-f477d3e362f8",
   "metadata": {},
   "outputs": [],
   "source": [
    "m[1]=\"vishnu\""
   ]
  },
  {
   "cell_type": "code",
   "execution_count": 24,
   "id": "3e1fbac2-9768-40d4-b0ce-b8cdc7806740",
   "metadata": {},
   "outputs": [
    {
     "name": "stdout",
     "output_type": "stream",
     "text": [
      "{1: 'vishnu', 2: 'bheeshm', 3: 'chaya', 4: 'rupal'}\n"
     ]
    }
   ],
   "source": [
    "print(m)"
   ]
  },
  {
   "cell_type": "code",
   "execution_count": 25,
   "id": "c6b9f165-8905-4760-aebd-4ec731dc3b25",
   "metadata": {},
   "outputs": [],
   "source": [
    "# keys, items, value"
   ]
  },
  {
   "cell_type": "code",
   "execution_count": 26,
   "id": "b1ef6dac-db94-4d8b-9773-9bfe27129578",
   "metadata": {},
   "outputs": [
    {
     "data": {
      "text/plain": [
       "dict_keys([1, 2, 3, 4])"
      ]
     },
     "execution_count": 26,
     "metadata": {},
     "output_type": "execute_result"
    }
   ],
   "source": [
    "m.keys()"
   ]
  },
  {
   "cell_type": "code",
   "execution_count": 27,
   "id": "febc0726-cfc9-4a99-8f37-4d73d7af6fd1",
   "metadata": {},
   "outputs": [
    {
     "data": {
      "text/plain": [
       "dict_items([(1, 'vishnu'), (2, 'bheeshm'), (3, 'chaya'), (4, 'rupal')])"
      ]
     },
     "execution_count": 27,
     "metadata": {},
     "output_type": "execute_result"
    }
   ],
   "source": [
    "m.items()"
   ]
  },
  {
   "cell_type": "code",
   "execution_count": 28,
   "id": "c554d03b-3b78-443f-ac04-da7266a9c17f",
   "metadata": {},
   "outputs": [
    {
     "data": {
      "text/plain": [
       "dict_values(['vishnu', 'bheeshm', 'chaya', 'rupal'])"
      ]
     },
     "execution_count": 28,
     "metadata": {},
     "output_type": "execute_result"
    }
   ],
   "source": [
    "m.values()"
   ]
  },
  {
   "cell_type": "code",
   "execution_count": 29,
   "id": "48abb05f-c1ab-4f79-a0ab-1c795a9bd60b",
   "metadata": {},
   "outputs": [
    {
     "name": "stdout",
     "output_type": "stream",
     "text": [
      "{1: 'vishnu', 2: 'bheeshm', 3: 'chaya', 4: 'rupal'}\n"
     ]
    }
   ],
   "source": [
    "print(m)"
   ]
  },
  {
   "cell_type": "code",
   "execution_count": 31,
   "id": "d8421c15-c94c-49a2-a3be-f6e9b6df10b2",
   "metadata": {},
   "outputs": [
    {
     "data": {
      "text/plain": [
       "'rupal'"
      ]
     },
     "execution_count": 31,
     "metadata": {},
     "output_type": "execute_result"
    }
   ],
   "source": [
    "m[4]"
   ]
  },
  {
   "cell_type": "code",
   "execution_count": 32,
   "id": "fa5c8031-bba7-4258-92b6-0b45e7ac9e4b",
   "metadata": {},
   "outputs": [
    {
     "ename": "KeyError",
     "evalue": "5",
     "output_type": "error",
     "traceback": [
      "\u001b[1;31m---------------------------------------------------------------------------\u001b[0m",
      "\u001b[1;31mKeyError\u001b[0m                                  Traceback (most recent call last)",
      "Cell \u001b[1;32mIn[32], line 1\u001b[0m\n\u001b[1;32m----> 1\u001b[0m \u001b[43mm\u001b[49m\u001b[43m[\u001b[49m\u001b[38;5;241;43m5\u001b[39;49m\u001b[43m]\u001b[49m\n",
      "\u001b[1;31mKeyError\u001b[0m: 5"
     ]
    }
   ],
   "source": [
    "m[5]"
   ]
  },
  {
   "cell_type": "code",
   "execution_count": 33,
   "id": "1676c375-f3a8-497b-b191-dea095f07137",
   "metadata": {},
   "outputs": [
    {
     "data": {
      "text/plain": [
       "'no element'"
      ]
     },
     "execution_count": 33,
     "metadata": {},
     "output_type": "execute_result"
    }
   ],
   "source": [
    "m.get(5,\"no element\")"
   ]
  },
  {
   "cell_type": "code",
   "execution_count": 2,
   "id": "84cada9c-18e9-490e-82cb-c51f870a740c",
   "metadata": {},
   "outputs": [],
   "source": [
    "e=dict()"
   ]
  },
  {
   "cell_type": "code",
   "execution_count": 3,
   "id": "6ce9d57c-a1ca-43f8-a37b-82660446aba9",
   "metadata": {},
   "outputs": [
    {
     "name": "stdout",
     "output_type": "stream",
     "text": [
      "{}\n"
     ]
    }
   ],
   "source": [
    "print(e)"
   ]
  },
  {
   "cell_type": "code",
   "execution_count": 6,
   "id": "52a8278a-d159-456c-b970-69a7e002f971",
   "metadata": {},
   "outputs": [],
   "source": [
    "m=({1:\"anshul\",2:\"bheeshm\",3:\"chaya\",4:\"rupal\"})"
   ]
  },
  {
   "cell_type": "code",
   "execution_count": 17,
   "id": "3dd7651c-cc13-49d4-8f00-05768cfcfc39",
   "metadata": {},
   "outputs": [
    {
     "name": "stdout",
     "output_type": "stream",
     "text": [
      "{1: 'anshul', 2: 'bheeshm', 3: 'chaya', 4: 'rupal', 5: 'cb'}\n"
     ]
    }
   ],
   "source": [
    "m.fromkeys([1,2,3,4,5,6,7,8,8,10],\"available\")\n",
    "print(m)"
   ]
  },
  {
   "cell_type": "code",
   "execution_count": 14,
   "id": "2def05ae-c93f-4388-a101-e9de76ff214f",
   "metadata": {},
   "outputs": [
    {
     "name": "stdout",
     "output_type": "stream",
     "text": [
      "{1: 'anshul', 2: 'bheeshm', 3: 'chaya', 4: 'rupal', 5: 'cb'}\n"
     ]
    }
   ],
   "source": [
    "print(m)"
   ]
  },
  {
   "cell_type": "code",
   "execution_count": 15,
   "id": "5a345e8b-038e-443e-b581-ead23d580e24",
   "metadata": {},
   "outputs": [],
   "source": [
    "m[5]=\"cb\""
   ]
  },
  {
   "cell_type": "code",
   "execution_count": 16,
   "id": "2911b047-37ae-4354-ad46-be2e9fe1ba2e",
   "metadata": {},
   "outputs": [
    {
     "name": "stdout",
     "output_type": "stream",
     "text": [
      "{1: 'anshul', 2: 'bheeshm', 3: 'chaya', 4: 'rupal', 5: 'cb'}\n"
     ]
    }
   ],
   "source": [
    "print(m)"
   ]
  },
  {
   "cell_type": "code",
   "execution_count": 18,
   "id": "af61dc0b-4c75-48af-b015-3bee6aaceb1f",
   "metadata": {},
   "outputs": [
    {
     "data": {
      "text/plain": [
       "{1: 'available',\n",
       " 2: 'available',\n",
       " 3: 'available',\n",
       " 4: 'available',\n",
       " 5: 'available',\n",
       " 6: 'available',\n",
       " 7: 'available',\n",
       " 8: 'available',\n",
       " 10: 'available'}"
      ]
     },
     "execution_count": 18,
     "metadata": {},
     "output_type": "execute_result"
    }
   ],
   "source": [
    "m.fromkeys([1,2,3,4,5,6,7,8,8,10],\"available\")"
   ]
  },
  {
   "cell_type": "code",
   "execution_count": 21,
   "id": "726dd300-6c61-4cba-9585-b178e3e0f5ee",
   "metadata": {},
   "outputs": [
    {
     "name": "stdout",
     "output_type": "stream",
     "text": [
      "{1: 'anshul', 2: 'bheeshm', 3: 'chaya', 4: 'rupal', 5: 'cb', 6: 'rohan'}\n"
     ]
    }
   ],
   "source": [
    "m[6]=\"rohan\"\n",
    "print(m)"
   ]
  },
  {
   "cell_type": "code",
   "execution_count": 22,
   "id": "13fc6dda-001b-4752-980a-c13495e8c7a2",
   "metadata": {},
   "outputs": [],
   "source": [
    "m.update({6:\"vicky\"})"
   ]
  },
  {
   "cell_type": "code",
   "execution_count": 23,
   "id": "eb04a0b6-6942-4e06-9639-9c37869aec67",
   "metadata": {},
   "outputs": [
    {
     "name": "stdout",
     "output_type": "stream",
     "text": [
      "{1: 'anshul', 2: 'bheeshm', 3: 'chaya', 4: 'rupal', 5: 'cb', 6: 'vicky'}\n"
     ]
    }
   ],
   "source": [
    "print(m)"
   ]
  },
  {
   "cell_type": "code",
   "execution_count": 24,
   "id": "ebcbc23c-d859-43af-bb80-f5af5970034d",
   "metadata": {},
   "outputs": [
    {
     "data": {
      "text/plain": [
       "'cbs'"
      ]
     },
     "execution_count": 24,
     "metadata": {},
     "output_type": "execute_result"
    }
   ],
   "source": [
    "m.setdefault(11,\"cbs\")"
   ]
  },
  {
   "cell_type": "code",
   "execution_count": 25,
   "id": "ead83d0b-ff45-4981-9746-c03dcc5efb09",
   "metadata": {},
   "outputs": [
    {
     "name": "stdout",
     "output_type": "stream",
     "text": [
      "{1: 'anshul', 2: 'bheeshm', 3: 'chaya', 4: 'rupal', 5: 'cb', 6: 'vicky', 11: 'cbs'}\n"
     ]
    }
   ],
   "source": [
    "print(m)"
   ]
  },
  {
   "cell_type": "code",
   "execution_count": 26,
   "id": "9355ab63-6c32-49fa-bf45-d253ca9d8f0c",
   "metadata": {},
   "outputs": [],
   "source": [
    "c=m.copy()"
   ]
  },
  {
   "cell_type": "code",
   "execution_count": 27,
   "id": "b1d2ffca-9eb5-482b-b8f6-6257d57142e2",
   "metadata": {},
   "outputs": [
    {
     "name": "stdout",
     "output_type": "stream",
     "text": [
      "{1: 'anshul', 2: 'bheeshm', 3: 'chaya', 4: 'rupal', 5: 'cb', 6: 'vicky', 11: 'cbs'}\n"
     ]
    }
   ],
   "source": [
    "print(c)"
   ]
  },
  {
   "cell_type": "code",
   "execution_count": 28,
   "id": "ccdbd629-ee32-4a7f-881b-a8599f560592",
   "metadata": {},
   "outputs": [
    {
     "data": {
      "text/plain": [
       "3114242448320"
      ]
     },
     "execution_count": 28,
     "metadata": {},
     "output_type": "execute_result"
    }
   ],
   "source": [
    "id(c)"
   ]
  },
  {
   "cell_type": "code",
   "execution_count": 29,
   "id": "4e8f35b7-bdbc-41b1-b128-e63b2e56bb27",
   "metadata": {},
   "outputs": [
    {
     "data": {
      "text/plain": [
       "3114233858112"
      ]
     },
     "execution_count": 29,
     "metadata": {},
     "output_type": "execute_result"
    }
   ],
   "source": [
    "id(m)"
   ]
  },
  {
   "cell_type": "code",
   "execution_count": 2,
   "id": "19387ac6-022f-4c6b-b31b-bb71669c3afc",
   "metadata": {},
   "outputs": [
    {
     "name": "stdout",
     "output_type": "stream",
     "text": [
      "{'name': 'john', 'age': 25, 'course': ['maths', 'computer sci', 'english', 'sanskrit']}\n"
     ]
    }
   ],
   "source": [
    "student={'name':'john','age':25,'course':['maths','computer sci','english','sanskrit']}\n",
    "print(student)"
   ]
  },
  {
   "cell_type": "code",
   "execution_count": 7,
   "id": "9eddb6a2-bb01-45dc-9600-f50e6d6eb6d8",
   "metadata": {},
   "outputs": [
    {
     "name": "stdout",
     "output_type": "stream",
     "text": [
      "['maths', 'computer sci', 'english', 'sanskrit']\n"
     ]
    }
   ],
   "source": [
    "print(student['course'])"
   ]
  },
  {
   "cell_type": "code",
   "execution_count": 11,
   "id": "cbeb5961-a5d9-420c-bad3-cbb8fbf53116",
   "metadata": {},
   "outputs": [
    {
     "name": "stdout",
     "output_type": "stream",
     "text": [
      "not found\n"
     ]
    }
   ],
   "source": [
    "print(student.get('phone','not found'))"
   ]
  },
  {
   "cell_type": "code",
   "execution_count": 12,
   "id": "95eefc80-3d5c-4ab4-ac76-f33391a5c11e",
   "metadata": {},
   "outputs": [
    {
     "name": "stdout",
     "output_type": "stream",
     "text": [
      "{'name': 'jane', 'age': 25, 'course': ['maths', 'computer sci', 'english', 'sanskrit'], 'phone': '555-55'}\n"
     ]
    }
   ],
   "source": [
    "student['phone']='555-55'\n",
    "student['name']='jane'\n",
    "print(student)"
   ]
  },
  {
   "cell_type": "code",
   "execution_count": 17,
   "id": "92fa6a85-0a9f-4322-b807-60a9716fe5bc",
   "metadata": {},
   "outputs": [
    {
     "name": "stdout",
     "output_type": "stream",
     "text": [
      "{'name': 'jane', 'age': '26', 'course': ['maths', 'computer sci', 'english', 'sanskrit'], 'phone': '555-55'}\n"
     ]
    }
   ],
   "source": [
    "student.update({'name':'jane','age':'26','phone':'555-55'})\n",
    "print(student)"
   ]
  },
  {
   "cell_type": "code",
   "execution_count": 18,
   "id": "128c2473-3c9f-4a27-b525-3a55609aa528",
   "metadata": {},
   "outputs": [
    {
     "name": "stdout",
     "output_type": "stream",
     "text": [
      "{'name': 'jane', 'course': ['maths', 'computer sci', 'english', 'sanskrit'], 'phone': '555-55'}\n"
     ]
    }
   ],
   "source": [
    "del student ['age']\n",
    "print(student)"
   ]
  },
  {
   "cell_type": "code",
   "execution_count": 19,
   "id": "b7781e4d-e1fa-48b4-83cf-903a071580ea",
   "metadata": {},
   "outputs": [
    {
     "name": "stdout",
     "output_type": "stream",
     "text": [
      "{'name': 'jane', 'phone': '555-55'}\n"
     ]
    }
   ],
   "source": [
    "age=student.pop('course')\n",
    "print(student)"
   ]
  },
  {
   "cell_type": "code",
   "execution_count": 20,
   "id": "d4b945ad-5430-4e87-8665-0f6ecde710ef",
   "metadata": {},
   "outputs": [
    {
     "data": {
      "text/plain": [
       "2"
      ]
     },
     "execution_count": 20,
     "metadata": {},
     "output_type": "execute_result"
    }
   ],
   "source": [
    "len(student)"
   ]
  },
  {
   "cell_type": "code",
   "execution_count": 21,
   "id": "4d096503-9282-46a0-9ae0-aa1a322e01b1",
   "metadata": {},
   "outputs": [
    {
     "name": "stdout",
     "output_type": "stream",
     "text": [
      "dict_keys(['name', 'phone'])\n"
     ]
    }
   ],
   "source": [
    "print(student.keys())"
   ]
  },
  {
   "cell_type": "code",
   "execution_count": 22,
   "id": "b3f1aecc-012e-4e00-905f-fc76ef292f75",
   "metadata": {},
   "outputs": [
    {
     "name": "stdout",
     "output_type": "stream",
     "text": [
      "dict_values(['jane', '555-55'])\n"
     ]
    }
   ],
   "source": [
    "print(student.values())"
   ]
  },
  {
   "cell_type": "code",
   "execution_count": 23,
   "id": "a9957633-a03d-4266-9717-576d0f318d50",
   "metadata": {},
   "outputs": [
    {
     "name": "stdout",
     "output_type": "stream",
     "text": [
      "dict_items([('name', 'jane'), ('phone', '555-55')])\n"
     ]
    }
   ],
   "source": [
    "print(student.items())"
   ]
  },
  {
   "cell_type": "code",
   "execution_count": 24,
   "id": "2211d6ce-3136-456c-ae7e-b24b52f24bc8",
   "metadata": {},
   "outputs": [
    {
     "name": "stdout",
     "output_type": "stream",
     "text": [
      "name jane\n",
      "phone 555-55\n"
     ]
    }
   ],
   "source": [
    "for key, value in student.items():\n",
    "    print(key,value)"
   ]
  },
  {
   "cell_type": "code",
   "execution_count": null,
   "id": "7bb9ec8a-c82e-4af2-952f-6a17e88e2a42",
   "metadata": {},
   "outputs": [],
   "source": []
  }
 ],
 "metadata": {
  "kernelspec": {
   "display_name": "Python 3 (ipykernel)",
   "language": "python",
   "name": "python3"
  },
  "language_info": {
   "codemirror_mode": {
    "name": "ipython",
    "version": 3
   },
   "file_extension": ".py",
   "mimetype": "text/x-python",
   "name": "python",
   "nbconvert_exporter": "python",
   "pygments_lexer": "ipython3",
   "version": "3.11.4"
  }
 },
 "nbformat": 4,
 "nbformat_minor": 5
}
